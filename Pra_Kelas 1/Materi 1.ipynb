{
 "cells": [
  {
   "cell_type": "markdown",
   "id": "aBCW1wqPkNog",
   "metadata": {
    "id": "aBCW1wqPkNog"
   },
   "source": [
    "# Your First Python Code"
   ]
  },
  {
   "cell_type": "markdown",
   "id": "IeI-HBWEkZ6h",
   "metadata": {
    "id": "IeI-HBWEkZ6h"
   },
   "source": [
    "[print() Documentation](https://docs.python.org/3/library/functions.html#print)"
   ]
  },
  {
   "cell_type": "code",
   "execution_count": 7,
   "id": "g59oEgKekRD9",
   "metadata": {
    "colab": {
     "base_uri": "https://localhost:8080/"
    },
    "executionInfo": {
     "elapsed": 16,
     "status": "ok",
     "timestamp": 1756550410596,
     "user": {
      "displayName": "Data Analytics GSB",
      "userId": "10141623010544721674"
     },
     "user_tz": -420
    },
    "id": "g59oEgKekRD9",
    "outputId": "99fe720e-83a9-413c-ef62-563540006ec6"
   },
   "outputs": [
    {
     "name": "stdout",
     "output_type": "stream",
     "text": [
      "Hello, World!\n"
     ]
    }
   ],
   "source": [
    "print(\"Hello, World!\")"
   ]
  },
  {
   "cell_type": "code",
   "execution_count": 8,
   "id": "6y2LcsuRkVaA",
   "metadata": {
    "colab": {
     "base_uri": "https://localhost:8080/"
    },
    "executionInfo": {
     "elapsed": 7,
     "status": "ok",
     "timestamp": 1756550418707,
     "user": {
      "displayName": "Data Analytics GSB",
      "userId": "10141623010544721674"
     },
     "user_tz": -420
    },
    "id": "6y2LcsuRkVaA",
    "outputId": "2998104a-e9ae-4035-8004-40dd74a43d07"
   },
   "outputs": [
    {
     "name": "stdout",
     "output_type": "stream",
     "text": [
      "80\n"
     ]
    }
   ],
   "source": [
    "print(80)"
   ]
  },
  {
   "cell_type": "markdown",
   "id": "EJYdnJ8c2sG-",
   "metadata": {
    "id": "EJYdnJ8c2sG-"
   },
   "source": [
    "note: this is to print the function is `print()`"
   ]
  },
  {
   "cell_type": "code",
   "execution_count": 9,
   "id": "LkA_4Kh_klRq",
   "metadata": {
    "colab": {
     "base_uri": "https://localhost:8080/"
    },
    "executionInfo": {
     "elapsed": 14,
     "status": "ok",
     "timestamp": 1756550563620,
     "user": {
      "displayName": "Data Analytics GSB",
      "userId": "10141623010544721674"
     },
     "user_tz": -420
    },
    "id": "LkA_4Kh_klRq",
    "outputId": "95dd11be-06a0-47a4-ce8a-a2015e9a131b"
   },
   "outputs": [
    {
     "name": "stdout",
     "output_type": "stream",
     "text": [
      "Help on built-in function print in module builtins:\n",
      "\n",
      "print(*args, sep=' ', end='\\n', file=None, flush=False)\n",
      "    Prints the values to a stream, or to sys.stdout by default.\n",
      "\n",
      "    sep\n",
      "      string inserted between values, default a space.\n",
      "    end\n",
      "      string appended after the last value, default a newline.\n",
      "    file\n",
      "      a file-like object (stream); defaults to the current sys.stdout.\n",
      "    flush\n",
      "      whether to forcibly flush the stream.\n",
      "\n"
     ]
    }
   ],
   "source": [
    "help(print)"
   ]
  },
  {
   "cell_type": "markdown",
   "id": "1207aee1",
   "metadata": {
    "id": "1207aee1"
   },
   "source": [
    "# Variable Assignment"
   ]
  },
  {
   "cell_type": "markdown",
   "id": "F2kwBBbpiMXS",
   "metadata": {
    "id": "F2kwBBbpiMXS"
   },
   "source": [
    "Syntax:\n",
    "\n",
    "```{python}\n",
    "variabel_name = value\n",
    "```"
   ]
  },
  {
   "cell_type": "code",
   "execution_count": 10,
   "id": "L5rHdMfCk4Ja",
   "metadata": {
    "executionInfo": {
     "elapsed": 4,
     "status": "ok",
     "timestamp": 1756550637792,
     "user": {
      "displayName": "Data Analytics GSB",
      "userId": "10141623010544721674"
     },
     "user_tz": -420
    },
    "id": "L5rHdMfCk4Ja"
   },
   "outputs": [],
   "source": [
    "x = 1000"
   ]
  },
  {
   "cell_type": "code",
   "execution_count": 11,
   "id": "gSLRKiihk64b",
   "metadata": {
    "colab": {
     "base_uri": "https://localhost:8080/"
    },
    "executionInfo": {
     "elapsed": 17,
     "status": "ok",
     "timestamp": 1756550647738,
     "user": {
      "displayName": "Data Analytics GSB",
      "userId": "10141623010544721674"
     },
     "user_tz": -420
    },
    "id": "gSLRKiihk64b",
    "outputId": "e7e9ecbd-e43d-43cf-862f-e3d3227f7778"
   },
   "outputs": [
    {
     "name": "stdout",
     "output_type": "stream",
     "text": [
      "1000\n"
     ]
    }
   ],
   "source": [
    "print(x)"
   ]
  },
  {
   "cell_type": "code",
   "execution_count": 13,
   "id": "HGm1-1h_lCWj",
   "metadata": {
    "executionInfo": {
     "elapsed": 10,
     "status": "ok",
     "timestamp": 1756550685470,
     "user": {
      "displayName": "Data Analytics GSB",
      "userId": "10141623010544721674"
     },
     "user_tz": -420
    },
    "id": "HGm1-1h_lCWj"
   },
   "outputs": [],
   "source": [
    "# print(x)"
   ]
  },
  {
   "cell_type": "code",
   "execution_count": 14,
   "id": "bSk5JoJXiHaZ",
   "metadata": {
    "executionInfo": {
     "elapsed": 54,
     "status": "ok",
     "timestamp": 1756550761311,
     "user": {
      "displayName": "Data Analytics GSB",
      "userId": "10141623010544721674"
     },
     "user_tz": -420
    },
    "id": "bSk5JoJXiHaZ"
   },
   "outputs": [],
   "source": [
    "students_count = 1000          # Integer (int)\n",
    "rating = 4.99                  # Floating-point number (float)\n",
    "is_published = False          # Boolean (bool)\n",
    "course_name = \"Python Programming\"  # String (str)"
   ]
  },
  {
   "cell_type": "code",
   "execution_count": 15,
   "id": "Y2NjDHlelZuN",
   "metadata": {
    "executionInfo": {
     "elapsed": 3,
     "status": "ok",
     "timestamp": 1756550778317,
     "user": {
      "displayName": "Data Analytics GSB",
      "userId": "10141623010544721674"
     },
     "user_tz": -420
    },
    "id": "Y2NjDHlelZuN"
   },
   "outputs": [],
   "source": [
    "x = \"1000\""
   ]
  },
  {
   "cell_type": "code",
   "execution_count": 16,
   "id": "GG3lPiDTldek",
   "metadata": {
    "colab": {
     "base_uri": "https://localhost:8080/"
    },
    "executionInfo": {
     "elapsed": 28,
     "status": "ok",
     "timestamp": 1756550783875,
     "user": {
      "displayName": "Data Analytics GSB",
      "userId": "10141623010544721674"
     },
     "user_tz": -420
    },
    "id": "GG3lPiDTldek",
    "outputId": "d0ab10b3-e805-486c-befd-7d6bfd742a41"
   },
   "outputs": [
    {
     "name": "stdout",
     "output_type": "stream",
     "text": [
      "1000\n"
     ]
    }
   ],
   "source": [
    "print(x)"
   ]
  },
  {
   "cell_type": "code",
   "execution_count": 17,
   "id": "0TyZ6Kvglf3z",
   "metadata": {
    "colab": {
     "base_uri": "https://localhost:8080/"
    },
    "executionInfo": {
     "elapsed": 10,
     "status": "ok",
     "timestamp": 1756550796437,
     "user": {
      "displayName": "Data Analytics GSB",
      "userId": "10141623010544721674"
     },
     "user_tz": -420
    },
    "id": "0TyZ6Kvglf3z",
    "outputId": "6ef1ea51-2bae-4159-f07b-3336d6c294c5"
   },
   "outputs": [
    {
     "data": {
      "text/plain": [
       "str"
      ]
     },
     "execution_count": 17,
     "metadata": {},
     "output_type": "execute_result"
    }
   ],
   "source": [
    "type(x)"
   ]
  },
  {
   "cell_type": "markdown",
   "id": "KHKmYZrOiUUs",
   "metadata": {
    "id": "KHKmYZrOiUUs"
   },
   "source": [
    "**Aturan Penamaan Variabel dalam Python**\n",
    "\n",
    "1. **Huruf, Angka, dan Underscore**  \n",
    "   Nama variabel hanya boleh terdiri dari huruf (`a-z`, `A-Z`), angka (`0-9`), dan underscore (`_`).\n",
    "\n",
    "2. **Tidak Boleh Diawali dengan Angka**  \n",
    "   Variabel **tidak boleh** diawali dengan angka.  \n",
    "   ✅ `nilai1`, `_data`  \n",
    "   ❌ `1nilai`, `9data`\n",
    "\n",
    "3. **Case-Sensitive**  \n",
    "   Python membedakan huruf besar dan kecil.  \n",
    "   Contoh: `data`, `Data`, dan `DATA` adalah tiga variabel yang berbeda.\n",
    "\n",
    "4. **Tidak Boleh Menggunakan Keyword Python**  \n",
    "   Jangan gunakan kata kunci (keyword) bawaan Python seperti `if`, `for`, `while`, `class`, `def`, dll.  \n",
    "   Gunakan `help(\"keywords\")` di Python untuk melihat daftar lengkap.\n",
    "\n",
    "5. **Gunakan Nama yang Deskriptif**  \n",
    "   Walaupun Python tidak memaksa, disarankan menggunakan nama variabel yang jelas dan bermakna.  \n",
    "   ✅ `total_harga`, `jumlah_mahasiswa`  \n",
    "   ❌ `x`, `abc`, kecuali untuk contoh singkat atau perhitungan sederhana.\n",
    "\n",
    "6. **Konvensi Penulisan (PEP8)**  \n",
    "   - Gunakan **snake_case** untuk variabel umum → `jumlah_data`, `nilai_rata2`\n",
    "   - Gunakan huruf besar semua (UPPER_CASE) untuk variabel konstanta → `PI`, `MAX_SCORE`\n"
   ]
  },
  {
   "cell_type": "code",
   "execution_count": 19,
   "id": "4KiEBkdLlqYP",
   "metadata": {
    "colab": {
     "base_uri": "https://localhost:8080/"
    },
    "executionInfo": {
     "elapsed": 109,
     "status": "ok",
     "timestamp": 1756550876694,
     "user": {
      "displayName": "Data Analytics GSB",
      "userId": "10141623010544721674"
     },
     "user_tz": -420
    },
    "id": "4KiEBkdLlqYP",
    "outputId": "2c621c7b-db07-4487-cf3f-4fae535fc942"
   },
   "outputs": [
    {
     "name": "stdout",
     "output_type": "stream",
     "text": [
      "10\n"
     ]
    }
   ],
   "source": []
  },
  {
   "cell_type": "markdown",
   "id": "ef3fd054",
   "metadata": {
    "id": "ef3fd054"
   },
   "source": [
    "# Working with Strings"
   ]
  },
  {
   "cell_type": "markdown",
   "id": "32cb3acd",
   "metadata": {
    "id": "32cb3acd"
   },
   "source": [
    "Syntax:\n",
    "\n",
    "```{python}\n",
    "course1 = \"Python Programming\"\n",
    "course2 = 'Python Programming'\n",
    "course3 = \"\"\"\n",
    "          Python\n",
    "          Programming\n",
    "          \"\"\"\n",
    "```"
   ]
  },
  {
   "cell_type": "markdown",
   "id": "n9GDb6MXi9Gs",
   "metadata": {
    "id": "n9GDb6MXi9Gs"
   },
   "source": [
    "## len() function"
   ]
  },
  {
   "cell_type": "markdown",
   "id": "uo4hx88yjI4V",
   "metadata": {
    "id": "uo4hx88yjI4V"
   },
   "source": [
    "[len() Documentation](https://docs.python.org/3/library/functions.html#len)"
   ]
  },
  {
   "cell_type": "code",
   "execution_count": 20,
   "id": "7b0ae879",
   "metadata": {
    "colab": {
     "base_uri": "https://localhost:8080/"
    },
    "executionInfo": {
     "elapsed": 41,
     "status": "ok",
     "timestamp": 1756551186190,
     "user": {
      "displayName": "Data Analytics GSB",
      "userId": "10141623010544721674"
     },
     "user_tz": -420
    },
    "id": "7b0ae879",
    "outputId": "28249d9d-8bc5-43ad-ff66-d15b2f71a4c6"
   },
   "outputs": [
    {
     "data": {
      "text/plain": [
       "18"
      ]
     },
     "execution_count": 20,
     "metadata": {},
     "output_type": "execute_result"
    }
   ],
   "source": [
    "course1 = \"Python Programming\"\n",
    "\n",
    "len(course1)"
   ]
  },
  {
   "cell_type": "markdown",
   "id": "HPNmljtEjDfa",
   "metadata": {
    "id": "HPNmljtEjDfa"
   },
   "source": [
    "## Indexing & Slicing"
   ]
  },
  {
   "cell_type": "markdown",
   "id": "xSttGxC1jOgb",
   "metadata": {
    "id": "xSttGxC1jOgb"
   },
   "source": [
    "Syntax for indexing:\n",
    "\n",
    "```{python}\n",
    "string[index]\n",
    "```\n",
    "\n",
    "Syntax for slicing:\n",
    "\n",
    "```{python}\n",
    "string[start:end] # inclusive:exclusive\n",
    "\n",
    "string[start:end:step]\n",
    "```"
   ]
  },
  {
   "cell_type": "code",
   "execution_count": 21,
   "id": "_Ev8ZstT8vsi",
   "metadata": {
    "colab": {
     "base_uri": "https://localhost:8080/",
     "height": 208
    },
    "executionInfo": {
     "elapsed": 64,
     "status": "ok",
     "timestamp": 1756551238683,
     "user": {
      "displayName": "Data Analytics GSB",
      "userId": "10141623010544721674"
     },
     "user_tz": -420
    },
    "id": "_Ev8ZstT8vsi",
    "outputId": "5553b5bc-c2c5-40d1-af36-686c10eb98a3"
   },
   "outputs": [
    {
     "data": {
      "text/html": [
       "<img src=\"https://i0.wp.com/blog.ksrdatavision.com/wp-content/uploads/2024/10/image.png?w=940&ssl=1\" width=\"600\"/>"
      ],
      "text/plain": [
       "<IPython.core.display.Image object>"
      ]
     },
     "execution_count": 21,
     "metadata": {},
     "output_type": "execute_result"
    }
   ],
   "source": [
    "from IPython.display import Image\n",
    "\n",
    "url_gambar = 'https://i0.wp.com/blog.ksrdatavision.com/wp-content/uploads/2024/10/image.png?w=940&ssl=1'\n",
    "\n",
    "Image(url=url_gambar, width=600)"
   ]
  },
  {
   "cell_type": "code",
   "execution_count": 22,
   "id": "HqNn_Eakj5On",
   "metadata": {
    "executionInfo": {
     "elapsed": 57,
     "status": "ok",
     "timestamp": 1756551328874,
     "user": {
      "displayName": "Data Analytics GSB",
      "userId": "10141623010544721674"
     },
     "user_tz": -420
    },
    "id": "HqNn_Eakj5On"
   },
   "outputs": [],
   "source": [
    "course = \"Python Programming\""
   ]
  },
  {
   "cell_type": "code",
   "execution_count": 23,
   "id": "59PXu21dj7r_",
   "metadata": {
    "colab": {
     "base_uri": "https://localhost:8080/"
    },
    "executionInfo": {
     "elapsed": 37,
     "status": "ok",
     "timestamp": 1756551338687,
     "user": {
      "displayName": "Data Analytics GSB",
      "userId": "10141623010544721674"
     },
     "user_tz": -420
    },
    "id": "59PXu21dj7r_",
    "outputId": "48a08ce6-5c1f-4d98-acef-308b59573ef4"
   },
   "outputs": [
    {
     "name": "stdout",
     "output_type": "stream",
     "text": [
      "Indexing:\n",
      "P\n",
      "g\n"
     ]
    }
   ],
   "source": [
    "print(\"Indexing:\")\n",
    "print(course[0])   # 'P'\n",
    "print(course[-1])  # 'g' (last character)"
   ]
  },
  {
   "cell_type": "code",
   "execution_count": 28,
   "id": "0e8603d8",
   "metadata": {
    "colab": {
     "base_uri": "https://localhost:8080/"
    },
    "executionInfo": {
     "elapsed": 33,
     "status": "ok",
     "timestamp": 1756551521074,
     "user": {
      "displayName": "Data Analytics GSB",
      "userId": "10141623010544721674"
     },
     "user_tz": -420
    },
    "id": "0e8603d8",
    "outputId": "12f191a9-ad2b-4659-c53a-633499687dd7"
   },
   "outputs": [
    {
     "name": "stdout",
     "output_type": "stream",
     "text": [
      "Slicing:\n",
      "Python\n",
      "Python\n",
      "Python Programming\n"
     ]
    }
   ],
   "source": [
    "print(\"Slicing:\")\n",
    "print(course[0:6])    # 'Python'\n",
    "print(course[:6])     # 'Python'\n",
    "print(course)     # 'Programming'"
   ]
  },
  {
   "cell_type": "markdown",
   "id": "E6g73SYxjzPr",
   "metadata": {
    "id": "E6g73SYxjzPr"
   },
   "source": [
    "## Escape Characters"
   ]
  },
  {
   "cell_type": "markdown",
   "id": "Ccsz5dqQkDmR",
   "metadata": {
    "id": "Ccsz5dqQkDmR"
   },
   "source": [
    "Penjelasan terkait escape characters\n",
    "\n",
    "| Code   | Result          |\n",
    "|--------|-----------------|\n",
    "| `\\'`   | Single Quote    |\n",
    "| `\\\"`   | Double Quote    |\n",
    "| `\\\\`   | Backslash       |\n",
    "| `\\n`   | New Line        |\n",
    "| `\\r`   | Carriage Return |\n",
    "| `\\t`   | Tab             |\n",
    "| `\\b`   | Backspace       |\n",
    "| `\\f`   | Form Feed       |\n",
    "| `\\ooo` | Octal value     |\n",
    "| `\\xhh` | Hex value       |\n",
    "\n",
    "[Python Escape Characters](https://www.geeksforgeeks.org/python/python-escape-characters/)"
   ]
  },
  {
   "cell_type": "code",
   "execution_count": 33,
   "id": "c6220e65",
   "metadata": {
    "colab": {
     "base_uri": "https://localhost:8080/"
    },
    "executionInfo": {
     "elapsed": 38,
     "status": "ok",
     "timestamp": 1756551892550,
     "user": {
      "displayName": "Data Analytics GSB",
      "userId": "10141623010544721674"
     },
     "user_tz": -420
    },
    "id": "c6220e65",
    "outputId": "16c4a215-8244-4263-ed5a-bbba3da2acef"
   },
   "outputs": [
    {
     "name": "stdout",
     "output_type": "stream",
     "text": [
      "Ali said \"Hello\"\n",
      "C:\\Users\\Ali\n"
     ]
    }
   ],
   "source": [
    "message = \"Ali said \\\"Hello\\\"\"  # 'Ali said \"Hello\"'\n",
    "print(message)\n",
    "\n",
    "path = \"C:\\\\Users\\\\Ali\\\\path1\\\\path2\" # 'C:\\Users\\Ali\n",
    "print(path)"
   ]
  },
  {
   "cell_type": "markdown",
   "id": "ZSl8QQjVkpzy",
   "metadata": {
    "id": "ZSl8QQjVkpzy"
   },
   "source": [
    "## Formatted String"
   ]
  },
  {
   "cell_type": "markdown",
   "id": "HjbTL4wK-p03",
   "metadata": {
    "id": "HjbTL4wK-p03"
   },
   "source": [
    "Formatted string (atau f-string) adalah cara penulisan string di Python yang memungkinkan kamu menyisipkan nilai variabel atau hasil ekspresi langsung ke dalam string dengan cara yang ringkas dan mudah dibaca.\n",
    "\n",
    "**Syntax:**\n",
    "\n",
    "```{python}\n",
    "f\"teks {ekspresi_python}\"\n",
    "```"
   ]
  },
  {
   "cell_type": "code",
   "execution_count": 35,
   "id": "x-rcr1Tgp9ni",
   "metadata": {
    "colab": {
     "base_uri": "https://localhost:8080/"
    },
    "executionInfo": {
     "elapsed": 47,
     "status": "ok",
     "timestamp": 1756552035784,
     "user": {
      "displayName": "Data Analytics GSB",
      "userId": "10141623010544721674"
     },
     "user_tz": -420
    },
    "id": "x-rcr1Tgp9ni",
    "outputId": "4a0fb444-5772-4d5f-84fd-fb448396b032"
   },
   "outputs": [
    {
     "name": "stdout",
     "output_type": "stream",
     "text": [
      "teks tidak biasa\n"
     ]
    }
   ],
   "source": [
    "variable = \"tidak biasa\"\n",
    "\n",
    "formattted_string = f\"teks {variable}\"\n",
    "print(formattted_string)"
   ]
  },
  {
   "cell_type": "code",
   "execution_count": 36,
   "id": "9634d53e",
   "metadata": {
    "colab": {
     "base_uri": "https://localhost:8080/"
    },
    "executionInfo": {
     "elapsed": 84,
     "status": "ok",
     "timestamp": 1756552042226,
     "user": {
      "displayName": "Data Analytics GSB",
      "userId": "10141623010544721674"
     },
     "user_tz": -420
    },
    "id": "9634d53e",
    "outputId": "0e0bd659-68dc-44d5-aec3-e2ec1aeff234"
   },
   "outputs": [
    {
     "name": "stdout",
     "output_type": "stream",
     "text": [
      "Ali Fazli\n"
     ]
    }
   ],
   "source": [
    "first = \"Ali\"\n",
    "last = \"Fazli\"\n",
    "full = f\"{first} {last}\"  # 'Ali Fazli'\n",
    "\n",
    "print(full)"
   ]
  },
  {
   "cell_type": "code",
   "execution_count": 39,
   "id": "o-iKrlLWkw97",
   "metadata": {
    "colab": {
     "base_uri": "https://localhost:8080/"
    },
    "executionInfo": {
     "elapsed": 30,
     "status": "ok",
     "timestamp": 1756552230153,
     "user": {
      "displayName": "Data Analytics GSB",
      "userId": "10141623010544721674"
     },
     "user_tz": -420
    },
    "id": "o-iKrlLWkw97",
    "outputId": "b4d34aed-fb66-436f-d7d8-e44cd3392375"
   },
   "outputs": [
    {
     "name": "stdout",
     "output_type": "stream",
     "text": [
      "Nilai pi dibulatkan: 3.14\n",
      "Nilai: 07\n",
      "Luas: 20 cm²\n",
      "20\n",
      "Akurasi: 87.5%\n"
     ]
    }
   ],
   "source": [
    "pi = 3.1415926535\n",
    "print(f\"Nilai pi dibulatkan: {pi:.2f}\")\n",
    "\n",
    "angka = 7\n",
    "print(f\"Nilai: {angka:02d}\")\n",
    "\n",
    "panjang = 5\n",
    "lebar = 4\n",
    "print(f\"Luas: {panjang * lebar} cm²\")\n",
    "print(panjang * lebar)\n",
    "\n",
    "nilai = 0.875\n",
    "print(f\"Akurasi: {nilai:.1%}\")"
   ]
  },
  {
   "cell_type": "markdown",
   "id": "14gth2n3-mlB",
   "metadata": {
    "id": "14gth2n3-mlB"
   },
   "source": [
    "## Raw String"
   ]
  },
  {
   "cell_type": "markdown",
   "id": "4b2ac263",
   "metadata": {
    "id": "4b2ac263"
   },
   "source": [
    "Raw string digunakan untuk menulis string apa adanya, tanpa memproses karakter escape seperti \\n, \\t, \\\\, dll.\n",
    "\n",
    "Biasanya digunakan saat menulis path file Windows, regex pattern, atau teks yang mengandung banyak backslash.\n",
    "\n",
    "**Syntax:**\n",
    "\n",
    "```python\n",
    "r\"teks\"\n",
    "```"
   ]
  },
  {
   "cell_type": "code",
   "execution_count": 40,
   "id": "q_o2ztu2-oG2",
   "metadata": {
    "colab": {
     "base_uri": "https://localhost:8080/"
    },
    "executionInfo": {
     "elapsed": 26,
     "status": "ok",
     "timestamp": 1756552340262,
     "user": {
      "displayName": "Data Analytics GSB",
      "userId": "10141623010544721674"
     },
     "user_tz": -420
    },
    "id": "q_o2ztu2-oG2",
    "outputId": "ecc815f0-18a5-429c-9a73-af43837cda6a"
   },
   "outputs": [
    {
     "name": "stdout",
     "output_type": "stream",
     "text": [
      "Without raw string:\n",
      "C:\n",
      "ew_folder\\data\n"
     ]
    },
    {
     "name": "stderr",
     "output_type": "stream",
     "text": [
      "<>:2: SyntaxWarning: invalid escape sequence '\\d'\n",
      "<>:2: SyntaxWarning: invalid escape sequence '\\d'\n",
      "/tmp/ipython-input-1912430253.py:2: SyntaxWarning: invalid escape sequence '\\d'\n",
      "  print(\"C:\\new_folder\\data\")  # \\n dianggap sebagai newline\n"
     ]
    }
   ],
   "source": [
    "print(\"Without raw string:\")\n",
    "print(\"C:\\new_folder\\data\")  # \\n dianggap sebagai newline"
   ]
  },
  {
   "cell_type": "code",
   "execution_count": 43,
   "id": "MeRyUS9BpeZI",
   "metadata": {
    "colab": {
     "base_uri": "https://localhost:8080/"
    },
    "executionInfo": {
     "elapsed": 31,
     "status": "ok",
     "timestamp": 1756552403134,
     "user": {
      "displayName": "Data Analytics GSB",
      "userId": "10141623010544721674"
     },
     "user_tz": -420
    },
    "id": "MeRyUS9BpeZI",
    "outputId": "702aefbe-eead-4358-82bf-d0b0ea215ced"
   },
   "outputs": [
    {
     "name": "stdout",
     "output_type": "stream",
     "text": [
      "With raw string:\n",
      "C:\\new_folder\\data\n"
     ]
    }
   ],
   "source": [
    "print(\"With raw string:\")\n",
    "print(r\"C:\\new_folder\\data\") # Output: C:\\new_folder\\data"
   ]
  },
  {
   "cell_type": "code",
   "execution_count": null,
   "id": "b5e1a0e5",
   "metadata": {
    "id": "b5e1a0e5"
   },
   "outputs": [],
   "source": [
    "# Contoh ketika menggunakan raw string untuk regex pattern:\n",
    "pattern = r\"\\d{3}-\\d{4}\""
   ]
  },
  {
   "cell_type": "markdown",
   "id": "b8b5664a",
   "metadata": {
    "id": "b8b5664a"
   },
   "source": [
    "## Gabungan Formatted String dan Raw String (fr/rf)"
   ]
  },
  {
   "cell_type": "code",
   "execution_count": 44,
   "id": "45f67869",
   "metadata": {
    "colab": {
     "base_uri": "https://localhost:8080/"
    },
    "executionInfo": {
     "elapsed": 47,
     "status": "ok",
     "timestamp": 1756552529998,
     "user": {
      "displayName": "Data Analytics GSB",
      "userId": "10141623010544721674"
     },
     "user_tz": -420
    },
    "id": "45f67869",
    "outputId": "437018ea-f498-4144-ec07-3361026cf956"
   },
   "outputs": [
    {
     "name": "stdout",
     "output_type": "stream",
     "text": [
      "C:\\Users\\Ali\\data\\file.txt\n"
     ]
    }
   ],
   "source": [
    "folder = \"data\"\n",
    "filename = \"file.txt\"\n",
    "\n",
    "path1 = fr\"C:\\Users\\Ali\\{folder}\\{filename}\"\n",
    "print(path)"
   ]
  },
  {
   "cell_type": "markdown",
   "id": "lCnpbEifk3YX",
   "metadata": {
    "id": "lCnpbEifk3YX"
   },
   "source": [
    "## String Methods"
   ]
  },
  {
   "cell_type": "markdown",
   "id": "_vcALgq5lLAM",
   "metadata": {
    "id": "_vcALgq5lLAM"
   },
   "source": [
    "[String Methods Documentation](https://docs.python.org/3/library/stdtypes.html#string-methods)"
   ]
  },
  {
   "cell_type": "code",
   "execution_count": 60,
   "id": "eMfKQwDClA6k",
   "metadata": {
    "executionInfo": {
     "elapsed": 46,
     "status": "ok",
     "timestamp": 1756552941878,
     "user": {
      "displayName": "Data Analytics GSB",
      "userId": "10141623010544721674"
     },
     "user_tz": -420
    },
    "id": "eMfKQwDClA6k"
   },
   "outputs": [],
   "source": [
    "course = \"  python programming  \""
   ]
  },
  {
   "cell_type": "code",
   "execution_count": 46,
   "id": "MkyZLl0qk8Jf",
   "metadata": {
    "colab": {
     "base_uri": "https://localhost:8080/"
    },
    "executionInfo": {
     "elapsed": 44,
     "status": "ok",
     "timestamp": 1756552673838,
     "user": {
      "displayName": "Data Analytics GSB",
      "userId": "10141623010544721674"
     },
     "user_tz": -420
    },
    "id": "MkyZLl0qk8Jf",
    "outputId": "00fe91b9-e6d3-4717-dc7f-2895759bbc6f"
   },
   "outputs": [
    {
     "name": "stdout",
     "output_type": "stream",
     "text": [
      "  PYTHON PROGRAMMING  \n"
     ]
    }
   ],
   "source": [
    "print(course.upper())"
   ]
  },
  {
   "cell_type": "code",
   "execution_count": 51,
   "id": "5pj7zJmxlHPE",
   "metadata": {
    "colab": {
     "base_uri": "https://localhost:8080/"
    },
    "executionInfo": {
     "elapsed": 56,
     "status": "ok",
     "timestamp": 1756552774698,
     "user": {
      "displayName": "Data Analytics GSB",
      "userId": "10141623010544721674"
     },
     "user_tz": -420
    },
    "id": "5pj7zJmxlHPE",
    "outputId": "ae222c41-cff8-46a0-d493-ac485aada5db"
   },
   "outputs": [
    {
     "name": "stdout",
     "output_type": "stream",
     "text": [
      "  python programming  \n"
     ]
    }
   ],
   "source": [
    "\n",
    "print(course.lower())"
   ]
  },
  {
   "cell_type": "code",
   "execution_count": 55,
   "id": "q10Z0DjQlJwv",
   "metadata": {
    "colab": {
     "base_uri": "https://localhost:8080/"
    },
    "executionInfo": {
     "elapsed": 24,
     "status": "ok",
     "timestamp": 1756552865329,
     "user": {
      "displayName": "Data Analytics GSB",
      "userId": "10141623010544721674"
     },
     "user_tz": -420
    },
    "id": "q10Z0DjQlJwv",
    "outputId": "4e44b5f5-c177-42bf-88f0-764b114bc1d3"
   },
   "outputs": [
    {
     "name": "stdout",
     "output_type": "stream",
     "text": [
      "saya di rumah\n",
      "Saya Di Rumah\n"
     ]
    }
   ],
   "source": [
    "course = \"saya di rumah\"\n",
    "\n",
    "print(course)\n",
    "print(course.title())"
   ]
  },
  {
   "cell_type": "code",
   "execution_count": 63,
   "id": "de1de0ef",
   "metadata": {
    "colab": {
     "base_uri": "https://localhost:8080/"
    },
    "executionInfo": {
     "elapsed": 63,
     "status": "ok",
     "timestamp": 1756552985860,
     "user": {
      "displayName": "Data Analytics GSB",
      "userId": "10141623010544721674"
     },
     "user_tz": -420
    },
    "id": "de1de0ef",
    "outputId": "baf39968-f32a-4080-f75c-50facef12a6f"
   },
   "outputs": [
    {
     "name": "stdout",
     "output_type": "stream",
     "text": [
      "python programming\n"
     ]
    }
   ],
   "source": [
    "print(course.strip())"
   ]
  },
  {
   "cell_type": "code",
   "execution_count": 70,
   "id": "Ta6ay9Qh9Or8",
   "metadata": {
    "executionInfo": {
     "elapsed": 2,
     "status": "ok",
     "timestamp": 1756553218071,
     "user": {
      "displayName": "Data Analytics GSB",
      "userId": "10141623010544721674"
     },
     "user_tz": -420
    },
    "id": "Ta6ay9Qh9Or8"
   },
   "outputs": [],
   "source": [
    "course = \"Python Programming\""
   ]
  },
  {
   "cell_type": "code",
   "execution_count": 65,
   "id": "SVNNSWU09P9U",
   "metadata": {
    "colab": {
     "base_uri": "https://localhost:8080/"
    },
    "executionInfo": {
     "elapsed": 12,
     "status": "ok",
     "timestamp": 1756553028389,
     "user": {
      "displayName": "Data Analytics GSB",
      "userId": "10141623010544721674"
     },
     "user_tz": -420
    },
    "id": "SVNNSWU09P9U",
    "outputId": "8427e8da-cb6e-4072-bc4d-f8eb71156c8d"
   },
   "outputs": [
    {
     "name": "stdout",
     "output_type": "stream",
     "text": [
      "7\n",
      "-1\n"
     ]
    }
   ],
   "source": [
    "print(course.find(\"Pro\"))\n",
    "\n",
    "print(course.find(\"pro\"))"
   ]
  },
  {
   "cell_type": "code",
   "execution_count": 68,
   "id": "uHRbEu7f9Tn2",
   "metadata": {
    "colab": {
     "base_uri": "https://localhost:8080/"
    },
    "executionInfo": {
     "elapsed": 29,
     "status": "ok",
     "timestamp": 1756553186677,
     "user": {
      "displayName": "Data Analytics GSB",
      "userId": "10141623010544721674"
     },
     "user_tz": -420
    },
    "id": "uHRbEu7f9Tn2",
    "outputId": "097d3e1f-ba0d-419d-e025-e68aaaa872fc"
   },
   "outputs": [
    {
     "name": "stdout",
     "output_type": "stream",
     "text": [
      "Java Programming\n",
      "Java Programming\n"
     ]
    }
   ],
   "source": [
    "print(course.replace(\"Python\", \"Java\"))\n",
    "course = course.replace(\"Python\", \"Java\")\n",
    "print(course)"
   ]
  },
  {
   "cell_type": "code",
   "execution_count": 75,
   "id": "348d9f1b",
   "metadata": {
    "colab": {
     "base_uri": "https://localhost:8080/"
    },
    "executionInfo": {
     "elapsed": 32,
     "status": "ok",
     "timestamp": 1756553442576,
     "user": {
      "displayName": "Data Analytics GSB",
      "userId": "10141623010544721674"
     },
     "user_tz": -420
    },
    "id": "348d9f1b",
    "outputId": "2831ed8f-bf8b-4217-b34a-5c91cdf2a357"
   },
   "outputs": [
    {
     "name": "stdout",
     "output_type": "stream",
     "text": [
      "True\n",
      "False\n",
      "False\n",
      "True\n"
     ]
    }
   ],
   "source": [
    "from ctypes import pythonapi\n",
    "print(\"Python\" in course)\n",
    "print(\"python\" in course)\n",
    "print(\"Java\" in course)\n",
    "\n",
    "lang1 = \"PyThoN\"\n",
    "\n",
    "print(\"python\" in lang1.lower())"
   ]
  },
  {
   "cell_type": "markdown",
   "id": "6a263d80",
   "metadata": {
    "id": "6a263d80"
   },
   "source": [
    "> **Note**: Sebagian besar operasi string bersifat ***case-sensitive*** (peka terhadap huruf besar-kecil).  \n",
    "Gunakan `.lower()` atau `.upper()` jika perlu **menormalkan** sebelum melakukan perbandingan."
   ]
  },
  {
   "cell_type": "markdown",
   "id": "96f16641",
   "metadata": {
    "id": "96f16641"
   },
   "source": [
    "# Working with Numeric"
   ]
  },
  {
   "cell_type": "markdown",
   "id": "A9GHViualdiJ",
   "metadata": {
    "id": "A9GHViualdiJ"
   },
   "source": [
    "## Arithmetic Operator"
   ]
  },
  {
   "cell_type": "markdown",
   "id": "6acfbe04",
   "metadata": {
    "id": "6acfbe04"
   },
   "source": [
    "| Operation | Result                      |\n",
    "|-----------|-----------------------------|\n",
    "| `x + y`   | sum of x and y              |\n",
    "| `x - y`   | difference of x and y       |\n",
    "| `x * y`   | product of x and y          |\n",
    "| `x / y`   | quotient of x and y         |\n",
    "| `x // y`  | floored quotient of x and y |\n",
    "| `x % y`   | remainder of x / y          |\n",
    "| `x ** y`  | x to the power y            |\n",
    "| `-x`      | x negated                   |\n"
   ]
  },
  {
   "cell_type": "code",
   "execution_count": 76,
   "id": "LdOMrnq_mCQu",
   "metadata": {
    "colab": {
     "base_uri": "https://localhost:8080/"
    },
    "executionInfo": {
     "elapsed": 55,
     "status": "ok",
     "timestamp": 1756554383789,
     "user": {
      "displayName": "Data Analytics GSB",
      "userId": "10141623010544721674"
     },
     "user_tz": -420
    },
    "id": "LdOMrnq_mCQu",
    "outputId": "e985ee4c-2699-4070-af7a-030426bf4800"
   },
   "outputs": [
    {
     "name": "stdout",
     "output_type": "stream",
     "text": [
      "5\n"
     ]
    }
   ],
   "source": [
    "x = 3\n",
    "y = 2\n",
    "print(x + y)"
   ]
  },
  {
   "cell_type": "code",
   "execution_count": 77,
   "id": "bkpzJvu3mGCU",
   "metadata": {
    "colab": {
     "base_uri": "https://localhost:8080/"
    },
    "executionInfo": {
     "elapsed": 10,
     "status": "ok",
     "timestamp": 1756554391633,
     "user": {
      "displayName": "Data Analytics GSB",
      "userId": "10141623010544721674"
     },
     "user_tz": -420
    },
    "id": "bkpzJvu3mGCU",
    "outputId": "8f7848c2-bfe8-4ae4-dd25-43b079f012c2"
   },
   "outputs": [
    {
     "name": "stdout",
     "output_type": "stream",
     "text": [
      "2\n"
     ]
    }
   ],
   "source": [
    "x = 5\n",
    "y = 3\n",
    "print(x - y)"
   ]
  },
  {
   "cell_type": "code",
   "execution_count": 78,
   "id": "L_ywiihqmHXI",
   "metadata": {
    "colab": {
     "base_uri": "https://localhost:8080/"
    },
    "executionInfo": {
     "elapsed": 25,
     "status": "ok",
     "timestamp": 1756554398542,
     "user": {
      "displayName": "Data Analytics GSB",
      "userId": "10141623010544721674"
     },
     "user_tz": -420
    },
    "id": "L_ywiihqmHXI",
    "outputId": "2fca13c1-ac06-4975-ca85-fbc1cada04c6"
   },
   "outputs": [
    {
     "name": "stdout",
     "output_type": "stream",
     "text": [
      "24\n"
     ]
    }
   ],
   "source": [
    "x = 4\n",
    "y = 6\n",
    "print(x * y)"
   ]
  },
  {
   "cell_type": "code",
   "execution_count": 79,
   "id": "ozU8sH29mJDS",
   "metadata": {
    "colab": {
     "base_uri": "https://localhost:8080/"
    },
    "executionInfo": {
     "elapsed": 15,
     "status": "ok",
     "timestamp": 1756554402015,
     "user": {
      "displayName": "Data Analytics GSB",
      "userId": "10141623010544721674"
     },
     "user_tz": -420
    },
    "id": "ozU8sH29mJDS",
    "outputId": "8c3f842b-c5f8-4f6d-c861-9c5c6525f496"
   },
   "outputs": [
    {
     "name": "stdout",
     "output_type": "stream",
     "text": [
      "3.5\n"
     ]
    }
   ],
   "source": [
    "x = 7\n",
    "y = 2\n",
    "print(x / y)"
   ]
  },
  {
   "cell_type": "code",
   "execution_count": 80,
   "id": "qKBrZlUqmNkf",
   "metadata": {
    "colab": {
     "base_uri": "https://localhost:8080/"
    },
    "executionInfo": {
     "elapsed": 23,
     "status": "ok",
     "timestamp": 1756554426564,
     "user": {
      "displayName": "Data Analytics GSB",
      "userId": "10141623010544721674"
     },
     "user_tz": -420
    },
    "id": "qKBrZlUqmNkf",
    "outputId": "736ba5c2-feb2-4b62-e037-433a2878e39f"
   },
   "outputs": [
    {
     "name": "stdout",
     "output_type": "stream",
     "text": [
      "3\n"
     ]
    }
   ],
   "source": [
    "x = 7\n",
    "y = 2\n",
    "print(x // y) # 7 / 2 = 3.5"
   ]
  },
  {
   "cell_type": "code",
   "execution_count": 81,
   "id": "425580df",
   "metadata": {
    "colab": {
     "base_uri": "https://localhost:8080/"
    },
    "executionInfo": {
     "elapsed": 70,
     "status": "ok",
     "timestamp": 1756554453521,
     "user": {
      "displayName": "Data Analytics GSB",
      "userId": "10141623010544721674"
     },
     "user_tz": -420
    },
    "id": "425580df",
    "outputId": "037c3ad5-8ad4-43c9-f394-1c6c546fbc05"
   },
   "outputs": [
    {
     "name": "stdout",
     "output_type": "stream",
     "text": [
      "1\n"
     ]
    }
   ],
   "source": [
    "x = 7\n",
    "y = 2\n",
    "print(x % y) # 7 = 2*6 + 1"
   ]
  },
  {
   "cell_type": "code",
   "execution_count": 82,
   "id": "3e03a2b4",
   "metadata": {
    "colab": {
     "base_uri": "https://localhost:8080/"
    },
    "executionInfo": {
     "elapsed": 41,
     "status": "ok",
     "timestamp": 1756554465871,
     "user": {
      "displayName": "Data Analytics GSB",
      "userId": "10141623010544721674"
     },
     "user_tz": -420
    },
    "id": "3e03a2b4",
    "outputId": "98907f7f-d678-4f80-954b-904b23841df1"
   },
   "outputs": [
    {
     "name": "stdout",
     "output_type": "stream",
     "text": [
      "8\n"
     ]
    }
   ],
   "source": [
    "x = 2\n",
    "y = 3\n",
    "print(x ** y)"
   ]
  },
  {
   "cell_type": "code",
   "execution_count": 83,
   "id": "75c92747",
   "metadata": {
    "colab": {
     "base_uri": "https://localhost:8080/"
    },
    "executionInfo": {
     "elapsed": 50,
     "status": "ok",
     "timestamp": 1756554471789,
     "user": {
      "displayName": "Data Analytics GSB",
      "userId": "10141623010544721674"
     },
     "user_tz": -420
    },
    "id": "75c92747",
    "outputId": "5b66bdde-cecf-49c2-ba46-5d78252e746d"
   },
   "outputs": [
    {
     "name": "stdout",
     "output_type": "stream",
     "text": [
      "-5\n"
     ]
    }
   ],
   "source": [
    "x = 5\n",
    "print(-x)"
   ]
  },
  {
   "cell_type": "markdown",
   "id": "7ZoGOUP_mO9O",
   "metadata": {
    "id": "7ZoGOUP_mO9O"
   },
   "source": [
    "## Functions Related to Numeric"
   ]
  },
  {
   "cell_type": "markdown",
   "id": "_j1DKkcUmiIo",
   "metadata": {
    "id": "_j1DKkcUmiIo"
   },
   "source": [
    "[round() Documentation](https://docs.python.org/3/library/functions.html#round)"
   ]
  },
  {
   "cell_type": "code",
   "execution_count": 84,
   "id": "249f2e31",
   "metadata": {
    "colab": {
     "base_uri": "https://localhost:8080/"
    },
    "executionInfo": {
     "elapsed": 46,
     "status": "ok",
     "timestamp": 1756554487882,
     "user": {
      "displayName": "Data Analytics GSB",
      "userId": "10141623010544721674"
     },
     "user_tz": -420
    },
    "id": "249f2e31",
    "outputId": "3149de1b-a3ea-40cc-e660-98145fa21ed3"
   },
   "outputs": [
    {
     "name": "stdout",
     "output_type": "stream",
     "text": [
      "2\n",
      "3\n",
      "2\n",
      "4\n"
     ]
    }
   ],
   "source": [
    "print(round(2.3))\n",
    "print(round(2.6))\n",
    "\n",
    "print(round(2.5))\n",
    "print(round(3.5))"
   ]
  },
  {
   "cell_type": "markdown",
   "id": "9vmoLLM3mmJ6",
   "metadata": {
    "id": "9vmoLLM3mmJ6"
   },
   "source": [
    "[abs() Documentation](https://docs.python.org/3/library/functions.html#abs)"
   ]
  },
  {
   "cell_type": "code",
   "execution_count": 85,
   "id": "a7f83ca8",
   "metadata": {
    "colab": {
     "base_uri": "https://localhost:8080/"
    },
    "executionInfo": {
     "elapsed": 94,
     "status": "ok",
     "timestamp": 1756554592885,
     "user": {
      "displayName": "Data Analytics GSB",
      "userId": "10141623010544721674"
     },
     "user_tz": -420
    },
    "id": "a7f83ca8",
    "outputId": "3ef1d545-04f3-4800-d4e5-eea2f0d5b761"
   },
   "outputs": [
    {
     "name": "stdout",
     "output_type": "stream",
     "text": [
      "5\n"
     ]
    }
   ],
   "source": [
    "print(abs(-5))"
   ]
  },
  {
   "cell_type": "markdown",
   "id": "dd05d0f4",
   "metadata": {
    "id": "dd05d0f4"
   },
   "source": [
    "# User Input"
   ]
  },
  {
   "cell_type": "markdown",
   "id": "5c9bd2b5",
   "metadata": {
    "id": "5c9bd2b5"
   },
   "source": [
    "Fungsi `input()` digunakan untuk **menerima input dari pengguna** melalui keyboard saat program dijalankan.\n",
    "- Saat dipanggil, program akan **berhenti sejenak** dan menunggu pengguna mengetik sesuatu lalu menekan Enter\n",
    "- **Secara default**, nilai yang dikembalikan oleh `input()` adalah **string**\n",
    "\n",
    "[input() Documentation](https://docs.python.org/3/library/functions.html#input)\n",
    "\n",
    "Syntax:\n",
    "\n",
    "```{python}\n",
    "varible_name = input(___)\n",
    "```"
   ]
  },
  {
   "cell_type": "code",
   "execution_count": 89,
   "id": "aecpNeg_0G8F",
   "metadata": {
    "colab": {
     "base_uri": "https://localhost:8080/"
    },
    "executionInfo": {
     "elapsed": 3537,
     "status": "ok",
     "timestamp": 1756554718043,
     "user": {
      "displayName": "Data Analytics GSB",
      "userId": "10141623010544721674"
     },
     "user_tz": -420
    },
    "id": "aecpNeg_0G8F",
    "outputId": "4e5786e3-922b-4361-f5d2-c748f3c884e7"
   },
   "outputs": [
    {
     "name": "stdout",
     "output_type": "stream",
     "text": [
      "100\n"
     ]
    },
    {
     "data": {
      "text/plain": [
       "str"
      ]
     },
     "execution_count": 89,
     "metadata": {},
     "output_type": "execute_result"
    }
   ],
   "source": [
    "score = input()\n",
    "type(score)"
   ]
  },
  {
   "cell_type": "code",
   "execution_count": 91,
   "id": "XmNjGccLnqPB",
   "metadata": {
    "colab": {
     "base_uri": "https://localhost:8080/"
    },
    "executionInfo": {
     "elapsed": 5298,
     "status": "ok",
     "timestamp": 1756554772799,
     "user": {
      "displayName": "Data Analytics GSB",
      "userId": "10141623010544721674"
     },
     "user_tz": -420
    },
    "id": "XmNjGccLnqPB",
    "outputId": "870b4fe0-aca1-427a-cdfa-299b84a77234"
   },
   "outputs": [
    {
     "name": "stdout",
     "output_type": "stream",
     "text": [
      "What is your name? doni\n",
      "Hello, doni\n"
     ]
    }
   ],
   "source": [
    "name = input(\"What is your name? \")\n",
    "print(f\"Hello, {name}\")"
   ]
  },
  {
   "cell_type": "markdown",
   "id": "75c46cdd",
   "metadata": {
    "id": "75c46cdd"
   },
   "source": [
    "# Typecasting\n",
    "\n",
    "Syntax:\n",
    "\n",
    "```{python}\n",
    "# Convert to integer\n",
    "int()\n",
    "\n",
    "# Convert to float\n",
    "float()\n",
    "\n",
    "# Convert to boolean\n",
    "bool()\n",
    "\n",
    "# Convert to string\n",
    "str()\n",
    "```\n",
    "\n",
    "\n"
   ]
  },
  {
   "cell_type": "code",
   "execution_count": 97,
   "id": "QZkunA2godbC",
   "metadata": {
    "colab": {
     "base_uri": "https://localhost:8080/"
    },
    "executionInfo": {
     "elapsed": 22,
     "status": "ok",
     "timestamp": 1756554882481,
     "user": {
      "displayName": "Data Analytics GSB",
      "userId": "10141623010544721674"
     },
     "user_tz": -420
    },
    "id": "QZkunA2godbC",
    "outputId": "539f72ac-e5a5-4e29-b8ee-93b02bc7414a"
   },
   "outputs": [
    {
     "name": "stdout",
     "output_type": "stream",
     "text": [
      "3\n",
      "<class 'int'>\n"
     ]
    }
   ],
   "source": [
    "# Convert to integer\n",
    "x = \"3\"\n",
    "print(int(x))\n",
    "print(type(int(x)))"
   ]
  },
  {
   "cell_type": "code",
   "execution_count": 99,
   "id": "Z6zJ1Vkx1Mdh",
   "metadata": {
    "colab": {
     "base_uri": "https://localhost:8080/"
    },
    "executionInfo": {
     "elapsed": 3160,
     "status": "ok",
     "timestamp": 1756554977554,
     "user": {
      "displayName": "Data Analytics GSB",
      "userId": "10141623010544721674"
     },
     "user_tz": -420
    },
    "id": "Z6zJ1Vkx1Mdh",
    "outputId": "cc96b560-adad-4b5c-b8d5-b8c1861b2021"
   },
   "outputs": [
    {
     "name": "stdout",
     "output_type": "stream",
     "text": [
      "insert score: 29\n",
      "39\n"
     ]
    }
   ],
   "source": [
    "score = int(input(\"insert score: \"))\n",
    "print(score + 10)"
   ]
  },
  {
   "cell_type": "code",
   "execution_count": 100,
   "id": "Ezcf88e_okoX",
   "metadata": {
    "colab": {
     "base_uri": "https://localhost:8080/"
    },
    "executionInfo": {
     "elapsed": 11,
     "status": "ok",
     "timestamp": 1756554993648,
     "user": {
      "displayName": "Data Analytics GSB",
      "userId": "10141623010544721674"
     },
     "user_tz": -420
    },
    "id": "Ezcf88e_okoX",
    "outputId": "3ea47f4f-fa18-45a5-bfd9-1f6cfaca957d"
   },
   "outputs": [
    {
     "name": "stdout",
     "output_type": "stream",
     "text": [
      "3.14\n",
      "<class 'float'>\n"
     ]
    }
   ],
   "source": [
    "# Convert to float\n",
    "x = \"3.14\"\n",
    "print(float(x))\n",
    "print(type(float(x)))"
   ]
  },
  {
   "cell_type": "code",
   "execution_count": 104,
   "id": "hCmbDRsw1jrO",
   "metadata": {
    "colab": {
     "base_uri": "https://localhost:8080/"
    },
    "executionInfo": {
     "elapsed": 29,
     "status": "ok",
     "timestamp": 1756555074307,
     "user": {
      "displayName": "Data Analytics GSB",
      "userId": "10141623010544721674"
     },
     "user_tz": -420
    },
    "id": "hCmbDRsw1jrO",
    "outputId": "78efb731-7325-4be6-ef3c-851fee283033"
   },
   "outputs": [
    {
     "name": "stdout",
     "output_type": "stream",
     "text": [
      "3.0\n",
      "<class 'float'>\n"
     ]
    }
   ],
   "source": [
    "x = 3\n",
    "type(x)\n",
    "print(float(x))\n",
    "print(type(float(x)))"
   ]
  },
  {
   "cell_type": "code",
   "execution_count": 111,
   "id": "0dc13394",
   "metadata": {
    "colab": {
     "base_uri": "https://localhost:8080/"
    },
    "executionInfo": {
     "elapsed": 96,
     "status": "ok",
     "timestamp": 1756555482669,
     "user": {
      "displayName": "Data Analytics GSB",
      "userId": "10141623010544721674"
     },
     "user_tz": -420
    },
    "id": "0dc13394",
    "outputId": "ce1ccd8b-4365-448e-b8d4-34340ca383a7"
   },
   "outputs": [
    {
     "name": "stdout",
     "output_type": "stream",
     "text": [
      "False\n",
      "True\n",
      "False\n"
     ]
    }
   ],
   "source": [
    "# Convert to boolean\n",
    "x = \"\"\n",
    "print(bool(x))\n",
    "\n",
    "y = \"non-empty\"\n",
    "print(bool(y))\n",
    "\n",
    "z = 0\n",
    "print(bool(z))"
   ]
  },
  {
   "cell_type": "code",
   "execution_count": 105,
   "id": "9e687567",
   "metadata": {
    "colab": {
     "base_uri": "https://localhost:8080/"
    },
    "executionInfo": {
     "elapsed": 45,
     "status": "ok",
     "timestamp": 1756555191632,
     "user": {
      "displayName": "Data Analytics GSB",
      "userId": "10141623010544721674"
     },
     "user_tz": -420
    },
    "id": "9e687567",
    "outputId": "60d24c0e-b0c8-4379-8fc9-16c49bedb355"
   },
   "outputs": [
    {
     "name": "stdout",
     "output_type": "stream",
     "text": [
      "123\n",
      "4.56\n"
     ]
    }
   ],
   "source": [
    "# Convert to string\n",
    "x = 123\n",
    "print(str(x))\n",
    "\n",
    "y = 4.56\n",
    "print(str(y))"
   ]
  },
  {
   "cell_type": "code",
   "execution_count": 107,
   "id": "vhtvZYSboZu7",
   "metadata": {
    "colab": {
     "base_uri": "https://localhost:8080/"
    },
    "executionInfo": {
     "elapsed": 8532,
     "status": "ok",
     "timestamp": 1756555283910,
     "user": {
      "displayName": "Data Analytics GSB",
      "userId": "10141623010544721674"
     },
     "user_tz": -420
    },
    "id": "vhtvZYSboZu7",
    "outputId": "a53eabf5-19b8-4de3-bbab-677eb6c1b136"
   },
   "outputs": [
    {
     "name": "stdout",
     "output_type": "stream",
     "text": [
      "Enter your age: 23\n",
      "Enter your rating: 4.5\n",
      "Are you active? (leave blank for False): \n",
      "23\n",
      "4.5\n",
      "False\n",
      "100\n"
     ]
    }
   ],
   "source": [
    "# Convert string to integer\n",
    "age = int(input(\"Enter your age: \"))\n",
    "\n",
    "# Convert string to float\n",
    "rating = float(input(\"Enter your rating: \"))\n",
    "\n",
    "# Convert string to boolean\n",
    "# Note: Any non-empty string becomes True\n",
    "is_active = bool(input(\"Are you active? (leave blank for False): \"))\n",
    "\n",
    "# Convert anything to string\n",
    "value_str = str(100)\n",
    "\n",
    "print(age)\n",
    "print(rating)\n",
    "print(is_active)\n",
    "print(value_str)"
   ]
  },
  {
   "cell_type": "markdown",
   "id": "f7a49606",
   "metadata": {
    "id": "f7a49606"
   },
   "source": [
    "# Falsy Values"
   ]
  },
  {
   "cell_type": "markdown",
   "id": "a78af2ad",
   "metadata": {
    "id": "a78af2ad"
   },
   "source": [
    "**Falsy values** adalah nilai-nilai yang dianggap `False` saat dievaluasi dalam konteks boolean (seperti dalam `if`, `while`, atau `bool()`).\n",
    "\n",
    "Python akan memperlakukan nilai-nilai berikut sebagai `False`, meskipun secara eksplisit bukan `False`.\n",
    "\n",
    "| Nilai        | Tipe         | Keterangan                         |\n",
    "|--------------|--------------|------------------------------------|\n",
    "| `\"\"`         | String       | String kosong                      |\n",
    "| `0`          | Integer      | Nol (juga berlaku untuk `0.0`)     |\n",
    "| `0.0`        | Float        | Nol dalam tipe float               |\n",
    "| `None`       | NoneType     | Representasi 'tidak ada'           |\n",
    "| `[]`         | List         | List kosong                        |\n",
    "| `{}`         | Dict         | Dictionary kosong                  |\n",
    "| `()`         | Tuple        | Tuple kosong                       |\n",
    "| `set()`      | Set          | Set kosong                         |\n",
    "| `False`      | Boolean      | Nilai boolean false                |"
   ]
  },
  {
   "cell_type": "code",
   "execution_count": 110,
   "id": "1IRbhZI42-D_",
   "metadata": {
    "colab": {
     "base_uri": "https://localhost:8080/"
    },
    "executionInfo": {
     "elapsed": 28,
     "status": "ok",
     "timestamp": 1756555445661,
     "user": {
      "displayName": "Data Analytics GSB",
      "userId": "10141623010544721674"
     },
     "user_tz": -420
    },
    "id": "1IRbhZI42-D_",
    "outputId": "85e42421-652e-4179-f6c3-d108552e2ec4"
   },
   "outputs": [
    {
     "name": "stdout",
     "output_type": "stream",
     "text": [
      "False\n"
     ]
    }
   ],
   "source": [
    "text = None\n",
    "print(bool(text))"
   ]
  },
  {
   "cell_type": "code",
   "execution_count": null,
   "id": "f82e3689",
   "metadata": {
    "id": "f82e3689"
   },
   "outputs": [],
   "source": [
    "if not \"\":\n",
    "    print(\"Empty string is falsy\")\n",
    "\n",
    "if not 0:\n",
    "    print(\"Zero is falsy\")\n",
    "\n",
    "if not None:\n",
    "    print(\"None is falsy\")"
   ]
  },
  {
   "cell_type": "markdown",
   "id": "609a78dc",
   "metadata": {
    "id": "609a78dc"
   },
   "source": [
    "# Comparison Operators"
   ]
  },
  {
   "cell_type": "markdown",
   "id": "cadd1a73",
   "metadata": {
    "id": "cadd1a73"
   },
   "source": [
    "Operator pembanding digunakan untuk membandingkan dua nilai dan menghasilkan nilai **boolean** (`True` atau `False`).\n",
    "\n",
    "| Operator | Description |\n",
    "| :---: | :--- |\n",
    "| `>` | Greater than |\n",
    "| `<` | Less than |\n",
    "| `>=`| Greater than or equal to |\n",
    "| `<=`| Less than or equal to |\n",
    "| `==`| Equal to |\n",
    "| `!=`| Not equal to |"
   ]
  },
  {
   "cell_type": "code",
   "execution_count": 116,
   "id": "q3dPOHUn3zVf",
   "metadata": {
    "colab": {
     "base_uri": "https://localhost:8080/"
    },
    "executionInfo": {
     "elapsed": 18,
     "status": "ok",
     "timestamp": 1756555676384,
     "user": {
      "displayName": "Data Analytics GSB",
      "userId": "10141623010544721674"
     },
     "user_tz": -420
    },
    "id": "q3dPOHUn3zVf",
    "outputId": "c985bf9b-3658-4cd1-e68c-060bee6aaf27"
   },
   "outputs": [
    {
     "name": "stdout",
     "output_type": "stream",
     "text": [
      "True\n"
     ]
    }
   ],
   "source": []
  },
  {
   "cell_type": "code",
   "execution_count": 117,
   "id": "U-OSMqhYphjv",
   "metadata": {
    "colab": {
     "base_uri": "https://localhost:8080/"
    },
    "executionInfo": {
     "elapsed": 31,
     "status": "ok",
     "timestamp": 1756555679349,
     "user": {
      "displayName": "Data Analytics GSB",
      "userId": "10141623010544721674"
     },
     "user_tz": -420
    },
    "id": "U-OSMqhYphjv",
    "outputId": "f7a599e1-9904-47ec-dab9-30984a636647"
   },
   "outputs": [
    {
     "name": "stdout",
     "output_type": "stream",
     "text": [
      "> : True\n",
      "< : False\n",
      ">=: True\n",
      "<=: False\n",
      "==: False\n",
      "!=: True\n"
     ]
    }
   ],
   "source": [
    "a = 10\n",
    "b = 5\n",
    "\n",
    "print(\"> :\", a > b)\n",
    "print(\"< :\", a < b)\n",
    "print(\">=:\", a >= b)\n",
    "print(\"<=:\", a <= b)\n",
    "print(\"==:\", a == b)\n",
    "print(\"!=:\", a != b)"
   ]
  },
  {
   "cell_type": "markdown",
   "id": "9da5a49a",
   "metadata": {
    "id": "9da5a49a"
   },
   "source": [
    "# Conditional Statements"
   ]
  },
  {
   "cell_type": "markdown",
   "id": "f3992c0a",
   "metadata": {
    "id": "f3992c0a"
   },
   "source": [
    "*Conditional statement* digunakan untuk menjalankan blok kode tertentu hanya saat *codition*-hya bernilai `True`.\n",
    "\n",
    "Syntax for if statement:\n",
    "\n",
    "```{python}\n",
    "if condition:\n",
    "  code block\n",
    "```\n",
    "Syntax for if-else statement:\n",
    "\n",
    "```{python}\n",
    "if condition:\n",
    "  code block\n",
    "else:\n",
    "  code block\n",
    "```\n",
    "\n",
    "Syntax for if-elif-else statement:\n",
    "\n",
    "```{python}\n",
    "if condition:\n",
    "  code block\n",
    "elif condition:\n",
    "  code block\n",
    "else:\n",
    "  code block\n",
    "```"
   ]
  },
  {
   "cell_type": "code",
   "execution_count": 121,
   "id": "fDTGCg3GqTL4",
   "metadata": {
    "colab": {
     "base_uri": "https://localhost:8080/"
    },
    "executionInfo": {
     "elapsed": 62,
     "status": "ok",
     "timestamp": 1756555855518,
     "user": {
      "displayName": "Data Analytics GSB",
      "userId": "10141623010544721674"
     },
     "user_tz": -420
    },
    "id": "fDTGCg3GqTL4",
    "outputId": "dbf9bc95-43f5-4a90-ee67-b9e2e3e6722e"
   },
   "outputs": [
    {
     "name": "stdout",
     "output_type": "stream",
     "text": [
      "3\n",
      "4\n"
     ]
    }
   ],
   "source": [
    "# if-statement\n",
    "nilai = 57\n",
    "\n",
    "if nilai >= 80:\n",
    "    print(\"Lulus dengan nilai bagus\")\n",
    "    print(1)\n",
    "    print(2)\n",
    "\n",
    "print(3)\n",
    "print(4)"
   ]
  },
  {
   "cell_type": "code",
   "execution_count": 124,
   "id": "GroHZnaGqasN",
   "metadata": {
    "colab": {
     "base_uri": "https://localhost:8080/"
    },
    "executionInfo": {
     "elapsed": 42,
     "status": "ok",
     "timestamp": 1756555911365,
     "user": {
      "displayName": "Data Analytics GSB",
      "userId": "10141623010544721674"
     },
     "user_tz": -420
    },
    "id": "GroHZnaGqasN",
    "outputId": "1a1b8456-85f8-430a-964a-800324bfe916"
   },
   "outputs": [
    {
     "name": "stdout",
     "output_type": "stream",
     "text": [
      "Tidak lulus\n"
     ]
    }
   ],
   "source": [
    "# if-else statement\n",
    "nilai =\n",
    "\n",
    "if nilai >= 85:\n",
    "    print(\"Lulus\")\n",
    "else:\n",
    "    print(\"Tidak lulus\")"
   ]
  },
  {
   "cell_type": "code",
   "execution_count": 128,
   "id": "vDtikvTYqdjM",
   "metadata": {
    "colab": {
     "base_uri": "https://localhost:8080/"
    },
    "executionInfo": {
     "elapsed": 25,
     "status": "ok",
     "timestamp": 1756556018303,
     "user": {
      "displayName": "Data Analytics GSB",
      "userId": "10141623010544721674"
     },
     "user_tz": -420
    },
    "id": "vDtikvTYqdjM",
    "outputId": "ef125b77-3e24-4fb8-8f01-cb63c5578ca6"
   },
   "outputs": [
    {
     "name": "stdout",
     "output_type": "stream",
     "text": [
      "Grade A\n"
     ]
    }
   ],
   "source": [
    "# if-elif-else statement\n",
    "nilai = 85\n",
    "\n",
    "if nilai >= 85:\n",
    "    print(\"Grade A\")\n",
    "elif nilai >= 70:\n",
    "    print(\"Grade B\")\n",
    "elif nilai >= 60:\n",
    "    print(\"Grade C\")\n",
    "else:\n",
    "    print(\"Grade D\")"
   ]
  },
  {
   "cell_type": "markdown",
   "id": "75455443",
   "metadata": {
    "id": "75455443"
   },
   "source": [
    "## Ternary Operator\n",
    "\n",
    "Syntax:\n",
    "\n",
    "```python\n",
    "variable_name = value_if_true if condition else value_if_false\n",
    "```"
   ]
  },
  {
   "cell_type": "code",
   "execution_count": 129,
   "id": "fJwPJup_qq_8",
   "metadata": {
    "colab": {
     "base_uri": "https://localhost:8080/"
    },
    "executionInfo": {
     "elapsed": 31,
     "status": "ok",
     "timestamp": 1756556126091,
     "user": {
      "displayName": "Data Analytics GSB",
      "userId": "10141623010544721674"
     },
     "user_tz": -420
    },
    "id": "fJwPJup_qq_8",
    "outputId": "ac4364c4-824c-46b1-c20c-92cf7c0f02ed"
   },
   "outputs": [
    {
     "name": "stdout",
     "output_type": "stream",
     "text": [
      "Anak-anak\n"
     ]
    }
   ],
   "source": [
    "umur = 16\n",
    "\n",
    "status = \"Dewasa\" if umur >= 17 else \"Anak-anak\"\n",
    "print(status)"
   ]
  },
  {
   "cell_type": "code",
   "execution_count": 132,
   "id": "SVfESyjg53If",
   "metadata": {
    "colab": {
     "base_uri": "https://localhost:8080/"
    },
    "executionInfo": {
     "elapsed": 54,
     "status": "ok",
     "timestamp": 1756556278604,
     "user": {
      "displayName": "Data Analytics GSB",
      "userId": "10141623010544721674"
     },
     "user_tz": -420
    },
    "id": "SVfESyjg53If",
    "outputId": "542430e7-294c-4e9b-ae45-310dae4f1795"
   },
   "outputs": [
    {
     "name": "stdout",
     "output_type": "stream",
     "text": [
      "Grade A\n"
     ]
    }
   ],
   "source": [
    "nilai = 85\n",
    "\n",
    "if nilai >= 85:\n",
    "    mutu = \"Grade A\"\n",
    "elif nilai >= 70:\n",
    "    mutu = \"Grade B\"\n",
    "elif nilai >= 60:\n",
    "    mutu = \"Grade C\"\n",
    "else:\n",
    "    mutu = \"Grade D\"\n",
    "\n",
    "print(mutu)"
   ]
  },
  {
   "cell_type": "code",
   "execution_count": null,
   "id": "QiD0P-lZ6LXr",
   "metadata": {
    "id": "QiD0P-lZ6LXr"
   },
   "outputs": [],
   "source": [
    "nilai = 85\n",
    "\n",
    "mutu = \"Grade A\" if nilai >= 85 else \"Grade B\" if nilai >= 70 else \"Grade C\" if nilai >= 60 else \"Grade D\"\n",
    "\n",
    "print(mutu)"
   ]
  },
  {
   "cell_type": "markdown",
   "id": "5a613342",
   "metadata": {
    "id": "5a613342"
   },
   "source": [
    "# Logical Operators"
   ]
  },
  {
   "cell_type": "markdown",
   "id": "b2e4cc24",
   "metadata": {
    "id": "b2e4cc24"
   },
   "source": [
    "1. `and`: `True` jika kedua kondisi `True`\n",
    "\n",
    "| A | B | A and B |\n",
    "| :---: | :---: | :---: |\n",
    "| `True` | `True` | `True` |\n",
    "| `True` | `False`| `False` |\n",
    "| `False`| `True` | `False` |\n",
    "| `False`| `False`| `False` |\n",
    "\n",
    "2. `or`: `True` jika salah satu kondisi `True`\n",
    "\n",
    "| A | B | A or B |\n",
    "| :---: | :---: | :---: |\n",
    "| `True` | `True` | `True` |\n",
    "| `True` | `False`| `True` |\n",
    "| `False`| `True` | `True` |\n",
    "| `False`| `False`| `False` |\n",
    "\n",
    "3. `not`: Membalik nilai boolean\n",
    "\n",
    "| A | not A |\n",
    "| :---: | :---: |\n",
    "| `True` | `False` |\n",
    "| `False`| `True` |"
   ]
  },
  {
   "cell_type": "code",
   "execution_count": 133,
   "id": "fTX_sYbJsGwf",
   "metadata": {
    "colab": {
     "base_uri": "https://localhost:8080/"
    },
    "executionInfo": {
     "elapsed": 13,
     "status": "ok",
     "timestamp": 1756556442652,
     "user": {
      "displayName": "Data Analytics GSB",
      "userId": "10141623010544721674"
     },
     "user_tz": -420
    },
    "id": "fTX_sYbJsGwf",
    "outputId": "486c340c-d3bb-476b-d3b2-f10dbd97b65e"
   },
   "outputs": [
    {
     "name": "stdout",
     "output_type": "stream",
     "text": [
      "True\n",
      "True\n",
      "True\n",
      "False\n"
     ]
    }
   ],
   "source": [
    "a = 5\n",
    "b = 10\n",
    "c = 15\n",
    "\n",
    "print(a < b and b < c)\n",
    "print(a > b or b < c)\n",
    "print(not a > b)\n",
    "print(a < b and b > c)"
   ]
  },
  {
   "cell_type": "markdown",
   "id": "TtZJ-T0CsOgu",
   "metadata": {
    "id": "TtZJ-T0CsOgu"
   },
   "source": [
    "# Looping"
   ]
  },
  {
   "cell_type": "markdown",
   "id": "e6dacbf1",
   "metadata": {
    "id": "e6dacbf1"
   },
   "source": [
    "## `for` Loop\n"
   ]
  },
  {
   "cell_type": "markdown",
   "id": "687215a1",
   "metadata": {
    "id": "687215a1"
   },
   "source": [
    "`for` loop digunakan untuk mengulang sebuah blok kode **sekali untuk setiap elemen** dalam sebuah urutan (seperti list, string, tuple, atau objek iterable lainnya).\n",
    "\n",
    "Syntax:\n",
    "\n",
    "```{python}\n",
    "for item in iterable:\n",
    "    code block\n",
    "```"
   ]
  },
  {
   "cell_type": "code",
   "execution_count": 134,
   "id": "494271df",
   "metadata": {
    "colab": {
     "base_uri": "https://localhost:8080/"
    },
    "executionInfo": {
     "elapsed": 43,
     "status": "ok",
     "timestamp": 1756556853259,
     "user": {
      "displayName": "Data Analytics GSB",
      "userId": "10141623010544721674"
     },
     "user_tz": -420
    },
    "id": "494271df",
    "outputId": "6f82eb60-a485-4355-ffdb-cb587ee19b5e"
   },
   "outputs": [
    {
     "name": "stdout",
     "output_type": "stream",
     "text": [
      "Ali\n",
      "Fazli\n",
      "Python\n",
      "Programming\n"
     ]
    }
   ],
   "source": [
    "kata_kata = [\"Ali\", \"Fazli\", \"Python\", \"Programming\"]\n",
    "\n",
    "for x in kata_kata:\n",
    "    print(x)"
   ]
  },
  {
   "cell_type": "markdown",
   "id": "3b33981e",
   "metadata": {
    "id": "3b33981e"
   },
   "source": [
    "## `while` Loop"
   ]
  },
  {
   "cell_type": "markdown",
   "id": "34414dfb",
   "metadata": {
    "id": "34414dfb"
   },
   "source": [
    "`while` loop digunakan untuk mengulang sebuah blok kode **selama kondisi bernilai True**.\n",
    "\n",
    "Syntax for while loop:\n",
    "\n",
    "```{python}\n",
    "while condition:\n",
    "    code block\n",
    "```"
   ]
  },
  {
   "cell_type": "code",
   "execution_count": 135,
   "id": "aa83b017",
   "metadata": {
    "colab": {
     "base_uri": "https://localhost:8080/"
    },
    "executionInfo": {
     "elapsed": 23,
     "status": "ok",
     "timestamp": 1756557028013,
     "user": {
      "displayName": "Data Analytics GSB",
      "userId": "10141623010544721674"
     },
     "user_tz": -420
    },
    "id": "aa83b017",
    "outputId": "7120887d-b6a2-462c-c0f8-4e1e206f5b26"
   },
   "outputs": [
    {
     "name": "stdout",
     "output_type": "stream",
     "text": [
      "0\n",
      "1\n",
      "2\n",
      "3\n",
      "4\n"
     ]
    }
   ],
   "source": [
    "count = 0\n",
    "while count < 5:\n",
    "    print(count)\n",
    "    count += 1"
   ]
  },
  {
   "cell_type": "code",
   "execution_count": null,
   "id": "4KJEt6ZR9a0I",
   "metadata": {
    "colab": {
     "background_save": true
    },
    "id": "4KJEt6ZR9a0I"
   },
   "outputs": [],
   "source": [
    "#while True:\n",
    "#    print(\"Hello\")"
   ]
  },
  {
   "cell_type": "code",
   "execution_count": null,
   "id": "7dbff7cb",
   "metadata": {
    "id": "7dbff7cb"
   },
   "outputs": [],
   "source": [
    "count = 0\n",
    "while count < 5: print(count); count += 1"
   ]
  },
  {
   "cell_type": "markdown",
   "id": "a389d1af",
   "metadata": {
    "id": "a389d1af"
   },
   "source": [
    "**Catatan:**\n",
    "\n",
    "Meskipun penulisan dalam satu baris memungkinkan, hal ini **tidak disarankan karena mengurangi keterbacaan kode**.\n"
   ]
  },
  {
   "cell_type": "markdown",
   "id": "47qN1jS5tpEZ",
   "metadata": {
    "id": "47qN1jS5tpEZ"
   },
   "source": [
    "# Sequence Types"
   ]
  },
  {
   "cell_type": "markdown",
   "id": "ce9dcf35",
   "metadata": {
    "id": "ce9dcf35"
   },
   "source": [
    "## List"
   ]
  },
  {
   "cell_type": "markdown",
   "id": "yUcBlSUtwJN-",
   "metadata": {
    "id": "yUcBlSUtwJN-"
   },
   "source": [
    "### List Concept"
   ]
  },
  {
   "cell_type": "markdown",
   "id": "8bcf3b00",
   "metadata": {
    "id": "8bcf3b00"
   },
   "source": [
    "List adalah struktur data di Python yang digunakan untuk menyimpan **kumpulan data dalam satu variabel**, dengan urutan tertentu dan bisa diubah (*mutable*).\n",
    "\n",
    "Syntax:\n",
    "\n",
    "```{python}\n",
    "list = [Value1, Value2, Value3]\n",
    "```"
   ]
  },
  {
   "cell_type": "code",
   "execution_count": null,
   "id": "hjs_5VL3xw0Y",
   "metadata": {
    "id": "hjs_5VL3xw0Y"
   },
   "outputs": [],
   "source": [
    "numbers = [1, 2, 3, 4, 5]"
   ]
  },
  {
   "cell_type": "code",
   "execution_count": null,
   "id": "VitO_R-IuVEG",
   "metadata": {
    "id": "VitO_R-IuVEG"
   },
   "outputs": [],
   "source": [
    "# Indexing\n",
    "print(numbers[0])\n",
    "print(numbers[-1])"
   ]
  },
  {
   "cell_type": "code",
   "execution_count": null,
   "id": "_ecfiB7OyPWY",
   "metadata": {
    "id": "_ecfiB7OyPWY"
   },
   "outputs": [],
   "source": [
    "# Slicing\n",
    "print(numbers[1:4])"
   ]
  },
  {
   "cell_type": "code",
   "execution_count": null,
   "id": "33a386fe",
   "metadata": {
    "id": "33a386fe"
   },
   "outputs": [],
   "source": [
    "numbers = [1, 2, 3, 4, 5]\n",
    "numbers[2] = 99\n",
    "print(numbers)  # [1, 2, 99, 4, 5]"
   ]
  },
  {
   "cell_type": "code",
   "execution_count": null,
   "id": "7c908c65",
   "metadata": {
    "id": "7c908c65"
   },
   "outputs": [],
   "source": [
    "matrix = [\n",
    "    [1, 2, 3],\n",
    "    [4, 5, 6],\n",
    "    [7, 8, 9]\n",
    "]\n",
    "\n",
    "print(matrix[0])      # [1, 2, 3]\n",
    "print(matrix[1][2])   # 6"
   ]
  },
  {
   "cell_type": "markdown",
   "id": "39e4ab2a",
   "metadata": {
    "id": "39e4ab2a"
   },
   "source": [
    "### List Comprehension\n",
    "\n",
    "Syntax for list comprehension:\n",
    "\n",
    "```python\n",
    "[expression for item in iterable]\n",
    "\n",
    "[expression for item in iterable if condition]\n",
    "```"
   ]
  },
  {
   "cell_type": "code",
   "execution_count": null,
   "id": "iQqGIAY5s4Zn",
   "metadata": {
    "id": "iQqGIAY5s4Zn"
   },
   "outputs": [],
   "source": [
    "numbers1 = [0, 1, 2, 3, 4]\n",
    "squares = [x**2 for x in numbers1]\n",
    "print(squares)"
   ]
  },
  {
   "cell_type": "code",
   "execution_count": null,
   "id": "WxhdpwQhw_q9",
   "metadata": {
    "id": "WxhdpwQhw_q9"
   },
   "outputs": [],
   "source": [
    "numbers2 = [0, 1, 2, 3, 4, 5, 6, 7, 8, 9]\n",
    "even = [x for x in numbers2 if x % 2 == 0]\n",
    "print(even)"
   ]
  },
  {
   "cell_type": "markdown",
   "id": "3NTdZ73nw1_5",
   "metadata": {
    "id": "3NTdZ73nw1_5"
   },
   "source": [
    "### List Methods"
   ]
  },
  {
   "cell_type": "markdown",
   "id": "zakcZpeD_SOh",
   "metadata": {
    "id": "zakcZpeD_SOh"
   },
   "source": [
    "[List Methods Documentation](https://docs.python.org/3/tutorial/datastructures.html)"
   ]
  },
  {
   "cell_type": "code",
   "execution_count": null,
   "id": "eNyMF_elya2Y",
   "metadata": {
    "id": "eNyMF_elya2Y"
   },
   "outputs": [],
   "source": [
    "numbers = [1, 2, 3, 4, 5]"
   ]
  },
  {
   "cell_type": "markdown",
   "id": "1a3cad10",
   "metadata": {
    "id": "1a3cad10"
   },
   "source": [
    "`append(item)`"
   ]
  },
  {
   "cell_type": "code",
   "execution_count": null,
   "id": "202eb1e4",
   "metadata": {
    "id": "202eb1e4"
   },
   "outputs": [],
   "source": [
    "numbers.append(6)\n",
    "print(numbers)"
   ]
  },
  {
   "cell_type": "code",
   "execution_count": null,
   "id": "y48SMUMtyYzT",
   "metadata": {
    "id": "y48SMUMtyYzT"
   },
   "outputs": [],
   "source": [
    "numbers.append([7, 8])\n",
    "print(numbers)"
   ]
  },
  {
   "cell_type": "markdown",
   "id": "944e1505",
   "metadata": {
    "id": "944e1505"
   },
   "source": [
    "`insert(index, item)`"
   ]
  },
  {
   "cell_type": "code",
   "execution_count": null,
   "id": "b2953293",
   "metadata": {
    "id": "b2953293"
   },
   "outputs": [],
   "source": [
    "numbers.insert(1, 100)\n",
    "print(numbers)"
   ]
  },
  {
   "cell_type": "markdown",
   "id": "15b00aab",
   "metadata": {
    "id": "15b00aab"
   },
   "source": [
    "`remove(item)`"
   ]
  },
  {
   "cell_type": "code",
   "execution_count": null,
   "id": "43e4c39e",
   "metadata": {
    "id": "43e4c39e"
   },
   "outputs": [],
   "source": [
    "numbers.remove(3)\n",
    "print(numbers)"
   ]
  },
  {
   "cell_type": "code",
   "execution_count": null,
   "id": "uS2Cpd_8yoD-",
   "metadata": {
    "id": "uS2Cpd_8yoD-"
   },
   "outputs": [],
   "source": [
    "numbers.remove(3)\n",
    "print(numbers)"
   ]
  },
  {
   "cell_type": "markdown",
   "id": "bd21efee",
   "metadata": {
    "id": "bd21efee"
   },
   "source": [
    "`clear()`"
   ]
  },
  {
   "cell_type": "code",
   "execution_count": null,
   "id": "42e368a5",
   "metadata": {
    "id": "42e368a5"
   },
   "outputs": [],
   "source": [
    "numbers.clear()\n",
    "print(numbers)"
   ]
  },
  {
   "cell_type": "markdown",
   "id": "8730ae5f",
   "metadata": {
    "id": "8730ae5f"
   },
   "source": [
    "`pop([index])`"
   ]
  },
  {
   "cell_type": "code",
   "execution_count": null,
   "id": "87051b83",
   "metadata": {
    "id": "87051b83"
   },
   "outputs": [],
   "source": [
    "numbers = [1, 2, 3, 4, 5]\n",
    "\n",
    "numbers.pop()     # Removes last item\n",
    "print(numbers)  # [1, 2, 3, 4]\n",
    "numbers.pop(1)    # Removes item at index 1\n",
    "print(numbers)  # [1, 3, 4]"
   ]
  },
  {
   "cell_type": "markdown",
   "id": "8756214d",
   "metadata": {
    "id": "8756214d"
   },
   "source": [
    "#### `sort()` and `reverse()`"
   ]
  },
  {
   "cell_type": "code",
   "execution_count": null,
   "id": "0adde245",
   "metadata": {
    "id": "0adde245"
   },
   "outputs": [],
   "source": [
    "numbers = [2, 5, 3, 4, 1]\n",
    "numbers.sort()  # Sorts the list in place in ascending order\n",
    "print(numbers)\n",
    "\n",
    "numbers = [2, 5, 3, 4, 1]\n",
    "numbers.reverse()  # Reverses the list in place\n",
    "print(numbers)"
   ]
  },
  {
   "cell_type": "code",
   "execution_count": null,
   "id": "76b44a4c",
   "metadata": {
    "id": "76b44a4c"
   },
   "outputs": [],
   "source": [
    "nums = [2, 5, 3, 4, 1]\n",
    "nums.sort()\n",
    "nums.reverse() # Descending after ascending sort\n",
    "print(nums)\n",
    "\n",
    "nums = [2, 5, 3, 4, 1]\n",
    "nums.sort(reverse=True)  # Direct descending sort\n",
    "print(nums)"
   ]
  },
  {
   "cell_type": "markdown",
   "id": "2fd75fdd",
   "metadata": {
    "id": "2fd75fdd"
   },
   "source": [
    "#### `view()` vs. `copy()`"
   ]
  },
  {
   "cell_type": "code",
   "execution_count": null,
   "id": "c9727e65",
   "metadata": {
    "id": "c9727e65"
   },
   "outputs": [],
   "source": [
    "# View (alias)\n",
    "a = [1, 2, 3]\n",
    "b = a\n",
    "b[0] = 99\n",
    "print(a)"
   ]
  },
  {
   "cell_type": "code",
   "execution_count": null,
   "id": "7JPzsJDrxKxQ",
   "metadata": {
    "id": "7JPzsJDrxKxQ"
   },
   "outputs": [],
   "source": [
    "# Copy\n",
    "a = [1, 2, 3]\n",
    "b = a.copy()\n",
    "b[0] = 99\n",
    "print(a)"
   ]
  },
  {
   "cell_type": "markdown",
   "id": "a346c0a6",
   "metadata": {
    "id": "a346c0a6"
   },
   "source": [
    "## Tuple"
   ]
  },
  {
   "cell_type": "markdown",
   "id": "d2b629fd",
   "metadata": {
    "id": "d2b629fd"
   },
   "source": [
    "Tuple adalah kumpulan data yang **terurut** (ordered) namun **tidak dapat diubah** (immutable). Setelah dibuat, elemen-elemen di dalam tuple **tidak bisa diubah**, **tidak bisa ditambah**, dan **tidak bisa dihapus**.\n",
    "\n",
    "Perbedaan utama antara tuple dan list:\n",
    "- Tuple bersifat **immutable** → isinya tetap\n",
    "- List bersifat **mutable** → isinya bisa dimodifikasi"
   ]
  },
  {
   "cell_type": "markdown",
   "id": "f24327e7",
   "metadata": {
    "id": "f24327e7"
   },
   "source": [
    "Syntax for creating a tuple:\n",
    "\n",
    "```{python}\n",
    "variable_name = (Value1, Value2, Value3)\n",
    "```"
   ]
  },
  {
   "cell_type": "code",
   "execution_count": null,
   "id": "5XeUWk2wuMSC",
   "metadata": {
    "id": "5XeUWk2wuMSC"
   },
   "outputs": [],
   "source": [
    "numbers = (1, 2, 3, 2, 4)"
   ]
  },
  {
   "cell_type": "code",
   "execution_count": null,
   "id": "Cv9Jh-o9zERe",
   "metadata": {
    "id": "Cv9Jh-o9zERe"
   },
   "outputs": [],
   "source": [
    "# Indexing\n",
    "print(numbers[0])\n",
    "print(numbers[-1])"
   ]
  },
  {
   "cell_type": "code",
   "execution_count": null,
   "id": "6NcZKyB2zIVk",
   "metadata": {
    "id": "6NcZKyB2zIVk"
   },
   "outputs": [],
   "source": [
    "# Slicing\n",
    "print(numbers[1:4])"
   ]
  },
  {
   "cell_type": "code",
   "execution_count": null,
   "id": "2I9OOOmLzMfD",
   "metadata": {
    "id": "2I9OOOmLzMfD"
   },
   "outputs": [],
   "source": [
    "dir(tuple)"
   ]
  },
  {
   "cell_type": "markdown",
   "id": "cec1fe7e",
   "metadata": {
    "id": "cec1fe7e"
   },
   "source": [
    "`index(value, start, end)`"
   ]
  },
  {
   "cell_type": "code",
   "execution_count": null,
   "id": "_RpixfcezOiU",
   "metadata": {
    "id": "_RpixfcezOiU"
   },
   "outputs": [],
   "source": [
    "help(tuple.index)"
   ]
  },
  {
   "cell_type": "code",
   "execution_count": null,
   "id": "o_Z-J8hCzqUP",
   "metadata": {
    "id": "o_Z-J8hCzqUP"
   },
   "outputs": [],
   "source": [
    "numbers = (1, 2, 3, 2, 4)"
   ]
  },
  {
   "cell_type": "code",
   "execution_count": null,
   "id": "b9d7b9a5",
   "metadata": {
    "id": "b9d7b9a5"
   },
   "outputs": [],
   "source": [
    "print(numbers.index(2))"
   ]
  },
  {
   "cell_type": "code",
   "execution_count": null,
   "id": "Oqy6pvV4ztOE",
   "metadata": {
    "id": "Oqy6pvV4ztOE"
   },
   "outputs": [],
   "source": [
    "print(numbers.index(2, 2))"
   ]
  },
  {
   "cell_type": "code",
   "execution_count": null,
   "id": "sG0KkoN2z1r2",
   "metadata": {
    "id": "sG0KkoN2z1r2"
   },
   "outputs": [],
   "source": [
    "print(numbers.index(2, 0, 3))"
   ]
  },
  {
   "cell_type": "code",
   "execution_count": null,
   "id": "b5ec40a1",
   "metadata": {
    "id": "b5ec40a1"
   },
   "outputs": [],
   "source": [
    "print(numbers.index(5))"
   ]
  },
  {
   "cell_type": "markdown",
   "id": "745a5f55",
   "metadata": {
    "id": "745a5f55"
   },
   "source": [
    "`count(value)`"
   ]
  },
  {
   "cell_type": "code",
   "execution_count": null,
   "id": "rjcvNEICzZ09",
   "metadata": {
    "id": "rjcvNEICzZ09"
   },
   "outputs": [],
   "source": [
    "help(tuple.count)"
   ]
  },
  {
   "cell_type": "code",
   "execution_count": null,
   "id": "sk2gdTWVzxgv",
   "metadata": {
    "id": "sk2gdTWVzxgv"
   },
   "outputs": [],
   "source": [
    "numbers = (1, 2, 3, 2, 4)"
   ]
  },
  {
   "cell_type": "code",
   "execution_count": null,
   "id": "96ca52c4",
   "metadata": {
    "id": "96ca52c4"
   },
   "outputs": [],
   "source": [
    "print(numbers.count(2))"
   ]
  },
  {
   "cell_type": "markdown",
   "id": "8fa26a8a",
   "metadata": {
    "id": "8fa26a8a"
   },
   "source": [
    "### Unpacking"
   ]
  },
  {
   "cell_type": "code",
   "execution_count": null,
   "id": "e2f53715",
   "metadata": {
    "id": "e2f53715"
   },
   "outputs": [],
   "source": [
    "point = (3, 4)\n",
    "x, y = point\n",
    "print(x)\n",
    "print(y)"
   ]
  },
  {
   "cell_type": "code",
   "execution_count": null,
   "id": "f954343b",
   "metadata": {
    "id": "f954343b"
   },
   "outputs": [],
   "source": [
    "numbers = [1, 2, 3]\n",
    "a, b, c = numbers\n",
    "print(a, b, c)  # 1 2 3"
   ]
  },
  {
   "cell_type": "markdown",
   "id": "1b668f14",
   "metadata": {
    "id": "1b668f14"
   },
   "source": [
    "> **Note**: Jumlah variabel harus sesuai dengan jumlah elemen, **kecuali jika menggunakan `*`**.\n"
   ]
  },
  {
   "cell_type": "code",
   "execution_count": null,
   "id": "6bf9d263",
   "metadata": {
    "id": "6bf9d263"
   },
   "outputs": [],
   "source": [
    "# Extended unpacking\n",
    "a, *b = [1, 2, 3, 4]\n",
    "print(a)\n",
    "print(b)"
   ]
  },
  {
   "cell_type": "markdown",
   "id": "13e634f2",
   "metadata": {
    "id": "13e634f2"
   },
   "source": [
    "## Set"
   ]
  },
  {
   "cell_type": "markdown",
   "id": "789254b3",
   "metadata": {
    "id": "789254b3"
   },
   "source": [
    "Set adalah kumpulan data yang bersifat:\n",
    "- **Tidak terurut** (unordered) → elemen tidak memiliki indeks dan urutan bisa berubah\n",
    "- **Mutable** → bisa ditambah atau dihapus elemennya\n",
    "- Hanya menyimpan **elemen unik** → tidak ada duplikat\n",
    "\n",
    "Syntax for creating a set:\n",
    "\n",
    "```{python}\n",
    "set = {Value1, Value1, Value2, Value2}  # {Value1, Value2}\n",
    "```\n",
    "\n",
    "[Set Documentation](https://docs.python.org/3/library/stdtypes.html#set-types-set-frozenset)"
   ]
  },
  {
   "cell_type": "code",
   "execution_count": null,
   "id": "I9s72AsWwNPh",
   "metadata": {
    "id": "I9s72AsWwNPh"
   },
   "outputs": [],
   "source": [
    "numbers = {1, 2, 3, 3, 4}\n",
    "print(numbers)"
   ]
  },
  {
   "cell_type": "code",
   "execution_count": null,
   "id": "89b1d595",
   "metadata": {
    "id": "89b1d595"
   },
   "outputs": [],
   "source": [
    "# Creates empty set\n",
    "empty_set = set()\n",
    "\n",
    "# Creates empty dictionary\n",
    "empty_dict = {}"
   ]
  },
  {
   "cell_type": "code",
   "execution_count": null,
   "id": "bb5d0c55",
   "metadata": {
    "id": "bb5d0c55"
   },
   "outputs": [],
   "source": [
    "set1 = {1, 2, 3}\n",
    "set2 = {3, 4, 5}"
   ]
  },
  {
   "cell_type": "code",
   "execution_count": null,
   "id": "o6EUB6n87wKI",
   "metadata": {
    "id": "o6EUB6n87wKI"
   },
   "outputs": [],
   "source": [
    "print(set1 | set2) # Union"
   ]
  },
  {
   "cell_type": "code",
   "execution_count": null,
   "id": "N_yS5_k475AG",
   "metadata": {
    "id": "N_yS5_k475AG"
   },
   "outputs": [],
   "source": [
    "print(set1 & set2) # Intersection"
   ]
  },
  {
   "cell_type": "code",
   "execution_count": null,
   "id": "7yvbOw4v76ov",
   "metadata": {
    "id": "7yvbOw4v76ov"
   },
   "outputs": [],
   "source": [
    "print(set1 - set2) # Difference\n",
    "\n",
    "print(set2 - set1) # Difference"
   ]
  },
  {
   "cell_type": "code",
   "execution_count": null,
   "id": "YsH1QHMf77jG",
   "metadata": {
    "id": "YsH1QHMf77jG"
   },
   "outputs": [],
   "source": [
    "print(set1 ^ set2) # Symmetric difference"
   ]
  },
  {
   "cell_type": "markdown",
   "id": "80504f22",
   "metadata": {
    "id": "80504f22"
   },
   "source": [
    "## Dictionary"
   ]
  },
  {
   "cell_type": "markdown",
   "id": "329f3f89",
   "metadata": {
    "id": "329f3f89"
   },
   "source": [
    "Dictionary adalah struktur data di Python yang menyimpan data dalam bentuk *key-value pairs*.\n",
    "\n",
    "- Setiap **key harus unik**, tapi **value boleh duplikat**\n",
    "- Akses data dilakukan menggunakan **key**, bukan indeks\n",
    "- Bersifat **mutable** → bisa ditambah, diubah, dan dihapus\n",
    "\n",
    "Syntax:\n",
    "\n",
    "```{python}\n",
    "variabel_name = {\n",
    "    Key: Value,\n",
    "    Key: Value,\n",
    "    Key: Value\n",
    "}\n",
    "```\n",
    "\n",
    "[Dictionary Documentation](https://docs.python.org/3/library/stdtypes.html#dict)\n"
   ]
  },
  {
   "cell_type": "code",
   "execution_count": null,
   "id": "ec7b6a87",
   "metadata": {
    "id": "ec7b6a87"
   },
   "outputs": [],
   "source": [
    "student = {\n",
    "    \"name\": \"Ali\",\n",
    "    \"age\": 20,\n",
    "    \"is_active\": True\n",
    "}\n",
    "\n",
    "print(student)"
   ]
  },
  {
   "cell_type": "code",
   "execution_count": null,
   "id": "soI4Sr-S8aBb",
   "metadata": {
    "id": "soI4Sr-S8aBb"
   },
   "outputs": [],
   "source": [
    "print(student[\"name\"])"
   ]
  },
  {
   "cell_type": "code",
   "execution_count": null,
   "id": "BK5sVfsu8fR6",
   "metadata": {
    "id": "BK5sVfsu8fR6"
   },
   "outputs": [],
   "source": [
    "print(student.items()) # key-value pairs"
   ]
  },
  {
   "cell_type": "code",
   "execution_count": null,
   "id": "takicNk18iU0",
   "metadata": {
    "id": "takicNk18iU0"
   },
   "outputs": [],
   "source": [
    "print(student.keys()) # keys only"
   ]
  },
  {
   "cell_type": "code",
   "execution_count": null,
   "id": "e3d9fbb0",
   "metadata": {
    "id": "e3d9fbb0"
   },
   "outputs": [],
   "source": [
    "print(student.values()) # values only"
   ]
  },
  {
   "cell_type": "markdown",
   "id": "00fcecdc",
   "metadata": {
    "id": "00fcecdc"
   },
   "source": [
    "`get()`"
   ]
  },
  {
   "cell_type": "code",
   "execution_count": null,
   "id": "bOrwOyV38qGY",
   "metadata": {
    "id": "bOrwOyV38qGY"
   },
   "outputs": [],
   "source": [
    "print(student.get(\"name\"))"
   ]
  },
  {
   "cell_type": "code",
   "execution_count": null,
   "id": "aFEkpjdV8sxR",
   "metadata": {
    "id": "aFEkpjdV8sxR"
   },
   "outputs": [],
   "source": [
    "print(student.get(\"email\"))"
   ]
  },
  {
   "cell_type": "code",
   "execution_count": null,
   "id": "3e8aa8ee",
   "metadata": {
    "id": "3e8aa8ee"
   },
   "outputs": [],
   "source": [
    "print(student[\"email\"])"
   ]
  },
  {
   "cell_type": "code",
   "execution_count": null,
   "id": "938af144",
   "metadata": {
    "id": "938af144"
   },
   "outputs": [],
   "source": [
    "print(student.get(\"email\", \"Not provided\"))"
   ]
  },
  {
   "cell_type": "code",
   "execution_count": null,
   "id": "c9bc8318",
   "metadata": {
    "id": "c9bc8318"
   },
   "outputs": [],
   "source": [
    "student[\"age\"] = 21\n",
    "student[\"grade\"] = \"A\"\n",
    "print(student)"
   ]
  },
  {
   "cell_type": "markdown",
   "id": "bueeXEQKAbE4",
   "metadata": {
    "id": "bueeXEQKAbE4"
   },
   "source": [
    "## Typecasting for Sequence Types"
   ]
  },
  {
   "cell_type": "markdown",
   "id": "5a45woCABuAH",
   "metadata": {
    "id": "5a45woCABuAH"
   },
   "source": [
    "- `list(iterable)`  \n",
    "  Mengubah iterable (seperti string, tuple, set, atau range) menjadi list.\n",
    "\n",
    "- `tuple(iterable)`  \n",
    "  Mengubah iterable menjadi tuple.\n",
    "\n",
    "- `set(iterable)`  \n",
    "  Mengubah iterable menjadi set unik (duplikat akan dihapus).\n",
    "\n",
    "- `dict(pairs)`  \n",
    "  Mengubah **kumpulan pasangan** (biasanya list/tuple of tuples) menjadi dictionary.  \n",
    "  Contoh: `dict([(\"a\", 1), (\"b\", 2)])` → `{\"a\": 1, \"b\": 2}`\n",
    "\n",
    "> **Note**: Fungsi-fungsi ini hanya berhasil jika format datanya sesuai. Misalnya, `dict()` butuh pasangan `key-value`, bukan sekadar list biasa."
   ]
  },
  {
   "cell_type": "code",
   "execution_count": null,
   "id": "KPt-Hp17AfXb",
   "metadata": {
    "id": "KPt-Hp17AfXb"
   },
   "outputs": [],
   "source": [
    "# Convert to list\n",
    "data = \"abcd\"\n",
    "hasil = list(data)\n",
    "print(hasil)"
   ]
  },
  {
   "cell_type": "code",
   "execution_count": null,
   "id": "6KB97jvdAhR5",
   "metadata": {
    "id": "6KB97jvdAhR5"
   },
   "outputs": [],
   "source": [
    "# Convert to tuple\n",
    "angka = [1, 2, 3]\n",
    "hasil = tuple(angka)\n",
    "print(hasil)"
   ]
  },
  {
   "cell_type": "code",
   "execution_count": null,
   "id": "c0115ab0",
   "metadata": {
    "id": "c0115ab0"
   },
   "outputs": [],
   "source": [
    " # Convert to set\n",
    "angka = [1, 2, 2, 3, 3, 3]\n",
    "hasil = set(angka)\n",
    "print(hasil)"
   ]
  },
  {
   "cell_type": "code",
   "execution_count": null,
   "id": "b9247b89",
   "metadata": {
    "id": "b9247b89"
   },
   "outputs": [],
   "source": [
    "# Convert to dictionary\n",
    "pasangan = [(\"a\", 1), (\"b\", 2), (\"c\", 3)]\n",
    "hasil = dict(pasangan)\n",
    "print(hasil)"
   ]
  },
  {
   "cell_type": "markdown",
   "id": "bcccea23",
   "metadata": {
    "id": "bcccea23"
   },
   "source": [
    "> **Note**:\n",
    "- list() dan tuple() bisa digunakan untuk string, list, set, dll.\n",
    "- set() otomatis menghapus duplikat.\n",
    "- dict() butuh iterable yang berisi pasangan dua nilai (key, value)."
   ]
  },
  {
   "cell_type": "markdown",
   "id": "f45f0550",
   "metadata": {
    "id": "f45f0550"
   },
   "source": [
    "# Function"
   ]
  },
  {
   "cell_type": "markdown",
   "id": "87a6e5eb",
   "metadata": {
    "id": "87a6e5eb"
   },
   "source": [
    "Fungsi adalah blok kode terstruktur yang bisa dipanggil berulang kali. Fungsinya untuk:\n",
    "- Menghindari penulisan ulang kode\n",
    "- Membuat program lebih terorganisir\n",
    "- Menerima input (parameter) dan bisa mengembalikan hasil (output)\n",
    "\n",
    "**Struktur Umum Fungsi:**\n",
    "\n",
    "```python\n",
    "def nama_fungsi(parameter):\n",
    "    # blok kode\n",
    "    return hasil\n",
    "```"
   ]
  },
  {
   "cell_type": "markdown",
   "id": "1fcac5c7",
   "metadata": {
    "id": "1fcac5c7"
   },
   "source": [
    "**Perbedaan: Fungsi dengan `return` vs Tanpa `return`**\n",
    "\n",
    "**1. Fungsi dengan `return`:**\n",
    "- Mengembalikan nilai ke pemanggil fungsi\n",
    "- Bisa disimpan dalam variabel\n",
    "- Bisa digunakan dalam ekspresi lain\n",
    "\n",
    "**2. Fungsi tanpa `return`:**\n",
    "- Hanya menjalankan aksi (misal mencetak output dengan `print()`)\n",
    "- Tidak mengembalikan nilai (secara default akan mengembalikan `None`)\n",
    "- Biasanya digunakan untuk efek samping, bukan perhitungan\n"
   ]
  },
  {
   "cell_type": "markdown",
   "id": "caffd12d",
   "metadata": {
    "id": "caffd12d"
   },
   "source": [
    "**Catatan:**\n",
    "\n",
    "`return` di dalam fungsi **menghentikan eksekusi fungsi** dan langsung keluar, **mirip dengan `break` dalam loop**.\n",
    "\n",
    "**Artinya:**\n",
    "- Begitu `return` dijalankan, baris-baris setelahnya di dalam fungsi **tidak akan dijalankan**."
   ]
  },
  {
   "cell_type": "code",
   "execution_count": null,
   "id": "0579d131",
   "metadata": {
    "id": "0579d131"
   },
   "outputs": [],
   "source": [
    "# Contoh:\n",
    "def contoh():\n",
    "    print(\"Sebelum return\")\n",
    "    return 123\n",
    "    print(\"Setelah return\")  # Tidak akan dijalankan\n",
    "\n",
    "sample = contoh()  # Output: Sebelum return\n",
    "print(sample)  # Output: 123"
   ]
  },
  {
   "cell_type": "code",
   "execution_count": null,
   "id": "bd54ded3",
   "metadata": {
    "id": "bd54ded3"
   },
   "outputs": [],
   "source": [
    "def greet(name):\n",
    "    print(f\"Hello, {name}!\")\n",
    "\n",
    "greet(\"Ali\")  # → Hello, Ali!"
   ]
  },
  {
   "cell_type": "code",
   "execution_count": null,
   "id": "01f3c4ce",
   "metadata": {
    "id": "01f3c4ce"
   },
   "outputs": [],
   "source": [
    "# Default Arguments\n",
    "def greet(name, message=\"Welcome\"):\n",
    "    print(f\"{message}, {name}!\")\n",
    "\n",
    "greet(\"Ali\")                        # Uses default message → Welcome, Ali!\n",
    "greet(\"Ali\", \"Good morning\")        # Overrides default → Good morning, Ali!"
   ]
  },
  {
   "cell_type": "markdown",
   "id": "c812844e",
   "metadata": {
    "id": "c812844e"
   },
   "source": [
    "`*args` and `**kwargs`"
   ]
  },
  {
   "cell_type": "markdown",
   "id": "e7c05b03",
   "metadata": {
    "id": "e7c05b03"
   },
   "source": [
    "- `*args` -> captures extra positional arguments as a tuple\n",
    "- `**kwargs` -> captures extra keyword arguments as a dictionary"
   ]
  },
  {
   "cell_type": "code",
   "execution_count": null,
   "id": "d62e5a83",
   "metadata": {
    "id": "d62e5a83"
   },
   "outputs": [],
   "source": [
    "def demo(*args, **kwargs):\n",
    "    print(\"Positional:\", args)\n",
    "    print(\"Keyword:\", kwargs)\n",
    "\n",
    "demo(1, 2, 3, name=\"Ali\", age=20)\n",
    "# → Positional: (1, 2, 3)\n",
    "# → Keyword: {'name': 'Ali', 'age': 20}"
   ]
  },
  {
   "cell_type": "code",
   "execution_count": null,
   "id": "fbed5e7c",
   "metadata": {
    "id": "fbed5e7c"
   },
   "outputs": [],
   "source": [
    "# Contoh *args\n",
    "def jumlahkan_semua(*args):\n",
    "    total = sum(args)\n",
    "    print(f\"Total: {total}\")\n",
    "\n",
    "jumlahkan_semua(3, 5, 7)\n",
    "# Output: Total: 15"
   ]
  },
  {
   "cell_type": "code",
   "execution_count": null,
   "id": "b4dc7e39",
   "metadata": {
    "id": "b4dc7e39"
   },
   "outputs": [],
   "source": [
    "# Contoh **kwargs\n",
    "def buat_profil(**kwargs):\n",
    "    for k, v in kwargs.items():\n",
    "        print(f\"{k.capitalize()}: {v}\")\n",
    "\n",
    "buat_profil(nama=\"Ali\", umur=20, kota=\"Bogor\")\n",
    "# Output:\n",
    "# Nama: Ali\n",
    "# Umur: 20\n",
    "# Kota: Bogor"
   ]
  },
  {
   "cell_type": "markdown",
   "id": "0c9797a3",
   "metadata": {
    "id": "0c9797a3"
   },
   "source": [
    "## Lambda Function"
   ]
  },
  {
   "cell_type": "markdown",
   "id": "N9V1kXRXxJOT",
   "metadata": {
    "id": "N9V1kXRXxJOT"
   },
   "source": [
    "**Lambda function** (juga dikenal sebagai **anonymous function**) adalah cara singkat untuk membuat fungsi **satu baris** tanpa harus menggunakan `def`.\n",
    "\n",
    "- Tidak perlu nama fungsi (lambda berarti anonim)\n",
    "- Cocok untuk fungsi sederhana yang hanya butuh satu ekspresi\n",
    "- Secara otomatis mengembalikan hasil dari ekspresi (tidak perlu return)\n",
    "\n",
    "Syntax:\n",
    "\n",
    "```{python}\n",
    "function_name = lambda arguments: expression\n",
    "```"
   ]
  },
  {
   "cell_type": "code",
   "execution_count": null,
   "id": "1eb1e72c",
   "metadata": {
    "id": "1eb1e72c"
   },
   "outputs": [],
   "source": [
    "square = lambda x: x * x\n",
    "print(square(5))  # → 25"
   ]
  },
  {
   "cell_type": "code",
   "execution_count": null,
   "id": "6135b81a",
   "metadata": {
    "id": "6135b81a"
   },
   "outputs": [],
   "source": [
    "add = lambda x, y: x + y\n",
    "print(add(2, 3))  # → 5"
   ]
  },
  {
   "cell_type": "markdown",
   "id": "245e08ed",
   "metadata": {
    "id": "245e08ed"
   },
   "source": [
    "**Catatan:**\n",
    "\n",
    "Lambda paling cocok untuk ekspresi sederhana, dan sering digunakan dalam `map()`, `filter()`, atau sebagai callback singkat.\n"
   ]
  },
  {
   "cell_type": "markdown",
   "id": "f1377d3b",
   "metadata": {
    "id": "f1377d3b"
   },
   "source": [
    "# Object Oriented Programming"
   ]
  },
  {
   "cell_type": "markdown",
   "id": "4b6dfe77",
   "metadata": {
    "id": "4b6dfe77"
   },
   "source": [
    "**OOP (Object-Oriented Programming)** adalah paradigma pemrograman yang berfokus pada pembuatan **objek** untuk merepresentasikan data dan fungsi.\n",
    "\n",
    "Syntax:\n",
    "\n",
    "```{python}\n",
    "class ClassName:\n",
    "  code block\n",
    "```"
   ]
  },
  {
   "cell_type": "markdown",
   "id": "c10b429d",
   "metadata": {
    "id": "c10b429d"
   },
   "source": [
    "### Class\n",
    "\n",
    "Dalam Python, **class** adalah cetakan atau blueprint untuk membuat **objek**.  \n",
    "Class mendefinisikan:\n",
    "- **Atribut** → data atau properti yang dimiliki objek\n",
    "- **Method** → fungsi atau perilaku yang bisa dilakukan oleh objek\n",
    "\n",
    "Dengan class, kita bisa membuat banyak objek yang memiliki struktur dan perilaku yang sama, tetapi nilai atributnya bisa berbeda-beda."
   ]
  },
  {
   "cell_type": "code",
   "execution_count": null,
   "id": "CUKk_FkZm-jG",
   "metadata": {
    "id": "CUKk_FkZm-jG"
   },
   "outputs": [],
   "source": [
    "class Person:\n",
    "  pass"
   ]
  },
  {
   "cell_type": "code",
   "execution_count": null,
   "id": "oj_WD56enDfQ",
   "metadata": {
    "id": "oj_WD56enDfQ"
   },
   "outputs": [],
   "source": [
    "person1 = Person()\n",
    "person2 = Person()"
   ]
  },
  {
   "cell_type": "code",
   "execution_count": null,
   "id": "IQvicrXhpjo_",
   "metadata": {
    "id": "IQvicrXhpjo_"
   },
   "outputs": [],
   "source": [
    "person1.name = \"Steve\"\n",
    "person1.age = 100\n",
    "\n",
    "person2.name = \"Tony\"\n",
    "person2.age = 40"
   ]
  },
  {
   "cell_type": "code",
   "execution_count": null,
   "id": "EAGxIc9RqFiX",
   "metadata": {
    "id": "EAGxIc9RqFiX"
   },
   "outputs": [],
   "source": [
    "print(person1.name)\n",
    "print(person1.age)"
   ]
  },
  {
   "cell_type": "markdown",
   "id": "_uZ5bCK-qUXr",
   "metadata": {
    "id": "_uZ5bCK-qUXr"
   },
   "source": [
    "### Instance Variable\n",
    "\n",
    "**Instance variable** adalah variabel yang disimpan di dalam objek (instance) dari sebuah class.\n",
    "\n",
    "Setiap objek memiliki **salinan sendiri** dari instance variable, sehingga nilainya bisa berbeda antara satu objek dengan objek lainnya.\n",
    "\n",
    "Syntax:\n",
    "\n",
    "```{python}\n",
    "class ClassName:\n",
    "  def __init__(self, ...):\n",
    "    ...\n",
    "```"
   ]
  },
  {
   "cell_type": "code",
   "execution_count": null,
   "id": "9120ff59",
   "metadata": {
    "id": "9120ff59"
   },
   "outputs": [],
   "source": [
    "class Person:\n",
    "  def __init__(self, name, age):\n",
    "    self.name = name # instance variable\n",
    "    self.age = age\n",
    "\n",
    "  def greet(self):\n",
    "    print(f\"Hi, I'm {self.name} and I'm {self.age} years old.\")"
   ]
  },
  {
   "cell_type": "code",
   "execution_count": null,
   "id": "60ac4e26",
   "metadata": {
    "id": "60ac4e26"
   },
   "outputs": [],
   "source": [
    "person1 = Person(\"Ali\", 20)\n",
    "person2 = Person(\"Rindu\", 19)\n",
    "\n",
    "person1.greet()\n",
    "person2.greet()"
   ]
  },
  {
   "cell_type": "markdown",
   "id": "db455a3a",
   "metadata": {
    "id": "db455a3a"
   },
   "source": [
    "### Class Variable\n",
    "\n",
    "**Class variable** adalah variabel yang dimiliki **oleh class itu sendiri**, dan **berlaku untuk semua objek** (instance) yang dibuat dari class tersebut.\n",
    "\n",
    "Berbeda dengan **instance variable**, class variable **dibagikan bersama** antar semua instance."
   ]
  },
  {
   "cell_type": "code",
   "execution_count": null,
   "id": "hWN2ZPH1rMnj",
   "metadata": {
    "id": "hWN2ZPH1rMnj"
   },
   "outputs": [],
   "source": [
    "class Person:\n",
    "  species = \"Human\" # class variable\n",
    "\n",
    "  def __init__(self, name, age):\n",
    "    self.name = name # instance variable\n",
    "    self.age = age\n",
    "\n",
    "  def greet(self):\n",
    "    print(f\"Hi, I'm {self.name} and I'm {self.age} years old.\")"
   ]
  },
  {
   "cell_type": "code",
   "execution_count": null,
   "id": "b7c455af",
   "metadata": {
    "id": "b7c455af"
   },
   "outputs": [],
   "source": [
    "person1 = Person(\"Ali\", 20)\n",
    "person2 = Person(\"Rindu\", 19)\n",
    "\n",
    "print(person1.age)\n",
    "print(person2.age)\n",
    "\n",
    "print(person1.species)\n",
    "print(person2.species)"
   ]
  },
  {
   "cell_type": "markdown",
   "id": "e34a294b",
   "metadata": {
    "id": "e34a294b"
   },
   "source": [
    "### Inheritance (Pewarisan)\n",
    "\n",
    "**Inheritance** memungkinkan sebuah class (disebut **child class**) untuk **mewarisi atribut dan method** dari class lain (disebut **parent class**).  \n",
    "Tujuannya adalah untuk **mengurangi duplikasi kode** dan mempermudah **reusabilitas**.\n",
    "\n",
    "Syntax:\n",
    "\n",
    "```{python}\n",
    "class SubClassName(ParentClassName):\n",
    "  code block\n",
    "```"
   ]
  },
  {
   "cell_type": "code",
   "execution_count": null,
   "id": "hBUg7CWOsTXm",
   "metadata": {
    "id": "hBUg7CWOsTXm"
   },
   "outputs": [],
   "source": [
    "class Person:\n",
    "  species = \"Human\"\n",
    "\n",
    "  def __init__(self, fname, lname, age):\n",
    "    self.fname = fname\n",
    "    self.lname = lname\n",
    "    self.fullname = fname + \" \" + lname\n",
    "    self.age = age\n",
    "\n",
    "  def greet(self):\n",
    "    print(f\"Hi, I'm {self.fullname} and I'm {self.age} years old.\")\n",
    "\n",
    "class Student(Person):\n",
    "  pass"
   ]
  },
  {
   "cell_type": "code",
   "execution_count": null,
   "id": "X_TNilBjsfFN",
   "metadata": {
    "id": "X_TNilBjsfFN"
   },
   "outputs": [],
   "source": [
    "student1 = Student(\"Steve\", \"Roger\", 100)\n",
    "student2 = Student(\"Tony\", \"Stark\", 40)"
   ]
  },
  {
   "cell_type": "code",
   "execution_count": null,
   "id": "Rf1PCF0ytrMS",
   "metadata": {
    "id": "Rf1PCF0ytrMS"
   },
   "outputs": [],
   "source": [
    "student1.greet()"
   ]
  },
  {
   "cell_type": "code",
   "execution_count": null,
   "id": "N1Ioa9Jht_vO",
   "metadata": {
    "id": "N1Ioa9Jht_vO"
   },
   "outputs": [],
   "source": [
    "class Person:\n",
    "  species = \"Human\"\n",
    "\n",
    "  def __init__(self, fname, lname, age):\n",
    "    self.fname = fname\n",
    "    self.lname = lname\n",
    "    self.fullname = fname + \" \" + lname\n",
    "    self.age = age\n",
    "\n",
    "  def greet(self):\n",
    "    print(f\"Hi, I'm {self.fullname} and I'm {self.age} years old.\")\n",
    "\n",
    "class Student(Person):\n",
    "  def __init__(self, fname, lname, age, univ, live):\n",
    "    super().__init__(fname, lname, age)\n",
    "    self.univ = univ\n",
    "    self.live = live\n",
    "\n",
    "  def greet(self):\n",
    "    print(f\"\"\"\n",
    "    Hello...\n",
    "    My name is {self.fullname}\n",
    "    I'm {self.age} years old\n",
    "    I study at {self.univ}\n",
    "    I live in {self.live}\n",
    "    \"\"\")"
   ]
  },
  {
   "cell_type": "code",
   "execution_count": null,
   "id": "dLam-SE_uWPa",
   "metadata": {
    "id": "dLam-SE_uWPa"
   },
   "outputs": [],
   "source": [
    "student1 = Student(\"Steve\", \"Roger\", 100, \"Universitas Indonesia\", \"Condet\")\n",
    "student2 = Student(\"Tony\", \"Stark\", 40, \"IPB University\", \"Balio\")"
   ]
  },
  {
   "cell_type": "code",
   "execution_count": null,
   "id": "QvdUghl9u3sH",
   "metadata": {
    "id": "QvdUghl9u3sH"
   },
   "outputs": [],
   "source": [
    "student2.greet()"
   ]
  },
  {
   "cell_type": "code",
   "execution_count": null,
   "id": "noITcpbZvF2Y",
   "metadata": {
    "id": "noITcpbZvF2Y"
   },
   "outputs": [],
   "source": [
    "print(isinstance(student1, Student))\n",
    "print(isinstance(student1, Person))"
   ]
  },
  {
   "cell_type": "code",
   "execution_count": null,
   "id": "SiJC2MhGvU5R",
   "metadata": {
    "id": "SiJC2MhGvU5R"
   },
   "outputs": [],
   "source": [
    "person1 = Person(\"Steve\", \"Roger\", 100)\n",
    "\n",
    "print(isinstance(person1, Student))\n",
    "print(isinstance(person1, Person))"
   ]
  },
  {
   "cell_type": "code",
   "execution_count": null,
   "id": "Aa18H23ivmBj",
   "metadata": {
    "id": "Aa18H23ivmBj"
   },
   "outputs": [],
   "source": [
    "print(issubclass(Student, Person))\n",
    "print(issubclass(Person, Student))"
   ]
  },
  {
   "cell_type": "code",
   "execution_count": null,
   "id": "8cd41c0e",
   "metadata": {
    "id": "8cd41c0e"
   },
   "outputs": [],
   "source": [
    "animal = Animal(\"Creature\")\n",
    "animal.speak()  # → Creature makes a sound.\n",
    "\n",
    "dog = Dog(\"Rex\")\n",
    "dog.speak()     # → Rex barks.\n",
    "\n",
    "cat = Animal(\"Whiskers\")\n",
    "cat.speak()     # → Whiskers makes a sound."
   ]
  },
  {
   "cell_type": "code",
   "execution_count": null,
   "id": "7df5075b",
   "metadata": {
    "id": "7df5075b"
   },
   "outputs": [],
   "source": [
    "# super()\n",
    "\n",
    "class Animal:\n",
    "    def __init__(self, name):\n",
    "        self.name = name\n",
    "\n",
    "    def speak(self):\n",
    "        print(f\"{self.name} makes a sound.\")\n",
    "\n",
    "class Dog(Animal):  # Dog inherits from Animal\n",
    "    def speak(self):\n",
    "        print(f\"{self.name} barks.\")\n",
    "\n",
    "class Cat(Animal):\n",
    "    def __init__(self, name, color):\n",
    "        super().__init__(name)   # Call parent constructor\n",
    "        self.color = color\n",
    "\n",
    "    def speak(self):\n",
    "        super().speak()          # Call parent method\n",
    "        print(f\"{self.name} meows.\")\n"
   ]
  },
  {
   "cell_type": "code",
   "execution_count": null,
   "id": "82d98730",
   "metadata": {
    "id": "82d98730"
   },
   "outputs": [],
   "source": [
    "cat = Cat(\"Mika\", \"white\")\n",
    "cat.speak()\n",
    "# → Mika makes a sound.\n",
    "# → Mika meows."
   ]
  }
 ],
 "metadata": {
  "colab": {
   "name": "",
   "version": ""
  },
  "kernelspec": {
   "display_name": "Python 3 (ipykernel)",
   "language": "python",
   "name": "python3"
  },
  "language_info": {
   "codemirror_mode": {
    "name": "ipython",
    "version": 3
   },
   "file_extension": ".py",
   "mimetype": "text/x-python",
   "name": "python",
   "nbconvert_exporter": "python",
   "pygments_lexer": "ipython3",
   "version": "3.9.0"
  }
 },
 "nbformat": 4,
 "nbformat_minor": 5
}
