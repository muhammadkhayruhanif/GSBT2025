{
 "cells": [
  {
   "cell_type": "markdown",
   "id": "4d4547e6",
   "metadata": {
    "id": "4d4547e6"
   },
   "source": [
    "# Hands-On Practice"
   ]
  },
  {
   "cell_type": "markdown",
   "id": "36fdee04",
   "metadata": {
    "id": "36fdee04"
   },
   "source": [
    "## Variables, Arithmetics, & Comparison\n"
   ]
  },
  {
   "cell_type": "markdown",
   "id": "9bcc673e",
   "metadata": {
    "id": "9bcc673e"
   },
   "source": [
    "**Tugas 1:**  \n",
    "Tetapkan nilai berikut ke dalam variabel:\n",
    "- Sebuah integer ke `students_count`  \n",
    "- Sebuah float ke `rating`  \n",
    "- Sebuah boolean ke `is_published`  \n",
    "- Sebuah string ke `course_name`"
   ]
  },
  {
   "cell_type": "code",
   "execution_count": 5,
   "id": "ee635439",
   "metadata": {
    "id": "ee635439"
   },
   "outputs": [],
   "source": [
    "# Write your code here\n",
    "students_count = 2\n",
    "rating = 4.8\n",
    "is_published = True\n",
    "course_name = \"GSB-Training\""
   ]
  },
  {
   "cell_type": "markdown",
   "id": "862fa435",
   "metadata": {
    "id": "862fa435"
   },
   "source": [
    "**Tugas 2:**  \n",
    "Gunakan `students_count` dan `rating` untuk menghitung:\n",
    "- `total_score = students_count * rating`  \n",
    "- `average_score = total_score / 2`"
   ]
  },
  {
   "cell_type": "code",
   "execution_count": 2,
   "id": "de431ec3",
   "metadata": {
    "id": "de431ec3"
   },
   "outputs": [],
   "source": [
    "# Write your code here\n",
    "total_score = students_count * rating\n",
    "average_score = total_score / 2"
   ]
  },
  {
   "cell_type": "markdown",
   "id": "0bdd23f8",
   "metadata": {
    "id": "0bdd23f8"
   },
   "source": [
    "**Tugas 3:**  \n",
    "Periksa apakah `rating` lebih besar dari `4.0`.  \n",
    "Simpan hasilnya dalam variabel bernama `is_high_rating`."
   ]
  },
  {
   "cell_type": "code",
   "execution_count": null,
   "id": "bbf8e245",
   "metadata": {
    "id": "bbf8e245"
   },
   "outputs": [],
   "source": [
    "# Write your code here\n",
    "if rating >= 4.0:\n",
    "    is_high_rating = rating"
   ]
  },
  {
   "cell_type": "markdown",
   "id": "410c6db4",
   "metadata": {
    "id": "410c6db4"
   },
   "source": [
    "**Tugas 4:**  \n",
    "Gunakan `students_count` dan periksa apakah nilainya setelah dikalikan dua lebih kecil dari `5000`.  \n",
    "Simpan hasilnya dalam variabel bernama `is_small_course`."
   ]
  },
  {
   "cell_type": "code",
   "execution_count": 6,
   "id": "5f58f48e",
   "metadata": {
    "id": "5f58f48e"
   },
   "outputs": [
    {
     "data": {
      "text/plain": [
       "4"
      ]
     },
     "execution_count": 6,
     "metadata": {},
     "output_type": "execute_result"
    }
   ],
   "source": [
    "# Write your code here\n",
    "students_count *= 2\n",
    "if students_count <= 5000:\n",
    "    is_small_course = students_count\n",
    "\n",
    "is_small_course"
   ]
  },
  {
   "cell_type": "markdown",
   "id": "304685e8",
   "metadata": {
    "id": "304685e8"
   },
   "source": [
    "**Tugas 5:**  \n",
    "Diberikan:\n",
    "\n",
    "```python\n",
    "a = 5\n",
    "b = 10\n",
    "```\n",
    "\n",
    "Tukar nilai dari `a` dan `b`."
   ]
  },
  {
   "cell_type": "code",
   "execution_count": 9,
   "id": "6ba6b92b",
   "metadata": {
    "id": "6ba6b92b"
   },
   "outputs": [
    {
     "name": "stdout",
     "output_type": "stream",
     "text": [
      "10 5\n"
     ]
    }
   ],
   "source": [
    "# Write your code here\n",
    "a = 5\n",
    "b = 10\n",
    "\n",
    "c = a\n",
    "a = b\n",
    "b = c\n",
    "\n",
    "print(a, b)"
   ]
  },
  {
   "cell_type": "markdown",
   "id": "bf284dc0",
   "metadata": {
    "id": "bf284dc0"
   },
   "source": [
    "## Strings"
   ]
  },
  {
   "cell_type": "markdown",
   "id": "c5767d9b",
   "metadata": {
    "id": "c5767d9b"
   },
   "source": [
    "**Tugas 1:**  \n",
    "Buat string bernama `quote` yang berisi teks:  \n",
    "`Ali said \"Python is fun\"`  \n",
    "Pastikan kamu menggunakan escape sequence yang benar."
   ]
  },
  {
   "cell_type": "code",
   "execution_count": 11,
   "id": "b6c17152",
   "metadata": {
    "id": "b6c17152"
   },
   "outputs": [
    {
     "name": "stdout",
     "output_type": "stream",
     "text": [
      "Ali said \"Python is fun\"\n"
     ]
    }
   ],
   "source": [
    "# Write your code here\n",
    "quote = '\"Python is fun\"'\n",
    "\n",
    "print(f\"Ali said {quote}\")"
   ]
  },
  {
   "cell_type": "markdown",
   "id": "bd8c3a90",
   "metadata": {
    "id": "bd8c3a90"
   },
   "source": [
    "**Tugas 2:**  \n",
    "Diberikan string berikut:\n",
    "\n",
    "```python\n",
    "course = \"Python Programming\"\n",
    "```\n",
    "\n",
    "Gunakan slicing untuk mengekstrak:\n",
    "- `\"Python\"` dan simpan ke dalam variabel `language`\n",
    "- `\"Programming\"` dan simpan ke dalam variabel `subject`"
   ]
  },
  {
   "cell_type": "code",
   "execution_count": 28,
   "id": "2ea49581",
   "metadata": {
    "id": "2ea49581"
   },
   "outputs": [
    {
     "name": "stdout",
     "output_type": "stream",
     "text": [
      "language: Python, subject: Programming\n"
     ]
    }
   ],
   "source": [
    "# Write your code here\n",
    "course = \"Python Programming\"\n",
    "\n",
    "language = course[slice(6)]\n",
    "subject = course[slice(7,18)]\n",
    "print(f\"language: {language}, subject: {subject}\")"
   ]
  },
  {
   "cell_type": "markdown",
   "id": "77d04899",
   "metadata": {
    "id": "77d04899"
   },
   "source": [
    "**Tugas 3:**  \n",
    "Diberikan `name = \"  ali fazli  \"`, gunakan method string untuk:\n",
    "- Menghapus spasi berlebih di awal dan akhir  \n",
    "- Membuat huruf pertama setiap kata menjadi kapital  \n",
    "- Simpan hasil akhirnya ke dalam variabel `clean_name`"
   ]
  },
  {
   "cell_type": "code",
   "execution_count": 88,
   "id": "890cc8f2",
   "metadata": {
    "id": "890cc8f2"
   },
   "outputs": [
    {
     "data": {
      "text/plain": [
       "'Ali Fazli'"
      ]
     },
     "execution_count": 88,
     "metadata": {},
     "output_type": "execute_result"
    }
   ],
   "source": [
    "# Write your code here\n",
    "name = \"  ali fazli  \"\n",
    "\n",
    "clean_name = name.strip()\n",
    "clean_name = clean_name.title()\n",
    "clean_name"
   ]
  },
  {
   "cell_type": "markdown",
   "id": "71eda61f",
   "metadata": {
    "id": "71eda61f"
   },
   "source": [
    "**Tugas 4:**  \n",
    "Diberikan `sentence = \"I love Java. Java is cool.\"`, lakukan hal berikut:\n",
    "- Temukan indeks kemunculan pertama dari `\"Java\"`  \n",
    "- Ganti semua `\"Java\"` dengan `\"Python\"`"
   ]
  },
  {
   "cell_type": "code",
   "execution_count": 90,
   "id": "e2f1a8c1",
   "metadata": {
    "id": "e2f1a8c1"
   },
   "outputs": [
    {
     "data": {
      "text/plain": [
       "'I love Python. Python is cool.'"
      ]
     },
     "execution_count": 90,
     "metadata": {},
     "output_type": "execute_result"
    }
   ],
   "source": [
    "# Write your code here\n",
    "sentence = \"I love Java. Java is cool.\"\n",
    "\n",
    "sentence.index(\"Java\")\n",
    "sentence.replace(\"Java\", \"Python\")"
   ]
  },
  {
   "cell_type": "markdown",
   "id": "d263c3b1",
   "metadata": {
    "id": "d263c3b1"
   },
   "source": [
    "**Tugas 5:**  \n",
    "Diberikan:\n",
    "\n",
    "```python\n",
    "name = \"Ali\"\n",
    "age = 20\n",
    "```\n",
    "\n",
    "Buat formatted string yang menghasilkan:\n",
    "- `\"My name is Ali and I am 20 years old.\"`\n",
    "- Simpan hasilnya ke dalam variabel `message`"
   ]
  },
  {
   "cell_type": "code",
   "execution_count": 30,
   "id": "ff7531a3",
   "metadata": {
    "id": "ff7531a3"
   },
   "outputs": [
    {
     "data": {
      "text/plain": [
       "'My name is Ali and I am 20 years old.'"
      ]
     },
     "execution_count": 30,
     "metadata": {},
     "output_type": "execute_result"
    }
   ],
   "source": [
    "# Write your code here\n",
    "name = \"Ali\"\n",
    "age = 20\n",
    "\n",
    "message = f\"My name is {name} and I am {age} years old.\"\n",
    "message"
   ]
  },
  {
   "cell_type": "markdown",
   "id": "f4e5b443",
   "metadata": {
    "id": "f4e5b443"
   },
   "source": [
    "## Conditional Statements & Logical Operators"
   ]
  },
  {
   "cell_type": "markdown",
   "id": "73fb5ea9",
   "metadata": {
    "id": "73fb5ea9"
   },
   "source": [
    "**Tugas 1:**  \n",
    "Diberikan:\n",
    "\n",
    "```python\n",
    "temperature = 30\n",
    "```\n",
    "\n",
    "Tulislah pernyataan `if` yang mencetak `\"It's hot\"` jika nilai `temperature` lebih dari 25."
   ]
  },
  {
   "cell_type": "code",
   "execution_count": 31,
   "id": "e321f1cf",
   "metadata": {
    "id": "e321f1cf"
   },
   "outputs": [
    {
     "name": "stdout",
     "output_type": "stream",
     "text": [
      "It's hot\n"
     ]
    }
   ],
   "source": [
    "# Write your code here\n",
    "temperature = 30\n",
    "\n",
    "if temperature > 25:\n",
    "    print(\"It's hot\")"
   ]
  },
  {
   "cell_type": "markdown",
   "id": "7f35a7dc",
   "metadata": {
    "id": "7f35a7dc"
   },
   "source": [
    "**Tugas 2:**  \n",
    "Minta pengguna memasukkan password menggunakan `input()`.  \n",
    "Jika password-nya adalah `\"admin\"`, cetak `\"Access granted\"`; jika tidak, cetak `\"Access denied\"`."
   ]
  },
  {
   "cell_type": "code",
   "execution_count": 34,
   "id": "c62ce186",
   "metadata": {
    "id": "c62ce186"
   },
   "outputs": [
    {
     "name": "stdin",
     "output_type": "stream",
     "text": [
      " admin\n"
     ]
    },
    {
     "name": "stdout",
     "output_type": "stream",
     "text": [
      "Access granted\n"
     ]
    }
   ],
   "source": [
    "# Write your code here\n",
    "password = input()\n",
    "\n",
    "if password == \"admin\":\n",
    "    print(\"Access granted\")\n",
    "else:\n",
    "    print(\"Access denied\")"
   ]
  },
  {
   "cell_type": "markdown",
   "id": "4f25c199",
   "metadata": {
    "id": "4f25c199"
   },
   "source": [
    "**Tugas 3:**  \n",
    "Diberikan sebuah variabel `age`, tulislah kondisi untuk:\n",
    "- Mencetak `\"Child\"` jika `age < 13`  \n",
    "- Mencetak `\"Teen\"` jika `13 <= age < 18`  \n",
    "- Mencetak `\"Adult\"` jika tidak memenuhi kedua kondisi di atas"
   ]
  },
  {
   "cell_type": "code",
   "execution_count": 91,
   "id": "31de3aad",
   "metadata": {
    "id": "31de3aad"
   },
   "outputs": [
    {
     "name": "stdout",
     "output_type": "stream",
     "text": [
      "Adult\n"
     ]
    }
   ],
   "source": [
    "# Write your code here\n",
    "age = 20\n",
    "\n",
    "if age < 13:\n",
    "    print(\"Child\")\n",
    "elif 13 <= age < 18:\n",
    "    print(\"Teen\")\n",
    "else:\n",
    "    print(\"Adult\")"
   ]
  },
  {
   "cell_type": "markdown",
   "id": "29bead83",
   "metadata": {
    "id": "29bead83"
   },
   "source": [
    "**Tugas 4:**  \n",
    "Diberikan:\n",
    "\n",
    "```python\n",
    "score = 85\n",
    "is_submitted = True\n",
    "```\n",
    "\n",
    "Cetak `\"Passed\"` hanya jika nilai `score` minimal 70 dan tugas sudah dikumpulkan (`is_submitted == True`).\n",
    "Jika tidak, cetak `\"Failed\"`."
   ]
  },
  {
   "cell_type": "code",
   "execution_count": 36,
   "id": "76a58c43",
   "metadata": {
    "id": "76a58c43"
   },
   "outputs": [
    {
     "name": "stdout",
     "output_type": "stream",
     "text": [
      "Passed\n"
     ]
    }
   ],
   "source": [
    "# Write your code here\n",
    "score = 85\n",
    "is_submitted = True\n",
    "\n",
    "if score >= 70 and is_submitted == True:\n",
    "    print(\"Passed\")\n",
    "else:\n",
    "    print(\"Failed\")"
   ]
  },
  {
   "cell_type": "markdown",
   "id": "6dc235e2",
   "metadata": {
    "id": "6dc235e2"
   },
   "source": [
    "**Tugas 5:**  \n",
    "Diberikan:\n",
    "\n",
    "```python\n",
    "logged_in = False\n",
    "is_admin = True\n",
    "```\n",
    "\n",
    "- Cetak `\"Access denied\"` jika belum login dan bukan admin.\n",
    "- Jika tidak, cetak `\"Access granted\"`."
   ]
  },
  {
   "cell_type": "code",
   "execution_count": 94,
   "id": "a8457b18",
   "metadata": {
    "id": "a8457b18"
   },
   "outputs": [
    {
     "name": "stdout",
     "output_type": "stream",
     "text": [
      "Access granted\n"
     ]
    }
   ],
   "source": [
    "# Write your code here\n",
    "logged_in = False\n",
    "is_admin = True\n",
    "\n",
    "if logged_in == False and is_admin == False:\n",
    "    print(\"Access denied\")\n",
    "else:\n",
    "    print(\"Access granted\")"
   ]
  },
  {
   "cell_type": "markdown",
   "id": "cc9b3657",
   "metadata": {
    "id": "cc9b3657"
   },
   "source": [
    "## For Loops"
   ]
  },
  {
   "cell_type": "markdown",
   "id": "bc2e4e26",
   "metadata": {
    "id": "bc2e4e26"
   },
   "source": [
    "**Tugas 1:**  \n",
    "Gunakan `for` loop dan `range()` untuk mencetak angka dari 1 sampai 5."
   ]
  },
  {
   "cell_type": "code",
   "execution_count": 39,
   "id": "b2b0f680",
   "metadata": {
    "id": "b2b0f680"
   },
   "outputs": [
    {
     "name": "stdout",
     "output_type": "stream",
     "text": [
      "1\n",
      "2\n",
      "3\n",
      "4\n",
      "5\n"
     ]
    }
   ],
   "source": [
    "# Write your code here\n",
    "for i in range(5):\n",
    "    print(i+1)"
   ]
  },
  {
   "cell_type": "markdown",
   "id": "829fb550",
   "metadata": {
    "id": "829fb550"
   },
   "source": [
    "**Tugas 2:**  \n",
    "Diberikan:\n",
    "\n",
    "```python\n",
    "fruits = [\"apple\", \"banana\", \"cherry\"]\n",
    "```\n",
    "\n",
    "Gunakan `for` loop untuk mencetak setiap buah dalam huruf kapital (uppercase)."
   ]
  },
  {
   "cell_type": "code",
   "execution_count": 45,
   "id": "228abcf9",
   "metadata": {
    "id": "228abcf9"
   },
   "outputs": [
    {
     "name": "stdout",
     "output_type": "stream",
     "text": [
      "APPLE\n",
      "BANANA\n",
      "CHERRY\n"
     ]
    }
   ],
   "source": [
    "# Write your code here\n",
    "fruits = [\"apple\", \"banana\", \"cherry\"]\n",
    "\n",
    "for i in fruits:\n",
    "    print(i.upper())"
   ]
  },
  {
   "cell_type": "markdown",
   "id": "5a616342",
   "metadata": {
    "id": "5a616342"
   },
   "source": [
    "**Tugas 3:**  \n",
    "Buat list baru bernama `cubes` yang berisi hasil pangkat tiga (^3) dari angka 0 sampai 4 menggunakan **list comprehension satu baris**."
   ]
  },
  {
   "cell_type": "code",
   "execution_count": 96,
   "id": "c1ad9c56",
   "metadata": {
    "id": "c1ad9c56"
   },
   "outputs": [
    {
     "data": {
      "text/plain": [
       "[0, 1, 8, 27, 64]"
      ]
     },
     "execution_count": 96,
     "metadata": {},
     "output_type": "execute_result"
    }
   ],
   "source": [
    "# Write your code here\n",
    "numbers = [0, 1, 2 ,3 ,4]\n",
    "\n",
    "cube = [x**3 for x in numbers]\n",
    "cube"
   ]
  },
  {
   "cell_type": "markdown",
   "id": "1d586491",
   "metadata": {
    "id": "1d586491"
   },
   "source": [
    "**Tugas 4:**  \n",
    "Buat list bernama `odds` yang hanya menyimpan **bilangan ganjil** dari 0 hingga 10 menggunakan list comprehension."
   ]
  },
  {
   "cell_type": "code",
   "execution_count": 101,
   "id": "2003002d",
   "metadata": {
    "id": "2003002d"
   },
   "outputs": [
    {
     "data": {
      "text/plain": [
       "[1, 3, 5, 7, 9]"
      ]
     },
     "execution_count": 101,
     "metadata": {},
     "output_type": "execute_result"
    }
   ],
   "source": [
    "# Write your code here\n",
    "numbers = [0, 1, 2, 3, 4, 5, 6, 7, 8, 9, 10]\n",
    "\n",
    "odds = [x for x in numbers if x % 2 == 1]\n",
    "odds"
   ]
  },
  {
   "cell_type": "markdown",
   "id": "033a7b69",
   "metadata": {
    "id": "033a7b69"
   },
   "source": [
    "**Tugas 5:**  \n",
    "Diberikan sebuah matriks:\n",
    "\n",
    "```python\n",
    "matrix = [\n",
    "    [1, 2, 3],\n",
    "    [4, 5, 6]\n",
    "]\n",
    "```\n",
    "\n",
    "Gunakan `for` **loop bersarang** (nested loop) untuk mencetak setiap elemen dalam matriks satu per satu."
   ]
  },
  {
   "cell_type": "code",
   "execution_count": 107,
   "id": "bb8b1dcb",
   "metadata": {
    "id": "bb8b1dcb"
   },
   "outputs": [
    {
     "data": {
      "text/plain": [
       "[[0, 1, 2], [4, 5, 6]]"
      ]
     },
     "execution_count": 107,
     "metadata": {},
     "output_type": "execute_result"
    }
   ],
   "source": [
    "# Write your code here\n",
    "matriks = [[ x for x in range(3)],[ x for x in range (4,7)]]\n",
    "matriks"
   ]
  },
  {
   "cell_type": "markdown",
   "id": "200add97",
   "metadata": {
    "id": "200add97"
   },
   "source": [
    "## While Loops"
   ]
  },
  {
   "cell_type": "markdown",
   "id": "cc76988c",
   "metadata": {
    "id": "cc76988c"
   },
   "source": [
    "**Tugas 1:**  \n",
    "Cetak angka dari 1 sampai 5 menggunakan `while` loop."
   ]
  },
  {
   "cell_type": "code",
   "execution_count": 47,
   "id": "06ec6646",
   "metadata": {
    "id": "06ec6646"
   },
   "outputs": [
    {
     "name": "stdout",
     "output_type": "stream",
     "text": [
      "1\n",
      "2\n",
      "3\n",
      "4\n",
      "5\n"
     ]
    }
   ],
   "source": [
    "# Write your code here\n",
    "i = 1\n",
    "while i <= 5:\n",
    "    print(i)\n",
    "    i += 1"
   ]
  },
  {
   "cell_type": "markdown",
   "id": "69a6f38e",
   "metadata": {
    "id": "69a6f38e"
   },
   "source": [
    "**Tugas 2:**  \n",
    "Minta pengguna memasukkan sebuah angka dan cetak hasil kuadrat dari angka tersebut.  \n",
    "Terus minta input **hingga pengguna memasukkan angka yang lebih besar atau sama dengan 10**.\n",
    "\n",
    "Hint: gunakan `int(input())`"
   ]
  },
  {
   "cell_type": "code",
   "execution_count": null,
   "id": "e0af9749",
   "metadata": {
    "id": "e0af9749"
   },
   "outputs": [],
   "source": [
    "# Write your code here\n",
    "\"\"\"\n",
    "angka = int(input())\n",
    "\n",
    "while angka <= 10:\n",
    "    print(angka**2)\n",
    "\"\"\""
   ]
  },
  {
   "cell_type": "markdown",
   "id": "e030bcb4",
   "metadata": {
    "id": "e030bcb4"
   },
   "source": [
    "**Tugas 3:**  \n",
    "Gunakan `while True` loop untuk terus meminta pengguna memasukkan teks dan cetak teks tersebut.  \n",
    "Jika pengguna mengetik `\"quit\"`, keluar dari loop tanpa mencetak `\"quit\"` menggunakan `break`."
   ]
  },
  {
   "cell_type": "code",
   "execution_count": null,
   "id": "69928ec7",
   "metadata": {
    "id": "69928ec7"
   },
   "outputs": [],
   "source": [
    "# Write your code here\n"
   ]
  },
  {
   "cell_type": "markdown",
   "id": "fdb54a19",
   "metadata": {
    "id": "fdb54a19"
   },
   "source": [
    "**Tugas 4:**  \n",
    "Gunakan `while` loop untuk mencetak hanya **bilangan ganjil** antara 1 sampai 10.  \n",
    "\n",
    "Gunakan `continue` untuk melewati bilangan genap."
   ]
  },
  {
   "cell_type": "code",
   "execution_count": null,
   "id": "4d956ebb",
   "metadata": {
    "id": "4d956ebb"
   },
   "outputs": [],
   "source": [
    "# Write your code here\n",
    "angka = 1\n",
    "\n",
    "while angka <= 10:\n",
    "    angka % 2 == 0\n",
    "    continue\n",
    "    print(angka)\n",
    "    angka += 1"
   ]
  },
  {
   "cell_type": "markdown",
   "id": "0d512606",
   "metadata": {
    "id": "0d512606"
   },
   "source": [
    "**Tugas 5:**  \n",
    "Mulailah dengan:\n",
    "\n",
    "```python\n",
    "attempts = 0\n",
    "```\n",
    "\n",
    "Terus minta pengguna untuk memasukkan password (gunakan `input()`), dan berhenti hanya jika:\n",
    "- Pengguna memasukkan password yang benar `\"python123\"`, atau\n",
    "- Sudah mencoba sebanyak 3 kali (`attempts >= 3`)\n",
    "\n",
    "Cetak `\"Access granted\"` jika password benar, atau `\"Access denied\"` jika melebihi batas percobaan."
   ]
  },
  {
   "cell_type": "code",
   "execution_count": null,
   "id": "c21f7ab7",
   "metadata": {
    "id": "c21f7ab7"
   },
   "outputs": [],
   "source": [
    "# Write your code here\n"
   ]
  },
  {
   "cell_type": "markdown",
   "id": "0dfaa89c",
   "metadata": {
    "id": "0dfaa89c"
   },
   "source": [
    "## Lists and Tuples"
   ]
  },
  {
   "cell_type": "markdown",
   "id": "7f8db66c",
   "metadata": {
    "id": "7f8db66c"
   },
   "source": [
    "**Tugas 1:**  \n",
    "Diberikan list:\n",
    "\n",
    "```python\n",
    "numbers = [10, 20, 30, 40, 50]\n",
    "```\n",
    "\n",
    "- Gunakan slicing dan simpan 3 elemen pertama ke dalam `first_three`\n",
    "- Gunakan slicing dan simpan 2 elemen terakhir ke dalam `last_two`"
   ]
  },
  {
   "cell_type": "code",
   "execution_count": 52,
   "id": "68a21dfc",
   "metadata": {
    "id": "68a21dfc"
   },
   "outputs": [
    {
     "name": "stdout",
     "output_type": "stream",
     "text": [
      "first_three: [10, 20, 30], last_two: [40, 50]\n"
     ]
    }
   ],
   "source": [
    "# Write your code here\n",
    "numbers = [10, 20, 30, 40, 50]\n",
    "\n",
    "first_three = numbers[0:3]\n",
    "last_two = numbers[-2:]\n",
    "print(f\"first_three: {first_three}, last_two: {last_two}\")"
   ]
  },
  {
   "cell_type": "markdown",
   "id": "55bd0324",
   "metadata": {
    "id": "55bd0324"
   },
   "source": [
    "**Tugas 2:**  \n",
    "Diberikan:\n",
    "\n",
    "```python\n",
    "fruits = [\"apple\", \"banana\", \"cherry\"]\n",
    "```\n",
    "\n",
    "- Tambahkan `\"orange\"` ke akhir list\n",
    "- Sisipkan `\"kiwi\"` di awal list\n",
    "- Hapus `\"banana\"` dari list"
   ]
  },
  {
   "cell_type": "code",
   "execution_count": 55,
   "id": "74d18ff4",
   "metadata": {
    "id": "74d18ff4"
   },
   "outputs": [
    {
     "data": {
      "text/plain": [
       "['kiwi', 'apple', 'cherry', 'orange']"
      ]
     },
     "execution_count": 55,
     "metadata": {},
     "output_type": "execute_result"
    }
   ],
   "source": [
    "# Write your code here\n",
    "fruits = [\"apple\", \"banana\", \"cherry\"]\n",
    "\n",
    "fruits.append(\"orange\")\n",
    "fruits.insert(0, \"kiwi\")\n",
    "fruits.remove(\"banana\")\n",
    "\n",
    "fruits"
   ]
  },
  {
   "cell_type": "markdown",
   "id": "0bbc366d",
   "metadata": {
    "id": "0bbc366d"
   },
   "source": [
    "**Tugas 3:**  \n",
    "Diberikan:\n",
    "\n",
    "```python\n",
    "a = [1, 2, 3]\n",
    "```\n",
    "\n",
    "- Buat salinan list dan simpan sebagai `a_copy`\n",
    "- Buat view (referensi) dari list dan simpan sebagai `a_view`\n",
    "- Ubah nilai `a_view[0] = 99`\n",
    "- Cetak `a`, `a_view`, dan `a_copy` untuk melihat perbedaannya"
   ]
  },
  {
   "cell_type": "code",
   "execution_count": 56,
   "id": "9e27a836",
   "metadata": {
    "id": "9e27a836"
   },
   "outputs": [
    {
     "name": "stdout",
     "output_type": "stream",
     "text": [
      "a = [99, 2, 3], a_view = [99, 2, 3], a_copy = [1, 2, 3]\n"
     ]
    }
   ],
   "source": [
    "# Write your code here\n",
    "a = [1,2,3]\n",
    "\n",
    "a_copy = a.copy()\n",
    "\n",
    "a_view = a\n",
    "a_view[0] = 99\n",
    "\n",
    "print(f\"a = {a}, a_view = {a_view}, a_copy = {a_copy}\")"
   ]
  },
  {
   "cell_type": "markdown",
   "id": "9b66ca46",
   "metadata": {
    "id": "9b66ca46"
   },
   "source": [
    "**Tugas 4:**  \n",
    "Diberikan:\n",
    "\n",
    "```python\n",
    "coords = (10, 20, 30)\n",
    "```\n",
    "\n",
    "Unpack tuple tersebut ke dalam tiga variabel: `x`, `y`, dan `z`."
   ]
  },
  {
   "cell_type": "code",
   "execution_count": null,
   "id": "aab7dcb8",
   "metadata": {
    "id": "aab7dcb8"
   },
   "outputs": [],
   "source": [
    "# Write your code here\n",
    "coords = (10, 20, 30)\n",
    "\n",
    "x = coords[0]\n",
    "y = coords[1]\n",
    "z = coords[2]"
   ]
  },
  {
   "cell_type": "markdown",
   "id": "fd8ec97b",
   "metadata": {
    "id": "fd8ec97b"
   },
   "source": [
    "**Tugas 5:**  \n",
    "Diberikan:\n",
    "\n",
    "```python\n",
    "point = (3, 4)\n",
    "```\n",
    "\n",
    "Unpack tuple tersebut, lalu hitung jarak Euclidean dari titik asal menggunakan rumus:\n",
    "\n",
    "`distance = (x**2 + y**2)**0.5`"
   ]
  },
  {
   "cell_type": "code",
   "execution_count": null,
   "id": "d24ed850",
   "metadata": {
    "id": "d24ed850"
   },
   "outputs": [],
   "source": [
    "# Write your code here\n",
    "point = (3, 4)\n",
    "\n",
    "x = point[0]\n",
    "y = point[1]\n",
    "\n",
    "distance = (x**2 + y**2)**0.5\n",
    "distance"
   ]
  },
  {
   "cell_type": "markdown",
   "id": "63468700",
   "metadata": {
    "id": "63468700"
   },
   "source": [
    "**Tugas 6:**  \n",
    "Diberikan:\n",
    "\n",
    "```python\n",
    "nums = (4, 1, 3, 2)\n",
    "```\n",
    "\n",
    "- Ubah `nums` menjadi list agar dapat dimodifikasi\n",
    "- Urutkan list dalam urutan menaik\n",
    "- Balik urutan list tersebut\n",
    "- Hapus elemen terakhir menggunakan `pop()`\n",
    "- Kosongkan seluruh isi list"
   ]
  },
  {
   "cell_type": "code",
   "execution_count": 71,
   "id": "c25a8fbe",
   "metadata": {
    "id": "c25a8fbe"
   },
   "outputs": [
    {
     "data": {
      "text/plain": [
       "[4, 3, 2]"
      ]
     },
     "execution_count": 71,
     "metadata": {},
     "output_type": "execute_result"
    }
   ],
   "source": [
    "# Write your code here\n",
    "nums = (4, 1, 3, 2)\n",
    "\n",
    "l_nums = list(nums)\n",
    "l_nums.sort()\n",
    "l_nums.reverse()\n",
    "l_nums.pop()\n",
    "l_nums"
   ]
  },
  {
   "cell_type": "markdown",
   "id": "089e3c75",
   "metadata": {
    "id": "089e3c75"
   },
   "source": [
    "**Tugas 7:**  \n",
    "Diberikan:\n",
    "\n",
    "```python\n",
    "data = [1, 2, 3, 4, 5]\n",
    "```\n",
    "\n",
    "Gunakan extended unpacking untuk:\n",
    "- Menyimpan elemen pertama ke dalam `head`\n",
    "- Menyimpan sisa elemen ke dalam `tail`"
   ]
  },
  {
   "cell_type": "code",
   "execution_count": null,
   "id": "4d17deff",
   "metadata": {
    "id": "4d17deff"
   },
   "outputs": [],
   "source": [
    "# Write your code here\n",
    "data = [1, 2, 3, 4, 5]\n",
    "\n",
    "head = data[0]\n",
    "tail = data[1:]"
   ]
  },
  {
   "cell_type": "markdown",
   "id": "47eb70a9",
   "metadata": {
    "id": "47eb70a9"
   },
   "source": [
    "## Dictionaries"
   ]
  },
  {
   "cell_type": "markdown",
   "id": "f25541cc",
   "metadata": {
    "id": "f25541cc"
   },
   "source": [
    "**Tugas 1:**  \n",
    "Diberikan:\n",
    "\n",
    "```python\n",
    "student = {\"name\": \"Ali\", \"age\": 20}\n",
    "```\n",
    "\n",
    "- Cetak nilai dari `\"name\"` menggunakan `student[\"name\"]` dan `student.get(\"name\")`\n",
    "- Coba ambil nilai dari `\"email\"` menggunakan `.get()` tanpa menimbulkan error"
   ]
  },
  {
   "cell_type": "code",
   "execution_count": null,
   "id": "745af91b",
   "metadata": {
    "id": "745af91b"
   },
   "outputs": [],
   "source": [
    "# Write your code here\n",
    "print(student[\"name\"])\n",
    "print(student.get(\"name\"))\n",
    "print(student.get(\"email\"))"
   ]
  },
  {
   "cell_type": "markdown",
   "id": "097937b9",
   "metadata": {
    "id": "097937b9"
   },
   "source": [
    "**Tugas 2:**  \n",
    "Gunakan `.get()` untuk mengambil nilai `\"email\"` dari dictionary `student`.  \n",
    "Jika key tersebut tidak ada, kembalikan nilai `\"Not provided\"` sebagai default."
   ]
  },
  {
   "cell_type": "code",
   "execution_count": null,
   "id": "598a6529",
   "metadata": {
    "id": "598a6529"
   },
   "outputs": [],
   "source": [
    "# Write your code here\n",
    "print(student.get(\"email\", \"Not provided\")"
   ]
  },
  {
   "cell_type": "markdown",
   "id": "847bd552",
   "metadata": {
    "id": "847bd552"
   },
   "source": [
    "**Tugas 3:**  \n",
    "- Ubah umur siswa menjadi 21  \n",
    "- Tambahkan key baru `\"grade\"` dengan nilai `\"A\"`"
   ]
  },
  {
   "cell_type": "code",
   "execution_count": null,
   "id": "5b6e3e93",
   "metadata": {
    "id": "5b6e3e93"
   },
   "outputs": [],
   "source": [
    "# Write your code here\n",
    "student[\"age\"] = 21\n",
    "student[\"grade\"] = \"A\""
   ]
  },
  {
   "cell_type": "markdown",
   "id": "5f246369",
   "metadata": {
    "id": "5f246369"
   },
   "source": [
    "**Tugas 4:**  \n",
    "Cetak semua hal berikut:\n",
    "- Hanya key  \n",
    "- Hanya value  \n",
    "- Key dan value sebagai pasangan (tuple)"
   ]
  },
  {
   "cell_type": "code",
   "execution_count": null,
   "id": "ddd026b0",
   "metadata": {
    "id": "ddd026b0"
   },
   "outputs": [],
   "source": [
    "# Write your code here\n",
    "student.key()\n",
    "student.value()"
   ]
  },
  {
   "cell_type": "markdown",
   "id": "652ce7fd",
   "metadata": {
    "id": "652ce7fd"
   },
   "source": [
    "**Tugas 5:**  \n",
    "Lakukan loop pada dictionary `student` dan cetak setiap key beserta nilai pasangannya dengan format:  \n",
    "`key: value`"
   ]
  },
  {
   "cell_type": "code",
   "execution_count": null,
   "id": "2a80141f",
   "metadata": {
    "id": "2a80141f"
   },
   "outputs": [],
   "source": [
    "# Write your code here\n"
   ]
  },
  {
   "cell_type": "markdown",
   "id": "1bb018fd",
   "metadata": {
    "id": "1bb018fd"
   },
   "source": [
    "## Sets"
   ]
  },
  {
   "cell_type": "markdown",
   "id": "3c43aebb",
   "metadata": {
    "id": "3c43aebb"
   },
   "source": [
    "**Tugas 1:**  \n",
    "Buat sebuah set bernama `nums` dengan nilai `[3, 3, 4, 2, 2, 2, 1]`.  \n",
    "Cetak isi set tersebut.  \n",
    "\n",
    "Apa yang kamu perhatikan dari hasilnya?"
   ]
  },
  {
   "cell_type": "code",
   "execution_count": 73,
   "id": "6caeee50",
   "metadata": {
    "id": "6caeee50"
   },
   "outputs": [
    {
     "data": {
      "text/plain": [
       "{1, 2, 3, 4}"
      ]
     },
     "execution_count": 73,
     "metadata": {},
     "output_type": "execute_result"
    }
   ],
   "source": [
    "# Write your code here\n",
    "nums = [3, 3, 4, 2, 2, 2, 1]\n",
    "nums = set(nums)\n",
    "\n",
    "nums"
   ]
  },
  {
   "cell_type": "markdown",
   "id": "dd776a18",
   "metadata": {
    "id": "dd776a18"
   },
   "source": [
    "**Tugas 2:**  \n",
    "Buat sebuah set kosong bernama `my_set` (bukan dictionary).  \n",
    "Lalu tambahkan `\"apple\"` dan `\"banana\"` ke dalamnya."
   ]
  },
  {
   "cell_type": "code",
   "execution_count": null,
   "id": "05a79184",
   "metadata": {
    "id": "05a79184"
   },
   "outputs": [],
   "source": [
    "# Write your code here\n"
   ]
  },
  {
   "cell_type": "markdown",
   "id": "f1ce93b4",
   "metadata": {
    "id": "f1ce93b4"
   },
   "source": [
    "**Tugas 3:**  \n",
    "Diberikan:\n",
    "\n",
    "```python\n",
    "a = {1, 2, 3}\n",
    "b = {3, 4, 5}\n",
    "```\n",
    "\n",
    "- Buat set baru `union_set` yang merupakan gabungan dari keduanya\n",
    "- Buat set baru `intersect_set` yang hanya berisi elemen yang sama dari keduanya"
   ]
  },
  {
   "cell_type": "code",
   "execution_count": 75,
   "id": "27442896",
   "metadata": {
    "id": "27442896"
   },
   "outputs": [
    {
     "name": "stdout",
     "output_type": "stream",
     "text": [
      "{1, 2, 3, 4, 5}\n",
      "{3}\n"
     ]
    }
   ],
   "source": [
    "# Write your code here\n",
    "a = {1, 2, 3}\n",
    "b = {3, 4, 5}\n",
    "\n",
    "print(a | b)\n",
    "print(a & b)"
   ]
  },
  {
   "cell_type": "markdown",
   "id": "e505cd68",
   "metadata": {
    "id": "e505cd68"
   },
   "source": [
    "**Tugas 4:**  \n",
    "Menggunakan set `a` dan `b` yang sama:\n",
    "\n",
    "- Buat `diff_set` yang berisi nilai-nilai yang ada di `a` tapi tidak di `b`  \n",
    "- Buat `sym_diff_set` yang berisi nilai-nilai yang ada di `a` atau `b`, tapi tidak keduanya"
   ]
  },
  {
   "cell_type": "code",
   "execution_count": 81,
   "id": "75a8c6c3",
   "metadata": {
    "id": "75a8c6c3"
   },
   "outputs": [],
   "source": [
    "# Write your code here\n",
    "diff_set = a - b\n",
    "\n",
    "sym_diff_set = a ^ b"
   ]
  },
  {
   "cell_type": "markdown",
   "id": "fbca1672",
   "metadata": {
    "id": "fbca1672"
   },
   "source": [
    "**Tugas 5:**  \n",
    "Gunakan set comprehension untuk membuat sebuah set yang berisi semua bilangan genap dari 0 sampai 20."
   ]
  },
  {
   "cell_type": "code",
   "execution_count": null,
   "id": "030122b1",
   "metadata": {
    "id": "030122b1"
   },
   "outputs": [],
   "source": [
    "# Write your code here\n"
   ]
  },
  {
   "cell_type": "markdown",
   "id": "431ba7ad",
   "metadata": {
    "id": "431ba7ad"
   },
   "source": [
    "## Input dan Typecasting"
   ]
  },
  {
   "cell_type": "markdown",
   "id": "cdb5216b",
   "metadata": {
    "id": "cdb5216b"
   },
   "source": [
    "**Tugas 1:**  \n",
    "Minta pengguna untuk memasukkan nama mereka dan simpan dalam variabel `name`.  \n",
    "Cetak `Hello, <name>!`"
   ]
  },
  {
   "cell_type": "code",
   "execution_count": null,
   "id": "4c24786d",
   "metadata": {
    "id": "4c24786d"
   },
   "outputs": [],
   "source": [
    "# Write your code here"
   ]
  },
  {
   "cell_type": "markdown",
   "id": "13dd1d41",
   "metadata": {
    "id": "13dd1d41"
   },
   "source": [
    "**Tugas 2:**  \n",
    "Minta pengguna memasukkan umur mereka, lalu ubah menjadi `int`.  \n",
    "Jika umur ≥ 18, cetak `\"Dewasa\"`, jika tidak, cetak `\"Anak-anak\"`."
   ]
  },
  {
   "cell_type": "code",
   "execution_count": null,
   "id": "db11f805",
   "metadata": {
    "id": "db11f805"
   },
   "outputs": [],
   "source": [
    "# Write your code here\n"
   ]
  },
  {
   "cell_type": "markdown",
   "id": "6507349d",
   "metadata": {
    "id": "6507349d"
   },
   "source": [
    "**Tugas 3:**  \n",
    "Minta pengguna memasukkan dua angka desimal (`float`).  \n",
    "Jumlahkan kedua angka tersebut dan tampilkan hasilnya."
   ]
  },
  {
   "cell_type": "code",
   "execution_count": null,
   "id": "2ea3495e",
   "metadata": {
    "id": "2ea3495e"
   },
   "outputs": [],
   "source": [
    "# Write your code here\n"
   ]
  },
  {
   "cell_type": "markdown",
   "id": "86676c26",
   "metadata": {
    "id": "86676c26"
   },
   "source": [
    "**Tugas 4:**  \n",
    "Minta pengguna mengisi input. Jika pengguna tidak mengisi apa-apa, anggap input tersebut `False`.  \n",
    "Gunakan `bool()` untuk mengecek apakah input kosong atau tidak, lalu cetak hasilnya."
   ]
  },
  {
   "cell_type": "code",
   "execution_count": null,
   "id": "b906f86c",
   "metadata": {
    "id": "b906f86c"
   },
   "outputs": [],
   "source": [
    "# Write your code here\n"
   ]
  },
  {
   "cell_type": "markdown",
   "id": "743d051f",
   "metadata": {
    "id": "743d051f"
   },
   "source": [
    "**Tugas 5:**  \n",
    "Minta pengguna memasukkan kalimat.  \n",
    "Ubah input tersebut menjadi list dari karakter-karakter yang ada di dalamnya, lalu cetak hasilnya.\n",
    "\n",
    "Contoh:  \n",
    "Input: `halo`  \n",
    "Output: `['h', 'a', 'l', 'o']`\n"
   ]
  },
  {
   "cell_type": "code",
   "execution_count": null,
   "id": "d68d88fd",
   "metadata": {
    "id": "d68d88fd"
   },
   "outputs": [],
   "source": [
    "# Write your code here\n"
   ]
  },
  {
   "cell_type": "markdown",
   "id": "b67a75e2",
   "metadata": {
    "id": "b67a75e2"
   },
   "source": [
    "**Tugas 6:**  \n",
    "Minta pengguna memasukkan 5 angka (gunakan `input()` sebanyak 5 kali).  \n",
    "Setiap angka diubah ke `int`, dan disimpan dalam list `numbers`.\n",
    "\n",
    "Setelah semua angka dikumpulkan, cetak:\n",
    "- Rata-rata nilainya\n",
    "- Angka terbesar\n",
    "- Apakah semua angka > 0 (gunakan `all()`)\n"
   ]
  },
  {
   "cell_type": "code",
   "execution_count": null,
   "id": "d98fe74f",
   "metadata": {
    "id": "d98fe74f"
   },
   "outputs": [],
   "source": [
    "# Write your code here\n"
   ]
  },
  {
   "cell_type": "markdown",
   "id": "84fbe119",
   "metadata": {
    "id": "84fbe119"
   },
   "source": [
    "## Functions"
   ]
  },
  {
   "cell_type": "markdown",
   "id": "751ed2c7",
   "metadata": {
    "id": "751ed2c7"
   },
   "source": [
    "**Tugas 1:**  \n",
    "Buat fungsi `say_hello()` yang mencetak `\"Hello, world!\"`  \n",
    "Panggil fungsi tersebut."
   ]
  },
  {
   "cell_type": "code",
   "execution_count": 58,
   "id": "7c0f8b55",
   "metadata": {
    "id": "7c0f8b55"
   },
   "outputs": [
    {
     "name": "stdout",
     "output_type": "stream",
     "text": [
      "Hello, world!\n"
     ]
    }
   ],
   "source": [
    "# Write your code here\n",
    "def say_hello():\n",
    "    print(\"Hello, world!\")\n",
    "\n",
    "say_hello()"
   ]
  },
  {
   "cell_type": "markdown",
   "id": "de1cddbe",
   "metadata": {
    "id": "de1cddbe"
   },
   "source": [
    "**Tugas 2:**  \n",
    "Buat fungsi `cube(x)` yang mengembalikan kubik dari `x`.  \n",
    "Panggil dengan nilai `4` dan tampilkan hasilnya."
   ]
  },
  {
   "cell_type": "code",
   "execution_count": 59,
   "id": "2916695d",
   "metadata": {
    "id": "2916695d"
   },
   "outputs": [
    {
     "name": "stdout",
     "output_type": "stream",
     "text": [
      "64\n"
     ]
    }
   ],
   "source": [
    "# Write your code here\n",
    "def cube(x:int)-> int:\n",
    "    print(x * x * x)\n",
    "\n",
    "cube(4)"
   ]
  },
  {
   "cell_type": "markdown",
   "id": "bc72d626",
   "metadata": {
    "id": "bc72d626"
   },
   "source": [
    "**Tugas 3:**  \n",
    "Buat fungsi `greet(name=\"User\")` yang mencetak `\"Halo, <name>!\"`  \n",
    "Panggil fungsi:\n",
    "- Tanpa argumen\n",
    "- Dengan nama custom"
   ]
  },
  {
   "cell_type": "code",
   "execution_count": 61,
   "id": "769bb256",
   "metadata": {
    "id": "769bb256"
   },
   "outputs": [
    {
     "name": "stdout",
     "output_type": "stream",
     "text": [
      "Halo, User!\n",
      "Halo, Hanif!\n"
     ]
    }
   ],
   "source": [
    "# Write your code here\n",
    "def greet(name=\"User\"):\n",
    "    print(f\"Halo, {name}!\")\n",
    "\n",
    "greet()\n",
    "greet(\"Hanif\")"
   ]
  },
  {
   "cell_type": "markdown",
   "id": "d52eb2e6",
   "metadata": {
    "id": "d52eb2e6"
   },
   "source": [
    "**Tugas 4:**  \n",
    "Buat fungsi `check_number(num)` yang:\n",
    "- Mencetak `\"Positif\"` jika `num > 0`\n",
    "- Mencetak `\"Negatif\"` jika `num < 0`\n",
    "- Mencetak `\"Nol\"` jika `num == 0`"
   ]
  },
  {
   "cell_type": "code",
   "execution_count": 64,
   "id": "34e729f3",
   "metadata": {
    "id": "34e729f3"
   },
   "outputs": [
    {
     "name": "stdout",
     "output_type": "stream",
     "text": [
      "Nol\n",
      "Positif\n",
      "Negatif\n"
     ]
    }
   ],
   "source": [
    "# Write your code here\n",
    "def check_number(num):\n",
    "    if num > 0:\n",
    "        print(\"Positif\")\n",
    "    elif num < 0:\n",
    "        print(\"Negatif\")\n",
    "    else:\n",
    "        print(\"Nol\")\n",
    "\n",
    "check_number(0)\n",
    "check_number(4)\n",
    "check_number(-3)"
   ]
  },
  {
   "cell_type": "markdown",
   "id": "95c8c951",
   "metadata": {
    "id": "95c8c951"
   },
   "source": [
    "**Tugas 5:**  \n",
    "Buat lambda function `multiply` yang mengalikan dua angka.  \n",
    "Panggil fungsi tersebut dengan nilai `3` dan `4`, lalu cetak hasilnya."
   ]
  },
  {
   "cell_type": "code",
   "execution_count": null,
   "id": "e5b74a3e",
   "metadata": {
    "id": "e5b74a3e"
   },
   "outputs": [],
   "source": [
    "# Write your code here\n"
   ]
  },
  {
   "cell_type": "markdown",
   "id": "75c83d17",
   "metadata": {
    "id": "75c83d17"
   },
   "source": [
    "**Tugas 6:**  \n",
    "Buat fungsi `sum_all(*numbers)` yang menerima banyak angka dan mengembalikan jumlah totalnya.  \n",
    "Panggil dengan beberapa angka, misalnya `1, 2, 3, 4`."
   ]
  },
  {
   "cell_type": "code",
   "execution_count": null,
   "id": "2698de8d",
   "metadata": {
    "id": "2698de8d"
   },
   "outputs": [],
   "source": [
    "# Write your code here\n"
   ]
  },
  {
   "cell_type": "markdown",
   "id": "33dde44f",
   "metadata": {
    "id": "33dde44f"
   },
   "source": [
    "**Tugas 7:**  \n",
    "Buat fungsi `print_profile(**data)` yang mencetak setiap pasangan `key: value` dari data yang diberikan.  \n",
    "Contoh:\n",
    "\n",
    "```python\n",
    "print_profile(name=\"Ali\", age=19, major=\"Statistics\")\n",
    "```\n"
   ]
  },
  {
   "cell_type": "code",
   "execution_count": null,
   "id": "c079ed09",
   "metadata": {
    "id": "c079ed09"
   },
   "outputs": [],
   "source": [
    "# Write your code here\n"
   ]
  },
  {
   "cell_type": "markdown",
   "id": "b8dbfdaa",
   "metadata": {
    "id": "b8dbfdaa"
   },
   "source": [
    "## OOP"
   ]
  },
  {
   "cell_type": "markdown",
   "id": "d25073a8",
   "metadata": {
    "id": "d25073a8"
   },
   "source": [
    "**Tugas 1**:<br>\n",
    "Buat kelas bernama `Animal`.<br>\n",
    "Untuk saat ini, biarkan kelas tersebut kosong (gunakan `pass`).<br>\n",
    "Buat objek `hewan_1` dari kelas tersebut."
   ]
  },
  {
   "cell_type": "code",
   "execution_count": null,
   "id": "2e1ef7fb",
   "metadata": {
    "id": "2e1ef7fb"
   },
   "outputs": [],
   "source": [
    "# Write your code here\n"
   ]
  },
  {
   "cell_type": "markdown",
   "id": "17e4f927",
   "metadata": {
    "id": "17e4f927"
   },
   "source": [
    "**Tugas 2**:<br>\n",
    "Modifikasi kelas `Animal` agar menerima `name` dan `colour` sebagai parameter.  \n",
    "Simpan keduanya sebagai *intance attribute*.\n",
    "\n",
    "Tampilkan `nama dari hewan_1` dan `warna dari hewan_1`"
   ]
  },
  {
   "cell_type": "code",
   "execution_count": null,
   "id": "933b7c22",
   "metadata": {
    "id": "933b7c22"
   },
   "outputs": [],
   "source": [
    "# Write your code here\n"
   ]
  },
  {
   "cell_type": "markdown",
   "id": "c36477bb",
   "metadata": {
    "id": "c36477bb"
   },
   "source": [
    "**Tugas 3**:<br>\n",
    "Tambahkan method `greet()` ke dalam kelas `Animal` yang mencetak `(Silakan buat sekreatif mungkin)`.<br>\n",
    "Panggil `hewan_1.greet()`."
   ]
  },
  {
   "cell_type": "code",
   "execution_count": null,
   "id": "5401fd85",
   "metadata": {
    "id": "5401fd85"
   },
   "outputs": [],
   "source": [
    "# Write your code here\n"
   ]
  },
  {
   "cell_type": "markdown",
   "id": "df85262a",
   "metadata": {
    "id": "df85262a"
   },
   "source": [
    "**Tugas 4**:<br>\n",
    "Buat dua objek `hewan_1` dan `hewan_2` dari kelas `Animal`.<br>\n",
    "Berikan nama dan umur berbeda, dan panggil `greet()` untuk keduanya."
   ]
  },
  {
   "cell_type": "code",
   "execution_count": null,
   "id": "efecad5c",
   "metadata": {
    "id": "efecad5c"
   },
   "outputs": [],
   "source": [
    "# Write your code here\n"
   ]
  },
  {
   "cell_type": "markdown",
   "id": "356c78c8",
   "metadata": {
    "id": "356c78c8"
   },
   "source": [
    "**Tugas 5**:<br>\n",
    "Tambahkan variabel kelas `kingdom = \"Animalia\"` pada kelas `Animal`.<br>\n",
    "Tampilkan `hewan_1.kingdom`, `hewan_2.kingdom`, dan `Animal.kingdom`."
   ]
  },
  {
   "cell_type": "code",
   "execution_count": null,
   "id": "5ee33452",
   "metadata": {
    "id": "5ee33452"
   },
   "outputs": [],
   "source": [
    "# Write your code here\n"
   ]
  },
  {
   "cell_type": "markdown",
   "id": "d036421f",
   "metadata": {
    "id": "d036421f"
   },
   "source": [
    "**Tugas 6**:<br>\n",
    "Ubah `hewan_2.kingdom` menjadi `\"Fungi\"` secara langsung.<br>\n",
    "Perhatikan: Apakah itu mengubah nilai `kingdom` pada `hewan_2` atau `Animal`?"
   ]
  },
  {
   "cell_type": "code",
   "execution_count": null,
   "id": "c728c1fc",
   "metadata": {
    "id": "c728c1fc"
   },
   "outputs": [],
   "source": [
    "# Write your code here\n"
   ]
  },
  {
   "cell_type": "markdown",
   "id": "4dc0144e",
   "metadata": {
    "id": "4dc0144e"
   },
   "source": [
    "**Tugas 7**:<br>\n",
    "Tambahkan method `is_rare()` dalam kelas `Animal`<br>\n",
    "Return\n",
    "- `False` jika warnanya putih, hitam, atau abu-abu\n",
    "- `True` jika selainnya\n",
    "\n",
    "Uji dengan memanggil `hewan_1.is_rare()`."
   ]
  },
  {
   "cell_type": "code",
   "execution_count": null,
   "id": "7d2ead7f",
   "metadata": {
    "id": "7d2ead7f"
   },
   "outputs": [],
   "source": [
    "# Write your code here\n"
   ]
  },
  {
   "cell_type": "markdown",
   "id": "97963586",
   "metadata": {
    "id": "97963586"
   },
   "source": [
    "**Tugas 8:**  \n",
    "Buat kelas `Device` dengan atribut `brand`.  \n",
    "Buat dua kelas `Phone` dan `Laptop` yang mewarisi dari `Device`.  \n",
    "Tambahkan atribut `model` di `Phone` dan `Laptop`.  \n",
    "Cetak brand dan model dari masing-masing objek `Phone` dan `Laptop`."
   ]
  },
  {
   "cell_type": "code",
   "execution_count": null,
   "id": "5b107cf6",
   "metadata": {
    "id": "5b107cf6"
   },
   "outputs": [],
   "source": [
    "# Write your code here\n",
    "class Animal:\n",
    "    def __init__(self, name):\n",
    "        self.name = name\n",
    "\n",
    "    def speak(self):\n",
    "        print(f\"{self.name} makes a sound.\")\n",
    "\n",
    "class Dog(Animal):  # Dog inherits from Animal\n",
    "    def speak(self):\n",
    "        print(f\"{self.name} barks.\")"
   ]
  },
  {
   "cell_type": "markdown",
   "id": "0a561776",
   "metadata": {
    "id": "0a561776"
   },
   "source": [
    "**Tugas 9:**  \n",
    "Tambahkan method `info()` pada `Device` yang mencetak `\"Perangkat umum.\"`  \n",
    "Override method tersebut di `Phone` dan `Laptop`:\n",
    "- `Phone`: cetak `\"<brand> <model> adalah ponsel.\"`\n",
    "- `Laptop`: cetak `\"<brand> <model> adalah laptop.\"`"
   ]
  },
  {
   "cell_type": "code",
   "execution_count": null,
   "id": "9a1087ac",
   "metadata": {
    "id": "9a1087ac"
   },
   "outputs": [],
   "source": [
    "# Write your code here\n"
   ]
  },
  {
   "cell_type": "markdown",
   "id": "45c52bb0",
   "metadata": {
    "id": "45c52bb0"
   },
   "source": [
    "**Tugas 10:**  \n",
    "Tambahkan method `power_on()` di kelas `Device` yang mencetak `\"Menyalakan perangkat...\"`  \n",
    "\n",
    "Kemudian override method tersebut di `Phone` dan `Laptop`:\n",
    "- Di dalam `Phone.power_on()`, panggil `super().power_on()` lalu cetak `\"Memulai sistem ponsel.\"`\n",
    "- Di dalam `Laptop.power_on()`, panggil `super().power_on()` lalu cetak `\"Menyalakan sistem operasi laptop.\"`\n",
    "\n",
    "Definisikan ulang 3 objek:\n",
    "- d = Device()\n",
    "- p = Phone()\n",
    "- l = Laptop()\n",
    "\n",
    "Panggil method tersebut pada objek `d`, `p`, dan `l`."
   ]
  },
  {
   "cell_type": "code",
   "execution_count": null,
   "id": "6bf8013e",
   "metadata": {
    "id": "6bf8013e"
   },
   "outputs": [],
   "source": [
    "# Write your code here\n"
   ]
  }
 ],
 "metadata": {
  "colab": {
   "provenance": []
  },
  "kernelspec": {
   "display_name": "Python 3 (ipykernel)",
   "language": "python",
   "name": "python3"
  },
  "language_info": {
   "codemirror_mode": {
    "name": "ipython",
    "version": 3
   },
   "file_extension": ".py",
   "mimetype": "text/x-python",
   "name": "python",
   "nbconvert_exporter": "python",
   "pygments_lexer": "ipython3",
   "version": "3.9.0"
  }
 },
 "nbformat": 4,
 "nbformat_minor": 5
}
