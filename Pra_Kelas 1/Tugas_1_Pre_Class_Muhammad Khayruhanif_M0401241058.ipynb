{
 "cells": [
  {
   "cell_type": "markdown",
   "metadata": {
    "id": "R_YrdvsQx9LT"
   },
   "source": [
    "## Tugas 1"
   ]
  },
  {
   "cell_type": "markdown",
   "metadata": {
    "id": "LEzlJqcGyBhi"
   },
   "source": [
    "Diberikan list usia sebagai berikut:\n",
    "\n",
    "```python\n",
    "ages = [15, 22, 35, 44, 18, 67, 29]\n",
    "```"
   ]
  },
  {
   "cell_type": "markdown",
   "metadata": {
    "id": "p1dy0XaX4f72"
   },
   "source": [
    "#### Tugas 1.a"
   ]
  },
  {
   "cell_type": "markdown",
   "metadata": {
    "id": "1VyBAmtEyDQR"
   },
   "source": [
    "Gunakan `map()` dan `lambda` untuk mengelompokkan usia ke dalam kategori berikut:\n",
    "- `< 18` → `\"child\"`\n",
    "- `18–35` → `\"adult\"`\n",
    "- `> 35` → `\"senior\"`\n",
    "\n",
    "Simpan hasilnya dalam list baru bernama `age_category`, lalu cetak `age_category`.\n",
    "\n",
    "---\n",
    "\n",
    "💬 Expected Output Tugas 1.a:\n",
    "\n",
    "```python\n",
    "['child', 'adult', 'adult', 'senior', 'adult', 'senior', 'adult']\n",
    "```"
   ]
  },
  {
   "cell_type": "code",
   "execution_count": 103,
   "metadata": {
    "id": "jGy4JkrNyB1k"
   },
   "outputs": [
    {
     "data": {
      "text/plain": [
       "['child', 'adult', 'adult', 'senior', 'adult', 'senior', 'adult']"
      ]
     },
     "execution_count": 103,
     "metadata": {},
     "output_type": "execute_result"
    }
   ],
   "source": [
    "# Write your code here\n",
    "ages = [15, 22, 35, 44, 18, 67, 29]\n",
    "\n",
    "def category(ages):\n",
    "    if 0 <= ages < 18:\n",
    "        return \"child\"\n",
    "    elif 18 <= ages <= 35:\n",
    "        return \"adult\"\n",
    "    else:\n",
    "        return \"senior\"\n",
    "\n",
    "age_category = list(map(category, ages))\n",
    "age_category"
   ]
  },
  {
   "cell_type": "markdown",
   "metadata": {
    "id": "rXmskOaw4s1e"
   },
   "source": [
    "#### Tugas 1.b"
   ]
  },
  {
   "cell_type": "markdown",
   "metadata": {
    "id": "u7CsWm8LyObi"
   },
   "source": [
    "Cetak setiap usia dan kategorinya dalam format:\n",
    "```\n",
    "15 → child\n",
    "22 → adult\n",
    "...\n",
    "```\n",
    "\n",
    "---\n",
    "\n",
    "💬 Expected Output Tugas 1.b:\n",
    "\n",
    "```\n",
    "15 → child  \n",
    "22 → adult  \n",
    "35 → adult  \n",
    "44 → senior  \n",
    "18 → adult  \n",
    "67 → senior  \n",
    "29 → adult\n",
    "```\n",
    "\n",
    "---\n",
    "\n",
    "**Hint:** Gunakan `zip()` dan for loop"
   ]
  },
  {
   "cell_type": "code",
   "execution_count": 104,
   "metadata": {
    "id": "jdRg4A4kycOq"
   },
   "outputs": [
    {
     "name": "stdout",
     "output_type": "stream",
     "text": [
      "15  >  child\n",
      "22  >  adult\n",
      "35  >  adult\n",
      "44  >  senior\n",
      "18  >  adult\n",
      "67  >  senior\n",
      "29  >  adult\n"
     ]
    }
   ],
   "source": [
    "# Write your code here\n",
    "for age, category in zip(ages, age_category):\n",
    "    print(age,\" > \", category)"
   ]
  },
  {
   "cell_type": "markdown",
   "metadata": {
    "id": "qcWbNlb55on2"
   },
   "source": [
    "## Tugas 2"
   ]
  },
  {
   "cell_type": "markdown",
   "metadata": {
    "id": "Sjde59nz6csq"
   },
   "source": [
    "Diberikan dua kumpulan review sebagai berikut:\n",
    "\n",
    "```python\n",
    "positive_review = [\n",
    "    \"Top seller barang sesuai deskripsi dan berfungsi dengan baik, jangan ragu berbelanja di sini.\",\n",
    "    \"Paket aman pengiriman cepat packing nya juga sangat aman barang aman original sony japan seller fast response dan ramah\",\n",
    "    \"Barang sesuai, packing rapi dan berfungsi dengan baik.\"\n",
    "]\n",
    "\n",
    "negative_review = [\n",
    "    \"Kabelnya tidak original, segel terbuka\",\n",
    "    \"barang yang sampai bukan PS5. tapi permen. uang saya pun tidak dikembalikan.\",\n",
    "    \"Jangan mau beli ps5 di sini toko tidak jelas\"\n",
    "]\n",
    "```"
   ]
  },
  {
   "cell_type": "markdown",
   "metadata": {
    "id": "eO6c4Fs46gT1"
   },
   "source": [
    "#### Tugas 2.a"
   ]
  },
  {
   "cell_type": "markdown",
   "metadata": {
    "id": "2O-Lv_936lvx"
   },
   "source": [
    "Lakukan tokenisasi sederhana terhadap setiap review pada `positive_review` dan `negative_review`.  \n",
    "- Gunakan `lower()` untuk mengubah huruf menjadi kecil  \n",
    "- Gunakan `split()` untuk memecah kalimat menjadi list kata  \n",
    "- Lakukan dengan **list comprehension**\n",
    "\n",
    "Assign kembali `positive_review` dan `negative_review` dengan hasilnya, lalu `print()` keduanya.\n",
    "\n",
    "---\n",
    "\n",
    "💬 Expected Output Tugas 2.a:\n",
    "\n",
    "```python\n",
    "[['top', 'seller', 'barang', 'sesuai', 'deskripsi', 'dan', 'berfungsi', 'dengan', 'baik,', 'jangan', 'ragu', 'berbelanja', 'di', 'sini.'],\n",
    " ['paket', 'aman', 'pengiriman', 'cepat', 'packing', 'nya', 'juga', 'sangat', 'aman', 'barang', 'aman', 'original', 'sony', 'japan', 'seller', 'fast', 'response', 'dan', 'ramah'],\n",
    " ['barang', 'sesuai,', 'packing', 'rapi', 'dan', 'berfungsi', 'dengan', 'baik.']]\n",
    "\n",
    "[['kabelnya', 'tidak', 'original,', 'segel', 'terbuka'],\n",
    " ['barang', 'yang', 'sampai', 'bukan', 'ps5.', 'tapi', 'permen.', 'uang', 'saya', 'pun', 'tidak', 'dikembalikan.'],\n",
    " ['jangan', 'mau', 'beli', 'ps5', 'di', 'sini', 'toko', 'tidak', 'jelas']]\n",
    "```"
   ]
  },
  {
   "cell_type": "code",
   "execution_count": 52,
   "metadata": {
    "id": "IAzLXEu75p9S"
   },
   "outputs": [
    {
     "name": "stdout",
     "output_type": "stream",
     "text": [
      "[['top', 'seller', 'barang', 'sesuai', 'deskripsi', 'dan', 'berfungsi', 'dengan', 'baik,', 'jangan', 'ragu', 'berbelanja', 'di', 'sini.'], ['paket', 'aman', 'pengiriman', 'cepat', 'packing', 'nya', 'juga', 'sangat', 'aman', 'barang', 'aman', 'original', 'sony', 'japan', 'seller', 'fast', 'response', 'dan', 'ramah'], ['barang', 'sesuai,', 'packing', 'rapi', 'dan', 'berfungsi', 'dengan', 'baik.']]\n",
      "\n",
      " [['kabelnya', 'tidak', 'original,', 'segel', 'terbuka'], ['barang', 'yang', 'sampai', 'bukan', 'ps5.', 'tapi', 'permen.', 'uang', 'saya', 'pun', 'tidak', 'dikembalikan.'], ['jangan', 'mau', 'beli', 'ps5', 'di', 'sini', 'toko', 'tidak', 'jelas']]\n"
     ]
    },
    {
     "data": {
      "text/plain": [
       "'\\n# cara 2\\nfor review in positive_review:\\n    token = review.lower()\\n    token = token.split()\\n    positive_review_token.append(token)\\n\\nfor review in negative_review:\\n    token = review.lower()\\n    token = token.split()\\n    negative_review_token.append(token)\\n\\n# cara 1\\n#posrev_low = positive_review[0].lower()\\n#posrev_low.split()\\n'"
      ]
     },
     "execution_count": 52,
     "metadata": {},
     "output_type": "execute_result"
    }
   ],
   "source": [
    "# Write your code here\n",
    "positive_review = [\n",
    "    \"Top seller barang sesuai deskripsi dan berfungsi dengan baik, jangan ragu berbelanja di sini.\",\n",
    "    \"Paket aman pengiriman cepat packing nya juga sangat aman barang aman original sony japan seller fast response dan ramah\",\n",
    "    \"Barang sesuai, packing rapi dan berfungsi dengan baik.\"\n",
    "]\n",
    "\n",
    "negative_review = [\n",
    "    \"Kabelnya tidak original, segel terbuka\",\n",
    "    \"barang yang sampai bukan PS5. tapi permen. uang saya pun tidak dikembalikan.\",\n",
    "    \"Jangan mau beli ps5 di sini toko tidak jelas\"\n",
    "]\n",
    "\n",
    "# menghilangkan kapital\n",
    "positive_review_low = [review.lower() for review in positive_review]\n",
    "negative_review_low = [review.lower() for review in negative_review]\n",
    "\n",
    "# tokenisasi\n",
    "positive_review = [review.split() for review in positive_review_low]\n",
    "negative_review = [review.split() for review in negative_review_low]\n",
    "\n",
    "print(positive_review)\n",
    "print(\"\\n\",negative_review)\n",
    "\n",
    "'''\n",
    "# cara 2\n",
    "for review in positive_review:\n",
    "    token = review.lower()\n",
    "    token = token.split()\n",
    "    positive_review_token.append(token)\n",
    "\n",
    "for review in negative_review:\n",
    "    token = review.lower()\n",
    "    token = token.split()\n",
    "    negative_review_token.append(token)\n",
    "\n",
    "# cara 1\n",
    "#posrev_low = positive_review[0].lower()\n",
    "#posrev_low.split()\n",
    "'''"
   ]
  },
  {
   "cell_type": "markdown",
   "metadata": {
    "id": "Jzty9Ti67rje"
   },
   "source": [
    "#### Tugas 2.b"
   ]
  },
  {
   "cell_type": "markdown",
   "metadata": {
    "id": "0GvVlzSW7wVI"
   },
   "source": [
    "Import `Counter` dari modul `collections`.\n",
    "\n",
    "**Syntax:**\n",
    "```python\n",
    "from collections import Counter\n",
    "```\n",
    "\n",
    "Gabungkan semua kata dari masing-masing review (gunakan list comprehension), lalu hitung frekuensi kata dari `positive_review` dan `negative_review` menggunakan `Counter`.\n",
    "\n",
    "Cetak hasil count untuk masing-masing review.\n",
    "\n",
    "---\n",
    "\n",
    "💬 Expected Output Tugas 2.b:\n",
    "\n",
    "```python\n",
    "Counter({'barang': 3, 'aman': 3, 'dan': 3, 'berfungsi': 2, 'dengan': 2, 'seller': 2, ...})\n",
    "\n",
    "Counter({'tidak': 3, 'ps5': 2, 'barang': 1, 'jangan': 1, ...})\n",
    "```"
   ]
  },
  {
   "cell_type": "code",
   "execution_count": 61,
   "metadata": {
    "id": "IY0JJxeO7tJS"
   },
   "outputs": [
    {
     "name": "stdout",
     "output_type": "stream",
     "text": [
      "Counter({'barang': 3, 'dan': 3, 'aman': 3, 'seller': 2, 'berfungsi': 2, 'dengan': 2, 'packing': 2, 'top': 1, 'sesuai': 1, 'deskripsi': 1, 'baik,': 1, 'jangan': 1, 'ragu': 1, 'berbelanja': 1, 'di': 1, 'sini.': 1, 'paket': 1, 'pengiriman': 1, 'cepat': 1, 'nya': 1, 'juga': 1, 'sangat': 1, 'original': 1, 'sony': 1, 'japan': 1, 'fast': 1, 'response': 1, 'ramah': 1, 'sesuai,': 1, 'rapi': 1, 'baik.': 1})\n",
      "\n",
      " Counter({'tidak': 3, 'kabelnya': 1, 'original,': 1, 'segel': 1, 'terbuka': 1, 'barang': 1, 'yang': 1, 'sampai': 1, 'bukan': 1, 'ps5.': 1, 'tapi': 1, 'permen.': 1, 'uang': 1, 'saya': 1, 'pun': 1, 'dikembalikan.': 1, 'jangan': 1, 'mau': 1, 'beli': 1, 'ps5': 1, 'di': 1, 'sini': 1, 'toko': 1, 'jelas': 1})\n"
     ]
    }
   ],
   "source": [
    "# Write your code here\n",
    "from collections import Counter\n",
    "\n",
    "positive_review_all = [kata for list_utama in positive_review for kata in list_utama]\n",
    "negative_review_all = [kata for list_utama in negative_review for kata in list_utama]\n",
    "\n",
    "print(Counter(positive_review_all))\n",
    "print(\"\\n\",Counter(negative_review_all))"
   ]
  },
  {
   "cell_type": "markdown",
   "metadata": {
    "id": "R0gTLg6r2vza"
   },
   "source": [
    "## Tugas 3"
   ]
  },
  {
   "cell_type": "markdown",
   "metadata": {
    "id": "ZuymkAcw3h3a"
   },
   "source": [
    "Diberikan list berikut yang berisi data rating produk (dari 1 sampai 5):\n",
    "\n",
    "```python\n",
    "ratings = [5, 4, 3, 5, 2, 1, 4, 3, 5, 2, 1]\n",
    "```"
   ]
  },
  {
   "cell_type": "markdown",
   "metadata": {
    "id": "1fceealH3j-M"
   },
   "source": [
    "#### Tugas 3.a"
   ]
  },
  {
   "cell_type": "markdown",
   "metadata": {
    "id": "xTvSbotG4qy2"
   },
   "source": [
    "Buat fungsi bernama `is_high_rating` yang menerima satu angka `x` dan mengembalikan `True` jika nilainya **lebih besar atau sama dengan 4**, dan `False` jika tidak.\n",
    "\n",
    "Cetak hasil uji fungsi ini untuk `x = 4` dan `x = 2`.\n",
    "\n",
    "---\n",
    "\n",
    "💬 Expected Output:\n",
    "\n",
    "```python\n",
    "True\n",
    "False\n",
    "```"
   ]
  },
  {
   "cell_type": "code",
   "execution_count": 71,
   "metadata": {
    "id": "LvuOEv8U2uwa"
   },
   "outputs": [
    {
     "name": "stdout",
     "output_type": "stream",
     "text": [
      "True\n",
      "False\n"
     ]
    }
   ],
   "source": [
    "# Write your code here\n",
    "ratings = [5, 4, 3, 5, 2, 1, 4, 3, 5, 2, 1]\n",
    "\n",
    "def is_high_rating(x):\n",
    "    if x >= 4:\n",
    "        return True\n",
    "    else:\n",
    "        return False\n",
    "        \n",
    "print(is_high_rating(4))\n",
    "print(is_high_rating(2))"
   ]
  },
  {
   "cell_type": "markdown",
   "metadata": {
    "id": "YvTKwqkH5NhV"
   },
   "source": [
    "#### Tugas 3.b"
   ]
  },
  {
   "cell_type": "markdown",
   "metadata": {
    "id": "AHip_bWP5T7S"
   },
   "source": [
    "Gunakan `filter()` dengan fungsi `is_high_rating` untuk menyaring hanya rating yang bernilai **4 atau lebih**.  \n",
    "Simpan hasilnya dalam list `high_ratings`, lalu cetak hasilnya.\n",
    "\n",
    "---\n",
    "\n",
    "💬 Expected Output:\n",
    "\n",
    "```python\n",
    "[5, 4, 5, 4, 5]\n",
    "```"
   ]
  },
  {
   "cell_type": "code",
   "execution_count": 73,
   "metadata": {
    "id": "E5avyefk5TAY"
   },
   "outputs": [
    {
     "name": "stdout",
     "output_type": "stream",
     "text": [
      "[5, 4, 5, 4, 5]\n"
     ]
    }
   ],
   "source": [
    "# Write your code here\n",
    "high_ratings = list(filter(is_high_rating, ratings))\n",
    "\n",
    "print(high_rating)"
   ]
  },
  {
   "cell_type": "markdown",
   "metadata": {
    "id": "0dGF9o3-5c9u"
   },
   "source": [
    "#### Tugas 3.c"
   ]
  },
  {
   "cell_type": "markdown",
   "metadata": {
    "id": "i_k33DAu5iRY"
   },
   "source": [
    "Gunakan `filter()` dengan `lambda` function untuk menyaring hanya rating yang **bernilai ganjil**.  \n",
    "Simpan ke list `odd_ratings` dan cetak hasilnya.\n",
    "\n",
    "---\n",
    "\n",
    "💬 Expected Output:\n",
    "\n",
    "```python\n",
    "[5, 3, 5, 1, 3, 5, 1]\n",
    "```"
   ]
  },
  {
   "cell_type": "code",
   "execution_count": 75,
   "metadata": {
    "id": "2i5F_gLu5j5C"
   },
   "outputs": [
    {
     "name": "stdout",
     "output_type": "stream",
     "text": [
      "[5, 3, 5, 1, 3, 5, 1]\n"
     ]
    }
   ],
   "source": [
    "# Write your code here\n",
    "odd_ratings = list(filter(lambda ganjil: ganjil % 2 == 1, ratings))\n",
    "\n",
    "print(odd_ratings)"
   ]
  },
  {
   "cell_type": "markdown",
   "metadata": {
    "id": "qwhxEcRv8zJD"
   },
   "source": [
    "## Tugas 4"
   ]
  },
  {
   "cell_type": "markdown",
   "metadata": {
    "id": "rO7uO0fAAlXB"
   },
   "source": [
    "#### Tugas 4.a"
   ]
  },
  {
   "cell_type": "markdown",
   "metadata": {
    "id": "zDa0UuukAfw5"
   },
   "source": [
    "Diberikan list nama produk berikut:\n",
    "\n",
    "```python\n",
    "products = [\"laptop\", \"smartphone\", \"tablet\", \"monitor\"]\n",
    "```\n",
    "\n",
    "Gunakan `enumerate()` untuk membuat list of tuples `product_list` di mana tiap elemen-nya berupa `(id, product_name)`, dengan `id` dimulai dari 101.  \n",
    "Cetak hasilnya.\n",
    "\n",
    "---\n",
    "\n",
    "💬 Expected Output:\n",
    "\n",
    "```python\n",
    "[(101, 'laptop'), (102, 'smartphone'), (103, 'tablet'), (104, 'monitor')]\n",
    "```"
   ]
  },
  {
   "cell_type": "code",
   "execution_count": 83,
   "metadata": {
    "id": "0ZjCps7X83X4"
   },
   "outputs": [
    {
     "data": {
      "text/plain": [
       "[(101, 'laptop'), (102, 'smartphone'), (103, 'tablet'), (104, 'monitor')]"
      ]
     },
     "execution_count": 83,
     "metadata": {},
     "output_type": "execute_result"
    }
   ],
   "source": [
    "# Write your code here\n",
    "products = [\"laptop\", \"smartphone\", \"tablet\", \"monitor\"]\n",
    "\n",
    "product_list = []\n",
    "\n",
    "for id, product_name in enumerate(products):\n",
    "    product_tuple = (id + 101, product_name)\n",
    "    product_list.append(product_tuple)\n",
    "\n",
    "product_list"
   ]
  },
  {
   "cell_type": "markdown",
   "metadata": {
    "id": "p5mJn-wYAzqD"
   },
   "source": [
    "#### Tugas 4.b"
   ]
  },
  {
   "cell_type": "markdown",
   "metadata": {
    "id": "j9i2ngUMA6_5"
   },
   "source": [
    "Diberikan dua list berikut:\n",
    "\n",
    "```python\n",
    "names = [\"Anna\", \"Ben\", \"Cara\", \"Dion\"]\n",
    "scores = [88, 45, 73, 91]\n",
    "```\n",
    "\n",
    "Gunakan `enumerate()` untuk mencetak semua peserta yang mendapat nilai di bawah 70.  \n",
    "**Ikuti langkah berikut secara eksplisit:**\n",
    "\n",
    "1. Gunakan `zip()` untuk menggabungkan `names` dan `scores`\n",
    "2. Gunakan `enumerate()` untuk memberikan indeks pada setiap pasangan `(name, score)`\n",
    "3. Buat `for` loop dari hasil `enumerate(zip(...))`\n",
    "4. Di dalam loop, jika `score < 70`, cetak dalam format:\n",
    "\n",
    "```\n",
    "<name> (Index: <index>) mendapat nilai di bawah KKM: <score>\n",
    "```\n",
    "\n",
    "---\n",
    "\n",
    "💬 Expected Output:\n",
    "\n",
    "```\n",
    "Ben (Index: 1) mendapat nilai di bawah KKM: 45\n",
    "```"
   ]
  },
  {
   "cell_type": "code",
   "execution_count": 10,
   "metadata": {
    "id": "l7rFo8_qA1To"
   },
   "outputs": [
    {
     "name": "stdout",
     "output_type": "stream",
     "text": [
      "Ben (Index: 1) mendapat nilai di bawah KKM: 45\n"
     ]
    }
   ],
   "source": [
    "# Write your code here\n",
    "names = [\"Anna\", \"Ben\", \"Cara\", \"Dion\"]\n",
    "scores = [88, 45, 73, 91]\n",
    "\n",
    "names_scores = enumerate(zip(names, scores))\n",
    "\n",
    "for index, (name, score) in names_scores:\n",
    "    if score < 70:\n",
    "        print(f\"{name} (Index: {index}) mendapat nilai di bawah KKM: {score}\")"
   ]
  },
  {
   "cell_type": "markdown",
   "metadata": {
    "id": "JMloEgxUQunV"
   },
   "source": [
    "## Tugas 5"
   ]
  },
  {
   "cell_type": "markdown",
   "metadata": {
    "id": "LYvX-OCMQ1Ld"
   },
   "source": [
    "Kamu memiliki dua list berisi data rating produk dari dua batch yang berbeda. Namun, hanya rating dari **1 hingga 5** yang valid:\n",
    "\n",
    "```python\n",
    "batch_1 = [5, 3, 6, 2, -1, 4]\n",
    "batch_2 = [4, 0, 2, 5, 3]\n",
    "```"
   ]
  },
  {
   "cell_type": "markdown",
   "metadata": {
    "id": "wJ-mcABiQ2GG"
   },
   "source": [
    "#### Tugas 5.a"
   ]
  },
  {
   "cell_type": "markdown",
   "metadata": {
    "id": "12SkUA23Q6XU"
   },
   "source": [
    "Buat list kosong `all_valid_ratings`.  \n",
    "Saring hanya nilai valid dari `batch_1` (nilai antara 1 dan 5, inklusif), lalu tambahkan hasilnya ke `all_valid_ratings` menggunakan `extend()`.  \n",
    "Cetak isi `all_valid_ratings` setelah extend dari `batch_1`.\n",
    "\n",
    "---\n",
    "\n",
    "💬 Expected Output Tugas 5.a:\n",
    "\n",
    "```python\n",
    "[5, 3, 2, 4]\n",
    "```"
   ]
  },
  {
   "cell_type": "code",
   "execution_count": 98,
   "metadata": {
    "id": "TUnVIOWrQxvM"
   },
   "outputs": [
    {
     "data": {
      "text/plain": [
       "[5, 3, 2, 4]"
      ]
     },
     "execution_count": 98,
     "metadata": {},
     "output_type": "execute_result"
    }
   ],
   "source": [
    "# Write your code here\n",
    "batch_1 = [5, 3, 6, 2, -1, 4]\n",
    "batch_2 = [4, 0, 2, 5, 3]\n",
    "\n",
    "all_valid_ratings = []\n",
    "\n",
    "batch_1_valid = [angka for angka in batch_1 if 1<= angka <=5]\n",
    "\n",
    "all_valid_ratings.extend(batch_1_valid)\n",
    "all_valid_ratings"
   ]
  },
  {
   "cell_type": "markdown",
   "metadata": {
    "id": "Vi9tAPQ6RGVh"
   },
   "source": [
    "#### Tugas 5.b"
   ]
  },
  {
   "cell_type": "markdown",
   "metadata": {
    "id": "RElLLqSORKdD"
   },
   "source": [
    "Lakukan hal yang sama untuk `batch_2`: saring rating valid dan tambahkan ke `all_valid_ratings` menggunakan `extend()`.  \n",
    "Cetak isi `all_valid_ratings` setelah extend dari `batch_2`.\n",
    "\n",
    "---\n",
    "\n",
    "💬 Expected Output Tugas 5.b:\n",
    "\n",
    "```python\n",
    "[5, 3, 2, 4, 4, 2, 5, 3]\n",
    "```"
   ]
  },
  {
   "cell_type": "code",
   "execution_count": 99,
   "metadata": {
    "id": "Oz0QqbtERIiN"
   },
   "outputs": [
    {
     "data": {
      "text/plain": [
       "[5, 3, 2, 4, 4, 2, 5, 3]"
      ]
     },
     "execution_count": 99,
     "metadata": {},
     "output_type": "execute_result"
    }
   ],
   "source": [
    "# Write your code here\n",
    "batch_2_valid = [angka for angka in batch_2 if 1<= angka <=5]\n",
    "\n",
    "all_valid_ratings.extend(batch_2_valid)\n",
    "all_valid_ratings"
   ]
  },
  {
   "cell_type": "markdown",
   "metadata": {
    "id": "2KsvbGm9Rbqs"
   },
   "source": [
    "## Tugas 6"
   ]
  },
  {
   "cell_type": "markdown",
   "metadata": {
    "id": "yAUDc4NlR0ZB"
   },
   "source": [
    "Kamu diberikan list transaksi berikut. Setiap elemen adalah tuple berisi `(kategori, jumlah)`.\n",
    "\n",
    "```python\n",
    "transactions = [\n",
    "    (\"food\", 120000),\n",
    "    (\"transport\", 30000),\n",
    "    (\"food\", 50000),\n",
    "    (\"entertainment\", 75000),\n",
    "    (\"food\", 40000),\n",
    "    (\"transport\", 45000)\n",
    "]\n",
    "```"
   ]
  },
  {
   "cell_type": "markdown",
   "metadata": {
    "id": "k9Kq1-WIR2At"
   },
   "source": [
    "#### Tugas 6.a"
   ]
  },
  {
   "cell_type": "markdown",
   "metadata": {
    "id": "Yf3IEnZ5R7xX"
   },
   "source": [
    "Gunakan loop dan `setdefault()` untuk mengelompokkan transaksi berdasarkan kategori.  \n",
    "Buat dictionary `grouped_data` di mana setiap key adalah kategori dan setiap value adalah list dari jumlah transaksi di kategori tersebut.\n",
    "\n",
    "Cetak isi `grouped_data`.\n",
    "\n",
    "---\n",
    "\n",
    "💬 Expected Output Tugas 6.a:\n",
    "\n",
    "```python\n",
    "{\n",
    "  'food': [120000, 50000, 40000],\n",
    "  'transport': [30000, 45000],\n",
    "  'entertainment': [75000]\n",
    "}\n",
    "```"
   ]
  },
  {
   "cell_type": "code",
   "execution_count": 18,
   "metadata": {
    "id": "K0NjWGdYRTX8"
   },
   "outputs": [
    {
     "name": "stdout",
     "output_type": "stream",
     "text": [
      "{'food': [120000, 50000, 40000], 'transport': [30000, 45000], 'entertainment': [75000]}\n"
     ]
    }
   ],
   "source": [
    "# Write your code here\n",
    "transactions = [\n",
    "    (\"food\", 120000),\n",
    "    (\"transport\", 30000),\n",
    "    (\"food\", 50000),\n",
    "    (\"entertainment\", 75000),\n",
    "    (\"food\", 40000),\n",
    "    (\"transport\", 45000)\n",
    "]\n",
    "\n",
    "grouped_data = {}\n",
    "\n",
    "for category, price in transactions:\n",
    "    grouped_data.setdefault(category,[]).append(price)\n",
    "\n",
    "print(grouped_data)"
   ]
  },
  {
   "cell_type": "markdown",
   "metadata": {
    "id": "QjGb14SgSAvt"
   },
   "source": [
    "#### Tugas 6.b"
   ]
  },
  {
   "cell_type": "markdown",
   "metadata": {
    "id": "ddxHX4qhSGQr"
   },
   "source": [
    "Gunakan method `get()` untuk mengambil dan menjumlahkan total pengeluaran kategori `\"food\"` dan `\"misc\"`.\n",
    "\n",
    "- Ambil total dari `grouped_data[\"food\"]` dengan `.get()`, lalu jumlahkan\n",
    "- Ambil total dari `grouped_data[\"misc\"]` (yang tidak ada), gunakan default empty list (`[]`) agar tidak error\n",
    "\n",
    "Cetak keduanya: total pengeluaran `\"food\"` dan `\"misc\"`.\n",
    "\n",
    "---\n",
    "\n",
    "💬 Expected Output Tugas 6.b:\n",
    "\n",
    "```python\n",
    "Total food: 210000  \n",
    "Total misc: 0\n",
    "```"
   ]
  },
  {
   "cell_type": "code",
   "execution_count": 40,
   "metadata": {
    "id": "UYeibNz3R6_x"
   },
   "outputs": [
    {
     "name": "stdout",
     "output_type": "stream",
     "text": [
      "Total food: 210000\n",
      "Total misc: 0\n"
     ]
    }
   ],
   "source": [
    "# Write your code here\n",
    "\n",
    "food_amount = grouped_data.get(\"food\")\n",
    "misc_amount = grouped_data.get(\"misc\", [])\n",
    "\n",
    "print(f\"Total food: {sum(food_amount)}\")\n",
    "print(f\"Total misc: {sum(misc_amount)}\")"
   ]
  },
  {
   "cell_type": "markdown",
   "metadata": {
    "id": "dWs3LKrVTLqy"
   },
   "source": [
    "## Tugas 7"
   ]
  },
  {
   "cell_type": "markdown",
   "metadata": {
    "id": "ysCMFrIoUIuw"
   },
   "source": [
    "Kamu memiliki daftar user ID yang sedang diperiksa karena aktivitas mencurigakan:\n",
    "\n",
    "```python\n",
    "flagged_ids = [\"u102\", \"u143\", \"u187\", \"u199\"]\n",
    "```"
   ]
  },
  {
   "cell_type": "markdown",
   "metadata": {
    "id": "8m5Q64zhUKe9"
   },
   "source": [
    "#### Tugas 7.a"
   ]
  },
  {
   "cell_type": "markdown",
   "metadata": {
    "id": "R_Znr989UMJu"
   },
   "source": [
    "Gunakan `dict.fromkeys()` untuk membuat dictionary `status_map` di mana setiap `user_id` diawali dengan status `\"pending\"`.  \n",
    "Cetak `status_map`.\n",
    "\n",
    "---\n",
    "\n",
    "💬 Expected Output Tugas 7.a:\n",
    "\n",
    "```python\n",
    "{'u102': 'pending', 'u143': 'pending', 'u187': 'pending', 'u199': 'pending'}\n",
    "```"
   ]
  },
  {
   "cell_type": "code",
   "execution_count": 42,
   "metadata": {
    "id": "GDcFZPE7Ujx7"
   },
   "outputs": [
    {
     "name": "stdout",
     "output_type": "stream",
     "text": [
      "{'u102': 'pending', 'u143': 'pending', 'u187': 'pending', 'u199': 'pending'}\n"
     ]
    }
   ],
   "source": [
    "# Write your code here\n",
    "flagged_ids = [\"u102\", \"u143\", \"u187\", \"u199\"]\n",
    "\n",
    "status_map = dict.fromkeys(flagged_ids, \"pending\")\n",
    "print(status_map)"
   ]
  },
  {
   "cell_type": "markdown",
   "metadata": {
    "id": "gW4rTB_fURt-"
   },
   "source": [
    "#### Tugas 7.b"
   ]
  },
  {
   "cell_type": "markdown",
   "metadata": {
    "id": "wrtFwMvZUpyJ"
   },
   "source": [
    "Sekarang, anggap `\"u143\"` dan `\"u187\"` telah diverifikasi.  \n",
    "Ubah status mereka menjadi `\"cleared\"` dalam dictionary `status_map`.  \n",
    "Cetak kembali `status_map`.\n",
    "\n",
    "---\n",
    "\n",
    "💬 Expected Output Tugas 7.b:\n",
    "\n",
    "```python\n",
    "{'u102': 'pending', 'u143': 'cleared', 'u187': 'cleared', 'u199': 'pending'}\n",
    "```"
   ]
  },
  {
   "cell_type": "code",
   "execution_count": 44,
   "metadata": {
    "id": "jtW-zIPaSSvj"
   },
   "outputs": [
    {
     "name": "stdout",
     "output_type": "stream",
     "text": [
      "{'u102': 'pending', 'u143': 'cleared', 'u187': 'cleared', 'u199': 'pending'}\n"
     ]
    }
   ],
   "source": [
    "# Write your code here\n",
    "status_map[\"u143\"] = \"cleared\"\n",
    "status_map[\"u187\"] = \"cleared\"\n",
    "\n",
    "print(status_map)"
   ]
  },
  {
   "cell_type": "markdown",
   "metadata": {
    "id": "K77oo6igVoOe"
   },
   "source": [
    "## Tugas 8"
   ]
  },
  {
   "cell_type": "markdown",
   "metadata": {
    "id": "HZH-fw9sVs-1"
   },
   "source": [
    "#### Tugas 8.a"
   ]
  },
  {
   "cell_type": "markdown",
   "metadata": {
    "id": "S1_0gpN0Vzka"
   },
   "source": [
    "Kamu diberikan total durasi dalam menit:\n",
    "\n",
    "```python\n",
    "total_minutes = 245\n",
    "```\n",
    "\n",
    "Gunakan fungsi `divmod()` untuk mengonversi `total_minutes` menjadi `(jam, menit)`.  \n",
    "Cetak hasilnya dalam format seperti:\n",
    "```\n",
    "245 menit = 4 jam 5 menit\n",
    "```\n",
    "\n",
    "---\n",
    "\n",
    "💬 Expected Output Tugas 8.a:\n",
    "\n",
    "```\n",
    "245 menit = 4 jam 5 menit\n",
    "```"
   ]
  },
  {
   "cell_type": "code",
   "execution_count": 3,
   "metadata": {
    "id": "kV8RXI_fU0cL"
   },
   "outputs": [
    {
     "name": "stdout",
     "output_type": "stream",
     "text": [
      "245 menit = 4 jam 5 menit\n"
     ]
    }
   ],
   "source": [
    "# Write your code here\n",
    "total_minutes = 245\n",
    "jam_menit = divmod(total_minutes, 60)\n",
    "\n",
    "print(f\"{total_minutes} menit = {jam_menit[0]} jam {jam_menit[1]} menit\")"
   ]
  },
  {
   "cell_type": "markdown",
   "metadata": {
    "id": "LNGwQdkBV6Wu"
   },
   "source": [
    "#### Tugas 8.b"
   ]
  },
  {
   "cell_type": "markdown",
   "metadata": {
    "id": "lFBgFDBkV-mf"
   },
   "source": [
    "Sebuah gudang ingin mengemas 1280 barang ke dalam kotak, masing-masing dapat menampung **300** barang.  \n",
    "Gunakan `divmod()` untuk menghitung:\n",
    "- Berapa kotak penuh yang dapat digunakan\n",
    "- Berapa sisa barang yang belum terkemas\n",
    "\n",
    "Cetak hasilnya seperti:\n",
    "```\n",
    "1280 barang → 4 kotak penuh, 80 barang tersisa\n",
    "```\n",
    "\n",
    "---\n",
    "\n",
    "💬 Expected Output Tugas 8.b:\n",
    "\n",
    "```\n",
    "1280 barang → 4 kotak penuh, 80 barang tersisa\n",
    "```"
   ]
  },
  {
   "cell_type": "code",
   "execution_count": 5,
   "metadata": {
    "id": "Bjr5Dg0oV7tv"
   },
   "outputs": [
    {
     "name": "stdout",
     "output_type": "stream",
     "text": [
      "1280 barang -> 4 kotak penuh, 80 barang tersisa\n"
     ]
    }
   ],
   "source": [
    "# Write your code here\n",
    "kotak = divmod(1280,300)\n",
    "\n",
    "print(f\"1280 barang -> {kotak[0]} kotak penuh, {kotak[1]} barang tersisa\")"
   ]
  },
  {
   "cell_type": "markdown",
   "metadata": {
    "id": "nW4NKsfOWp-R"
   },
   "source": [
    "## Tugas 9"
   ]
  },
  {
   "cell_type": "markdown",
   "metadata": {
    "id": "t2tPA-BDWwou"
   },
   "source": [
    "#### Tugas 9.a"
   ]
  },
  {
   "cell_type": "markdown",
   "metadata": {
    "id": "l4_zSNmoW0Wz"
   },
   "source": [
    "Kamu memiliki input string `password_input` yang diisi pengguna:\n",
    "\n",
    "```python\n",
    "password_input = \"s4fep@ss\"\n",
    "```\n",
    "\n",
    "Gunakan `len()` untuk memeriksa berapa panjang karakter dari password tersebut.  \n",
    "Cetak kalimat:  \n",
    "```\n",
    "Password memiliki X karakter.\n",
    "```\n",
    "\n",
    "---\n",
    "\n",
    "💬 Expected Output Tugas 9.a:\n",
    "\n",
    "```\n",
    "Password memiliki 8 karakter.\n",
    "```"
   ]
  },
  {
   "cell_type": "code",
   "execution_count": 14,
   "metadata": {
    "id": "CVW5iaLnWAKd"
   },
   "outputs": [
    {
     "name": "stdout",
     "output_type": "stream",
     "text": [
      "Password memiliki 8 karakter.\n"
     ]
    }
   ],
   "source": [
    "# Write your code here\n",
    "password_input = \"s4fep@ss\"\n",
    "\n",
    "print(f\"Password memiliki {len(password_input)} karakter.\")"
   ]
  },
  {
   "cell_type": "markdown",
   "metadata": {
    "id": "A6-AzaaHXA0S"
   },
   "source": [
    "#### Tugas 9.b"
   ]
  },
  {
   "cell_type": "markdown",
   "metadata": {
    "id": "Hhl6o3D6XAsj"
   },
   "source": [
    "Minimum panjang password yang diizinkan adalah 12 karakter.  \n",
    "Gunakan `len()` dan `range()` untuk mencetak placeholder `*` sebanyak selisih kekurangan karakter jika password terlalu pendek.\n",
    "\n",
    "Contoh format:\n",
    "```\n",
    "Password kurang 4 karakter.\n",
    "Saran: Tambahkan ****\n",
    "```\n",
    "\n",
    "Jika password sudah cukup panjang, cetak:\n",
    "```\n",
    "Password sudah memenuhi panjang minimum.\n",
    "```\n",
    "\n",
    "---\n",
    "\n",
    "💬 Expected Output Tugas 9.b:\n",
    "\n",
    "```\n",
    "Password kurang 4 karakter.  \n",
    "Saran: Tambahkan ****\n",
    "```"
   ]
  },
  {
   "cell_type": "code",
   "execution_count": 19,
   "metadata": {
    "id": "AFN1zaXqXGx2"
   },
   "outputs": [
    {
     "name": "stdout",
     "output_type": "stream",
     "text": [
      "Password kurang 4 karakter.\n",
      "Saran: Tambahkan ****\n"
     ]
    }
   ],
   "source": [
    "# Write your code here\n",
    "karakter = len(password_input)\n",
    "\n",
    "print(f\"Password kurang {12 - karakter} karakter.\")\n",
    "print(f\"Saran: Tambahkan {'*' * (12 - karakter)}\")"
   ]
  },
  {
   "cell_type": "markdown",
   "metadata": {
    "id": "ZEXxthvMYo7U"
   },
   "source": [
    "## Tugas 10"
   ]
  },
  {
   "cell_type": "markdown",
   "metadata": {
    "id": "HEzSc4o_Y4vg"
   },
   "source": [
    "Diberikan list nilai siswa:\n",
    "\n",
    "```python\n",
    "grades = [78, 85, 92, 67, 88, 90, 74]\n",
    "```"
   ]
  },
  {
   "cell_type": "markdown",
   "metadata": {
    "id": "DK6lXUbyY7OB"
   },
   "source": [
    "#### Tugas 10.a"
   ]
  },
  {
   "cell_type": "markdown",
   "metadata": {
    "id": "Lcrsj6agY9aU"
   },
   "source": [
    "Gunakan fungsi `min()` dan `max()` untuk mencari:\n",
    "- Nilai tertinggi\n",
    "- Nilai terendah\n",
    "\n",
    "Cetak hasilnya.\n",
    "\n",
    "---\n",
    "\n",
    "💬 Expected Output Tugas 11.a:\n",
    "\n",
    "```\n",
    "Nilai tertinggi: 92  \n",
    "Nilai terendah: 67\n",
    "```"
   ]
  },
  {
   "cell_type": "code",
   "execution_count": 2,
   "metadata": {
    "id": "UW8_l_FbZDoA"
   },
   "outputs": [
    {
     "name": "stdout",
     "output_type": "stream",
     "text": [
      "Nilai tertinggi: 92\n",
      "Nilai terendah: 67\n"
     ]
    }
   ],
   "source": [
    "# Write your code here\n",
    "grades = [78, 85, 92, 67, 88, 90, 74]\n",
    "\n",
    "print(f\"Nilai tertinggi: {max(grades)}\")\n",
    "print(f\"Nilai terendah: {min(grades)}\")"
   ]
  },
  {
   "cell_type": "markdown",
   "metadata": {
    "id": "1EtIsvW7ZFTV"
   },
   "source": [
    "#### Tugas 10.b"
   ]
  },
  {
   "cell_type": "markdown",
   "metadata": {
    "id": "zwhwGGdpZJN2"
   },
   "source": [
    "Gunakan `sum()` dan `len()` untuk menghitung rata-rata nilai. Cetak hasilnya dalam format:\n",
    "```\n",
    "Rata-rata nilai: XX.XX\n",
    "```\n",
    "---\n",
    "\n",
    "💬 Expected Output Tugas 10.b:\n",
    "\n",
    "```\n",
    "Rata-rata nilai: 82.00\n",
    "```"
   ]
  },
  {
   "cell_type": "code",
   "execution_count": 3,
   "metadata": {
    "id": "KRbEWH6-ZLu2"
   },
   "outputs": [
    {
     "name": "stdout",
     "output_type": "stream",
     "text": [
      "Rata-rata nilai: 82.0\n"
     ]
    }
   ],
   "source": [
    "# Write your code here\n",
    "print(f\"Rata-rata nilai: {sum(grades) / len(grades)}\")"
   ]
  },
  {
   "cell_type": "markdown",
   "metadata": {
    "id": "2FCpFa96XZ5P"
   },
   "source": [
    "## Tugas 11 (gw gk tahu yg ini sebaiknya dimasukkin atau nggak, soalnya keknya gk kepake(?))\n",
    "### Masukin aja bang :) (Hanif)"
   ]
  },
  {
   "cell_type": "markdown",
   "metadata": {
    "id": "gFa1i27kYM6_"
   },
   "source": [
    "Kamu memiliki list `error_logs` yang berisi pesan-pesan error dari sistem:\n",
    "\n",
    "```python\n",
    "error_logs = [\n",
    "    \"Disk warning: C almost full\",\n",
    "    \"Auth failure on SSH port\",\n",
    "    \"Database connection lost\",\n",
    "    \"Low memory warning\",\n",
    "    \"Power supply unstable\"\n",
    "]\n",
    "```"
   ]
  },
  {
   "cell_type": "markdown",
   "metadata": {
    "id": "JBrkCna3X6R2"
   },
   "source": [
    "#### Tugas 11.a"
   ]
  },
  {
   "cell_type": "markdown",
   "metadata": {
    "id": "sRAvxyVkYCu9"
   },
   "source": [
    "Gunakan fungsi `iter()` untuk membuat iterator dari list tersebut. Simpan dalam variabel `log_iterator`.  \n",
    "Cetak objek iterator tersebut.\n",
    "\n",
    "---\n",
    "\n",
    "💬 Expected Output Tugas 10.a:\n",
    "\n",
    "```\n",
    "<list_iterator object at ...>  ← bentuk output bisa berbeda tergantung interpreter\n",
    "```"
   ]
  },
  {
   "cell_type": "code",
   "execution_count": 100,
   "metadata": {
    "id": "TCYfq_ukXUIv"
   },
   "outputs": [
    {
     "name": "stdout",
     "output_type": "stream",
     "text": [
      "<list_iterator object at 0x000002D57BBA0520>\n"
     ]
    }
   ],
   "source": [
    "# Write your code here\n",
    "error_logs = [\n",
    "    \"Disk warning: C almost full\",\n",
    "    \"Auth failure on SSH port\",\n",
    "    \"Database connection lost\",\n",
    "    \"Low memory warning\",\n",
    "    \"Power supply unstable\"\n",
    "]\n",
    "\n",
    "log_iterator = iter(error_logs)\n",
    "print(log_iterator)"
   ]
  },
  {
   "cell_type": "markdown",
   "metadata": {
    "id": "RgUcYwSIYQaQ"
   },
   "source": [
    "#### Tugas 11.b"
   ]
  },
  {
   "cell_type": "markdown",
   "metadata": {
    "id": "XZW8RTizYX1U"
   },
   "source": [
    "Gunakan `next()` sebanyak 3 kali berturut-turut pada `log_iterator`, dan cetak hasilnya satu per satu.\n",
    "\n",
    "---\n",
    "\n",
    "💬 Expected Output Tugas 10.b:\n",
    "\n",
    "```\n",
    "Disk warning: C almost full  \n",
    "Auth failure on SSH port  \n",
    "Database connection lost\n",
    "```"
   ]
  },
  {
   "cell_type": "code",
   "execution_count": 101,
   "metadata": {
    "id": "yTdDIW40YRlf"
   },
   "outputs": [
    {
     "name": "stdout",
     "output_type": "stream",
     "text": [
      "Disk warning: C almost full\n",
      "Auth failure on SSH port\n",
      "Database connection lost\n"
     ]
    }
   ],
   "source": [
    "# Write your code here\n",
    "print(next(log_iterator))\n",
    "print(next(log_iterator))\n",
    "print(next(log_iterator))"
   ]
  }
 ],
 "metadata": {
  "colab": {
   "provenance": []
  },
  "kernelspec": {
   "display_name": "Python 3 (ipykernel)",
   "language": "python",
   "name": "python3"
  },
  "language_info": {
   "codemirror_mode": {
    "name": "ipython",
    "version": 3
   },
   "file_extension": ".py",
   "mimetype": "text/x-python",
   "name": "python",
   "nbconvert_exporter": "python",
   "pygments_lexer": "ipython3",
   "version": "3.9.0"
  }
 },
 "nbformat": 4,
 "nbformat_minor": 4
}
