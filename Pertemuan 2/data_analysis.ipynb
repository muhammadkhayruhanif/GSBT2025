{
 "cells": [
  {
   "cell_type": "markdown",
   "metadata": {
    "id": "rmN-gD8MoliI"
   },
   "source": [
    "# Summary\n",
    "\n",
    "In this notebook, we will perform Exploratory Data Analysis (EDA) in Python. Steps:\n",
    "1. Preliminary\n",
    "2. Data cleaning / Feature Engineering / Data Manipulation\n",
    "3. Reading and Extracting Data"
   ]
  },
  {
   "cell_type": "markdown",
   "metadata": {
    "id": "BwNPERmM8t3K"
   },
   "source": [
    "# Import Libraries"
   ]
  },
  {
   "cell_type": "code",
   "execution_count": 1,
   "metadata": {
    "executionInfo": {
     "elapsed": 2873,
     "status": "ok",
     "timestamp": 1758106688233,
     "user": {
      "displayName": "Kurnia Freelancer",
      "userId": "04717991342523634432"
     },
     "user_tz": -420
    },
    "id": "CEPVSzPl8t3K"
   },
   "outputs": [],
   "source": [
    "import numpy as np\n",
    "import pandas as pd\n",
    "import seaborn as sns\n",
    "import matplotlib.pyplot as plt\n",
    "pd.set_option(\"display.max_columns\", None)\n",
    "pd.set_option(\"display.max_rows\", None)"
   ]
  },
  {
   "cell_type": "markdown",
   "metadata": {
    "id": "E4mrHxIX8t3L"
   },
   "source": [
    "# Load Data"
   ]
  },
  {
   "cell_type": "code",
   "execution_count": 2,
   "metadata": {
    "executionInfo": {
     "elapsed": 5,
     "status": "ok",
     "timestamp": 1758106688256,
     "user": {
      "displayName": "Kurnia Freelancer",
      "userId": "04717991342523634432"
     },
     "user_tz": -420
    },
    "id": "W7FS1Kmw8t3L"
   },
   "outputs": [],
   "source": [
    "# adjust the path accordingly\n",
    "df = pd.read_csv('admission_data_final.csv')\n",
    "data = df.copy()\n",
    "\n",
    "# df -> for feature engineering before machine learning\n",
    "# data -> for EDA process\n",
    "# data di-copy dari df supaya dalam proses EDA hanya dilakukan pada data tidak dengan df"
   ]
  },
  {
   "cell_type": "markdown",
   "metadata": {
    "id": "RZgJ-Mpz8t3L"
   },
   "source": [
    "#  Preliminary"
   ]
  },
  {
   "cell_type": "markdown",
   "metadata": {
    "id": "2lOq-WJD8t3M"
   },
   "source": [
    "## Sample of data"
   ]
  },
  {
   "cell_type": "code",
   "execution_count": 3,
   "metadata": {
    "colab": {
     "base_uri": "https://localhost:8080/",
     "height": 269
    },
    "executionInfo": {
     "elapsed": 6,
     "status": "ok",
     "timestamp": 1758106688265,
     "user": {
      "displayName": "Kurnia Freelancer",
      "userId": "04717991342523634432"
     },
     "user_tz": -420
    },
    "id": "pxAw-7XO8t3M",
    "outputId": "a8e8f129-384a-4e12-acc8-28139e06744e"
   },
   "outputs": [
    {
     "data": {
      "text/html": [
       "<div>\n",
       "<style scoped>\n",
       "    .dataframe tbody tr th:only-of-type {\n",
       "        vertical-align: middle;\n",
       "    }\n",
       "\n",
       "    .dataframe tbody tr th {\n",
       "        vertical-align: top;\n",
       "    }\n",
       "\n",
       "    .dataframe thead th {\n",
       "        text-align: right;\n",
       "    }\n",
       "</style>\n",
       "<table border=\"1\" class=\"dataframe\">\n",
       "  <thead>\n",
       "    <tr style=\"text-align: right;\">\n",
       "      <th></th>\n",
       "      <th>gre_score</th>\n",
       "      <th>toefl_score</th>\n",
       "      <th>univ_ranking</th>\n",
       "      <th>motiv_letter_strength</th>\n",
       "      <th>recommendation_strength</th>\n",
       "      <th>gpa</th>\n",
       "      <th>research_exp</th>\n",
       "      <th>admit_status</th>\n",
       "      <th>gender</th>\n",
       "      <th>education</th>\n",
       "      <th>id_student</th>\n",
       "      <th>final_score</th>\n",
       "    </tr>\n",
       "  </thead>\n",
       "  <tbody>\n",
       "    <tr>\n",
       "      <th>0</th>\n",
       "      <td>337.0</td>\n",
       "      <td>118.0</td>\n",
       "      <td>4.0</td>\n",
       "      <td>4.5</td>\n",
       "      <td>4.5</td>\n",
       "      <td>9.65</td>\n",
       "      <td>yes</td>\n",
       "      <td>1</td>\n",
       "      <td>male</td>\n",
       "      <td>bachelor</td>\n",
       "      <td>STD1000</td>\n",
       "      <td>960</td>\n",
       "    </tr>\n",
       "    <tr>\n",
       "      <th>1</th>\n",
       "      <td>324.0</td>\n",
       "      <td>107.0</td>\n",
       "      <td>4.0</td>\n",
       "      <td>4.0</td>\n",
       "      <td>4.5</td>\n",
       "      <td>8.87</td>\n",
       "      <td>yes</td>\n",
       "      <td>1</td>\n",
       "      <td>female</td>\n",
       "      <td>master</td>\n",
       "      <td>STD1001</td>\n",
       "      <td>887</td>\n",
       "    </tr>\n",
       "    <tr>\n",
       "      <th>2</th>\n",
       "      <td>316.0</td>\n",
       "      <td>104.0</td>\n",
       "      <td>3.0</td>\n",
       "      <td>3.0</td>\n",
       "      <td>3.5</td>\n",
       "      <td>8.00</td>\n",
       "      <td>yes</td>\n",
       "      <td>1</td>\n",
       "      <td>male</td>\n",
       "      <td>bachelor</td>\n",
       "      <td>STD1002</td>\n",
       "      <td>780</td>\n",
       "    </tr>\n",
       "    <tr>\n",
       "      <th>3</th>\n",
       "      <td>322.0</td>\n",
       "      <td>110.0</td>\n",
       "      <td>3.0</td>\n",
       "      <td>3.5</td>\n",
       "      <td>2.5</td>\n",
       "      <td>8.67</td>\n",
       "      <td>yes</td>\n",
       "      <td>1</td>\n",
       "      <td>female</td>\n",
       "      <td>master</td>\n",
       "      <td>STD1003</td>\n",
       "      <td>851</td>\n",
       "    </tr>\n",
       "    <tr>\n",
       "      <th>4</th>\n",
       "      <td>314.0</td>\n",
       "      <td>103.0</td>\n",
       "      <td>2.0</td>\n",
       "      <td>2.0</td>\n",
       "      <td>3.0</td>\n",
       "      <td>8.21</td>\n",
       "      <td>no</td>\n",
       "      <td>0</td>\n",
       "      <td>male</td>\n",
       "      <td>bachelor</td>\n",
       "      <td>STD1004</td>\n",
       "      <td>473</td>\n",
       "    </tr>\n",
       "    <tr>\n",
       "      <th>5</th>\n",
       "      <td>330.0</td>\n",
       "      <td>115.0</td>\n",
       "      <td>5.0</td>\n",
       "      <td>4.5</td>\n",
       "      <td>3.0</td>\n",
       "      <td>9.34</td>\n",
       "      <td>yes</td>\n",
       "      <td>1</td>\n",
       "      <td>male</td>\n",
       "      <td>master</td>\n",
       "      <td>STD1005</td>\n",
       "      <td>908</td>\n",
       "    </tr>\n",
       "    <tr>\n",
       "      <th>6</th>\n",
       "      <td>321.0</td>\n",
       "      <td>109.0</td>\n",
       "      <td>3.0</td>\n",
       "      <td>3.0</td>\n",
       "      <td>4.0</td>\n",
       "      <td>8.20</td>\n",
       "      <td>yes</td>\n",
       "      <td>1</td>\n",
       "      <td>male</td>\n",
       "      <td>bachelor</td>\n",
       "      <td>STD1006</td>\n",
       "      <td>819</td>\n",
       "    </tr>\n",
       "  </tbody>\n",
       "</table>\n",
       "</div>"
      ],
      "text/plain": [
       "   gre_score  toefl_score  univ_ranking  motiv_letter_strength  \\\n",
       "0      337.0        118.0           4.0                    4.5   \n",
       "1      324.0        107.0           4.0                    4.0   \n",
       "2      316.0        104.0           3.0                    3.0   \n",
       "3      322.0        110.0           3.0                    3.5   \n",
       "4      314.0        103.0           2.0                    2.0   \n",
       "5      330.0        115.0           5.0                    4.5   \n",
       "6      321.0        109.0           3.0                    3.0   \n",
       "\n",
       "   recommendation_strength   gpa research_exp  admit_status  gender education  \\\n",
       "0                      4.5  9.65          yes             1    male  bachelor   \n",
       "1                      4.5  8.87          yes             1  female    master   \n",
       "2                      3.5  8.00          yes             1    male  bachelor   \n",
       "3                      2.5  8.67          yes             1  female    master   \n",
       "4                      3.0  8.21           no             0    male  bachelor   \n",
       "5                      3.0  9.34          yes             1    male    master   \n",
       "6                      4.0  8.20          yes             1    male  bachelor   \n",
       "\n",
       "  id_student  final_score  \n",
       "0    STD1000          960  \n",
       "1    STD1001          887  \n",
       "2    STD1002          780  \n",
       "3    STD1003          851  \n",
       "4    STD1004          473  \n",
       "5    STD1005          908  \n",
       "6    STD1006          819  "
      ]
     },
     "execution_count": 3,
     "metadata": {},
     "output_type": "execute_result"
    }
   ],
   "source": [
    "# Showing top 5 rows of the data\n",
    "data.head(7)"
   ]
  },
  {
   "cell_type": "code",
   "execution_count": 4,
   "metadata": {
    "colab": {
     "base_uri": "https://localhost:8080/",
     "height": 178
    },
    "executionInfo": {
     "elapsed": 8,
     "status": "ok",
     "timestamp": 1758106688286,
     "user": {
      "displayName": "Kurnia Freelancer",
      "userId": "04717991342523634432"
     },
     "user_tz": -420
    },
    "id": "FZ3brck41tEp",
    "outputId": "7dca3808-3d9b-4a08-9ebd-7dca315d22af"
   },
   "outputs": [
    {
     "data": {
      "text/plain": [
       "1    290\n",
       "0    215\n",
       "Name: admit_status, dtype: int64"
      ]
     },
     "execution_count": 4,
     "metadata": {},
     "output_type": "execute_result"
    }
   ],
   "source": [
    "data['admit_status'].value_counts()"
   ]
  },
  {
   "cell_type": "code",
   "execution_count": 5,
   "metadata": {
    "colab": {
     "base_uri": "https://localhost:8080/",
     "height": 269
    },
    "executionInfo": {
     "elapsed": 24,
     "status": "ok",
     "timestamp": 1758106688313,
     "user": {
      "displayName": "Kurnia Freelancer",
      "userId": "04717991342523634432"
     },
     "user_tz": -420
    },
    "id": "qxbZ_EZtVo9Y",
    "outputId": "a07604a1-1228-44a6-a477-7c7acc72d337"
   },
   "outputs": [
    {
     "data": {
      "text/html": [
       "<div>\n",
       "<style scoped>\n",
       "    .dataframe tbody tr th:only-of-type {\n",
       "        vertical-align: middle;\n",
       "    }\n",
       "\n",
       "    .dataframe tbody tr th {\n",
       "        vertical-align: top;\n",
       "    }\n",
       "\n",
       "    .dataframe thead th {\n",
       "        text-align: right;\n",
       "    }\n",
       "</style>\n",
       "<table border=\"1\" class=\"dataframe\">\n",
       "  <thead>\n",
       "    <tr style=\"text-align: right;\">\n",
       "      <th></th>\n",
       "      <th>gre_score</th>\n",
       "      <th>toefl_score</th>\n",
       "      <th>univ_ranking</th>\n",
       "      <th>motiv_letter_strength</th>\n",
       "      <th>recommendation_strength</th>\n",
       "      <th>gpa</th>\n",
       "      <th>research_exp</th>\n",
       "      <th>admit_status</th>\n",
       "      <th>gender</th>\n",
       "      <th>education</th>\n",
       "      <th>id_student</th>\n",
       "      <th>final_score</th>\n",
       "    </tr>\n",
       "  </thead>\n",
       "  <tbody>\n",
       "    <tr>\n",
       "      <th>498</th>\n",
       "      <td>312.0</td>\n",
       "      <td>103.0</td>\n",
       "      <td>4.0</td>\n",
       "      <td>4.0</td>\n",
       "      <td>5.0</td>\n",
       "      <td>8.43</td>\n",
       "      <td>no</td>\n",
       "      <td>1</td>\n",
       "      <td>male</td>\n",
       "      <td>master</td>\n",
       "      <td>STD1498</td>\n",
       "      <td>843</td>\n",
       "    </tr>\n",
       "    <tr>\n",
       "      <th>499</th>\n",
       "      <td>327.0</td>\n",
       "      <td>113.0</td>\n",
       "      <td>4.0</td>\n",
       "      <td>4.5</td>\n",
       "      <td>4.5</td>\n",
       "      <td>9.04</td>\n",
       "      <td>no</td>\n",
       "      <td>1</td>\n",
       "      <td>female</td>\n",
       "      <td>bachelor</td>\n",
       "      <td>STD1499</td>\n",
       "      <td>902</td>\n",
       "    </tr>\n",
       "    <tr>\n",
       "      <th>500</th>\n",
       "      <td>313.0</td>\n",
       "      <td>102.0</td>\n",
       "      <td>3.0</td>\n",
       "      <td>3.5</td>\n",
       "      <td>4.0</td>\n",
       "      <td>8.90</td>\n",
       "      <td>yes</td>\n",
       "      <td>1</td>\n",
       "      <td>male</td>\n",
       "      <td>bachelor</td>\n",
       "      <td>STD1500</td>\n",
       "      <td>825</td>\n",
       "    </tr>\n",
       "    <tr>\n",
       "      <th>501</th>\n",
       "      <td>328.0</td>\n",
       "      <td>108.0</td>\n",
       "      <td>4.0</td>\n",
       "      <td>4.5</td>\n",
       "      <td>4.0</td>\n",
       "      <td>9.18</td>\n",
       "      <td>yes</td>\n",
       "      <td>1</td>\n",
       "      <td>female</td>\n",
       "      <td>bachelor</td>\n",
       "      <td>STD1501</td>\n",
       "      <td>889</td>\n",
       "    </tr>\n",
       "    <tr>\n",
       "      <th>502</th>\n",
       "      <td>321.0</td>\n",
       "      <td>109.0</td>\n",
       "      <td>4.0</td>\n",
       "      <td>4.0</td>\n",
       "      <td>4.0</td>\n",
       "      <td>8.68</td>\n",
       "      <td>yes</td>\n",
       "      <td>0</td>\n",
       "      <td>female</td>\n",
       "      <td>bachelor</td>\n",
       "      <td>STD1502</td>\n",
       "      <td>594</td>\n",
       "    </tr>\n",
       "    <tr>\n",
       "      <th>503</th>\n",
       "      <td>325.0</td>\n",
       "      <td>106.0</td>\n",
       "      <td>3.0</td>\n",
       "      <td>3.5</td>\n",
       "      <td>4.0</td>\n",
       "      <td>8.40</td>\n",
       "      <td>yes</td>\n",
       "      <td>0</td>\n",
       "      <td>female</td>\n",
       "      <td>bachelor</td>\n",
       "      <td>STD1503</td>\n",
       "      <td>584</td>\n",
       "    </tr>\n",
       "    <tr>\n",
       "      <th>504</th>\n",
       "      <td>314.0</td>\n",
       "      <td>106.0</td>\n",
       "      <td>3.0</td>\n",
       "      <td>3.0</td>\n",
       "      <td>5.0</td>\n",
       "      <td>8.90</td>\n",
       "      <td>no</td>\n",
       "      <td>1</td>\n",
       "      <td>male</td>\n",
       "      <td>bachelor</td>\n",
       "      <td>STD1504</td>\n",
       "      <td>843</td>\n",
       "    </tr>\n",
       "  </tbody>\n",
       "</table>\n",
       "</div>"
      ],
      "text/plain": [
       "     gre_score  toefl_score  univ_ranking  motiv_letter_strength  \\\n",
       "498      312.0        103.0           4.0                    4.0   \n",
       "499      327.0        113.0           4.0                    4.5   \n",
       "500      313.0        102.0           3.0                    3.5   \n",
       "501      328.0        108.0           4.0                    4.5   \n",
       "502      321.0        109.0           4.0                    4.0   \n",
       "503      325.0        106.0           3.0                    3.5   \n",
       "504      314.0        106.0           3.0                    3.0   \n",
       "\n",
       "     recommendation_strength   gpa research_exp  admit_status  gender  \\\n",
       "498                      5.0  8.43           no             1    male   \n",
       "499                      4.5  9.04           no             1  female   \n",
       "500                      4.0  8.90          yes             1    male   \n",
       "501                      4.0  9.18          yes             1  female   \n",
       "502                      4.0  8.68          yes             0  female   \n",
       "503                      4.0  8.40          yes             0  female   \n",
       "504                      5.0  8.90           no             1    male   \n",
       "\n",
       "    education id_student  final_score  \n",
       "498    master    STD1498          843  \n",
       "499  bachelor    STD1499          902  \n",
       "500  bachelor    STD1500          825  \n",
       "501  bachelor    STD1501          889  \n",
       "502  bachelor    STD1502          594  \n",
       "503  bachelor    STD1503          584  \n",
       "504  bachelor    STD1504          843  "
      ]
     },
     "execution_count": 5,
     "metadata": {},
     "output_type": "execute_result"
    }
   ],
   "source": [
    "data.tail(7)"
   ]
  },
  {
   "cell_type": "code",
   "execution_count": 6,
   "metadata": {
    "colab": {
     "base_uri": "https://localhost:8080/",
     "height": 206
    },
    "executionInfo": {
     "elapsed": 6,
     "status": "ok",
     "timestamp": 1758106688324,
     "user": {
      "displayName": "Kurnia Freelancer",
      "userId": "04717991342523634432"
     },
     "user_tz": -420
    },
    "id": "fVGbCHd_8t3M",
    "outputId": "10cd9745-b124-485d-d595-5b061b873261"
   },
   "outputs": [
    {
     "data": {
      "text/html": [
       "<div>\n",
       "<style scoped>\n",
       "    .dataframe tbody tr th:only-of-type {\n",
       "        vertical-align: middle;\n",
       "    }\n",
       "\n",
       "    .dataframe tbody tr th {\n",
       "        vertical-align: top;\n",
       "    }\n",
       "\n",
       "    .dataframe thead th {\n",
       "        text-align: right;\n",
       "    }\n",
       "</style>\n",
       "<table border=\"1\" class=\"dataframe\">\n",
       "  <thead>\n",
       "    <tr style=\"text-align: right;\">\n",
       "      <th></th>\n",
       "      <th>gre_score</th>\n",
       "      <th>toefl_score</th>\n",
       "      <th>univ_ranking</th>\n",
       "      <th>motiv_letter_strength</th>\n",
       "      <th>recommendation_strength</th>\n",
       "      <th>gpa</th>\n",
       "      <th>research_exp</th>\n",
       "      <th>admit_status</th>\n",
       "      <th>gender</th>\n",
       "      <th>education</th>\n",
       "      <th>id_student</th>\n",
       "      <th>final_score</th>\n",
       "    </tr>\n",
       "  </thead>\n",
       "  <tbody>\n",
       "    <tr>\n",
       "      <th>441</th>\n",
       "      <td>332.0</td>\n",
       "      <td>112.0</td>\n",
       "      <td>1.0</td>\n",
       "      <td>1.5</td>\n",
       "      <td>3.0</td>\n",
       "      <td>8.66</td>\n",
       "      <td>yes</td>\n",
       "      <td>1</td>\n",
       "      <td>female</td>\n",
       "      <td>master</td>\n",
       "      <td>STD1441</td>\n",
       "      <td>870</td>\n",
       "    </tr>\n",
       "    <tr>\n",
       "      <th>25</th>\n",
       "      <td>340.0</td>\n",
       "      <td>120.0</td>\n",
       "      <td>5.0</td>\n",
       "      <td>4.5</td>\n",
       "      <td>4.5</td>\n",
       "      <td>9.60</td>\n",
       "      <td>yes</td>\n",
       "      <td>1</td>\n",
       "      <td>male</td>\n",
       "      <td>master</td>\n",
       "      <td>STD1025</td>\n",
       "      <td>978</td>\n",
       "    </tr>\n",
       "    <tr>\n",
       "      <th>48</th>\n",
       "      <td>321.0</td>\n",
       "      <td>110.0</td>\n",
       "      <td>3.0</td>\n",
       "      <td>3.5</td>\n",
       "      <td>5.0</td>\n",
       "      <td>8.85</td>\n",
       "      <td>yes</td>\n",
       "      <td>1</td>\n",
       "      <td>female</td>\n",
       "      <td>bachelor</td>\n",
       "      <td>STD1048</td>\n",
       "      <td>876</td>\n",
       "    </tr>\n",
       "    <tr>\n",
       "      <th>349</th>\n",
       "      <td>313.0</td>\n",
       "      <td>101.0</td>\n",
       "      <td>3.0</td>\n",
       "      <td>2.5</td>\n",
       "      <td>3.0</td>\n",
       "      <td>8.04</td>\n",
       "      <td>no</td>\n",
       "      <td>0</td>\n",
       "      <td>female</td>\n",
       "      <td>bachelor</td>\n",
       "      <td>STD1349</td>\n",
       "      <td>447</td>\n",
       "    </tr>\n",
       "    <tr>\n",
       "      <th>42</th>\n",
       "      <td>313.0</td>\n",
       "      <td>107.0</td>\n",
       "      <td>2.0</td>\n",
       "      <td>NaN</td>\n",
       "      <td>2.0</td>\n",
       "      <td>8.50</td>\n",
       "      <td>yes</td>\n",
       "      <td>0</td>\n",
       "      <td>female</td>\n",
       "      <td>master</td>\n",
       "      <td>STD1042</td>\n",
       "      <td>300</td>\n",
       "    </tr>\n",
       "  </tbody>\n",
       "</table>\n",
       "</div>"
      ],
      "text/plain": [
       "     gre_score  toefl_score  univ_ranking  motiv_letter_strength  \\\n",
       "441      332.0        112.0           1.0                    1.5   \n",
       "25       340.0        120.0           5.0                    4.5   \n",
       "48       321.0        110.0           3.0                    3.5   \n",
       "349      313.0        101.0           3.0                    2.5   \n",
       "42       313.0        107.0           2.0                    NaN   \n",
       "\n",
       "     recommendation_strength   gpa research_exp  admit_status  gender  \\\n",
       "441                      3.0  8.66          yes             1  female   \n",
       "25                       4.5  9.60          yes             1    male   \n",
       "48                       5.0  8.85          yes             1  female   \n",
       "349                      3.0  8.04           no             0  female   \n",
       "42                       2.0  8.50          yes             0  female   \n",
       "\n",
       "    education id_student  final_score  \n",
       "441    master    STD1441          870  \n",
       "25     master    STD1025          978  \n",
       "48   bachelor    STD1048          876  \n",
       "349  bachelor    STD1349          447  \n",
       "42     master    STD1042          300  "
      ]
     },
     "execution_count": 6,
     "metadata": {},
     "output_type": "execute_result"
    }
   ],
   "source": [
    "# sample 5 rows of the data\n",
    "# the results change everytime the code is executed (random sample)\n",
    "data.sample(5)"
   ]
  },
  {
   "cell_type": "markdown",
   "metadata": {
    "id": "ozxhuNxdpa9d"
   },
   "source": [
    "Observations:\n",
    "1. All columns, except `research_exp` column, are numeric\n",
    "2. `research_exp` column seems to contain two distinct values (yes OR no), but will confirm later\n",
    "3. `admit_status` is apparently also binary (0,1)\n",
    "4. No obvious defect on the data (column name vs its entries), all looks good"
   ]
  },
  {
   "cell_type": "code",
   "execution_count": 7,
   "metadata": {
    "colab": {
     "base_uri": "https://localhost:8080/"
    },
    "executionInfo": {
     "elapsed": 33,
     "status": "ok",
     "timestamp": 1758106688359,
     "user": {
      "displayName": "Kurnia Freelancer",
      "userId": "04717991342523634432"
     },
     "user_tz": -420
    },
    "id": "bG8e06FW8t3P",
    "outputId": "2db039aa-219b-43ac-c1e1-c71dc1e7febd"
   },
   "outputs": [
    {
     "name": "stdout",
     "output_type": "stream",
     "text": [
      "<class 'pandas.core.frame.DataFrame'>\n",
      "RangeIndex: 505 entries, 0 to 504\n",
      "Data columns (total 12 columns):\n",
      " #   Column                   Non-Null Count  Dtype  \n",
      "---  ------                   --------------  -----  \n",
      " 0   gre_score                496 non-null    float64\n",
      " 1   toefl_score              497 non-null    float64\n",
      " 2   univ_ranking             498 non-null    float64\n",
      " 3   motiv_letter_strength    503 non-null    float64\n",
      " 4   recommendation_strength  499 non-null    float64\n",
      " 5   gpa                      501 non-null    float64\n",
      " 6   research_exp             505 non-null    object \n",
      " 7   admit_status             505 non-null    int64  \n",
      " 8   gender                   505 non-null    object \n",
      " 9   education                505 non-null    object \n",
      " 10  id_student               505 non-null    object \n",
      " 11  final_score              505 non-null    int64  \n",
      "dtypes: float64(6), int64(2), object(4)\n",
      "memory usage: 47.5+ KB\n"
     ]
    }
   ],
   "source": [
    "data.info()"
   ]
  },
  {
   "cell_type": "markdown",
   "metadata": {
    "id": "fYb26YO78t3P"
   },
   "source": [
    "Observation:\n",
    "1. Data contains 11 columns with 505 rows\n",
    "2. Most of the columns have missing values (except `research_exp` and `admit_status`,`gender`,`education`,`id_student`,`final_score`), they will be handled later\n",
    "3. All dtypes seem OK (appropriate), given the corresponding column name\n",
    "4. id_student set to index beacause of unique value"
   ]
  },
  {
   "cell_type": "markdown",
   "metadata": {
    "id": "gQdjxWal8t3T"
   },
   "source": [
    "# Statistical Summary"
   ]
  },
  {
   "cell_type": "code",
   "execution_count": 8,
   "metadata": {
    "colab": {
     "base_uri": "https://localhost:8080/"
    },
    "executionInfo": {
     "elapsed": 16,
     "status": "ok",
     "timestamp": 1758106688361,
     "user": {
      "displayName": "Kurnia Freelancer",
      "userId": "04717991342523634432"
     },
     "user_tz": -420
    },
    "id": "RRBSoIfMVo9b",
    "outputId": "4d5b4051-3fba-4299-ce32-771771ad8b37"
   },
   "outputs": [
    {
     "data": {
      "text/plain": [
       "Index(['gre_score', 'toefl_score', 'univ_ranking', 'motiv_letter_strength',\n",
       "       'recommendation_strength', 'gpa', 'research_exp', 'admit_status',\n",
       "       'gender', 'education', 'id_student', 'final_score'],\n",
       "      dtype='object')"
      ]
     },
     "execution_count": 8,
     "metadata": {},
     "output_type": "execute_result"
    }
   ],
   "source": [
    "data.columns"
   ]
  },
  {
   "cell_type": "code",
   "execution_count": 9,
   "metadata": {
    "executionInfo": {
     "elapsed": 8,
     "status": "ok",
     "timestamp": 1758106688362,
     "user": {
      "displayName": "Kurnia Freelancer",
      "userId": "04717991342523634432"
     },
     "user_tz": -420
    },
    "id": "MYsGPnVI8t3T"
   },
   "outputs": [],
   "source": [
    "# group column names based on type\n",
    "# it will make our life easier onwards\n",
    "categoricals = ['research_exp','gender']\n",
    "\n",
    "numericals = ['gre_score', 'toefl_score', 'univ_ranking',\n",
    "              'motiv_letter_strength','recommendation_strength',\n",
    "              'gpa','admit_status','final_score']"
   ]
  },
  {
   "cell_type": "code",
   "execution_count": 10,
   "metadata": {
    "colab": {
     "base_uri": "https://localhost:8080/",
     "height": 300
    },
    "executionInfo": {
     "elapsed": 4,
     "status": "ok",
     "timestamp": 1758106688378,
     "user": {
      "displayName": "Kurnia Freelancer",
      "userId": "04717991342523634432"
     },
     "user_tz": -420
    },
    "id": "MAE1JQHS8t3T",
    "outputId": "fc83ed3f-d595-4fda-90c3-047b2015840d"
   },
   "outputs": [
    {
     "data": {
      "text/html": [
       "<div>\n",
       "<style scoped>\n",
       "    .dataframe tbody tr th:only-of-type {\n",
       "        vertical-align: middle;\n",
       "    }\n",
       "\n",
       "    .dataframe tbody tr th {\n",
       "        vertical-align: top;\n",
       "    }\n",
       "\n",
       "    .dataframe thead th {\n",
       "        text-align: right;\n",
       "    }\n",
       "</style>\n",
       "<table border=\"1\" class=\"dataframe\">\n",
       "  <thead>\n",
       "    <tr style=\"text-align: right;\">\n",
       "      <th></th>\n",
       "      <th>gre_score</th>\n",
       "      <th>toefl_score</th>\n",
       "      <th>univ_ranking</th>\n",
       "      <th>motiv_letter_strength</th>\n",
       "      <th>recommendation_strength</th>\n",
       "      <th>gpa</th>\n",
       "      <th>admit_status</th>\n",
       "      <th>final_score</th>\n",
       "    </tr>\n",
       "  </thead>\n",
       "  <tbody>\n",
       "    <tr>\n",
       "      <th>count</th>\n",
       "      <td>496.000000</td>\n",
       "      <td>497.000000</td>\n",
       "      <td>498.000000</td>\n",
       "      <td>503.000000</td>\n",
       "      <td>499.000000</td>\n",
       "      <td>501.000000</td>\n",
       "      <td>505.000000</td>\n",
       "      <td>505.000000</td>\n",
       "    </tr>\n",
       "    <tr>\n",
       "      <th>mean</th>\n",
       "      <td>316.483871</td>\n",
       "      <td>107.173038</td>\n",
       "      <td>3.134538</td>\n",
       "      <td>3.387674</td>\n",
       "      <td>3.482966</td>\n",
       "      <td>8.574790</td>\n",
       "      <td>0.574257</td>\n",
       "      <td>689.366337</td>\n",
       "    </tr>\n",
       "    <tr>\n",
       "      <th>std</th>\n",
       "      <td>11.218840</td>\n",
       "      <td>6.020650</td>\n",
       "      <td>1.134768</td>\n",
       "      <td>0.985860</td>\n",
       "      <td>0.928255</td>\n",
       "      <td>0.601478</td>\n",
       "      <td>0.494945</td>\n",
       "      <td>210.628412</td>\n",
       "    </tr>\n",
       "    <tr>\n",
       "      <th>min</th>\n",
       "      <td>290.000000</td>\n",
       "      <td>92.000000</td>\n",
       "      <td>1.000000</td>\n",
       "      <td>1.000000</td>\n",
       "      <td>1.000000</td>\n",
       "      <td>6.800000</td>\n",
       "      <td>0.000000</td>\n",
       "      <td>300.000000</td>\n",
       "    </tr>\n",
       "    <tr>\n",
       "      <th>25%</th>\n",
       "      <td>308.000000</td>\n",
       "      <td>103.000000</td>\n",
       "      <td>2.000000</td>\n",
       "      <td>2.500000</td>\n",
       "      <td>3.000000</td>\n",
       "      <td>8.130000</td>\n",
       "      <td>0.000000</td>\n",
       "      <td>487.000000</td>\n",
       "    </tr>\n",
       "    <tr>\n",
       "      <th>50%</th>\n",
       "      <td>317.000000</td>\n",
       "      <td>107.000000</td>\n",
       "      <td>3.000000</td>\n",
       "      <td>3.500000</td>\n",
       "      <td>3.500000</td>\n",
       "      <td>8.560000</td>\n",
       "      <td>1.000000</td>\n",
       "      <td>785.000000</td>\n",
       "    </tr>\n",
       "    <tr>\n",
       "      <th>75%</th>\n",
       "      <td>325.000000</td>\n",
       "      <td>112.000000</td>\n",
       "      <td>4.000000</td>\n",
       "      <td>4.000000</td>\n",
       "      <td>4.000000</td>\n",
       "      <td>9.040000</td>\n",
       "      <td>1.000000</td>\n",
       "      <td>876.000000</td>\n",
       "    </tr>\n",
       "    <tr>\n",
       "      <th>max</th>\n",
       "      <td>340.000000</td>\n",
       "      <td>120.000000</td>\n",
       "      <td>5.000000</td>\n",
       "      <td>5.000000</td>\n",
       "      <td>5.000000</td>\n",
       "      <td>9.920000</td>\n",
       "      <td>1.000000</td>\n",
       "      <td>1000.000000</td>\n",
       "    </tr>\n",
       "  </tbody>\n",
       "</table>\n",
       "</div>"
      ],
      "text/plain": [
       "        gre_score  toefl_score  univ_ranking  motiv_letter_strength  \\\n",
       "count  496.000000   497.000000    498.000000             503.000000   \n",
       "mean   316.483871   107.173038      3.134538               3.387674   \n",
       "std     11.218840     6.020650      1.134768               0.985860   \n",
       "min    290.000000    92.000000      1.000000               1.000000   \n",
       "25%    308.000000   103.000000      2.000000               2.500000   \n",
       "50%    317.000000   107.000000      3.000000               3.500000   \n",
       "75%    325.000000   112.000000      4.000000               4.000000   \n",
       "max    340.000000   120.000000      5.000000               5.000000   \n",
       "\n",
       "       recommendation_strength         gpa  admit_status  final_score  \n",
       "count               499.000000  501.000000    505.000000   505.000000  \n",
       "mean                  3.482966    8.574790      0.574257   689.366337  \n",
       "std                   0.928255    0.601478      0.494945   210.628412  \n",
       "min                   1.000000    6.800000      0.000000   300.000000  \n",
       "25%                   3.000000    8.130000      0.000000   487.000000  \n",
       "50%                   3.500000    8.560000      1.000000   785.000000  \n",
       "75%                   4.000000    9.040000      1.000000   876.000000  \n",
       "max                   5.000000    9.920000      1.000000  1000.000000  "
      ]
     },
     "execution_count": 10,
     "metadata": {},
     "output_type": "execute_result"
    }
   ],
   "source": [
    "# Syntax numerical statistical summary\n",
    "data[numericals].describe()"
   ]
  },
  {
   "cell_type": "markdown",
   "metadata": {
    "id": "dIh_SjOa8t3U"
   },
   "source": [
    "Observation:\n",
    "* Overall, the minimum and maximum values make sense for each column\n",
    "* Mean ~ 50% (Median) in `gre_score`, `toefl_score`, and `gpa` column, indicating somewhat a symmetrical distribution\n",
    "* `admit_status` column is boolean/binary column since the value is 0 or 1, no need to conclude its simmetricity. Only need to check balance level\n",
    "* `univ_ranking`, `motiv_letter_strength`, and `recommendation_strength` are discrete values with not that many unique values, need to check values distribution later.\n"
   ]
  },
  {
   "cell_type": "code",
   "execution_count": 11,
   "metadata": {
    "colab": {
     "base_uri": "https://localhost:8080/",
     "height": 175
    },
    "executionInfo": {
     "elapsed": 6,
     "status": "ok",
     "timestamp": 1758106688387,
     "user": {
      "displayName": "Kurnia Freelancer",
      "userId": "04717991342523634432"
     },
     "user_tz": -420
    },
    "id": "0kH7ogc28t3U",
    "outputId": "00c750f7-5d88-4df1-a955-59443b64302e"
   },
   "outputs": [
    {
     "data": {
      "text/html": [
       "<div>\n",
       "<style scoped>\n",
       "    .dataframe tbody tr th:only-of-type {\n",
       "        vertical-align: middle;\n",
       "    }\n",
       "\n",
       "    .dataframe tbody tr th {\n",
       "        vertical-align: top;\n",
       "    }\n",
       "\n",
       "    .dataframe thead th {\n",
       "        text-align: right;\n",
       "    }\n",
       "</style>\n",
       "<table border=\"1\" class=\"dataframe\">\n",
       "  <thead>\n",
       "    <tr style=\"text-align: right;\">\n",
       "      <th></th>\n",
       "      <th>research_exp</th>\n",
       "      <th>gender</th>\n",
       "    </tr>\n",
       "  </thead>\n",
       "  <tbody>\n",
       "    <tr>\n",
       "      <th>count</th>\n",
       "      <td>505</td>\n",
       "      <td>505</td>\n",
       "    </tr>\n",
       "    <tr>\n",
       "      <th>unique</th>\n",
       "      <td>2</td>\n",
       "      <td>2</td>\n",
       "    </tr>\n",
       "    <tr>\n",
       "      <th>top</th>\n",
       "      <td>yes</td>\n",
       "      <td>female</td>\n",
       "    </tr>\n",
       "    <tr>\n",
       "      <th>freq</th>\n",
       "      <td>281</td>\n",
       "      <td>256</td>\n",
       "    </tr>\n",
       "  </tbody>\n",
       "</table>\n",
       "</div>"
      ],
      "text/plain": [
       "       research_exp  gender\n",
       "count           505     505\n",
       "unique            2       2\n",
       "top             yes  female\n",
       "freq            281     256"
      ]
     },
     "execution_count": 11,
     "metadata": {},
     "output_type": "execute_result"
    }
   ],
   "source": [
    "# Syntax describe method on categorical data\n",
    "data[categoricals].describe()"
   ]
  },
  {
   "cell_type": "markdown",
   "metadata": {
    "id": "2EQpnaxF8t3U"
   },
   "source": [
    "Observations:\n",
    "* `research_exp and gender` have 2 unique value, 'yes', and 'no'. female and male\n",
    "* student most have research_exp (280 rows), and the rest have no research experience. Female with 254 rows."
   ]
  },
  {
   "cell_type": "code",
   "execution_count": 12,
   "metadata": {
    "colab": {
     "base_uri": "https://localhost:8080/"
    },
    "executionInfo": {
     "elapsed": 17,
     "status": "ok",
     "timestamp": 1758106688407,
     "user": {
      "displayName": "Kurnia Freelancer",
      "userId": "04717991342523634432"
     },
     "user_tz": -420
    },
    "id": "nSf6pwcDAXFL",
    "outputId": "01afd164-c827-4800-bde2-7987db4185d5"
   },
   "outputs": [
    {
     "data": {
      "text/plain": [
       "['research_exp', 'gender']"
      ]
     },
     "execution_count": 12,
     "metadata": {},
     "output_type": "execute_result"
    }
   ],
   "source": [
    "categoricals"
   ]
  },
  {
   "cell_type": "code",
   "execution_count": 13,
   "metadata": {
    "colab": {
     "base_uri": "https://localhost:8080/"
    },
    "executionInfo": {
     "elapsed": 10,
     "status": "ok",
     "timestamp": 1758106688421,
     "user": {
      "displayName": "Kurnia Freelancer",
      "userId": "04717991342523634432"
     },
     "user_tz": -420
    },
    "id": "1vb9neyQ8t3V",
    "outputId": "5e28e016-0232-4c5a-9b9f-447f8af6b4cb",
    "scrolled": true
   },
   "outputs": [
    {
     "name": "stdout",
     "output_type": "stream",
     "text": [
      "Value counts of research_exp column\n",
      "yes    281\n",
      "no     224\n",
      "Name: research_exp, dtype: int64 \n",
      "\n",
      "yes    0.556436\n",
      "no     0.443564\n",
      "Name: research_exp, dtype: float64 \n",
      "\n",
      "Value counts of gender column\n",
      "female    256\n",
      "male      249\n",
      "Name: gender, dtype: int64 \n",
      "\n",
      "female    0.506931\n",
      "male      0.493069\n",
      "Name: gender, dtype: float64 \n",
      "\n"
     ]
    }
   ],
   "source": [
    "# showing the precise value counts\n",
    "# this code is especially useful if we have many categorical columns\n",
    "for col in categoricals:\n",
    "  print(f\"Value counts of {col} column\")\n",
    "  print(data[col].value_counts(), '\\n')\n",
    "  print(data[col].value_counts(normalize=True), '\\n')"
   ]
  },
  {
   "cell_type": "code",
   "execution_count": 39,
   "metadata": {
    "colab": {
     "base_uri": "https://localhost:8080/",
     "height": 178
    },
    "executionInfo": {
     "elapsed": 10,
     "status": "ok",
     "timestamp": 1758106688429,
     "user": {
      "displayName": "Kurnia Freelancer",
      "userId": "04717991342523634432"
     },
     "user_tz": -420
    },
    "id": "VZwDaTr0PMnv",
    "outputId": "4d1a34e3-c287-47cd-d5d2-218936a76e1c"
   },
   "outputs": [
    {
     "data": {
      "text/plain": [
       "1    0.575697\n",
       "0    0.424303\n",
       "Name: admit_status, dtype: float64"
      ]
     },
     "execution_count": 39,
     "metadata": {},
     "output_type": "execute_result"
    }
   ],
   "source": [
    "data['admit_status'].value_counts(normalize=True) # percent\n",
    "# in case ML checking target variabel"
   ]
  },
  {
   "cell_type": "markdown",
   "metadata": {
    "id": "wL01trORVo9d"
   },
   "source": [
    "# Feature Engineering / Data Cleaning / Data Manipulation : Istilah yg sama"
   ]
  },
  {
   "cell_type": "markdown",
   "metadata": {
    "id": "8MD2l8RTVo9d"
   },
   "source": [
    "## 1. Duplicate Handling"
   ]
  },
  {
   "cell_type": "code",
   "execution_count": 15,
   "metadata": {
    "colab": {
     "base_uri": "https://localhost:8080/",
     "height": 255
    },
    "executionInfo": {
     "elapsed": 30,
     "status": "ok",
     "timestamp": 1758106688462,
     "user": {
      "displayName": "Kurnia Freelancer",
      "userId": "04717991342523634432"
     },
     "user_tz": -420
    },
    "id": "FU6Z08ZhVo9d",
    "outputId": "2e007f4f-1c0e-4107-d516-6c499fb4b585",
    "scrolled": true
   },
   "outputs": [
    {
     "name": "stdout",
     "output_type": "stream",
     "text": [
      "Baris dengan duplikat:\n"
     ]
    },
    {
     "data": {
      "text/html": [
       "<div>\n",
       "<style scoped>\n",
       "    .dataframe tbody tr th:only-of-type {\n",
       "        vertical-align: middle;\n",
       "    }\n",
       "\n",
       "    .dataframe tbody tr th {\n",
       "        vertical-align: top;\n",
       "    }\n",
       "\n",
       "    .dataframe thead th {\n",
       "        text-align: right;\n",
       "    }\n",
       "</style>\n",
       "<table border=\"1\" class=\"dataframe\">\n",
       "  <thead>\n",
       "    <tr style=\"text-align: right;\">\n",
       "      <th></th>\n",
       "      <th>gre_score</th>\n",
       "      <th>toefl_score</th>\n",
       "      <th>univ_ranking</th>\n",
       "      <th>motiv_letter_strength</th>\n",
       "      <th>recommendation_strength</th>\n",
       "      <th>gpa</th>\n",
       "      <th>research_exp</th>\n",
       "      <th>admit_status</th>\n",
       "      <th>gender</th>\n",
       "      <th>education</th>\n",
       "      <th>id_student</th>\n",
       "      <th>final_score</th>\n",
       "    </tr>\n",
       "  </thead>\n",
       "  <tbody>\n",
       "    <tr>\n",
       "      <th>9</th>\n",
       "      <td>328.0</td>\n",
       "      <td>108.0</td>\n",
       "      <td>4.0</td>\n",
       "      <td>4.5</td>\n",
       "      <td>4.0</td>\n",
       "      <td>9.18</td>\n",
       "      <td>yes</td>\n",
       "      <td>1</td>\n",
       "      <td>female</td>\n",
       "      <td>bachelor</td>\n",
       "      <td>STD1501</td>\n",
       "      <td>889</td>\n",
       "    </tr>\n",
       "    <tr>\n",
       "      <th>14</th>\n",
       "      <td>311.0</td>\n",
       "      <td>104.0</td>\n",
       "      <td>3.0</td>\n",
       "      <td>3.5</td>\n",
       "      <td>2.0</td>\n",
       "      <td>8.20</td>\n",
       "      <td>yes</td>\n",
       "      <td>0</td>\n",
       "      <td>female</td>\n",
       "      <td>master</td>\n",
       "      <td>STD1014</td>\n",
       "      <td>503</td>\n",
       "    </tr>\n",
       "    <tr>\n",
       "      <th>154</th>\n",
       "      <td>311.0</td>\n",
       "      <td>104.0</td>\n",
       "      <td>3.0</td>\n",
       "      <td>3.5</td>\n",
       "      <td>2.0</td>\n",
       "      <td>8.20</td>\n",
       "      <td>yes</td>\n",
       "      <td>0</td>\n",
       "      <td>female</td>\n",
       "      <td>master</td>\n",
       "      <td>STD1014</td>\n",
       "      <td>503</td>\n",
       "    </tr>\n",
       "    <tr>\n",
       "      <th>163</th>\n",
       "      <td>317.0</td>\n",
       "      <td>105.0</td>\n",
       "      <td>3.0</td>\n",
       "      <td>3.5</td>\n",
       "      <td>3.0</td>\n",
       "      <td>8.56</td>\n",
       "      <td>no</td>\n",
       "      <td>0</td>\n",
       "      <td>female</td>\n",
       "      <td>bachelor</td>\n",
       "      <td>STD1163</td>\n",
       "      <td>539</td>\n",
       "    </tr>\n",
       "    <tr>\n",
       "      <th>485</th>\n",
       "      <td>317.0</td>\n",
       "      <td>105.0</td>\n",
       "      <td>3.0</td>\n",
       "      <td>3.5</td>\n",
       "      <td>3.0</td>\n",
       "      <td>8.56</td>\n",
       "      <td>no</td>\n",
       "      <td>0</td>\n",
       "      <td>female</td>\n",
       "      <td>bachelor</td>\n",
       "      <td>STD1163</td>\n",
       "      <td>539</td>\n",
       "    </tr>\n",
       "    <tr>\n",
       "      <th>501</th>\n",
       "      <td>328.0</td>\n",
       "      <td>108.0</td>\n",
       "      <td>4.0</td>\n",
       "      <td>4.5</td>\n",
       "      <td>4.0</td>\n",
       "      <td>9.18</td>\n",
       "      <td>yes</td>\n",
       "      <td>1</td>\n",
       "      <td>female</td>\n",
       "      <td>bachelor</td>\n",
       "      <td>STD1501</td>\n",
       "      <td>889</td>\n",
       "    </tr>\n",
       "  </tbody>\n",
       "</table>\n",
       "</div>"
      ],
      "text/plain": [
       "     gre_score  toefl_score  univ_ranking  motiv_letter_strength  \\\n",
       "9        328.0        108.0           4.0                    4.5   \n",
       "14       311.0        104.0           3.0                    3.5   \n",
       "154      311.0        104.0           3.0                    3.5   \n",
       "163      317.0        105.0           3.0                    3.5   \n",
       "485      317.0        105.0           3.0                    3.5   \n",
       "501      328.0        108.0           4.0                    4.5   \n",
       "\n",
       "     recommendation_strength   gpa research_exp  admit_status  gender  \\\n",
       "9                        4.0  9.18          yes             1  female   \n",
       "14                       2.0  8.20          yes             0  female   \n",
       "154                      2.0  8.20          yes             0  female   \n",
       "163                      3.0  8.56           no             0  female   \n",
       "485                      3.0  8.56           no             0  female   \n",
       "501                      4.0  9.18          yes             1  female   \n",
       "\n",
       "    education id_student  final_score  \n",
       "9    bachelor    STD1501          889  \n",
       "14     master    STD1014          503  \n",
       "154    master    STD1014          503  \n",
       "163  bachelor    STD1163          539  \n",
       "485  bachelor    STD1163          539  \n",
       "501  bachelor    STD1501          889  "
      ]
     },
     "execution_count": 15,
     "metadata": {},
     "output_type": "execute_result"
    }
   ],
   "source": [
    "# Menampilkan baris yang memiliki duplikat berdasarkan semua kolom, nanti hanya pilih 1 saja, karena yang duplikat hanya 44 baris\n",
    "duplicates = data[data.duplicated(keep=False)]\n",
    "\n",
    "print(\"Baris dengan duplikat:\")\n",
    "duplicates"
   ]
  },
  {
   "cell_type": "markdown",
   "metadata": {
    "id": "YuSJBUBbVo9e"
   },
   "source": [
    "Pada kode (df[df.duplicated(keep=False)]), Anda langsung mencetak baris yang memiliki duplikat dengan menggunakan metode duplicated dan memasukkan parameter keep=False. Ini mencetak semua baris yang memiliki duplikat tanpa mengurangi apa pun dari DataFrame."
   ]
  },
  {
   "cell_type": "code",
   "execution_count": 16,
   "metadata": {
    "executionInfo": {
     "elapsed": 35,
     "status": "ok",
     "timestamp": 1758106688501,
     "user": {
      "displayName": "Kurnia Freelancer",
      "userId": "04717991342523634432"
     },
     "user_tz": -420
    },
    "id": "Xb7GVOXvVo9e"
   },
   "outputs": [],
   "source": [
    "#Handling Drop duplicate\n",
    "data = data.drop_duplicates()"
   ]
  },
  {
   "cell_type": "code",
   "execution_count": 17,
   "metadata": {
    "colab": {
     "base_uri": "https://localhost:8080/",
     "height": 106
    },
    "executionInfo": {
     "elapsed": 28,
     "status": "ok",
     "timestamp": 1758106688533,
     "user": {
      "displayName": "Kurnia Freelancer",
      "userId": "04717991342523634432"
     },
     "user_tz": -420
    },
    "id": "qReQ1gwUUssh",
    "outputId": "cd2576eb-9571-4ebe-f9ed-0c1938cfd1aa"
   },
   "outputs": [
    {
     "name": "stdout",
     "output_type": "stream",
     "text": [
      "Baris dengan duplikat:\n"
     ]
    },
    {
     "data": {
      "text/html": [
       "<div>\n",
       "<style scoped>\n",
       "    .dataframe tbody tr th:only-of-type {\n",
       "        vertical-align: middle;\n",
       "    }\n",
       "\n",
       "    .dataframe tbody tr th {\n",
       "        vertical-align: top;\n",
       "    }\n",
       "\n",
       "    .dataframe thead th {\n",
       "        text-align: right;\n",
       "    }\n",
       "</style>\n",
       "<table border=\"1\" class=\"dataframe\">\n",
       "  <thead>\n",
       "    <tr style=\"text-align: right;\">\n",
       "      <th></th>\n",
       "      <th>gre_score</th>\n",
       "      <th>toefl_score</th>\n",
       "      <th>univ_ranking</th>\n",
       "      <th>motiv_letter_strength</th>\n",
       "      <th>recommendation_strength</th>\n",
       "      <th>gpa</th>\n",
       "      <th>research_exp</th>\n",
       "      <th>admit_status</th>\n",
       "      <th>gender</th>\n",
       "      <th>education</th>\n",
       "      <th>id_student</th>\n",
       "      <th>final_score</th>\n",
       "    </tr>\n",
       "  </thead>\n",
       "  <tbody>\n",
       "  </tbody>\n",
       "</table>\n",
       "</div>"
      ],
      "text/plain": [
       "Empty DataFrame\n",
       "Columns: [gre_score, toefl_score, univ_ranking, motiv_letter_strength, recommendation_strength, gpa, research_exp, admit_status, gender, education, id_student, final_score]\n",
       "Index: []"
      ]
     },
     "execution_count": 17,
     "metadata": {},
     "output_type": "execute_result"
    }
   ],
   "source": [
    "# Menampilkan baris yang memiliki duplikat berdasarkan semua kolom, nanti hanya pilih 1 saja, karena yang duplikat hanya 44 baris\n",
    "duplicates = data[data.duplicated(keep=False)]\n",
    "\n",
    "print(\"Baris dengan duplikat:\")\n",
    "duplicates"
   ]
  },
  {
   "cell_type": "code",
   "execution_count": 18,
   "metadata": {
    "colab": {
     "base_uri": "https://localhost:8080/",
     "height": 237
    },
    "executionInfo": {
     "elapsed": 40,
     "status": "ok",
     "timestamp": 1758106688575,
     "user": {
      "displayName": "Kurnia Freelancer",
      "userId": "04717991342523634432"
     },
     "user_tz": -420
    },
    "id": "ss1uF1lNK-gb",
    "outputId": "7e268eb4-6220-426c-85ac-eea936d0bbcd"
   },
   "outputs": [
    {
     "data": {
      "text/html": [
       "<div>\n",
       "<style scoped>\n",
       "    .dataframe tbody tr th:only-of-type {\n",
       "        vertical-align: middle;\n",
       "    }\n",
       "\n",
       "    .dataframe tbody tr th {\n",
       "        vertical-align: top;\n",
       "    }\n",
       "\n",
       "    .dataframe thead th {\n",
       "        text-align: right;\n",
       "    }\n",
       "</style>\n",
       "<table border=\"1\" class=\"dataframe\">\n",
       "  <thead>\n",
       "    <tr style=\"text-align: right;\">\n",
       "      <th></th>\n",
       "      <th>gre_score</th>\n",
       "      <th>toefl_score</th>\n",
       "      <th>univ_ranking</th>\n",
       "      <th>motiv_letter_strength</th>\n",
       "      <th>recommendation_strength</th>\n",
       "      <th>gpa</th>\n",
       "      <th>research_exp</th>\n",
       "      <th>admit_status</th>\n",
       "      <th>gender</th>\n",
       "      <th>education</th>\n",
       "      <th>final_score</th>\n",
       "    </tr>\n",
       "    <tr>\n",
       "      <th>id_student</th>\n",
       "      <th></th>\n",
       "      <th></th>\n",
       "      <th></th>\n",
       "      <th></th>\n",
       "      <th></th>\n",
       "      <th></th>\n",
       "      <th></th>\n",
       "      <th></th>\n",
       "      <th></th>\n",
       "      <th></th>\n",
       "      <th></th>\n",
       "    </tr>\n",
       "  </thead>\n",
       "  <tbody>\n",
       "    <tr>\n",
       "      <th>STD1000</th>\n",
       "      <td>337.0</td>\n",
       "      <td>118.0</td>\n",
       "      <td>4.0</td>\n",
       "      <td>4.5</td>\n",
       "      <td>4.5</td>\n",
       "      <td>9.65</td>\n",
       "      <td>yes</td>\n",
       "      <td>1</td>\n",
       "      <td>male</td>\n",
       "      <td>bachelor</td>\n",
       "      <td>960</td>\n",
       "    </tr>\n",
       "    <tr>\n",
       "      <th>STD1001</th>\n",
       "      <td>324.0</td>\n",
       "      <td>107.0</td>\n",
       "      <td>4.0</td>\n",
       "      <td>4.0</td>\n",
       "      <td>4.5</td>\n",
       "      <td>8.87</td>\n",
       "      <td>yes</td>\n",
       "      <td>1</td>\n",
       "      <td>female</td>\n",
       "      <td>master</td>\n",
       "      <td>887</td>\n",
       "    </tr>\n",
       "    <tr>\n",
       "      <th>STD1002</th>\n",
       "      <td>316.0</td>\n",
       "      <td>104.0</td>\n",
       "      <td>3.0</td>\n",
       "      <td>3.0</td>\n",
       "      <td>3.5</td>\n",
       "      <td>8.00</td>\n",
       "      <td>yes</td>\n",
       "      <td>1</td>\n",
       "      <td>male</td>\n",
       "      <td>bachelor</td>\n",
       "      <td>780</td>\n",
       "    </tr>\n",
       "    <tr>\n",
       "      <th>STD1003</th>\n",
       "      <td>322.0</td>\n",
       "      <td>110.0</td>\n",
       "      <td>3.0</td>\n",
       "      <td>3.5</td>\n",
       "      <td>2.5</td>\n",
       "      <td>8.67</td>\n",
       "      <td>yes</td>\n",
       "      <td>1</td>\n",
       "      <td>female</td>\n",
       "      <td>master</td>\n",
       "      <td>851</td>\n",
       "    </tr>\n",
       "    <tr>\n",
       "      <th>STD1004</th>\n",
       "      <td>314.0</td>\n",
       "      <td>103.0</td>\n",
       "      <td>2.0</td>\n",
       "      <td>2.0</td>\n",
       "      <td>3.0</td>\n",
       "      <td>8.21</td>\n",
       "      <td>no</td>\n",
       "      <td>0</td>\n",
       "      <td>male</td>\n",
       "      <td>bachelor</td>\n",
       "      <td>473</td>\n",
       "    </tr>\n",
       "  </tbody>\n",
       "</table>\n",
       "</div>"
      ],
      "text/plain": [
       "            gre_score  toefl_score  univ_ranking  motiv_letter_strength  \\\n",
       "id_student                                                                \n",
       "STD1000         337.0        118.0           4.0                    4.5   \n",
       "STD1001         324.0        107.0           4.0                    4.0   \n",
       "STD1002         316.0        104.0           3.0                    3.0   \n",
       "STD1003         322.0        110.0           3.0                    3.5   \n",
       "STD1004         314.0        103.0           2.0                    2.0   \n",
       "\n",
       "            recommendation_strength   gpa research_exp  admit_status  gender  \\\n",
       "id_student                                                                     \n",
       "STD1000                         4.5  9.65          yes             1    male   \n",
       "STD1001                         4.5  8.87          yes             1  female   \n",
       "STD1002                         3.5  8.00          yes             1    male   \n",
       "STD1003                         2.5  8.67          yes             1  female   \n",
       "STD1004                         3.0  8.21           no             0    male   \n",
       "\n",
       "           education  final_score  \n",
       "id_student                         \n",
       "STD1000     bachelor          960  \n",
       "STD1001       master          887  \n",
       "STD1002     bachelor          780  \n",
       "STD1003       master          851  \n",
       "STD1004     bachelor          473  "
      ]
     },
     "execution_count": 18,
     "metadata": {},
     "output_type": "execute_result"
    }
   ],
   "source": [
    "# set id to index because of id student is unique\n",
    "data = data.set_index(\"id_student\")\n",
    "data.head()"
   ]
  },
  {
   "cell_type": "markdown",
   "metadata": {
    "id": "XfNEUu7SVo9e"
   },
   "source": [
    "#### Telah dihandling drop duplikat"
   ]
  },
  {
   "cell_type": "markdown",
   "metadata": {
    "id": "zqjF__3IVo9e"
   },
   "source": [
    "# 2. Missing value handling\n",
    "### Identifying Missing value"
   ]
  },
  {
   "cell_type": "code",
   "execution_count": 19,
   "metadata": {
    "colab": {
     "base_uri": "https://localhost:8080/",
     "height": 429
    },
    "executionInfo": {
     "elapsed": 25,
     "status": "ok",
     "timestamp": 1758106688581,
     "user": {
      "displayName": "Kurnia Freelancer",
      "userId": "04717991342523634432"
     },
     "user_tz": -420
    },
    "id": "f-Aq_tMDVo9e",
    "outputId": "72e3958f-3679-4ed1-b123-bb2983fba715"
   },
   "outputs": [
    {
     "data": {
      "text/plain": [
       "gre_score                  9\n",
       "toefl_score                8\n",
       "univ_ranking               7\n",
       "motiv_letter_strength      2\n",
       "recommendation_strength    6\n",
       "gpa                        4\n",
       "research_exp               0\n",
       "admit_status               0\n",
       "gender                     0\n",
       "education                  0\n",
       "final_score                0\n",
       "dtype: int64"
      ]
     },
     "execution_count": 19,
     "metadata": {},
     "output_type": "execute_result"
    }
   ],
   "source": [
    "data.isna().sum()"
   ]
  },
  {
   "cell_type": "code",
   "execution_count": 20,
   "metadata": {
    "colab": {
     "base_uri": "https://localhost:8080/",
     "height": 429
    },
    "executionInfo": {
     "elapsed": 21,
     "status": "ok",
     "timestamp": 1758106688619,
     "user": {
      "displayName": "Kurnia Freelancer",
      "userId": "04717991342523634432"
     },
     "user_tz": -420
    },
    "id": "_-0Vy01bVo9f",
    "outputId": "27441bdc-61d2-4980-b584-2579a8e41ffc"
   },
   "outputs": [
    {
     "data": {
      "text/plain": [
       "gre_score                  9\n",
       "toefl_score                8\n",
       "univ_ranking               7\n",
       "motiv_letter_strength      2\n",
       "recommendation_strength    6\n",
       "gpa                        4\n",
       "research_exp               0\n",
       "admit_status               0\n",
       "gender                     0\n",
       "education                  0\n",
       "final_score                0\n",
       "dtype: int64"
      ]
     },
     "execution_count": 20,
     "metadata": {},
     "output_type": "execute_result"
    }
   ],
   "source": [
    "data.isnull().sum()"
   ]
  },
  {
   "cell_type": "code",
   "execution_count": 21,
   "metadata": {
    "colab": {
     "base_uri": "https://localhost:8080/"
    },
    "executionInfo": {
     "elapsed": 38,
     "status": "ok",
     "timestamp": 1758106688656,
     "user": {
      "displayName": "Kurnia Freelancer",
      "userId": "04717991342523634432"
     },
     "user_tz": -420
    },
    "id": "3ZB7b1BE_LPX",
    "outputId": "fb41165f-1da5-40b8-b78f-16d78c2cdd04"
   },
   "outputs": [
    {
     "data": {
      "text/plain": [
       "502"
      ]
     },
     "execution_count": 21,
     "metadata": {},
     "output_type": "execute_result"
    }
   ],
   "source": [
    "len(data)"
   ]
  },
  {
   "cell_type": "code",
   "execution_count": 22,
   "metadata": {
    "colab": {
     "base_uri": "https://localhost:8080/"
    },
    "executionInfo": {
     "elapsed": 25,
     "status": "ok",
     "timestamp": 1758106688658,
     "user": {
      "displayName": "Kurnia Freelancer",
      "userId": "04717991342523634432"
     },
     "user_tz": -420
    },
    "id": "T3wMq_16fuV2",
    "outputId": "163f2ab1-139e-4941-87a4-d60e64ba7236"
   },
   "outputs": [
    {
     "data": {
      "text/plain": [
       "Index(['gre_score', 'toefl_score', 'univ_ranking', 'motiv_letter_strength',\n",
       "       'recommendation_strength', 'gpa', 'research_exp', 'admit_status',\n",
       "       'gender', 'education', 'final_score'],\n",
       "      dtype='object')"
      ]
     },
     "execution_count": 22,
     "metadata": {},
     "output_type": "execute_result"
    }
   ],
   "source": [
    "data.columns"
   ]
  },
  {
   "cell_type": "code",
   "execution_count": 23,
   "metadata": {
    "colab": {
     "base_uri": "https://localhost:8080/"
    },
    "executionInfo": {
     "elapsed": 19,
     "status": "ok",
     "timestamp": 1758106688660,
     "user": {
      "displayName": "Kurnia Freelancer",
      "userId": "04717991342523634432"
     },
     "user_tz": -420
    },
    "id": "ZIL8hOxKrC7R",
    "outputId": "4b91554f-8a74-4733-a86d-5f521f496edd",
    "scrolled": true
   },
   "outputs": [
    {
     "name": "stdout",
     "output_type": "stream",
     "text": [
      "Column 'gre_score' Has 9 missing values (1.79%)\n",
      "Column 'toefl_score' Has 8 missing values (1.59%)\n",
      "Column 'univ_ranking' Has 7 missing values (1.39%)\n",
      "Column 'motiv_letter_strength' Has 2 missing values (0.40%)\n",
      "Column 'recommendation_strength' Has 6 missing values (1.20%)\n",
      "Column 'gpa' Has 4 missing values (0.80%)\n",
      "Column 'research_exp' Has 0 missing values (0.00%)\n",
      "Column 'admit_status' Has 0 missing values (0.00%)\n",
      "Column 'gender' Has 0 missing values (0.00%)\n",
      "Column 'education' Has 0 missing values (0.00%)\n",
      "Column 'final_score' Has 0 missing values (0.00%)\n"
     ]
    }
   ],
   "source": [
    "# percentage version\n",
    "total_rows = len(data)\n",
    "\n",
    "# Menghitung dan menampilkan persentase missing values di setiap kolom satu per satu\n",
    "for column in data.columns:\n",
    "    missing_count = data[column].isna().sum()\n",
    "    missing_percentage = (missing_count / total_rows) * 100\n",
    "    print(f\"Column '{column}' Has {missing_count} missing values ({missing_percentage:.2f}%)\") # .2f means 2 decimal"
   ]
  },
  {
   "cell_type": "markdown",
   "metadata": {
    "id": "ePWcjbeEVo9g"
   },
   "source": [
    "The percentage of missing values below 20% so we handle numerically with median, categorical with mode. But the categorical data type does not have missing values, namely research_exp."
   ]
  },
  {
   "cell_type": "code",
   "execution_count": 24,
   "metadata": {
    "colab": {
     "base_uri": "https://localhost:8080/"
    },
    "executionInfo": {
     "elapsed": 8,
     "status": "ok",
     "timestamp": 1758106688676,
     "user": {
      "displayName": "Kurnia Freelancer",
      "userId": "04717991342523634432"
     },
     "user_tz": -420
    },
    "id": "cVjjSHbfVo9g",
    "outputId": "7569b8ef-839a-4422-98b7-a2896148e53c"
   },
   "outputs": [
    {
     "name": "stdout",
     "output_type": "stream",
     "text": [
      "<class 'pandas.core.frame.DataFrame'>\n",
      "Index: 502 entries, STD1000 to STD1504\n",
      "Data columns (total 11 columns):\n",
      " #   Column                   Non-Null Count  Dtype  \n",
      "---  ------                   --------------  -----  \n",
      " 0   gre_score                493 non-null    float64\n",
      " 1   toefl_score              494 non-null    float64\n",
      " 2   univ_ranking             495 non-null    float64\n",
      " 3   motiv_letter_strength    500 non-null    float64\n",
      " 4   recommendation_strength  496 non-null    float64\n",
      " 5   gpa                      498 non-null    float64\n",
      " 6   research_exp             502 non-null    object \n",
      " 7   admit_status             502 non-null    int64  \n",
      " 8   gender                   502 non-null    object \n",
      " 9   education                502 non-null    object \n",
      " 10  final_score              502 non-null    int64  \n",
      "dtypes: float64(6), int64(2), object(3)\n",
      "memory usage: 47.1+ KB\n"
     ]
    }
   ],
   "source": [
    "data.info()"
   ]
  },
  {
   "cell_type": "code",
   "execution_count": 25,
   "metadata": {
    "colab": {
     "base_uri": "https://localhost:8080/"
    },
    "executionInfo": {
     "elapsed": 24,
     "status": "ok",
     "timestamp": 1758106688702,
     "user": {
      "displayName": "Kurnia Freelancer",
      "userId": "04717991342523634432"
     },
     "user_tz": -420
    },
    "id": "68ezuCebNB_O",
    "outputId": "2eaab48e-d8f4-4010-c5d8-c41372d87273"
   },
   "outputs": [
    {
     "data": {
      "text/plain": [
       "dtype('O')"
      ]
     },
     "execution_count": 25,
     "metadata": {},
     "output_type": "execute_result"
    }
   ],
   "source": [
    "data['research_exp'].dtype"
   ]
  },
  {
   "cell_type": "code",
   "execution_count": 26,
   "metadata": {
    "executionInfo": {
     "elapsed": 6,
     "status": "ok",
     "timestamp": 1758106688702,
     "user": {
      "displayName": "Kurnia Freelancer",
      "userId": "04717991342523634432"
     },
     "user_tz": -420
    },
    "id": "EBE_rz7QNM_R"
   },
   "outputs": [],
   "source": [
    "# ini sama\n",
    "# data[column] = data[column].fillna(data[column].mode()[0])\n",
    "# data[column].fillna(data[column].mode()[0], inplace=True)"
   ]
  },
  {
   "cell_type": "code",
   "execution_count": 27,
   "metadata": {
    "colab": {
     "base_uri": "https://localhost:8080/"
    },
    "executionInfo": {
     "elapsed": 11,
     "status": "ok",
     "timestamp": 1758106688711,
     "user": {
      "displayName": "Kurnia Freelancer",
      "userId": "04717991342523634432"
     },
     "user_tz": -420
    },
    "id": "JgbtXGersP9M",
    "outputId": "d4e02721-cab4-4c8b-9372-b0db7d4e7d9d"
   },
   "outputs": [],
   "source": [
    "# Handling missing value for EDA, without splitting\n",
    "for column in data.columns:\n",
    "    if data[column].dtype == 'object':\n",
    "        # Jika kolom bertipe object, isi dengan mode\n",
    "        data[column].fillna(data[column].mode()[0], inplace=True)\n",
    "    else: # karena tipe data hanya object dan numerik saja tidak ada yg lain, maka pakai else berikut\n",
    "        # Jika kolom bertipe numerik, isi dengan median\n",
    "        data[column].fillna(data[column].median(), inplace=True)"
   ]
  },
  {
   "cell_type": "code",
   "execution_count": 28,
   "metadata": {
    "colab": {
     "base_uri": "https://localhost:8080/",
     "height": 429
    },
    "executionInfo": {
     "elapsed": 29,
     "status": "ok",
     "timestamp": 1758106688741,
     "user": {
      "displayName": "Kurnia Freelancer",
      "userId": "04717991342523634432"
     },
     "user_tz": -420
    },
    "id": "Mx-1WNLsVo9h",
    "outputId": "f5ef0983-9558-45ed-cf19-c4fdf8b827c4"
   },
   "outputs": [
    {
     "data": {
      "text/plain": [
       "gre_score                  0\n",
       "toefl_score                0\n",
       "univ_ranking               0\n",
       "motiv_letter_strength      0\n",
       "recommendation_strength    0\n",
       "gpa                        0\n",
       "research_exp               0\n",
       "admit_status               0\n",
       "gender                     0\n",
       "education                  0\n",
       "final_score                0\n",
       "dtype: int64"
      ]
     },
     "execution_count": 28,
     "metadata": {},
     "output_type": "execute_result"
    }
   ],
   "source": [
    "data.isna().sum()"
   ]
  },
  {
   "cell_type": "code",
   "execution_count": 29,
   "metadata": {
    "colab": {
     "base_uri": "https://localhost:8080/",
     "height": 429
    },
    "executionInfo": {
     "elapsed": 39,
     "status": "ok",
     "timestamp": 1758106688777,
     "user": {
      "displayName": "Kurnia Freelancer",
      "userId": "04717991342523634432"
     },
     "user_tz": -420
    },
    "id": "D2NhdAhkXgkX",
    "outputId": "13429d37-0e53-453f-b4a2-6c41ca7a7a63"
   },
   "outputs": [
    {
     "data": {
      "text/plain": [
       "gre_score                  0\n",
       "toefl_score                0\n",
       "univ_ranking               0\n",
       "motiv_letter_strength      0\n",
       "recommendation_strength    0\n",
       "gpa                        0\n",
       "research_exp               0\n",
       "admit_status               0\n",
       "gender                     0\n",
       "education                  0\n",
       "final_score                0\n",
       "dtype: int64"
      ]
     },
     "execution_count": 29,
     "metadata": {},
     "output_type": "execute_result"
    }
   ],
   "source": [
    "data.isnull().sum()"
   ]
  },
  {
   "cell_type": "code",
   "execution_count": 30,
   "metadata": {
    "colab": {
     "base_uri": "https://localhost:8080/"
    },
    "executionInfo": {
     "elapsed": 50,
     "status": "ok",
     "timestamp": 1758106688826,
     "user": {
      "displayName": "Kurnia Freelancer",
      "userId": "04717991342523634432"
     },
     "user_tz": -420
    },
    "id": "CcFFE-peLQvy",
    "outputId": "a3dadd63-9dc4-4103-99f2-d5b477d1ab5c"
   },
   "outputs": [
    {
     "name": "stdout",
     "output_type": "stream",
     "text": [
      "<class 'pandas.core.frame.DataFrame'>\n",
      "Index: 502 entries, STD1000 to STD1504\n",
      "Data columns (total 11 columns):\n",
      " #   Column                   Non-Null Count  Dtype  \n",
      "---  ------                   --------------  -----  \n",
      " 0   gre_score                502 non-null    float64\n",
      " 1   toefl_score              502 non-null    float64\n",
      " 2   univ_ranking             502 non-null    float64\n",
      " 3   motiv_letter_strength    502 non-null    float64\n",
      " 4   recommendation_strength  502 non-null    float64\n",
      " 5   gpa                      502 non-null    float64\n",
      " 6   research_exp             502 non-null    object \n",
      " 7   admit_status             502 non-null    int64  \n",
      " 8   gender                   502 non-null    object \n",
      " 9   education                502 non-null    object \n",
      " 10  final_score              502 non-null    int64  \n",
      "dtypes: float64(6), int64(2), object(3)\n",
      "memory usage: 47.1+ KB\n"
     ]
    }
   ],
   "source": [
    "data.info()"
   ]
  },
  {
   "cell_type": "markdown",
   "metadata": {
    "id": "6LHi4ZgN8t3R"
   },
   "source": [
    "Success removing NULL values!"
   ]
  },
  {
   "cell_type": "markdown",
   "metadata": {
    "id": "hmPI8bfZKJvS"
   },
   "source": [
    "# 3. Encoding"
   ]
  },
  {
   "cell_type": "code",
   "execution_count": 31,
   "metadata": {
    "colab": {
     "base_uri": "https://localhost:8080/",
     "height": 237
    },
    "executionInfo": {
     "elapsed": 49,
     "status": "ok",
     "timestamp": 1758106688871,
     "user": {
      "displayName": "Kurnia Freelancer",
      "userId": "04717991342523634432"
     },
     "user_tz": -420
    },
    "id": "b7bhMFgsKLoa",
    "outputId": "c898d27d-ec35-4946-ad19-cd18878f7f78"
   },
   "outputs": [
    {
     "data": {
      "text/html": [
       "<div>\n",
       "<style scoped>\n",
       "    .dataframe tbody tr th:only-of-type {\n",
       "        vertical-align: middle;\n",
       "    }\n",
       "\n",
       "    .dataframe tbody tr th {\n",
       "        vertical-align: top;\n",
       "    }\n",
       "\n",
       "    .dataframe thead th {\n",
       "        text-align: right;\n",
       "    }\n",
       "</style>\n",
       "<table border=\"1\" class=\"dataframe\">\n",
       "  <thead>\n",
       "    <tr style=\"text-align: right;\">\n",
       "      <th></th>\n",
       "      <th>gre_score</th>\n",
       "      <th>toefl_score</th>\n",
       "      <th>univ_ranking</th>\n",
       "      <th>motiv_letter_strength</th>\n",
       "      <th>recommendation_strength</th>\n",
       "      <th>gpa</th>\n",
       "      <th>research_exp</th>\n",
       "      <th>admit_status</th>\n",
       "      <th>gender</th>\n",
       "      <th>education</th>\n",
       "      <th>final_score</th>\n",
       "    </tr>\n",
       "    <tr>\n",
       "      <th>id_student</th>\n",
       "      <th></th>\n",
       "      <th></th>\n",
       "      <th></th>\n",
       "      <th></th>\n",
       "      <th></th>\n",
       "      <th></th>\n",
       "      <th></th>\n",
       "      <th></th>\n",
       "      <th></th>\n",
       "      <th></th>\n",
       "      <th></th>\n",
       "    </tr>\n",
       "  </thead>\n",
       "  <tbody>\n",
       "    <tr>\n",
       "      <th>STD1000</th>\n",
       "      <td>337.0</td>\n",
       "      <td>118.0</td>\n",
       "      <td>4.0</td>\n",
       "      <td>4.5</td>\n",
       "      <td>4.5</td>\n",
       "      <td>9.65</td>\n",
       "      <td>1</td>\n",
       "      <td>1</td>\n",
       "      <td>male</td>\n",
       "      <td>1</td>\n",
       "      <td>960</td>\n",
       "    </tr>\n",
       "    <tr>\n",
       "      <th>STD1001</th>\n",
       "      <td>324.0</td>\n",
       "      <td>107.0</td>\n",
       "      <td>4.0</td>\n",
       "      <td>4.0</td>\n",
       "      <td>4.5</td>\n",
       "      <td>8.87</td>\n",
       "      <td>1</td>\n",
       "      <td>1</td>\n",
       "      <td>female</td>\n",
       "      <td>2</td>\n",
       "      <td>887</td>\n",
       "    </tr>\n",
       "    <tr>\n",
       "      <th>STD1002</th>\n",
       "      <td>316.0</td>\n",
       "      <td>104.0</td>\n",
       "      <td>3.0</td>\n",
       "      <td>3.0</td>\n",
       "      <td>3.5</td>\n",
       "      <td>8.00</td>\n",
       "      <td>1</td>\n",
       "      <td>1</td>\n",
       "      <td>male</td>\n",
       "      <td>1</td>\n",
       "      <td>780</td>\n",
       "    </tr>\n",
       "    <tr>\n",
       "      <th>STD1003</th>\n",
       "      <td>322.0</td>\n",
       "      <td>110.0</td>\n",
       "      <td>3.0</td>\n",
       "      <td>3.5</td>\n",
       "      <td>2.5</td>\n",
       "      <td>8.67</td>\n",
       "      <td>1</td>\n",
       "      <td>1</td>\n",
       "      <td>female</td>\n",
       "      <td>2</td>\n",
       "      <td>851</td>\n",
       "    </tr>\n",
       "    <tr>\n",
       "      <th>STD1004</th>\n",
       "      <td>314.0</td>\n",
       "      <td>103.0</td>\n",
       "      <td>2.0</td>\n",
       "      <td>2.0</td>\n",
       "      <td>3.0</td>\n",
       "      <td>8.21</td>\n",
       "      <td>0</td>\n",
       "      <td>0</td>\n",
       "      <td>male</td>\n",
       "      <td>1</td>\n",
       "      <td>473</td>\n",
       "    </tr>\n",
       "  </tbody>\n",
       "</table>\n",
       "</div>"
      ],
      "text/plain": [
       "            gre_score  toefl_score  univ_ranking  motiv_letter_strength  \\\n",
       "id_student                                                                \n",
       "STD1000         337.0        118.0           4.0                    4.5   \n",
       "STD1001         324.0        107.0           4.0                    4.0   \n",
       "STD1002         316.0        104.0           3.0                    3.0   \n",
       "STD1003         322.0        110.0           3.0                    3.5   \n",
       "STD1004         314.0        103.0           2.0                    2.0   \n",
       "\n",
       "            recommendation_strength   gpa  research_exp  admit_status  gender  \\\n",
       "id_student                                                                      \n",
       "STD1000                         4.5  9.65             1             1    male   \n",
       "STD1001                         4.5  8.87             1             1  female   \n",
       "STD1002                         3.5  8.00             1             1    male   \n",
       "STD1003                         2.5  8.67             1             1  female   \n",
       "STD1004                         3.0  8.21             0             0    male   \n",
       "\n",
       "            education  final_score  \n",
       "id_student                          \n",
       "STD1000             1          960  \n",
       "STD1001             2          887  \n",
       "STD1002             1          780  \n",
       "STD1003             2          851  \n",
       "STD1004             1          473  "
      ]
     },
     "execution_count": 31,
     "metadata": {},
     "output_type": "execute_result"
    }
   ],
   "source": [
    "# Label Encoding for ordinal category\n",
    "# 1. research_exp -> yes=1, no=0\n",
    "data[\"research_exp\"] = data[\"research_exp\"].str.lower().map({\"yes\": 1, \"no\": 0})\n",
    "\n",
    "# 2. education -> ordinal encoding (bachelor=1, master=2)\n",
    "edu_map = {\"bachelor\": 1, \"master\": 2}\n",
    "data[\"education\"] = data[\"education\"].str.lower().map(edu_map)\n",
    "data.head()"
   ]
  },
  {
   "cell_type": "code",
   "execution_count": 32,
   "metadata": {
    "colab": {
     "base_uri": "https://localhost:8080/",
     "height": 257
    },
    "executionInfo": {
     "elapsed": 168,
     "status": "ok",
     "timestamp": 1758106689040,
     "user": {
      "displayName": "Kurnia Freelancer",
      "userId": "04717991342523634432"
     },
     "user_tz": -420
    },
    "id": "Hq8OKEAmKoWC",
    "outputId": "da3a0468-aa71-4260-a6aa-dc2893f95b67"
   },
   "outputs": [
    {
     "data": {
      "text/html": [
       "<div>\n",
       "<style scoped>\n",
       "    .dataframe tbody tr th:only-of-type {\n",
       "        vertical-align: middle;\n",
       "    }\n",
       "\n",
       "    .dataframe tbody tr th {\n",
       "        vertical-align: top;\n",
       "    }\n",
       "\n",
       "    .dataframe thead th {\n",
       "        text-align: right;\n",
       "    }\n",
       "</style>\n",
       "<table border=\"1\" class=\"dataframe\">\n",
       "  <thead>\n",
       "    <tr style=\"text-align: right;\">\n",
       "      <th></th>\n",
       "      <th>gre_score</th>\n",
       "      <th>toefl_score</th>\n",
       "      <th>univ_ranking</th>\n",
       "      <th>motiv_letter_strength</th>\n",
       "      <th>recommendation_strength</th>\n",
       "      <th>gpa</th>\n",
       "      <th>research_exp</th>\n",
       "      <th>admit_status</th>\n",
       "      <th>education</th>\n",
       "      <th>final_score</th>\n",
       "      <th>gender_female</th>\n",
       "      <th>gender_male</th>\n",
       "    </tr>\n",
       "    <tr>\n",
       "      <th>id_student</th>\n",
       "      <th></th>\n",
       "      <th></th>\n",
       "      <th></th>\n",
       "      <th></th>\n",
       "      <th></th>\n",
       "      <th></th>\n",
       "      <th></th>\n",
       "      <th></th>\n",
       "      <th></th>\n",
       "      <th></th>\n",
       "      <th></th>\n",
       "      <th></th>\n",
       "    </tr>\n",
       "  </thead>\n",
       "  <tbody>\n",
       "    <tr>\n",
       "      <th>STD1000</th>\n",
       "      <td>337.0</td>\n",
       "      <td>118.0</td>\n",
       "      <td>4.0</td>\n",
       "      <td>4.5</td>\n",
       "      <td>4.5</td>\n",
       "      <td>9.65</td>\n",
       "      <td>1</td>\n",
       "      <td>1</td>\n",
       "      <td>1</td>\n",
       "      <td>960</td>\n",
       "      <td>0</td>\n",
       "      <td>1</td>\n",
       "    </tr>\n",
       "    <tr>\n",
       "      <th>STD1001</th>\n",
       "      <td>324.0</td>\n",
       "      <td>107.0</td>\n",
       "      <td>4.0</td>\n",
       "      <td>4.0</td>\n",
       "      <td>4.5</td>\n",
       "      <td>8.87</td>\n",
       "      <td>1</td>\n",
       "      <td>1</td>\n",
       "      <td>2</td>\n",
       "      <td>887</td>\n",
       "      <td>1</td>\n",
       "      <td>0</td>\n",
       "    </tr>\n",
       "    <tr>\n",
       "      <th>STD1002</th>\n",
       "      <td>316.0</td>\n",
       "      <td>104.0</td>\n",
       "      <td>3.0</td>\n",
       "      <td>3.0</td>\n",
       "      <td>3.5</td>\n",
       "      <td>8.00</td>\n",
       "      <td>1</td>\n",
       "      <td>1</td>\n",
       "      <td>1</td>\n",
       "      <td>780</td>\n",
       "      <td>0</td>\n",
       "      <td>1</td>\n",
       "    </tr>\n",
       "    <tr>\n",
       "      <th>STD1003</th>\n",
       "      <td>322.0</td>\n",
       "      <td>110.0</td>\n",
       "      <td>3.0</td>\n",
       "      <td>3.5</td>\n",
       "      <td>2.5</td>\n",
       "      <td>8.67</td>\n",
       "      <td>1</td>\n",
       "      <td>1</td>\n",
       "      <td>2</td>\n",
       "      <td>851</td>\n",
       "      <td>1</td>\n",
       "      <td>0</td>\n",
       "    </tr>\n",
       "    <tr>\n",
       "      <th>STD1004</th>\n",
       "      <td>314.0</td>\n",
       "      <td>103.0</td>\n",
       "      <td>2.0</td>\n",
       "      <td>2.0</td>\n",
       "      <td>3.0</td>\n",
       "      <td>8.21</td>\n",
       "      <td>0</td>\n",
       "      <td>0</td>\n",
       "      <td>1</td>\n",
       "      <td>473</td>\n",
       "      <td>0</td>\n",
       "      <td>1</td>\n",
       "    </tr>\n",
       "  </tbody>\n",
       "</table>\n",
       "</div>"
      ],
      "text/plain": [
       "            gre_score  toefl_score  univ_ranking  motiv_letter_strength  \\\n",
       "id_student                                                                \n",
       "STD1000         337.0        118.0           4.0                    4.5   \n",
       "STD1001         324.0        107.0           4.0                    4.0   \n",
       "STD1002         316.0        104.0           3.0                    3.0   \n",
       "STD1003         322.0        110.0           3.0                    3.5   \n",
       "STD1004         314.0        103.0           2.0                    2.0   \n",
       "\n",
       "            recommendation_strength   gpa  research_exp  admit_status  \\\n",
       "id_student                                                              \n",
       "STD1000                         4.5  9.65             1             1   \n",
       "STD1001                         4.5  8.87             1             1   \n",
       "STD1002                         3.5  8.00             1             1   \n",
       "STD1003                         2.5  8.67             1             1   \n",
       "STD1004                         3.0  8.21             0             0   \n",
       "\n",
       "            education  final_score  gender_female  gender_male  \n",
       "id_student                                                      \n",
       "STD1000             1          960              0            1  \n",
       "STD1001             2          887              1            0  \n",
       "STD1002             1          780              0            1  \n",
       "STD1003             2          851              1            0  \n",
       "STD1004             1          473              0            1  "
      ]
     },
     "execution_count": 32,
     "metadata": {},
     "output_type": "execute_result"
    }
   ],
   "source": [
    "# One Hot Encoding for nominal category\n",
    "# 3. gender -> One Hot Encoding (OHE)\n",
    "data = pd.get_dummies(data, columns=[\"gender\"], prefix=\"gender\")\n",
    "data.head()"
   ]
  },
  {
   "cell_type": "markdown",
   "metadata": {
    "id": "aN-ojQicVo9j"
   },
   "source": [
    "# Univariate Analysis\n",
    "###\n",
    "1. Boxplot to check outlier, and handle outlier\n",
    "2. Distribution Check using Histogram / KDE\n",
    "3. Countplot"
   ]
  },
  {
   "cell_type": "markdown",
   "metadata": {
    "id": "VV1Ca3jN8t3S"
   },
   "source": [
    "## 4. Outlier Handling"
   ]
  },
  {
   "cell_type": "code",
   "execution_count": 33,
   "metadata": {
    "colab": {
     "base_uri": "https://localhost:8080/"
    },
    "executionInfo": {
     "elapsed": 33,
     "status": "ok",
     "timestamp": 1758106689041,
     "user": {
      "displayName": "Kurnia Freelancer",
      "userId": "04717991342523634432"
     },
     "user_tz": -420
    },
    "id": "MHgbqkDHEBoA",
    "outputId": "07796165-e2c4-42ae-f19c-7cc75124a905"
   },
   "outputs": [
    {
     "data": {
      "text/plain": [
       "['gre_score',\n",
       " 'toefl_score',\n",
       " 'univ_ranking',\n",
       " 'motiv_letter_strength',\n",
       " 'recommendation_strength',\n",
       " 'gpa',\n",
       " 'admit_status',\n",
       " 'final_score']"
      ]
     },
     "execution_count": 33,
     "metadata": {},
     "output_type": "execute_result"
    }
   ],
   "source": [
    "numericals"
   ]
  },
  {
   "cell_type": "code",
   "execution_count": 34,
   "metadata": {
    "colab": {
     "base_uri": "https://localhost:8080/"
    },
    "executionInfo": {
     "elapsed": 10,
     "status": "ok",
     "timestamp": 1758106689042,
     "user": {
      "displayName": "Kurnia Freelancer",
      "userId": "04717991342523634432"
     },
     "user_tz": -420
    },
    "id": "a_2nqeOZIUvT",
    "outputId": "1f0ee7f4-7966-46a8-d51a-fc33651754fc"
   },
   "outputs": [
    {
     "name": "stdout",
     "output_type": "stream",
     "text": [
      "0\n",
      "1\n",
      "2\n",
      "3\n",
      "4\n",
      "5\n",
      "6\n",
      "7\n"
     ]
    }
   ],
   "source": [
    "features = numericals\n",
    "for i in range(0, len(features)):\n",
    "  print(i)"
   ]
  },
  {
   "cell_type": "code",
   "execution_count": 35,
   "metadata": {
    "colab": {
     "base_uri": "https://localhost:8080/",
     "height": 607
    },
    "executionInfo": {
     "elapsed": 3234,
     "status": "ok",
     "timestamp": 1758106692272,
     "user": {
      "displayName": "Kurnia Freelancer",
      "userId": "04717991342523634432"
     },
     "user_tz": -420
    },
    "id": "qhLWWM0wVo9j",
    "outputId": "66af2d26-2f8e-4356-e9cb-4211fcdc8614"
   },
   "outputs": [
    {
     "data": {
      "image/png": "[encoded data removed]",
      "text/plain": [
       "<Figure size 1200x600 with 8 Axes>"
      ]
     },
     "metadata": {},
     "output_type": "display_data"
    }
   ],
   "source": [
    "# adjust the figure size for better readability\n",
    "plt.figure(figsize=(12,6))\n",
    "\n",
    "# plotting\n",
    "features = numericals\n",
    "for i in range(0, len(features)):\n",
    "    plt.subplot(1, len(features), i+1)\n",
    "    sns.boxplot(y=data[features[i]], color='red')\n",
    "    plt.tight_layout()"
   ]
  },
  {
   "cell_type": "code",
   "execution_count": 36,
   "metadata": {
    "colab": {
     "base_uri": "https://localhost:8080/",
     "height": 132
    },
    "executionInfo": {
     "elapsed": 22,
     "status": "ok",
     "timestamp": 1758106692307,
     "user": {
      "displayName": "Kurnia Freelancer",
      "userId": "04717991342523634432"
     },
     "user_tz": -420
    },
    "id": "UCg4izCS-ppk",
    "outputId": "27c57e94-785d-4d34-9b26-b24829c9a466"
   },
   "outputs": [
    {
     "data": {
      "text/html": [
       "<div>\n",
       "<style scoped>\n",
       "    .dataframe tbody tr th:only-of-type {\n",
       "        vertical-align: middle;\n",
       "    }\n",
       "\n",
       "    .dataframe tbody tr th {\n",
       "        vertical-align: top;\n",
       "    }\n",
       "\n",
       "    .dataframe thead th {\n",
       "        text-align: right;\n",
       "    }\n",
       "</style>\n",
       "<table border=\"1\" class=\"dataframe\">\n",
       "  <thead>\n",
       "    <tr style=\"text-align: right;\">\n",
       "      <th></th>\n",
       "      <th>gre_score</th>\n",
       "      <th>toefl_score</th>\n",
       "      <th>univ_ranking</th>\n",
       "      <th>motiv_letter_strength</th>\n",
       "      <th>recommendation_strength</th>\n",
       "      <th>gpa</th>\n",
       "      <th>research_exp</th>\n",
       "      <th>admit_status</th>\n",
       "      <th>education</th>\n",
       "      <th>final_score</th>\n",
       "      <th>gender_female</th>\n",
       "      <th>gender_male</th>\n",
       "    </tr>\n",
       "    <tr>\n",
       "      <th>id_student</th>\n",
       "      <th></th>\n",
       "      <th></th>\n",
       "      <th></th>\n",
       "      <th></th>\n",
       "      <th></th>\n",
       "      <th></th>\n",
       "      <th></th>\n",
       "      <th></th>\n",
       "      <th></th>\n",
       "      <th></th>\n",
       "      <th></th>\n",
       "      <th></th>\n",
       "    </tr>\n",
       "  </thead>\n",
       "  <tbody>\n",
       "    <tr>\n",
       "      <th>STD1347</th>\n",
       "      <td>299.0</td>\n",
       "      <td>94.0</td>\n",
       "      <td>1.0</td>\n",
       "      <td>1.0</td>\n",
       "      <td>1.0</td>\n",
       "      <td>7.34</td>\n",
       "      <td>0</td>\n",
       "      <td>0</td>\n",
       "      <td>2</td>\n",
       "      <td>312</td>\n",
       "      <td>1</td>\n",
       "      <td>0</td>\n",
       "    </tr>\n",
       "  </tbody>\n",
       "</table>\n",
       "</div>"
      ],
      "text/plain": [
       "            gre_score  toefl_score  univ_ranking  motiv_letter_strength  \\\n",
       "id_student                                                                \n",
       "STD1347         299.0         94.0           1.0                    1.0   \n",
       "\n",
       "            recommendation_strength   gpa  research_exp  admit_status  \\\n",
       "id_student                                                              \n",
       "STD1347                         1.0  7.34             0             0   \n",
       "\n",
       "            education  final_score  gender_female  gender_male  \n",
       "id_student                                                      \n",
       "STD1347             2          312              1            0  "
      ]
     },
     "execution_count": 36,
     "metadata": {},
     "output_type": "execute_result"
    }
   ],
   "source": [
    "# check the outlier full profile\n",
    "outlier = data['recommendation_strength'].min()\n",
    "\n",
    "data[data['recommendation_strength'] == outlier]"
   ]
  },
  {
   "cell_type": "markdown",
   "metadata": {
    "id": "J1zEoc0V8t3W"
   },
   "source": [
    "Obervation:\n",
    "1. There is one outlier in the `recommendation_strength` column (value = 1)\n",
    "2. But the value is still reasonable (NOT that extreme), hence no need to handle speficically"
   ]
  },
  {
   "cell_type": "code",
   "execution_count": 37,
   "metadata": {
    "executionInfo": {
     "elapsed": 3,
     "status": "ok",
     "timestamp": 1758106692320,
     "user": {
      "displayName": "Kurnia Freelancer",
      "userId": "04717991342523634432"
     },
     "user_tz": -420
    },
    "id": "PHQGtCRII3eW"
   },
   "outputs": [],
   "source": [
    "## Notes jika ada outlier dan harus di handle gunakan code dibawah :\n",
    "# def find_outlier_boundary(df, variable):\n",
    "\n",
    "#     # Mari kita hitung batas luar yang merupakan outlier\n",
    "\n",
    "#     IQR = df[variable].quantile(0.75) - df[variable].quantile(0.25)\n",
    "\n",
    "#     lower_boundary = df[variable].quantile(0.25) - (IQR * 1.5)\n",
    "#     upper_boundary = df[variable].quantile(0.75) + (IQR * 1.5)\n",
    "\n",
    "#     return upper_boundary, lower_boundary\n",
    "\n",
    "# batas untuk kolom_A\n",
    "\n",
    "# upper_kolom_A, lower_kolom_A = find_outlier_boundary(data, 'kolom_A')\n",
    "# upper_kolom_A, lower_kolom_A"
   ]
  },
  {
   "cell_type": "markdown",
   "metadata": {
    "id": "t1oCCCY88t3W"
   },
   "source": [
    "## KDE plot for knowing the distribution form"
   ]
  },
  {
   "cell_type": "code",
   "execution_count": 38,
   "metadata": {
    "colab": {
     "base_uri": "https://localhost:8080/",
     "height": 709
    },
    "executionInfo": {
     "elapsed": 3007,
     "status": "ok",
     "timestamp": 1758106695329,
     "user": {
      "displayName": "Kurnia Freelancer",
      "userId": "04717991342523634432"
     },
     "user_tz": -420
    },
    "id": "eLz3Bmso8t3W",
    "outputId": "784b58c0-ae33-4d71-e4e4-33bebeb0812a"
   },
   "outputs": [
    {
     "name": "stderr",
     "output_type": "stream",
     "text": [
      "C:\\Users\\ASUS\\Documents\\Miniconda\\envs\\jcopml\\lib\\site-packages\\seaborn\\_core.py:1057: FutureWarning: reindexing with a non-unique Index is deprecated and will raise in a future version.\n",
      "  comp_col.loc[orig.index] = pd.to_numeric(axis.convert_units(orig))\n"
     ]
    },
    {
     "ename": "ValueError",
     "evalue": "cannot reindex on an axis with duplicate labels",
     "output_type": "error",
     "traceback": [
      "\u001b[1;31m---------------------------------------------------------------------------\u001b[0m",
      "\u001b[1;31mValueError\u001b[0m                                Traceback (most recent call last)",
      "Input \u001b[1;32mIn [38]\u001b[0m, in \u001b[0;36m<cell line: 12>\u001b[1;34m()\u001b[0m\n\u001b[0;32m     12\u001b[0m \u001b[38;5;28;01mfor\u001b[39;00m i, col \u001b[38;5;129;01min\u001b[39;00m \u001b[38;5;28menumerate\u001b[39m(features):\n\u001b[0;32m     13\u001b[0m     plt\u001b[38;5;241m.\u001b[39msubplot(n_rows, n_cols, i\u001b[38;5;241m+\u001b[39m\u001b[38;5;241m1\u001b[39m)\n\u001b[1;32m---> 14\u001b[0m     \u001b[43msns\u001b[49m\u001b[38;5;241;43m.\u001b[39;49m\u001b[43mhistplot\u001b[49m\u001b[43m(\u001b[49m\u001b[43mx\u001b[49m\u001b[38;5;241;43m=\u001b[39;49m\u001b[43mdata\u001b[49m\u001b[43m[\u001b[49m\u001b[43mcol\u001b[49m\u001b[43m]\u001b[49m\u001b[43m,\u001b[49m\u001b[43m \u001b[49m\u001b[43mcolor\u001b[49m\u001b[38;5;241;43m=\u001b[39;49m\u001b[38;5;124;43m'\u001b[39;49m\u001b[38;5;124;43mskyblue\u001b[39;49m\u001b[38;5;124;43m'\u001b[39;49m\u001b[43m,\u001b[49m\u001b[43m \u001b[49m\u001b[43mkde\u001b[49m\u001b[38;5;241;43m=\u001b[39;49m\u001b[38;5;28;43;01mTrue\u001b[39;49;00m\u001b[43m)\u001b[49m\n\u001b[0;32m     15\u001b[0m     plt\u001b[38;5;241m.\u001b[39mxlabel(col)\n\u001b[0;32m     17\u001b[0m plt\u001b[38;5;241m.\u001b[39mtight_layout()\n",
      "File \u001b[1;32m~\\Documents\\Miniconda\\envs\\jcopml\\lib\\site-packages\\seaborn\\distributions.py:1462\u001b[0m, in \u001b[0;36mhistplot\u001b[1;34m(data, x, y, hue, weights, stat, bins, binwidth, binrange, discrete, cumulative, common_bins, common_norm, multiple, element, fill, shrink, kde, kde_kws, line_kws, thresh, pthresh, pmax, cbar, cbar_ax, cbar_kws, palette, hue_order, hue_norm, color, log_scale, legend, ax, **kwargs)\u001b[0m\n\u001b[0;32m   1451\u001b[0m estimate_kws \u001b[38;5;241m=\u001b[39m \u001b[38;5;28mdict\u001b[39m(\n\u001b[0;32m   1452\u001b[0m     stat\u001b[38;5;241m=\u001b[39mstat,\n\u001b[0;32m   1453\u001b[0m     bins\u001b[38;5;241m=\u001b[39mbins,\n\u001b[1;32m   (...)\u001b[0m\n\u001b[0;32m   1457\u001b[0m     cumulative\u001b[38;5;241m=\u001b[39mcumulative,\n\u001b[0;32m   1458\u001b[0m )\n\u001b[0;32m   1460\u001b[0m \u001b[38;5;28;01mif\u001b[39;00m p\u001b[38;5;241m.\u001b[39munivariate:\n\u001b[1;32m-> 1462\u001b[0m     p\u001b[38;5;241m.\u001b[39mplot_univariate_histogram(\n\u001b[0;32m   1463\u001b[0m         multiple\u001b[38;5;241m=\u001b[39mmultiple,\n\u001b[0;32m   1464\u001b[0m         element\u001b[38;5;241m=\u001b[39melement,\n\u001b[0;32m   1465\u001b[0m         fill\u001b[38;5;241m=\u001b[39mfill,\n\u001b[0;32m   1466\u001b[0m         shrink\u001b[38;5;241m=\u001b[39mshrink,\n\u001b[0;32m   1467\u001b[0m         common_norm\u001b[38;5;241m=\u001b[39mcommon_norm,\n\u001b[0;32m   1468\u001b[0m         common_bins\u001b[38;5;241m=\u001b[39mcommon_bins,\n\u001b[0;32m   1469\u001b[0m         kde\u001b[38;5;241m=\u001b[39mkde,\n\u001b[0;32m   1470\u001b[0m         kde_kws\u001b[38;5;241m=\u001b[39mkde_kws,\n\u001b[0;32m   1471\u001b[0m         color\u001b[38;5;241m=\u001b[39mcolor,\n\u001b[0;32m   1472\u001b[0m         legend\u001b[38;5;241m=\u001b[39mlegend,\n\u001b[0;32m   1473\u001b[0m         estimate_kws\u001b[38;5;241m=\u001b[39mestimate_kws,\n\u001b[0;32m   1474\u001b[0m         line_kws\u001b[38;5;241m=\u001b[39mline_kws,\n\u001b[0;32m   1475\u001b[0m         \u001b[38;5;241m*\u001b[39m\u001b[38;5;241m*\u001b[39mkwargs,\n\u001b[0;32m   1476\u001b[0m     )\n\u001b[0;32m   1478\u001b[0m \u001b[38;5;28;01melse\u001b[39;00m:\n\u001b[0;32m   1480\u001b[0m     p\u001b[38;5;241m.\u001b[39mplot_bivariate_histogram(\n\u001b[0;32m   1481\u001b[0m         common_bins\u001b[38;5;241m=\u001b[39mcommon_bins,\n\u001b[0;32m   1482\u001b[0m         common_norm\u001b[38;5;241m=\u001b[39mcommon_norm,\n\u001b[1;32m   (...)\u001b[0m\n\u001b[0;32m   1492\u001b[0m         \u001b[38;5;241m*\u001b[39m\u001b[38;5;241m*\u001b[39mkwargs,\n\u001b[0;32m   1493\u001b[0m     )\n",
      "File \u001b[1;32m~\\Documents\\Miniconda\\envs\\jcopml\\lib\\site-packages\\seaborn\\distributions.py:418\u001b[0m, in \u001b[0;36m_DistributionPlotter.plot_univariate_histogram\u001b[1;34m(self, multiple, element, fill, common_norm, common_bins, shrink, kde, kde_kws, color, legend, line_kws, estimate_kws, **plot_kws)\u001b[0m\n\u001b[0;32m    416\u001b[0m     kde_kws[\u001b[38;5;124m\"\u001b[39m\u001b[38;5;124mcumulative\u001b[39m\u001b[38;5;124m\"\u001b[39m] \u001b[38;5;241m=\u001b[39m estimate_kws[\u001b[38;5;124m\"\u001b[39m\u001b[38;5;124mcumulative\u001b[39m\u001b[38;5;124m\"\u001b[39m]\n\u001b[0;32m    417\u001b[0m     log_scale \u001b[38;5;241m=\u001b[39m \u001b[38;5;28mself\u001b[39m\u001b[38;5;241m.\u001b[39m_log_scaled(\u001b[38;5;28mself\u001b[39m\u001b[38;5;241m.\u001b[39mdata_variable)\n\u001b[1;32m--> 418\u001b[0m     densities \u001b[38;5;241m=\u001b[39m \u001b[38;5;28;43mself\u001b[39;49m\u001b[38;5;241;43m.\u001b[39;49m\u001b[43m_compute_univariate_density\u001b[49m\u001b[43m(\u001b[49m\n\u001b[0;32m    419\u001b[0m \u001b[43m        \u001b[49m\u001b[38;5;28;43mself\u001b[39;49m\u001b[38;5;241;43m.\u001b[39;49m\u001b[43mdata_variable\u001b[49m\u001b[43m,\u001b[49m\n\u001b[0;32m    420\u001b[0m \u001b[43m        \u001b[49m\u001b[43mcommon_norm\u001b[49m\u001b[43m,\u001b[49m\n\u001b[0;32m    421\u001b[0m \u001b[43m        \u001b[49m\u001b[43mcommon_bins\u001b[49m\u001b[43m,\u001b[49m\n\u001b[0;32m    422\u001b[0m \u001b[43m        \u001b[49m\u001b[43mkde_kws\u001b[49m\u001b[43m,\u001b[49m\n\u001b[0;32m    423\u001b[0m \u001b[43m        \u001b[49m\u001b[43mlog_scale\u001b[49m\u001b[43m,\u001b[49m\n\u001b[0;32m    424\u001b[0m \u001b[43m        \u001b[49m\u001b[43mwarn_singular\u001b[49m\u001b[38;5;241;43m=\u001b[39;49m\u001b[38;5;28;43;01mFalse\u001b[39;49;00m\u001b[43m,\u001b[49m\n\u001b[0;32m    425\u001b[0m \u001b[43m    \u001b[49m\u001b[43m)\u001b[49m\n\u001b[0;32m    427\u001b[0m \u001b[38;5;66;03m# First pass through the data to compute the histograms\u001b[39;00m\n\u001b[0;32m    428\u001b[0m \u001b[38;5;28;01mfor\u001b[39;00m sub_vars, sub_data \u001b[38;5;129;01min\u001b[39;00m \u001b[38;5;28mself\u001b[39m\u001b[38;5;241m.\u001b[39miter_data(\u001b[38;5;124m\"\u001b[39m\u001b[38;5;124mhue\u001b[39m\u001b[38;5;124m\"\u001b[39m, from_comp_data\u001b[38;5;241m=\u001b[39m\u001b[38;5;28;01mTrue\u001b[39;00m):\n\u001b[0;32m    429\u001b[0m \n\u001b[0;32m    430\u001b[0m     \u001b[38;5;66;03m# Prepare the relevant data\u001b[39;00m\n",
      "File \u001b[1;32m~\\Documents\\Miniconda\\envs\\jcopml\\lib\\site-packages\\seaborn\\distributions.py:303\u001b[0m, in \u001b[0;36m_DistributionPlotter._compute_univariate_density\u001b[1;34m(self, data_variable, common_norm, common_grid, estimate_kws, log_scale, warn_singular)\u001b[0m\n\u001b[0;32m    299\u001b[0m     common_norm \u001b[38;5;241m=\u001b[39m \u001b[38;5;28;01mFalse\u001b[39;00m\n\u001b[0;32m    301\u001b[0m densities \u001b[38;5;241m=\u001b[39m {}\n\u001b[1;32m--> 303\u001b[0m \u001b[38;5;28;01mfor\u001b[39;00m sub_vars, sub_data \u001b[38;5;129;01min\u001b[39;00m \u001b[38;5;28mself\u001b[39m\u001b[38;5;241m.\u001b[39miter_data(\u001b[38;5;124m\"\u001b[39m\u001b[38;5;124mhue\u001b[39m\u001b[38;5;124m\"\u001b[39m, from_comp_data\u001b[38;5;241m=\u001b[39m\u001b[38;5;28;01mTrue\u001b[39;00m):\n\u001b[0;32m    304\u001b[0m \n\u001b[0;32m    305\u001b[0m     \u001b[38;5;66;03m# Extract the data points from this sub set and remove nulls\u001b[39;00m\n\u001b[0;32m    306\u001b[0m     sub_data \u001b[38;5;241m=\u001b[39m sub_data\u001b[38;5;241m.\u001b[39mdropna()\n\u001b[0;32m    307\u001b[0m     observations \u001b[38;5;241m=\u001b[39m sub_data[data_variable]\n",
      "File \u001b[1;32m~\\Documents\\Miniconda\\envs\\jcopml\\lib\\site-packages\\seaborn\\_core.py:983\u001b[0m, in \u001b[0;36mVectorPlotter.iter_data\u001b[1;34m(self, grouping_vars, reverse, from_comp_data)\u001b[0m\n\u001b[0;32m    978\u001b[0m grouping_vars \u001b[38;5;241m=\u001b[39m [\n\u001b[0;32m    979\u001b[0m     var \u001b[38;5;28;01mfor\u001b[39;00m var \u001b[38;5;129;01min\u001b[39;00m grouping_vars \u001b[38;5;28;01mif\u001b[39;00m var \u001b[38;5;129;01min\u001b[39;00m \u001b[38;5;28mself\u001b[39m\u001b[38;5;241m.\u001b[39mvariables\n\u001b[0;32m    980\u001b[0m ]\n\u001b[0;32m    982\u001b[0m \u001b[38;5;28;01mif\u001b[39;00m from_comp_data:\n\u001b[1;32m--> 983\u001b[0m     data \u001b[38;5;241m=\u001b[39m \u001b[38;5;28;43mself\u001b[39;49m\u001b[38;5;241;43m.\u001b[39;49m\u001b[43mcomp_data\u001b[49m\n\u001b[0;32m    984\u001b[0m \u001b[38;5;28;01melse\u001b[39;00m:\n\u001b[0;32m    985\u001b[0m     data \u001b[38;5;241m=\u001b[39m \u001b[38;5;28mself\u001b[39m\u001b[38;5;241m.\u001b[39mplot_data\n",
      "File \u001b[1;32m~\\Documents\\Miniconda\\envs\\jcopml\\lib\\site-packages\\seaborn\\_core.py:1057\u001b[0m, in \u001b[0;36mVectorPlotter.comp_data\u001b[1;34m(self)\u001b[0m\n\u001b[0;32m   1055\u001b[0m     orig \u001b[38;5;241m=\u001b[39m \u001b[38;5;28mself\u001b[39m\u001b[38;5;241m.\u001b[39mplot_data[var]\u001b[38;5;241m.\u001b[39mdropna()\n\u001b[0;32m   1056\u001b[0m comp_col \u001b[38;5;241m=\u001b[39m pd\u001b[38;5;241m.\u001b[39mSeries(index\u001b[38;5;241m=\u001b[39morig\u001b[38;5;241m.\u001b[39mindex, dtype\u001b[38;5;241m=\u001b[39m\u001b[38;5;28mfloat\u001b[39m, name\u001b[38;5;241m=\u001b[39mvar)\n\u001b[1;32m-> 1057\u001b[0m \u001b[43mcomp_col\u001b[49m\u001b[38;5;241;43m.\u001b[39;49m\u001b[43mloc\u001b[49m\u001b[43m[\u001b[49m\u001b[43morig\u001b[49m\u001b[38;5;241;43m.\u001b[39;49m\u001b[43mindex\u001b[49m\u001b[43m]\u001b[49m \u001b[38;5;241m=\u001b[39m pd\u001b[38;5;241m.\u001b[39mto_numeric(axis\u001b[38;5;241m.\u001b[39mconvert_units(orig))\n\u001b[0;32m   1059\u001b[0m \u001b[38;5;28;01mif\u001b[39;00m axis\u001b[38;5;241m.\u001b[39mget_scale() \u001b[38;5;241m==\u001b[39m \u001b[38;5;124m\"\u001b[39m\u001b[38;5;124mlog\u001b[39m\u001b[38;5;124m\"\u001b[39m:\n\u001b[0;32m   1060\u001b[0m     comp_col \u001b[38;5;241m=\u001b[39m np\u001b[38;5;241m.\u001b[39mlog10(comp_col)\n",
      "File \u001b[1;32m~\\Documents\\Miniconda\\envs\\jcopml\\lib\\site-packages\\pandas\\core\\indexing.py:716\u001b[0m, in \u001b[0;36m_LocationIndexer.__setitem__\u001b[1;34m(self, key, value)\u001b[0m\n\u001b[0;32m    713\u001b[0m \u001b[38;5;28mself\u001b[39m\u001b[38;5;241m.\u001b[39m_has_valid_setitem_indexer(key)\n\u001b[0;32m    715\u001b[0m iloc \u001b[38;5;241m=\u001b[39m \u001b[38;5;28mself\u001b[39m \u001b[38;5;28;01mif\u001b[39;00m \u001b[38;5;28mself\u001b[39m\u001b[38;5;241m.\u001b[39mname \u001b[38;5;241m==\u001b[39m \u001b[38;5;124m\"\u001b[39m\u001b[38;5;124miloc\u001b[39m\u001b[38;5;124m\"\u001b[39m \u001b[38;5;28;01melse\u001b[39;00m \u001b[38;5;28mself\u001b[39m\u001b[38;5;241m.\u001b[39mobj\u001b[38;5;241m.\u001b[39miloc\n\u001b[1;32m--> 716\u001b[0m \u001b[43miloc\u001b[49m\u001b[38;5;241;43m.\u001b[39;49m\u001b[43m_setitem_with_indexer\u001b[49m\u001b[43m(\u001b[49m\u001b[43mindexer\u001b[49m\u001b[43m,\u001b[49m\u001b[43m \u001b[49m\u001b[43mvalue\u001b[49m\u001b[43m,\u001b[49m\u001b[43m \u001b[49m\u001b[38;5;28;43mself\u001b[39;49m\u001b[38;5;241;43m.\u001b[39;49m\u001b[43mname\u001b[49m\u001b[43m)\u001b[49m\n",
      "File \u001b[1;32m~\\Documents\\Miniconda\\envs\\jcopml\\lib\\site-packages\\pandas\\core\\indexing.py:1690\u001b[0m, in \u001b[0;36m_iLocIndexer._setitem_with_indexer\u001b[1;34m(self, indexer, value, name)\u001b[0m\n\u001b[0;32m   1688\u001b[0m     \u001b[38;5;28mself\u001b[39m\u001b[38;5;241m.\u001b[39m_setitem_with_indexer_split_path(indexer, value, name)\n\u001b[0;32m   1689\u001b[0m \u001b[38;5;28;01melse\u001b[39;00m:\n\u001b[1;32m-> 1690\u001b[0m     \u001b[38;5;28;43mself\u001b[39;49m\u001b[38;5;241;43m.\u001b[39;49m\u001b[43m_setitem_single_block\u001b[49m\u001b[43m(\u001b[49m\u001b[43mindexer\u001b[49m\u001b[43m,\u001b[49m\u001b[43m \u001b[49m\u001b[43mvalue\u001b[49m\u001b[43m,\u001b[49m\u001b[43m \u001b[49m\u001b[43mname\u001b[49m\u001b[43m)\u001b[49m\n",
      "File \u001b[1;32m~\\Documents\\Miniconda\\envs\\jcopml\\lib\\site-packages\\pandas\\core\\indexing.py:1929\u001b[0m, in \u001b[0;36m_iLocIndexer._setitem_single_block\u001b[1;34m(self, indexer, value, name)\u001b[0m\n\u001b[0;32m   1923\u001b[0m     indexer \u001b[38;5;241m=\u001b[39m maybe_convert_ix(\u001b[38;5;241m*\u001b[39mindexer)  \u001b[38;5;66;03m# e.g. test_setitem_frame_align\u001b[39;00m\n\u001b[0;32m   1925\u001b[0m \u001b[38;5;28;01mif\u001b[39;00m (\u001b[38;5;28misinstance\u001b[39m(value, ABCSeries) \u001b[38;5;129;01mand\u001b[39;00m name \u001b[38;5;241m!=\u001b[39m \u001b[38;5;124m\"\u001b[39m\u001b[38;5;124miloc\u001b[39m\u001b[38;5;124m\"\u001b[39m) \u001b[38;5;129;01mor\u001b[39;00m \u001b[38;5;28misinstance\u001b[39m(value, \u001b[38;5;28mdict\u001b[39m):\n\u001b[0;32m   1926\u001b[0m     \u001b[38;5;66;03m# TODO(EA): ExtensionBlock.setitem this causes issues with\u001b[39;00m\n\u001b[0;32m   1927\u001b[0m     \u001b[38;5;66;03m# setting for extensionarrays that store dicts. Need to decide\u001b[39;00m\n\u001b[0;32m   1928\u001b[0m     \u001b[38;5;66;03m# if it's worth supporting that.\u001b[39;00m\n\u001b[1;32m-> 1929\u001b[0m     value \u001b[38;5;241m=\u001b[39m \u001b[38;5;28;43mself\u001b[39;49m\u001b[38;5;241;43m.\u001b[39;49m\u001b[43m_align_series\u001b[49m\u001b[43m(\u001b[49m\u001b[43mindexer\u001b[49m\u001b[43m,\u001b[49m\u001b[43m \u001b[49m\u001b[43mSeries\u001b[49m\u001b[43m(\u001b[49m\u001b[43mvalue\u001b[49m\u001b[43m)\u001b[49m\u001b[43m)\u001b[49m\n\u001b[0;32m   1931\u001b[0m \u001b[38;5;28;01melif\u001b[39;00m \u001b[38;5;28misinstance\u001b[39m(value, ABCDataFrame) \u001b[38;5;129;01mand\u001b[39;00m name \u001b[38;5;241m!=\u001b[39m \u001b[38;5;124m\"\u001b[39m\u001b[38;5;124miloc\u001b[39m\u001b[38;5;124m\"\u001b[39m:\n\u001b[0;32m   1932\u001b[0m     value \u001b[38;5;241m=\u001b[39m \u001b[38;5;28mself\u001b[39m\u001b[38;5;241m.\u001b[39m_align_frame(indexer, value)\n",
      "File \u001b[1;32m~\\Documents\\Miniconda\\envs\\jcopml\\lib\\site-packages\\pandas\\core\\indexing.py:2091\u001b[0m, in \u001b[0;36m_iLocIndexer._align_series\u001b[1;34m(self, indexer, ser, multiindex_indexer)\u001b[0m\n\u001b[0;32m   2089\u001b[0m \u001b[38;5;28;01mif\u001b[39;00m obj\u001b[38;5;241m.\u001b[39mndim \u001b[38;5;241m==\u001b[39m \u001b[38;5;241m2\u001b[39m \u001b[38;5;129;01mand\u001b[39;00m is_empty_indexer(indexer[\u001b[38;5;241m0\u001b[39m], ser\u001b[38;5;241m.\u001b[39m_values):\n\u001b[0;32m   2090\u001b[0m     \u001b[38;5;28;01mreturn\u001b[39;00m ser\u001b[38;5;241m.\u001b[39m_values\u001b[38;5;241m.\u001b[39mcopy()\n\u001b[1;32m-> 2091\u001b[0m ser \u001b[38;5;241m=\u001b[39m \u001b[43mser\u001b[49m\u001b[38;5;241;43m.\u001b[39;49m\u001b[43mreindex\u001b[49m\u001b[43m(\u001b[49m\u001b[43mobj\u001b[49m\u001b[38;5;241;43m.\u001b[39;49m\u001b[43maxes\u001b[49m\u001b[43m[\u001b[49m\u001b[38;5;241;43m0\u001b[39;49m\u001b[43m]\u001b[49m\u001b[43m[\u001b[49m\u001b[43mindexer\u001b[49m\u001b[43m[\u001b[49m\u001b[38;5;241;43m0\u001b[39;49m\u001b[43m]\u001b[49m\u001b[43m]\u001b[49m\u001b[43m,\u001b[49m\u001b[43m \u001b[49m\u001b[43mcopy\u001b[49m\u001b[38;5;241;43m=\u001b[39;49m\u001b[38;5;28;43;01mTrue\u001b[39;49;00m\u001b[43m)\u001b[49m\u001b[38;5;241m.\u001b[39m_values\n\u001b[0;32m   2093\u001b[0m \u001b[38;5;66;03m# single indexer\u001b[39;00m\n\u001b[0;32m   2094\u001b[0m \u001b[38;5;28;01mif\u001b[39;00m \u001b[38;5;28mlen\u001b[39m(indexer) \u001b[38;5;241m>\u001b[39m \u001b[38;5;241m1\u001b[39m \u001b[38;5;129;01mand\u001b[39;00m \u001b[38;5;129;01mnot\u001b[39;00m multiindex_indexer:\n",
      "File \u001b[1;32m~\\Documents\\Miniconda\\envs\\jcopml\\lib\\site-packages\\pandas\\core\\series.py:4672\u001b[0m, in \u001b[0;36mSeries.reindex\u001b[1;34m(self, *args, **kwargs)\u001b[0m\n\u001b[0;32m   4668\u001b[0m         \u001b[38;5;28;01mraise\u001b[39;00m \u001b[38;5;167;01mTypeError\u001b[39;00m(\n\u001b[0;32m   4669\u001b[0m             \u001b[38;5;124m\"\u001b[39m\u001b[38;5;124m'\u001b[39m\u001b[38;5;124mindex\u001b[39m\u001b[38;5;124m'\u001b[39m\u001b[38;5;124m passed as both positional and keyword argument\u001b[39m\u001b[38;5;124m\"\u001b[39m\n\u001b[0;32m   4670\u001b[0m         )\n\u001b[0;32m   4671\u001b[0m     kwargs\u001b[38;5;241m.\u001b[39mupdate({\u001b[38;5;124m\"\u001b[39m\u001b[38;5;124mindex\u001b[39m\u001b[38;5;124m\"\u001b[39m: index})\n\u001b[1;32m-> 4672\u001b[0m \u001b[38;5;28;01mreturn\u001b[39;00m \u001b[38;5;28msuper\u001b[39m()\u001b[38;5;241m.\u001b[39mreindex(\u001b[38;5;241m*\u001b[39m\u001b[38;5;241m*\u001b[39mkwargs)\n",
      "File \u001b[1;32m~\\Documents\\Miniconda\\envs\\jcopml\\lib\\site-packages\\pandas\\core\\generic.py:4966\u001b[0m, in \u001b[0;36mNDFrame.reindex\u001b[1;34m(self, *args, **kwargs)\u001b[0m\n\u001b[0;32m   4963\u001b[0m     \u001b[38;5;28;01mreturn\u001b[39;00m \u001b[38;5;28mself\u001b[39m\u001b[38;5;241m.\u001b[39m_reindex_multi(axes, copy, fill_value)\n\u001b[0;32m   4965\u001b[0m \u001b[38;5;66;03m# perform the reindex on the axes\u001b[39;00m\n\u001b[1;32m-> 4966\u001b[0m \u001b[38;5;28;01mreturn\u001b[39;00m \u001b[38;5;28;43mself\u001b[39;49m\u001b[38;5;241;43m.\u001b[39;49m\u001b[43m_reindex_axes\u001b[49m\u001b[43m(\u001b[49m\n\u001b[0;32m   4967\u001b[0m \u001b[43m    \u001b[49m\u001b[43maxes\u001b[49m\u001b[43m,\u001b[49m\u001b[43m \u001b[49m\u001b[43mlevel\u001b[49m\u001b[43m,\u001b[49m\u001b[43m \u001b[49m\u001b[43mlimit\u001b[49m\u001b[43m,\u001b[49m\u001b[43m \u001b[49m\u001b[43mtolerance\u001b[49m\u001b[43m,\u001b[49m\u001b[43m \u001b[49m\u001b[43mmethod\u001b[49m\u001b[43m,\u001b[49m\u001b[43m \u001b[49m\u001b[43mfill_value\u001b[49m\u001b[43m,\u001b[49m\u001b[43m \u001b[49m\u001b[43mcopy\u001b[49m\n\u001b[0;32m   4968\u001b[0m \u001b[43m\u001b[49m\u001b[43m)\u001b[49m\u001b[38;5;241m.\u001b[39m__finalize__(\u001b[38;5;28mself\u001b[39m, method\u001b[38;5;241m=\u001b[39m\u001b[38;5;124m\"\u001b[39m\u001b[38;5;124mreindex\u001b[39m\u001b[38;5;124m\"\u001b[39m)\n",
      "File \u001b[1;32m~\\Documents\\Miniconda\\envs\\jcopml\\lib\\site-packages\\pandas\\core\\generic.py:4986\u001b[0m, in \u001b[0;36mNDFrame._reindex_axes\u001b[1;34m(self, axes, level, limit, tolerance, method, fill_value, copy)\u001b[0m\n\u001b[0;32m   4981\u001b[0m new_index, indexer \u001b[38;5;241m=\u001b[39m ax\u001b[38;5;241m.\u001b[39mreindex(\n\u001b[0;32m   4982\u001b[0m     labels, level\u001b[38;5;241m=\u001b[39mlevel, limit\u001b[38;5;241m=\u001b[39mlimit, tolerance\u001b[38;5;241m=\u001b[39mtolerance, method\u001b[38;5;241m=\u001b[39mmethod\n\u001b[0;32m   4983\u001b[0m )\n\u001b[0;32m   4985\u001b[0m axis \u001b[38;5;241m=\u001b[39m \u001b[38;5;28mself\u001b[39m\u001b[38;5;241m.\u001b[39m_get_axis_number(a)\n\u001b[1;32m-> 4986\u001b[0m obj \u001b[38;5;241m=\u001b[39m \u001b[43mobj\u001b[49m\u001b[38;5;241;43m.\u001b[39;49m\u001b[43m_reindex_with_indexers\u001b[49m\u001b[43m(\u001b[49m\n\u001b[0;32m   4987\u001b[0m \u001b[43m    \u001b[49m\u001b[43m{\u001b[49m\u001b[43maxis\u001b[49m\u001b[43m:\u001b[49m\u001b[43m \u001b[49m\u001b[43m[\u001b[49m\u001b[43mnew_index\u001b[49m\u001b[43m,\u001b[49m\u001b[43m \u001b[49m\u001b[43mindexer\u001b[49m\u001b[43m]\u001b[49m\u001b[43m}\u001b[49m\u001b[43m,\u001b[49m\n\u001b[0;32m   4988\u001b[0m \u001b[43m    \u001b[49m\u001b[43mfill_value\u001b[49m\u001b[38;5;241;43m=\u001b[39;49m\u001b[43mfill_value\u001b[49m\u001b[43m,\u001b[49m\n\u001b[0;32m   4989\u001b[0m \u001b[43m    \u001b[49m\u001b[43mcopy\u001b[49m\u001b[38;5;241;43m=\u001b[39;49m\u001b[43mcopy\u001b[49m\u001b[43m,\u001b[49m\n\u001b[0;32m   4990\u001b[0m \u001b[43m    \u001b[49m\u001b[43mallow_dups\u001b[49m\u001b[38;5;241;43m=\u001b[39;49m\u001b[38;5;28;43;01mFalse\u001b[39;49;00m\u001b[43m,\u001b[49m\n\u001b[0;32m   4991\u001b[0m \u001b[43m\u001b[49m\u001b[43m)\u001b[49m\n\u001b[0;32m   4992\u001b[0m \u001b[38;5;66;03m# If we've made a copy once, no need to make another one\u001b[39;00m\n\u001b[0;32m   4993\u001b[0m copy \u001b[38;5;241m=\u001b[39m \u001b[38;5;28;01mFalse\u001b[39;00m\n",
      "File \u001b[1;32m~\\Documents\\Miniconda\\envs\\jcopml\\lib\\site-packages\\pandas\\core\\generic.py:5032\u001b[0m, in \u001b[0;36mNDFrame._reindex_with_indexers\u001b[1;34m(self, reindexers, fill_value, copy, allow_dups)\u001b[0m\n\u001b[0;32m   5029\u001b[0m     indexer \u001b[38;5;241m=\u001b[39m ensure_platform_int(indexer)\n\u001b[0;32m   5031\u001b[0m \u001b[38;5;66;03m# TODO: speed up on homogeneous DataFrame objects (see _reindex_multi)\u001b[39;00m\n\u001b[1;32m-> 5032\u001b[0m new_data \u001b[38;5;241m=\u001b[39m \u001b[43mnew_data\u001b[49m\u001b[38;5;241;43m.\u001b[39;49m\u001b[43mreindex_indexer\u001b[49m\u001b[43m(\u001b[49m\n\u001b[0;32m   5033\u001b[0m \u001b[43m    \u001b[49m\u001b[43mindex\u001b[49m\u001b[43m,\u001b[49m\n\u001b[0;32m   5034\u001b[0m \u001b[43m    \u001b[49m\u001b[43mindexer\u001b[49m\u001b[43m,\u001b[49m\n\u001b[0;32m   5035\u001b[0m \u001b[43m    \u001b[49m\u001b[43maxis\u001b[49m\u001b[38;5;241;43m=\u001b[39;49m\u001b[43mbaxis\u001b[49m\u001b[43m,\u001b[49m\n\u001b[0;32m   5036\u001b[0m \u001b[43m    \u001b[49m\u001b[43mfill_value\u001b[49m\u001b[38;5;241;43m=\u001b[39;49m\u001b[43mfill_value\u001b[49m\u001b[43m,\u001b[49m\n\u001b[0;32m   5037\u001b[0m \u001b[43m    \u001b[49m\u001b[43mallow_dups\u001b[49m\u001b[38;5;241;43m=\u001b[39;49m\u001b[43mallow_dups\u001b[49m\u001b[43m,\u001b[49m\n\u001b[0;32m   5038\u001b[0m \u001b[43m    \u001b[49m\u001b[43mcopy\u001b[49m\u001b[38;5;241;43m=\u001b[39;49m\u001b[43mcopy\u001b[49m\u001b[43m,\u001b[49m\n\u001b[0;32m   5039\u001b[0m \u001b[43m\u001b[49m\u001b[43m)\u001b[49m\n\u001b[0;32m   5040\u001b[0m \u001b[38;5;66;03m# If we've made a copy once, no need to make another one\u001b[39;00m\n\u001b[0;32m   5041\u001b[0m copy \u001b[38;5;241m=\u001b[39m \u001b[38;5;28;01mFalse\u001b[39;00m\n",
      "File \u001b[1;32m~\\Documents\\Miniconda\\envs\\jcopml\\lib\\site-packages\\pandas\\core\\internals\\managers.py:679\u001b[0m, in \u001b[0;36mBaseBlockManager.reindex_indexer\u001b[1;34m(self, new_axis, indexer, axis, fill_value, allow_dups, copy, consolidate, only_slice, use_na_proxy)\u001b[0m\n\u001b[0;32m    677\u001b[0m \u001b[38;5;66;03m# some axes don't allow reindexing with dups\u001b[39;00m\n\u001b[0;32m    678\u001b[0m \u001b[38;5;28;01mif\u001b[39;00m \u001b[38;5;129;01mnot\u001b[39;00m allow_dups:\n\u001b[1;32m--> 679\u001b[0m     \u001b[38;5;28;43mself\u001b[39;49m\u001b[38;5;241;43m.\u001b[39;49m\u001b[43maxes\u001b[49m\u001b[43m[\u001b[49m\u001b[43maxis\u001b[49m\u001b[43m]\u001b[49m\u001b[38;5;241;43m.\u001b[39;49m\u001b[43m_validate_can_reindex\u001b[49m\u001b[43m(\u001b[49m\u001b[43mindexer\u001b[49m\u001b[43m)\u001b[49m\n\u001b[0;32m    681\u001b[0m \u001b[38;5;28;01mif\u001b[39;00m axis \u001b[38;5;241m>\u001b[39m\u001b[38;5;241m=\u001b[39m \u001b[38;5;28mself\u001b[39m\u001b[38;5;241m.\u001b[39mndim:\n\u001b[0;32m    682\u001b[0m     \u001b[38;5;28;01mraise\u001b[39;00m \u001b[38;5;167;01mIndexError\u001b[39;00m(\u001b[38;5;124m\"\u001b[39m\u001b[38;5;124mRequested axis not found in manager\u001b[39m\u001b[38;5;124m\"\u001b[39m)\n",
      "File \u001b[1;32m~\\Documents\\Miniconda\\envs\\jcopml\\lib\\site-packages\\pandas\\core\\indexes\\base.py:4107\u001b[0m, in \u001b[0;36mIndex._validate_can_reindex\u001b[1;34m(self, indexer)\u001b[0m\n\u001b[0;32m   4105\u001b[0m \u001b[38;5;66;03m# trying to reindex on an axis with duplicates\u001b[39;00m\n\u001b[0;32m   4106\u001b[0m \u001b[38;5;28;01mif\u001b[39;00m \u001b[38;5;129;01mnot\u001b[39;00m \u001b[38;5;28mself\u001b[39m\u001b[38;5;241m.\u001b[39m_index_as_unique \u001b[38;5;129;01mand\u001b[39;00m \u001b[38;5;28mlen\u001b[39m(indexer):\n\u001b[1;32m-> 4107\u001b[0m     \u001b[38;5;28;01mraise\u001b[39;00m \u001b[38;5;167;01mValueError\u001b[39;00m(\u001b[38;5;124m\"\u001b[39m\u001b[38;5;124mcannot reindex on an axis with duplicate labels\u001b[39m\u001b[38;5;124m\"\u001b[39m)\n",
      "\u001b[1;31mValueError\u001b[0m: cannot reindex on an axis with duplicate labels"
     ]
    },
    {
     "data": {
      "image/png": "[encoded data removed]",
      "text/plain": [
       "<Figure size 1600x800 with 1 Axes>"
      ]
     },
     "metadata": {},
     "output_type": "display_data"
    }
   ],
   "source": [
    "# adjust the figure size for better readability\n",
    "# --- Setup ---\n",
    "features = numericals\n",
    "n_features = len(features)\n",
    "\n",
    "# Tentukan layout grid (misal 2 baris x 4 kolom untuk 8 fitur)\n",
    "n_rows = 2\n",
    "n_cols = 4\n",
    "\n",
    "plt.figure(figsize=(16, 8))\n",
    "\n",
    "for i, col in enumerate(features):\n",
    "    plt.subplot(n_rows, n_cols, i+1)\n",
    "    sns.histplot(x=data[col], color='skyblue', kde=True)\n",
    "    plt.xlabel(col)\n",
    "\n",
    "plt.tight_layout()\n",
    "plt.show()"
   ]
  },
  {
   "cell_type": "markdown",
   "metadata": {
    "id": "JiditOu08t3X"
   },
   "source": [
    "Observation:\n",
    "1. Continuous numeric features: `gre_score`, `toefl_score`, and `gpa` are somewhat symmetric, typical/most frequent values are 320 (`gre_score`), 105 (`toefl_score`), and 8.5 (`gpa`)\n",
    "2. Meanwhile for columns with discrete values such as `univ_ranking`, `motiv_letter_strength`, and `recommendation_strength`, most students have 3 in `univ_ranking`, 3.5 in `motiv_letter`, and 3 in `recommendation_strength`\n",
    "3. In terms of the target variable, `admit_status = 1` is more frequent in the dataset, but it's not that extreme."
   ]
  },
  {
   "cell_type": "code",
   "execution_count": null,
   "metadata": {
    "colab": {
     "base_uri": "https://localhost:8080/",
     "height": 467
    },
    "executionInfo": {
     "elapsed": 97,
     "status": "ok",
     "timestamp": 1758106695442,
     "user": {
      "displayName": "Kurnia Freelancer",
      "userId": "04717991342523634432"
     },
     "user_tz": -420
    },
    "id": "iOhXNUlZWVrD",
    "outputId": "bd23769c-f78f-4b05-8319-71e8cdfba3bc"
   },
   "outputs": [],
   "source": [
    "# count plot for research_exp column\n",
    "sns.countplot(data=data, x=\"research_exp\")"
   ]
  },
  {
   "cell_type": "code",
   "execution_count": null,
   "metadata": {
    "colab": {
     "base_uri": "https://localhost:8080/",
     "height": 467
    },
    "executionInfo": {
     "elapsed": 330,
     "status": "ok",
     "timestamp": 1758106695806,
     "user": {
      "displayName": "Kurnia Freelancer",
      "userId": "04717991342523634432"
     },
     "user_tz": -420
    },
    "id": "sxVebwqvMw22",
    "outputId": "dfc68189-bd61-424b-ec5c-0c81373a6e84"
   },
   "outputs": [],
   "source": [
    "# bivariate -> research_exp vs admit_status (legenda)\n",
    "# research_exp affect admit_status?\n",
    "sns.countplot(data=data,x='research_exp',hue='admit_status')"
   ]
  },
  {
   "cell_type": "markdown",
   "metadata": {
    "id": "jX9UeGvH1sve"
   },
   "source": [
    "# EDA Conclusion\n",
    "1. The data does not contain major issues. There are only some NULL values and duplicated rows. We've handled them accordingly.\n",
    "2. Overall, the minimum and maximum values make sense for each column.\n",
    "3. Most of the columns with continuous numerical values are somewhat symmetric already.\n",
    "4. From the boxplot we can see outlier in `recommendation_strength` column. But it makes sense, because the min and max value are 1 and 5, the outlier is at \"1\", and it's possible (no need to drop)\n",
    "5. From barcharts of `admit_status` and `research_exp` column,  We can say that, applicants with research experience is more likely to be admitted.\n",
    "6. From correlation heatmap: `toefl_score`, `gre_score`, `motiv_letter_strength`, `univ_rank`, and `gpa` are highly correlated each other. We can choose either of them for modelling."
   ]
  },
  {
   "cell_type": "code",
   "execution_count": null,
   "metadata": {
    "executionInfo": {
     "elapsed": 3,
     "status": "ok",
     "timestamp": 1758106698116,
     "user": {
      "displayName": "Kurnia Freelancer",
      "userId": "04717991342523634432"
     },
     "user_tz": -420
    },
    "id": "rhFiRL0k3C55"
   },
   "outputs": [],
   "source": []
  }
 ],
 "metadata": {
  "colab": {
   "provenance": []
  },
  "kernelspec": {
   "display_name": "Python 3 (ipykernel)",
   "language": "python",
   "name": "python3"
  },
  "language_info": {
   "codemirror_mode": {
    "name": "ipython",
    "version": 3
   },
   "file_extension": ".py",
   "mimetype": "text/x-python",
   "name": "python",
   "nbconvert_exporter": "python",
   "pygments_lexer": "ipython3",
   "version": "3.9.0"
  }
 },
 "nbformat": 4,
 "nbformat_minor": 4
}
