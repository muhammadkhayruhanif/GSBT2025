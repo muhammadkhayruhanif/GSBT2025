{
 "cells": [
  {
   "cell_type": "markdown",
   "metadata": {
    "id": "fQjXfMWTFXhh"
   },
   "source": [
    "# Overview Materi\n",
    "\n",
    "Source: https://www.youtube.com/watch?v=LDRbO9a6XPU"
   ]
  },
  {
   "cell_type": "markdown",
   "metadata": {
    "id": "UH5otNgmFY4r"
   },
   "source": [
    "Jelaskan secara singkat apa itu decision tree menurut pemahamanmu!"
   ]
  },
  {
   "cell_type": "markdown",
   "metadata": {
    "id": "yR_dxhoaIGZY"
   },
   "source": [
    "# Import Data & Libraries"
   ]
  },
  {
   "cell_type": "code",
   "execution_count": 83,
   "metadata": {
    "id": "E3fobMaeFOAe"
   },
   "outputs": [],
   "source": [
    "from __future__ import print_function\n",
    "\n",
    "# label kolom\n",
    "header = [\"color\", \"diameter\", \"label\"]\n",
    "\n",
    "# data training\n",
    "training_data = [\n",
    "    ['Green', 3, 'Apple'],\n",
    "    ['Yellow', 3, 'Apple'],\n",
    "    ['Red', 1, 'Grape'],\n",
    "    ['Red', 1, 'Grape'],\n",
    "    ['Yellow', 3, 'Lemon'],]\n",
    "\n",
    "# data testing\n",
    "testing_data = [\n",
    "    ['Green', 3, 'Apple'],\n",
    "    ['Yellow', 4, 'Apple'],\n",
    "    ['Red', 2, 'Grape'],\n",
    "    ['Red', 1, 'Grape'],\n",
    "    ['Yellow', 3, 'Lemon'],]"
   ]
  },
  {
   "cell_type": "markdown",
   "metadata": {
    "id": "YMsTb3E1MWY6"
   },
   "source": [
    "# Fungsi Dasar"
   ]
  },
  {
   "cell_type": "code",
   "execution_count": 84,
   "metadata": {
    "id": "Bgzx5gwhSTWp"
   },
   "outputs": [
    {
     "data": {
      "text/plain": [
       "{'Green', 'Red', 'Yellow'}"
      ]
     },
     "execution_count": 84,
     "metadata": {},
     "output_type": "execute_result"
    }
   ],
   "source": [
    "# fungsi mencari apa saja unique value dari suatu kolom\n",
    "def unique_value(rows, col):\n",
    "    return set([row[col] for row in rows])\n",
    "\n",
    "# contoh penggunaan\n",
    "unique_value(training_data, 0)"
   ]
  },
  {
   "cell_type": "code",
   "execution_count": 109,
   "metadata": {
    "id": "hhF6uUhrJesN"
   },
   "outputs": [
    {
     "data": {
      "text/plain": [
       "{'Apple': 2, 'Grape': 2, 'Lemon': 1}"
      ]
     },
     "execution_count": 109,
     "metadata": {},
     "output_type": "execute_result"
    }
   ],
   "source": [
    "# fungsi Menghitung jumlah unique value dari suatu kolom\n",
    "def class_counts(rows):\n",
    "    counts = {} # membuat dictionary\n",
    "    for row in rows:\n",
    "        # dari dataset, label selalu yang kolom terakhir\n",
    "        label = row[-1]\n",
    "        if label not in counts:\n",
    "            counts[label] = 0\n",
    "        counts[label] += 1\n",
    "    return counts\n",
    "\n",
    "# contoh penggunaan\n",
    "class_counts(training_data)"
   ]
  },
  {
   "cell_type": "code",
   "execution_count": 86,
   "metadata": {
    "id": "U9mxqVcnI9vw"
   },
   "outputs": [
    {
     "data": {
      "text/plain": [
       "True"
      ]
     },
     "execution_count": 86,
     "metadata": {},
     "output_type": "execute_result"
    }
   ],
   "source": [
    "# fungsi pengecekan suatu value numerik atau bukan\n",
    "def is_numeric(value):\n",
    "    return isinstance(value, int) or isinstance(value,float)\n",
    "\n",
    "# contoh penggunaan\n",
    "is_numeric(7.093)"
   ]
  },
  {
   "cell_type": "code",
   "execution_count": 87,
   "metadata": {
    "id": "MekftmdeLPRo"
   },
   "outputs": [
    {
     "data": {
      "text/plain": [
       "is diameter >= 3?"
      ]
     },
     "execution_count": 87,
     "metadata": {},
     "output_type": "execute_result"
    }
   ],
   "source": [
    "# kelas untuk merepresentasikan pertanyaan pada decision tree\n",
    "class Question:\n",
    "\n",
    "    # inisialisasi kolom dan nilai pertanyaan\n",
    "    def __init__(self, column, value):\n",
    "        self.column = column\n",
    "        self.value = value\n",
    "\n",
    "    # mengecek apakah contoh data sesuai dengan pertanyaan\n",
    "    def match(self, example):\n",
    "        val = example[self.column]\n",
    "        if is_numeric(val):\n",
    "            return val >= self.value\n",
    "        else:\n",
    "            return val == self.value\n",
    "\n",
    "    # menampilkan pertanyaan dalam format string yang mudah dibaca\n",
    "    def __repr__(self):\n",
    "        condition = \"==\"\n",
    "        if is_numeric(self.value):\n",
    "            condition = \">=\"\n",
    "        return \"is %s %s %s?\" % (\n",
    "            header[self.column], condition, str(self.value))\n",
    "\n",
    "# contoh penggunaan 1\n",
    "Question(1, 3)"
   ]
  },
  {
   "cell_type": "code",
   "execution_count": 88,
   "metadata": {
    "id": "Y3lTf9NbL8Ik"
   },
   "outputs": [
    {
     "data": {
      "text/plain": [
       "[['Red', 1, 'Grape'], ['Red', 1, 'Grape']]"
      ]
     },
     "execution_count": 88,
     "metadata": {},
     "output_type": "execute_result"
    }
   ],
   "source": [
    "# membagi dataset menjadi dua berdasarkan pertanyaan\n",
    "def partition(rows, question):\n",
    "    true_rows, false_rows = [], []\n",
    "    for row in rows:\n",
    "        if question.match(row):\n",
    "            true_rows.append(row)\n",
    "        else:\n",
    "            false_rows.append(row)\n",
    "    return true_rows, false_rows\n",
    "\n",
    "# contoh penggunaan\n",
    "true_rows, false_rows = partition(training_data, Question(0, 'Red'))\n",
    "true_rows"
   ]
  },
  {
   "cell_type": "code",
   "execution_count": 89,
   "metadata": {},
   "outputs": [
    {
     "data": {
      "text/plain": [
       "[['Green', 3, 'Apple'], ['Yellow', 3, 'Apple'], ['Yellow', 3, 'Lemon']]"
      ]
     },
     "execution_count": 89,
     "metadata": {},
     "output_type": "execute_result"
    }
   ],
   "source": [
    "false_rows"
   ]
  },
  {
   "cell_type": "markdown",
   "metadata": {
    "id": "X4D5BkyeMdSG"
   },
   "source": [
    "**apa itu gini impurity?**\n",
    "<br> gini impurity berfungsi mengukur tingkat ketidakmurnian atau ketidakteraturan pada sebuah simpul (node) dalam pohon"
   ]
  },
  {
   "cell_type": "code",
   "execution_count": 110,
   "metadata": {
    "id": "DmAnmSzFMKtA"
   },
   "outputs": [
    {
     "data": {
      "text/plain": [
       "0.0"
      ]
     },
     "execution_count": 110,
     "metadata": {},
     "output_type": "execute_result"
    }
   ],
   "source": [
    "# menghitung nilai Gini Impurity untuk sebuah \n",
    "# pelajari https://en.wikipedia.org/wiki/Decision_tree_learning#Gini_impurity\n",
    "def gini(rows):\n",
    "    counts = class_counts(rows)\n",
    "    impurity = 1\n",
    "    for lbl in counts:\n",
    "        prob_of_lbl = counts[lbl] / float(len(rows))\n",
    "        impurity -= prob_of_lbl ** 2\n",
    "    return impurity\n",
    "\n",
    "# contoh penggunaan\n",
    "no_mixing = [['Apple'],\n",
    "             ['Apple']]\n",
    "\n",
    "gini(no_mixing)"
   ]
  },
  {
   "cell_type": "code",
   "execution_count": 91,
   "metadata": {},
   "outputs": [
    {
     "data": {
      "text/plain": [
       "0.5"
      ]
     },
     "execution_count": 91,
     "metadata": {},
     "output_type": "execute_result"
    }
   ],
   "source": [
    "some_mixing = [['Appe'],\n",
    "               ['Orange']]\n",
    "\n",
    "gini(some_mixing)"
   ]
  },
  {
   "cell_type": "code",
   "execution_count": 92,
   "metadata": {},
   "outputs": [
    {
     "data": {
      "text/plain": [
       "0.7999999999999998"
      ]
     },
     "execution_count": 92,
     "metadata": {},
     "output_type": "execute_result"
    }
   ],
   "source": [
    "lots_of_mixing = [['Apple'],\n",
    "                  ['Orange'],\n",
    "                  ['Grape'],\n",
    "                  ['Grapefruit'],\n",
    "                  ['Blueberry']]\n",
    "\n",
    "gini(lots_of_mixing)"
   ]
  },
  {
   "cell_type": "markdown",
   "metadata": {
    "id": "SyxWlLNOM_2U"
   },
   "source": [
    "**apa itu information gain?**\n",
    "<br> information gain berfungsi mengukur seberapa efektif sebuah fitur dalam memisahkan data berdasarkan kelas-kelasnya"
   ]
  },
  {
   "cell_type": "code",
   "execution_count": 93,
   "metadata": {
    "id": "rObVucEEMiIZ"
   },
   "outputs": [
    {
     "data": {
      "text/plain": [
       "0.6399999999999999"
      ]
     },
     "execution_count": 93,
     "metadata": {},
     "output_type": "execute_result"
    }
   ],
   "source": [
    "# menghitung nilai Information Gain dari pemisahan dataset\n",
    "def info_gain(left, right, current_uncertainty):\n",
    "    p = float(len(left)) / (len(left) + len(right))\n",
    "    return current_uncertainty - p * gini(left) - (1 - p) * gini(right)\n",
    "\n",
    "# contoh penggunaan\n",
    "current_uncertainty = gini(training_data)\n",
    "current_uncertainty"
   ]
  },
  {
   "cell_type": "code",
   "execution_count": 94,
   "metadata": {},
   "outputs": [
    {
     "data": {
      "text/plain": [
       "0.1399999999999999"
      ]
     },
     "execution_count": 94,
     "metadata": {},
     "output_type": "execute_result"
    }
   ],
   "source": [
    "true_rows, false_rows = partition(training_data, Question(0, 'Green'))\n",
    "info_gain(true_rows, false_rows, current_uncertainty)"
   ]
  },
  {
   "cell_type": "code",
   "execution_count": 95,
   "metadata": {
    "id": "OK8Lc7koOIyS"
   },
   "outputs": [
    {
     "data": {
      "text/plain": [
       "is diameter >= 3?"
      ]
     },
     "execution_count": 95,
     "metadata": {},
     "output_type": "execute_result"
    }
   ],
   "source": [
    "# mencari pertanyaan terbaik untuk membagi dataset berdasarkan information gain tertinggi\n",
    "def find_best_split(rows):\n",
    "    best_gain = 0\n",
    "    best_question = None\n",
    "    current_uncertainty = gini(rows)\n",
    "    n_features = len(rows[0]) - 1\n",
    "\n",
    "    for col in range(n_features):\n",
    "        values = set([row[col] for row in rows])\n",
    "\n",
    "        for val in values:\n",
    "            question = Question(col, val)\n",
    "\n",
    "            # splitting the dataset\n",
    "            question = Question(col, val)\n",
    "\n",
    "            # Skip this split if it doesn't divide the dataset\n",
    "            if len(true_rows) == 0 or len(false_rows) == 0:\n",
    "                continue\n",
    "\n",
    "            gain = info_gain(true_rows, false_rows, current_uncertainty)\n",
    "\n",
    "            if gain >= best_gain:\n",
    "                best_gain, best_question = gain, question\n",
    "\n",
    "    return best_gain, best_question\n",
    "\n",
    "# contoh penggunaan\n",
    "best_gain, best_question = find_best_split(training_data)\n",
    "best_question"
   ]
  },
  {
   "cell_type": "markdown",
   "metadata": {
    "id": "t225xaaIPGow"
   },
   "source": [
    "# Fungsi Decision Tree"
   ]
  },
  {
   "cell_type": "code",
   "execution_count": 96,
   "metadata": {
    "id": "3KXNVwMPOZ5c"
   },
   "outputs": [],
   "source": [
    "# merepresentasikan node daun (leaf) pada decision tree yang berisi hasil prediksi\n",
    "class Leaf:\n",
    "\n",
    "    # inisialisasi leaf dengan menghitung jumlah kemunculan tiap kelas\n",
    "    def __init__(self, rows):\n",
    "        self.predictions = class_counts(rows)"
   ]
  },
  {
   "cell_type": "code",
   "execution_count": 102,
   "metadata": {
    "id": "gktUwUY-P-eN"
   },
   "outputs": [],
   "source": [
    "# merepresentasikan node keputusan (decision node) yang berisi pertanyaan dan cabang\n",
    "class Decision_Node:\n",
    "\n",
    "    # inisialisasi node dengan pertanyaan, cabang benar, dan cabang salah\n",
    "    def __init__(self,\n",
    "                 question,\n",
    "                 true_branch,\n",
    "                 false_branch):\n",
    "        self.question = question\n",
    "        self.true_branch = true_branch\n",
    "        self.false_branch = false_branch"
   ]
  },
  {
   "cell_type": "code",
   "execution_count": 103,
   "metadata": {
    "id": "_cWHvsMKPPsk"
   },
   "outputs": [],
   "source": [
    "# membangun decision tree secara rekursif\n",
    "def build_tree(rows):\n",
    "    gain, question = find_best_split(rows)\n",
    "\n",
    "    if gain == 0:\n",
    "        return Leaf(rows)\n",
    "\n",
    "    true_rows, false_rows = partition(rows, question)\n",
    "\n",
    "    true_branch = build_tree(true_rows)\n",
    "    false_branch = build_tree(false_rows)\n",
    "    \n",
    "    return Decision_Node(question, true_branch, false_branch)"
   ]
  },
  {
   "cell_type": "code",
   "execution_count": 104,
   "metadata": {
    "id": "tx_AbjiYPS05"
   },
   "outputs": [
    {
     "name": "stdout",
     "output_type": "stream",
     "text": [
      "is diameter >= 3?\n",
      "--> True:\n",
      "  Predict {'Apple': 2, 'Lemon': 1}\n",
      "--> False:\n",
      "  Predict {'Grape': 2}\n"
     ]
    }
   ],
   "source": [
    "# mencetak struktur decision tree secara rekursif dalam format teks\n",
    "def print_tree(node, spacing=\"\"):\n",
    "\n",
    "    # base case: jika sudah mencapai leaf\n",
    "    if isinstance(node, Leaf):\n",
    "        print(spacing + \"Predict\", node.predictions)\n",
    "        return\n",
    "\n",
    "    # mencetak pertanyaan pada node saat ini\n",
    "    print(spacing + str(node.question))\n",
    "\n",
    "    # mencetak cabang true secara rekursif\n",
    "    print(spacing + '--> True:')\n",
    "    print_tree(node.true_branch, spacing + \"  \")\n",
    "\n",
    "    # mencetak cabang false secara rekursif\n",
    "    print(spacing + '--> False:')\n",
    "    print_tree(node.false_branch, spacing + \"  \")\n",
    "\n",
    "# contoh penggunaan\n",
    "my_tree = build_tree(training_data)\n",
    "print_tree(my_tree)"
   ]
  },
  {
   "cell_type": "code",
   "execution_count": 106,
   "metadata": {
    "id": "tchvhQc-PVC2"
   },
   "outputs": [
    {
     "data": {
      "text/plain": [
       "{'Apple': 2, 'Lemon': 1}"
      ]
     },
     "execution_count": 106,
     "metadata": {},
     "output_type": "execute_result"
    }
   ],
   "source": [
    "# mengklasifikasikan satu baris data menggunakan decision tree\n",
    "def classify(row, node):\n",
    "\n",
    "    # base case: jika sudah mencapai leaf\n",
    "    if isinstance(node, Leaf):\n",
    "        return node.predictions\n",
    "\n",
    "    # menentukan apakah mengikuti cabang true atau cabang false\n",
    "    # dengan membandingkan nilai fitur pada baris dengan pertanyaan di node\n",
    "    if node.question.match(row):\n",
    "        return classify(row, node.true_branch)\n",
    "    else:\n",
    "        return classify(row, node.false_branch)\n",
    "\n",
    "# contoh penggunaan\n",
    "classify(training_data[0], my_tree)"
   ]
  },
  {
   "cell_type": "code",
   "execution_count": 107,
   "metadata": {
    "id": "w8r0lzWpQM7c"
   },
   "outputs": [
    {
     "data": {
      "text/plain": [
       "{'Apple': '66%', 'Lemon': '33%'}"
      ]
     },
     "execution_count": 107,
     "metadata": {},
     "output_type": "execute_result"
    }
   ],
   "source": [
    "# menampilkan prediksi pada leaf dalam format persentase\n",
    "def print_leaf(counts):\n",
    "    total = sum(counts.values()) * 1.0\n",
    "    probs = {}\n",
    "    for lbl in counts.keys():\n",
    "        probs[lbl] = str(int(counts[lbl] / total * 100)) + \"%\"\n",
    "    return probs\n",
    "\n",
    "# contoh penggunaan\n",
    "print_leaf(classify(training_data[0], my_tree))"
   ]
  },
  {
   "cell_type": "markdown",
   "metadata": {
    "id": "JLT1_TuuQWlI"
   },
   "source": [
    "# Predict Using Decision Tree"
   ]
  },
  {
   "cell_type": "code",
   "execution_count": 108,
   "metadata": {
    "id": "DhG5NCwHQSlF"
   },
   "outputs": [
    {
     "name": "stdout",
     "output_type": "stream",
     "text": [
      "Actual: Apple. Predicted: {'Apple': '66%', 'Lemon': '33%'}\n",
      "Actual: Apple. Predicted: {'Apple': '66%', 'Lemon': '33%'}\n",
      "Actual: Grape. Predicted: {'Grape': '100%'}\n",
      "Actual: Grape. Predicted: {'Grape': '100%'}\n",
      "Actual: Lemon. Predicted: {'Apple': '66%', 'Lemon': '33%'}\n"
     ]
    }
   ],
   "source": [
    "# menguji decision tree dengan data uji dan membandingkan hasil prediksi dengan label asli\n",
    "for row in testing_data:\n",
    "    print(\"Actual: %s. Predicted: %s\" %\n",
    "          (row[-1], print_leaf(classify(row, my_tree))))"
   ]
  },
  {
   "cell_type": "code",
   "execution_count": null,
   "metadata": {},
   "outputs": [],
   "source": []
  }
 ],
 "metadata": {
  "colab": {
   "provenance": []
  },
  "kernelspec": {
   "display_name": "Python 3 (ipykernel)",
   "language": "python",
   "name": "python3"
  },
  "language_info": {
   "codemirror_mode": {
    "name": "ipython",
    "version": 3
   },
   "file_extension": ".py",
   "mimetype": "text/x-python",
   "name": "python",
   "nbconvert_exporter": "python",
   "pygments_lexer": "ipython3",
   "version": "3.9.0"
  }
 },
 "nbformat": 4,
 "nbformat_minor": 4
}
