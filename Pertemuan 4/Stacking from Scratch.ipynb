{
 "cells": [
  {
   "cell_type": "markdown",
   "id": "8f5448fb",
   "metadata": {
    "id": "8f5448fb",
    "papermill": {
     "duration": 0.014281,
     "end_time": "2024-06-29T05:06:57.857497",
     "exception": false,
     "start_time": "2024-06-29T05:06:57.843216",
     "status": "completed"
    },
    "tags": []
   },
   "source": [
    "# **Stacking from scratch**\n",
    "\n",
    "Berikan penjelasan terkait Stacking!\n",
    "\n",
    "Source : https://www.geeksforgeeks.org/machine-learning/stacking-in-machine-learning/\n",
    "Youtube : https://www.youtube.com/watch?v=a4IS1Ai7GCI"
   ]
  },
  {
   "cell_type": "code",
   "execution_count": 18,
   "id": "1586bc8f",
   "metadata": {
    "id": "1586bc8f",
    "papermill": {
     "duration": 2.977168,
     "end_time": "2024-06-29T05:07:00.849030",
     "exception": false,
     "start_time": "2024-06-29T05:06:57.871862",
     "status": "completed"
    },
    "tags": []
   },
   "outputs": [],
   "source": [
    "# Import Libraries\n",
    "import numpy as np\n",
    "import pandas as pd\n",
    "from sklearn.model_selection import KFold\n",
    "from sklearn.base import BaseEstimator, ClassifierMixin\n",
    "from sklearn.linear_model import LogisticRegression\n",
    "from sklearn.model_selection import train_test_split\n",
    "from sklearn.preprocessing import LabelEncoder\n",
    "from sklearn.tree import DecisionTreeClassifier\n",
    "from sklearn.neighbors import KNeighborsClassifier\n",
    "from sklearn.svm import SVC \n",
    "from sklearn.metrics import accuracy_score"
   ]
  },
  {
   "cell_type": "markdown",
   "id": "xl_ZCQOqltFo",
   "metadata": {
    "id": "xl_ZCQOqltFo"
   },
   "source": [
    "**Pendefinisian class stack**\n",
    "\n",
    "Bertujuan untuk membuat kerangka kerja ensemble learning berbasis stacking dan blending secara modular dan fleksibel. Class ini memungkinkan pengguna untuk menggabungkan beberapa model dasar (base learners) dan satu model meta (final estimator) untuk menghasilkan prediksi akhir yang lebih akurat. Dengan mengatur parameter seperti metode cross-validation, penggunaan blending, serta paralelisasi proses, class ini memberikan kontrol penuh kepada pengguna dalam menerapkan teknik stacking sesuai kebutuhan. Kegunaan utamanya adalah sebagai alat bantu untuk mengimplementasikan ensemble model dari nol (from scratch) tanpa tergantung pada fungsi otomatis dari pustaka seperti scikit-learn, sehingga cocok untuk pembelajaran konsep maupun eksperimen lanjutan dalam machine learning."
   ]
  },
  {
   "cell_type": "markdown",
   "id": "_hxe6ClnA8_o",
   "metadata": {
    "id": "_hxe6ClnA8_o"
   },
   "source": [
    "Buat class bernama Stack yang berisi <br>\n",
    "\n",
    "Attribute:\n",
    "\n",
    "\n",
    "Method:\n"
   ]
  },
  {
   "cell_type": "code",
   "execution_count": 9,
   "id": "436db242",
   "metadata": {
    "id": "436db242",
    "papermill": {
     "duration": 0.036178,
     "end_time": "2024-06-29T05:07:00.900303",
     "exception": false,
     "start_time": "2024-06-29T05:07:00.864125",
     "status": "completed"
    },
    "tags": []
   },
   "outputs": [],
   "source": [
    "# Definisikan class stack\n",
    "class Stack(BaseEstimator, ClassifierMixin):\n",
    "\n",
    "    def __init__(self, base_learners=None, final_estimator=None, cv=5):\n",
    "        if base_learners is None:\n",
    "            self.base_learners = [('lr', LogisticRegression(random_state=42))]\n",
    "        else:\n",
    "            self.base_learners = base.learners\n",
    "\n",
    "        if final_estimator is None:\n",
    "            self.final_estimator = LogisticsRegression(random_state=42)\n",
    "        else:\n",
    "            self.final_estimator = final_estimator\n",
    "\n",
    "        self.cv = cv\n",
    "        self.fitted_base_learners = []\n",
    "\n",
    "    def fit(self, X, y):\n",
    "        kf = KFold(n_splits=self.cv, shuffle=True, random_state=42)\n",
    "        meta_features = np.zeros((X.shape[0], len(self.base_learners)))\n",
    "        self.fitted_base_learners = []\n",
    "\n",
    "        for i, (name, model) in enumerate(self.base_learners):\n",
    "            clone_model = copy.deepcopy(model)\n",
    "            self.fitted_base_learnenrs.append(clone_model)\n",
    "            oof_predictions = np.zeros((X.Shape[0],))\n",
    "\n",
    "            for train_idx, val_idx in kf.split(X, y):\n",
    "                X_train_fold, X_val_fold = X[train_idx], X[val_idx]\n",
    "                y_train_fold, y_val_fold = y[train_idx], y[val_idx]\n",
    "\n",
    "                clone_model.fit(X_train_fold, y_train_fold)\n",
    "\n",
    "                oof_predictions[val_idx] = clone_model.predict(X_val_fold)\n",
    "\n",
    "            meta_features[:, i] = oof_predictions\n",
    "\n",
    "            clone_model.fit(X, y)\n",
    "\n",
    "        self.final_estimator.fit(meta_features, y)\n",
    "        return self\n",
    "\n",
    "    def predict(self, X):\n",
    "        base_predictions = []\n",
    "        \n",
    "        for name, model in zip(self.base_learners, self.fitted_base_learners):\n",
    "            base_predictions.append(model.predict(X))\n",
    "\n",
    "        meta_features = np.column_stack(base_predicitions)\n",
    "        return self.final_estimator.predict(meta_features)"
   ]
  },
  {
   "cell_type": "markdown",
   "id": "1cf6ff9c",
   "metadata": {
    "id": "1cf6ff9c",
    "papermill": {
     "duration": 0.014463,
     "end_time": "2024-06-29T05:07:00.969581",
     "exception": false,
     "start_time": "2024-06-29T05:07:00.955118",
     "status": "completed"
    },
    "tags": []
   },
   "source": [
    "### **Upload datasets**"
   ]
  },
  {
   "cell_type": "code",
   "execution_count": 10,
   "id": "n5A865GHEqpX",
   "metadata": {
    "id": "n5A865GHEqpX"
   },
   "outputs": [],
   "source": [
    "# Load dataset iris dari sklearn\n",
    "from sklearn.datasets import load_iris\n",
    "iris = load_iris(as_frame=True)\n",
    "glass_df = iris.frame\n",
    "\n",
    "# Pisahkan fitur dan target\n",
    "X1 = glass_df[iris.feature_names].values\n",
    "y1 = glass_df['target'].values\n",
    "# Encode target (optional, untuk case multiclass stacking) -> tidak diperlukan\n",
    "\n",
    "# Split data menjadi train dan test\n",
    "X1_train, X1_test, y1_train, y1_test = train_test_split(X1, y1, random_state=0)"
   ]
  },
  {
   "cell_type": "markdown",
   "id": "f91c4f4f",
   "metadata": {
    "id": "f91c4f4f",
    "papermill": {
     "duration": 0.014633,
     "end_time": "2024-06-29T05:07:01.153943",
     "exception": false,
     "start_time": "2024-06-29T05:07:01.139310",
     "status": "completed"
    },
    "tags": []
   },
   "source": [
    "# **Model training and evaluation of the obtained results**\n",
    "Both in the case of classification and regression, stacking and blending showed the same and not the best results. As a rule, this situation occurs for two reasons: given that metadata is based on predictions of basic models, the presence of weak basic models can reduce the accuracy of stronger ones which will reduce the final prediction as a whole. Also a small amount of training data often leads to overfitting which in turn reduces the accuracy of predictions.\n",
    "\n",
    "In this case the problem can be partially solved by setting stack_method='predict_proba' when each basic classifier outputs class membership probabilities instead of the classes themselves which can help increase accuracy in the case of non-mutually exclusive classes. Also this method works better with noise in the data. As you can see this method has significantly increased the accuracy of the model. With the right selection of models and hyperparameters the accuracy will be even higher.\n",
    "\n",
    "Most often stacking shows slightly better results than blending due to the use of k-fold cross-validation but usually the difference is noticeable only on a large amount of data."
   ]
  },
  {
   "cell_type": "code",
   "execution_count": 11,
   "id": "bf39fc7e",
   "metadata": {
    "id": "bf39fc7e",
    "papermill": {
     "duration": 8.8971,
     "end_time": "2024-06-29T05:07:10.095743",
     "exception": false,
     "start_time": "2024-06-29T05:07:01.198643",
     "status": "completed"
    },
    "tags": []
   },
   "outputs": [],
   "source": [
    "# StackingClassifier dan Blending Classifier\n"
   ]
  },
  {
   "cell_type": "markdown",
   "id": "f044880e",
   "metadata": {
    "id": "f044880e",
    "papermill": {
     "duration": 0.014779,
     "end_time": "2024-06-29T05:07:10.125840",
     "exception": false,
     "start_time": "2024-06-29T05:07:10.111061",
     "status": "completed"
    },
    "tags": []
   },
   "source": [
    "**StackingClassifier (scikit-learn)**\n",
    "\n",
    "\n",
    "* Merupakan implementasi resmi stacking untuk klasifikasi dalam scikit-learn.\n",
    "\n",
    "* Mempermudah proses ensemble dengan base learners dan final estimator (meta learner) dalam satu objek.\n",
    "\n",
    "* Sudah menangani cross-validation secara internal sehingga mengurangi risiko data leakage.\n",
    "\n",
    "* Mendukung parameter passthrough=True jika ingin menggabungkan fitur asli dengan meta-features.\n",
    "\n",
    "* Cocok untuk digunakan dalam pipeline dan produksi karena stabil dan teruji."
   ]
  },
  {
   "cell_type": "code",
   "execution_count": 19,
   "id": "11437b8a",
   "metadata": {
    "id": "11437b8a",
    "papermill": {
     "duration": 48.613356,
     "end_time": "2024-06-29T05:07:58.754310",
     "exception": false,
     "start_time": "2024-06-29T05:07:10.140954",
     "status": "completed"
    },
    "tags": []
   },
   "outputs": [
    {
     "name": "stdout",
     "output_type": "stream",
     "text": [
      "predict_proba\n",
      "Metode predict_proba akurasi: 0.9736842105263158\n",
      "predict\n",
      "Metode predict akurasi: 0.9736842105263158\n",
      "Ringkasan akurasi Stacking Classifier\n",
      "{'predict_proba': 0.9736842105263158, 'predict': 0.9736842105263158}\n"
     ]
    }
   ],
   "source": [
    "# StackingClassifier (scikit-learn)\n",
    "from sklearn.ensemble import StackingClassifier\n",
    "\n",
    "# sk_estimators\n",
    "sk_estimators = [\n",
    "    ('knn', KNeighborsClassifier(n_neighbors=5)),\n",
    "    ('dt', DecisionTreeClassifier(max_depth=5, random_state=42)),\n",
    "    ('svc', SVC(kernel='linear', probability=True, random_state=42))\n",
    "]\n",
    "\n",
    "meta_learner = LogisticRegression(solver='lbfgs', multi_class='auto', random_state=42)\n",
    "\n",
    "# stack_methods\n",
    "stack_methods = ['predict_proba', 'predict']\n",
    "\n",
    "result = {}\n",
    "\n",
    "for i, method in enumerate(stack_methods):\n",
    "    print(method)\n",
    "\n",
    "    current_stack = StackingClassifier(\n",
    "    estimators = sk_estimators,\n",
    "    final_estimator = meta_learner,\n",
    "    cv = 5,\n",
    "    passthrough = False\n",
    "    )\n",
    "\n",
    "    current_stack.fit(X1_train, y1_train)\n",
    "\n",
    "    preds = current_stack.predict(X1_test)\n",
    "    accuracy = accuracy_score(y1_test, preds)\n",
    "    result[method] = accuracy\n",
    "\n",
    "    print(f\"Metode {method} akurasi: {accuracy}\")\n",
    "\n",
    "print(\"Ringkasan akurasi Stacking Classifier\")\n",
    "print(result)"
   ]
  },
  {
   "cell_type": "code",
   "execution_count": null,
   "id": "e399496b-6ec7-407b-82e4-f3420f71f4dd",
   "metadata": {},
   "outputs": [],
   "source": []
  }
 ],
 "metadata": {
  "colab": {
   "provenance": []
  },
  "kaggle": {
   "accelerator": "none",
   "dataSources": [
    {
     "datasetId": 738,
     "sourceId": 1370,
     "sourceType": "datasetVersion"
    }
   ],
   "dockerImageVersionId": 30664,
   "isGpuEnabled": false,
   "isInternetEnabled": true,
   "language": "python",
   "sourceType": "notebook"
  },
  "kernelspec": {
   "display_name": "Python 3 (ipykernel)",
   "language": "python",
   "name": "python3"
  },
  "language_info": {
   "codemirror_mode": {
    "name": "ipython",
    "version": 3
   },
   "file_extension": ".py",
   "mimetype": "text/x-python",
   "name": "python",
   "nbconvert_exporter": "python",
   "pygments_lexer": "ipython3",
   "version": "3.9.0"
  },
  "papermill": {
   "default_parameters": {},
   "duration": 71.638912,
   "end_time": "2024-06-29T05:08:06.086780",
   "environment_variables": {},
   "exception": null,
   "input_path": "__notebook__.ipynb",
   "output_path": "__notebook__.ipynb",
   "parameters": {},
   "start_time": "2024-06-29T05:06:54.447868",
   "version": "2.5.0"
  }
 },
 "nbformat": 4,
 "nbformat_minor": 5
}
