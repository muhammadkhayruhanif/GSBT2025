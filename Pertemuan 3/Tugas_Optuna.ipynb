{
 "cells": [
  {
   "cell_type": "markdown",
   "id": "e8501fb5-0e3e-4ac4-a33d-1c46bec618c5",
   "metadata": {
    "id": "e8501fb5-0e3e-4ac4-a33d-1c46bec618c5"
   },
   "source": [
    "# Overview Materi"
   ]
  },
  {
   "cell_type": "markdown",
   "id": "ddf97288-67e8-46cb-9c3c-b62f4420e4e0",
   "metadata": {
    "id": "ddf97288-67e8-46cb-9c3c-b62f4420e4e0"
   },
   "source": [
    "Jelaskan perbedaan singkat antara grid, randomized, bayesian search cv dengan optuna menurut pemahamanmu\n",
    "\n",
    "- Grid\n",
    "Metode mencoba semua kombinasi yang ada dari nilai yang sudah ditentukan. Tidak efektif untuk data yang banyak.\n",
    "- Randomized\n",
    "Metode mencoba dengan kombinasi acak dari nilai yang sudah ditentukan. Cukup efektif untuk data dengan dimensi tinggi.\n",
    "- bayesian Search CV\n",
    "Metode yang menggunakan probabilitas (Gaussian) untuk memprediksi kombinasi terbaik.\n",
    "- Optuna\n",
    "Metode dengan penerapan algoritma Tree-Structured Parzen Estimator (TPE) dan mirip dengan Bayesian.\n",
    "\n",
    "source: https://www.youtube.com/watch?v=t-INgABWULw"
   ]
  },
  {
   "cell_type": "markdown",
   "id": "3c54fdc7-5a95-43e1-8228-dd2f33f3b006",
   "metadata": {
    "id": "3c54fdc7-5a95-43e1-8228-dd2f33f3b006"
   },
   "source": [
    "# Import Data & Libraries"
   ]
  },
  {
   "cell_type": "code",
   "execution_count": 1,
   "id": "ZTyJd06_6RJ8",
   "metadata": {
    "id": "ZTyJd06_6RJ8"
   },
   "outputs": [],
   "source": [
    "# jalankan hanya sekali\n",
    "# !pip install optuna -q"
   ]
  },
  {
   "cell_type": "code",
   "execution_count": 96,
   "id": "599a204a-ae03-44a2-ad3c-84e45562c535",
   "metadata": {
    "id": "599a204a-ae03-44a2-ad3c-84e45562c535"
   },
   "outputs": [],
   "source": [
    "# import library yang dibutuhkan di sini\n",
    "import seaborn as sns\n",
    "from sklearn.model_selection import train_test_split\n",
    "from sklearn.ensemble import RandomForestRegressor, RandomForestClassifier\n",
    "from sklearn.metrics import mean_absolute_error, mean_squared_error, r2_score, accuracy_score, precision_score, recall_score, f1_score, classification_report\n",
    "import optuna\n",
    "from sklearn.model_selection import cross_val_score"
   ]
  },
  {
   "cell_type": "code",
   "execution_count": 11,
   "id": "7hX1QGoD6HRA",
   "metadata": {
    "colab": {
     "base_uri": "https://localhost:8080/",
     "height": 206
    },
    "executionInfo": {
     "elapsed": 51,
     "status": "ok",
     "timestamp": 1753085816526,
     "user": {
      "displayName": "Data Analytics GSB",
      "userId": "10141623010544721674"
     },
     "user_tz": -420
    },
    "id": "7hX1QGoD6HRA",
    "outputId": "482cc474-49ec-4a94-b914-2bee8fb46b4f"
   },
   "outputs": [
    {
     "data": {
      "text/html": [
       "<div>\n",
       "<style scoped>\n",
       "    .dataframe tbody tr th:only-of-type {\n",
       "        vertical-align: middle;\n",
       "    }\n",
       "\n",
       "    .dataframe tbody tr th {\n",
       "        vertical-align: top;\n",
       "    }\n",
       "\n",
       "    .dataframe thead th {\n",
       "        text-align: right;\n",
       "    }\n",
       "</style>\n",
       "<table border=\"1\" class=\"dataframe\">\n",
       "  <thead>\n",
       "    <tr style=\"text-align: right;\">\n",
       "      <th></th>\n",
       "      <th>sepal_length</th>\n",
       "      <th>sepal_width</th>\n",
       "      <th>petal_length</th>\n",
       "      <th>petal_width</th>\n",
       "      <th>species</th>\n",
       "    </tr>\n",
       "  </thead>\n",
       "  <tbody>\n",
       "    <tr>\n",
       "      <th>0</th>\n",
       "      <td>5.1</td>\n",
       "      <td>3.5</td>\n",
       "      <td>1.4</td>\n",
       "      <td>0.2</td>\n",
       "      <td>setosa</td>\n",
       "    </tr>\n",
       "    <tr>\n",
       "      <th>1</th>\n",
       "      <td>4.9</td>\n",
       "      <td>3.0</td>\n",
       "      <td>1.4</td>\n",
       "      <td>0.2</td>\n",
       "      <td>setosa</td>\n",
       "    </tr>\n",
       "    <tr>\n",
       "      <th>2</th>\n",
       "      <td>4.7</td>\n",
       "      <td>3.2</td>\n",
       "      <td>1.3</td>\n",
       "      <td>0.2</td>\n",
       "      <td>setosa</td>\n",
       "    </tr>\n",
       "    <tr>\n",
       "      <th>3</th>\n",
       "      <td>4.6</td>\n",
       "      <td>3.1</td>\n",
       "      <td>1.5</td>\n",
       "      <td>0.2</td>\n",
       "      <td>setosa</td>\n",
       "    </tr>\n",
       "    <tr>\n",
       "      <th>4</th>\n",
       "      <td>5.0</td>\n",
       "      <td>3.6</td>\n",
       "      <td>1.4</td>\n",
       "      <td>0.2</td>\n",
       "      <td>setosa</td>\n",
       "    </tr>\n",
       "  </tbody>\n",
       "</table>\n",
       "</div>"
      ],
      "text/plain": [
       "   sepal_length  sepal_width  petal_length  petal_width species\n",
       "0           5.1          3.5           1.4          0.2  setosa\n",
       "1           4.9          3.0           1.4          0.2  setosa\n",
       "2           4.7          3.2           1.3          0.2  setosa\n",
       "3           4.6          3.1           1.5          0.2  setosa\n",
       "4           5.0          3.6           1.4          0.2  setosa"
      ]
     },
     "execution_count": 11,
     "metadata": {},
     "output_type": "execute_result"
    }
   ],
   "source": [
    "df = sns.load_dataset('iris')\n",
    "df.head()"
   ]
  },
  {
   "cell_type": "markdown",
   "id": "e7d4f7f9-6710-49fa-b2cc-6203f8d44b1b",
   "metadata": {
    "id": "e7d4f7f9-6710-49fa-b2cc-6203f8d44b1b"
   },
   "source": [
    "# Data Preprocessing"
   ]
  },
  {
   "cell_type": "code",
   "execution_count": 14,
   "id": "jf-HfsR-9W-7",
   "metadata": {
    "id": "jf-HfsR-9W-7"
   },
   "outputs": [
    {
     "data": {
      "text/html": [
       "<div>\n",
       "<style scoped>\n",
       "    .dataframe tbody tr th:only-of-type {\n",
       "        vertical-align: middle;\n",
       "    }\n",
       "\n",
       "    .dataframe tbody tr th {\n",
       "        vertical-align: top;\n",
       "    }\n",
       "\n",
       "    .dataframe thead th {\n",
       "        text-align: right;\n",
       "    }\n",
       "</style>\n",
       "<table border=\"1\" class=\"dataframe\">\n",
       "  <thead>\n",
       "    <tr style=\"text-align: right;\">\n",
       "      <th></th>\n",
       "      <th>sepal_length</th>\n",
       "      <th>sepal_width</th>\n",
       "      <th>petal_length</th>\n",
       "      <th>petal_width</th>\n",
       "      <th>species</th>\n",
       "      <th>sp_setosa</th>\n",
       "      <th>sp_versicolor</th>\n",
       "      <th>sp_virginica</th>\n",
       "    </tr>\n",
       "  </thead>\n",
       "  <tbody>\n",
       "    <tr>\n",
       "      <th>0</th>\n",
       "      <td>5.1</td>\n",
       "      <td>3.5</td>\n",
       "      <td>1.4</td>\n",
       "      <td>0.2</td>\n",
       "      <td>setosa</td>\n",
       "      <td>1</td>\n",
       "      <td>0</td>\n",
       "      <td>0</td>\n",
       "    </tr>\n",
       "    <tr>\n",
       "      <th>1</th>\n",
       "      <td>4.9</td>\n",
       "      <td>3.0</td>\n",
       "      <td>1.4</td>\n",
       "      <td>0.2</td>\n",
       "      <td>setosa</td>\n",
       "      <td>1</td>\n",
       "      <td>0</td>\n",
       "      <td>0</td>\n",
       "    </tr>\n",
       "    <tr>\n",
       "      <th>2</th>\n",
       "      <td>4.7</td>\n",
       "      <td>3.2</td>\n",
       "      <td>1.3</td>\n",
       "      <td>0.2</td>\n",
       "      <td>setosa</td>\n",
       "      <td>1</td>\n",
       "      <td>0</td>\n",
       "      <td>0</td>\n",
       "    </tr>\n",
       "    <tr>\n",
       "      <th>3</th>\n",
       "      <td>4.6</td>\n",
       "      <td>3.1</td>\n",
       "      <td>1.5</td>\n",
       "      <td>0.2</td>\n",
       "      <td>setosa</td>\n",
       "      <td>1</td>\n",
       "      <td>0</td>\n",
       "      <td>0</td>\n",
       "    </tr>\n",
       "    <tr>\n",
       "      <th>4</th>\n",
       "      <td>5.0</td>\n",
       "      <td>3.6</td>\n",
       "      <td>1.4</td>\n",
       "      <td>0.2</td>\n",
       "      <td>setosa</td>\n",
       "      <td>1</td>\n",
       "      <td>0</td>\n",
       "      <td>0</td>\n",
       "    </tr>\n",
       "  </tbody>\n",
       "</table>\n",
       "</div>"
      ],
      "text/plain": [
       "   sepal_length  sepal_width  petal_length  petal_width species  sp_setosa  \\\n",
       "0           5.1          3.5           1.4          0.2  setosa          1   \n",
       "1           4.9          3.0           1.4          0.2  setosa          1   \n",
       "2           4.7          3.2           1.3          0.2  setosa          1   \n",
       "3           4.6          3.1           1.5          0.2  setosa          1   \n",
       "4           5.0          3.6           1.4          0.2  setosa          1   \n",
       "\n",
       "   sp_versicolor  sp_virginica  \n",
       "0              0             0  \n",
       "1              0             0  \n",
       "2              0             0  \n",
       "3              0             0  \n",
       "4              0             0  "
      ]
     },
     "execution_count": 14,
     "metadata": {},
     "output_type": "execute_result"
    }
   ],
   "source": [
    "# ubah variabel kategorik ke numerik\n",
    "# species = ['setosa', 'versicolor', 'virginica']\n",
    "df['sp_setosa'] = df['species'].map({'setosa': 1, 'versicolor': 0, 'virginica': 0})\n",
    "df['sp_versicolor'] = df['species'].map({'setosa': 0, 'versicolor': 1, 'virginica': 0})\n",
    "df['sp_virginica'] = df['species'].map({'setosa': 0, 'versicolor': 0, 'virginica': 1})\n",
    "df.head()"
   ]
  },
  {
   "cell_type": "code",
   "execution_count": 43,
   "id": "ef4ee5bd-1fa2-4de4-8426-0e67cfe152fa",
   "metadata": {},
   "outputs": [],
   "source": [
    "# lebih baik mengganti kolom 'species' dengan masing2 tipe menjadi 1/2/3\n",
    "df['species2'] = df['species'].map({'setosa': 1, 'versicolor': 2, 'virginica': 3})"
   ]
  },
  {
   "cell_type": "code",
   "execution_count": 38,
   "id": "ff2683bf-e81d-4642-a2dd-b56eec436f67",
   "metadata": {
    "id": "ff2683bf-e81d-4642-a2dd-b56eec436f67"
   },
   "outputs": [
    {
     "data": {
      "text/html": [
       "<div>\n",
       "<style scoped>\n",
       "    .dataframe tbody tr th:only-of-type {\n",
       "        vertical-align: middle;\n",
       "    }\n",
       "\n",
       "    .dataframe tbody tr th {\n",
       "        vertical-align: top;\n",
       "    }\n",
       "\n",
       "    .dataframe thead th {\n",
       "        text-align: right;\n",
       "    }\n",
       "</style>\n",
       "<table border=\"1\" class=\"dataframe\">\n",
       "  <thead>\n",
       "    <tr style=\"text-align: right;\">\n",
       "      <th></th>\n",
       "      <th>sepal_length</th>\n",
       "      <th>sepal_width</th>\n",
       "      <th>petal_length</th>\n",
       "      <th>petal_width</th>\n",
       "      <th>sp_setosa</th>\n",
       "      <th>sp_versicolor</th>\n",
       "      <th>sp_virginica</th>\n",
       "    </tr>\n",
       "  </thead>\n",
       "  <tbody>\n",
       "    <tr>\n",
       "      <th>0</th>\n",
       "      <td>5.1</td>\n",
       "      <td>3.5</td>\n",
       "      <td>1.4</td>\n",
       "      <td>0.2</td>\n",
       "      <td>1</td>\n",
       "      <td>0</td>\n",
       "      <td>0</td>\n",
       "    </tr>\n",
       "    <tr>\n",
       "      <th>1</th>\n",
       "      <td>4.9</td>\n",
       "      <td>3.0</td>\n",
       "      <td>1.4</td>\n",
       "      <td>0.2</td>\n",
       "      <td>1</td>\n",
       "      <td>0</td>\n",
       "      <td>0</td>\n",
       "    </tr>\n",
       "    <tr>\n",
       "      <th>2</th>\n",
       "      <td>4.7</td>\n",
       "      <td>3.2</td>\n",
       "      <td>1.3</td>\n",
       "      <td>0.2</td>\n",
       "      <td>1</td>\n",
       "      <td>0</td>\n",
       "      <td>0</td>\n",
       "    </tr>\n",
       "    <tr>\n",
       "      <th>3</th>\n",
       "      <td>4.6</td>\n",
       "      <td>3.1</td>\n",
       "      <td>1.5</td>\n",
       "      <td>0.2</td>\n",
       "      <td>1</td>\n",
       "      <td>0</td>\n",
       "      <td>0</td>\n",
       "    </tr>\n",
       "    <tr>\n",
       "      <th>4</th>\n",
       "      <td>5.0</td>\n",
       "      <td>3.6</td>\n",
       "      <td>1.4</td>\n",
       "      <td>0.2</td>\n",
       "      <td>1</td>\n",
       "      <td>0</td>\n",
       "      <td>0</td>\n",
       "    </tr>\n",
       "  </tbody>\n",
       "</table>\n",
       "</div>"
      ],
      "text/plain": [
       "   sepal_length  sepal_width  petal_length  petal_width  sp_setosa  \\\n",
       "0           5.1          3.5           1.4          0.2          1   \n",
       "1           4.9          3.0           1.4          0.2          1   \n",
       "2           4.7          3.2           1.3          0.2          1   \n",
       "3           4.6          3.1           1.5          0.2          1   \n",
       "4           5.0          3.6           1.4          0.2          1   \n",
       "\n",
       "   sp_versicolor  sp_virginica  \n",
       "0              0             0  \n",
       "1              0             0  \n",
       "2              0             0  \n",
       "3              0             0  \n",
       "4              0             0  "
      ]
     },
     "execution_count": 38,
     "metadata": {},
     "output_type": "execute_result"
    }
   ],
   "source": [
    "# subsetting peubah\n",
    "X = df.drop(['species', 'species2'], axis=1)\n",
    "y = df['species2']\n",
    "X.head()"
   ]
  },
  {
   "cell_type": "markdown",
   "id": "613a4b6d-2978-4d2e-a91d-0e562fdbdcd4",
   "metadata": {
    "id": "613a4b6d-2978-4d2e-a91d-0e562fdbdcd4"
   },
   "source": [
    "# Dataset Splitting"
   ]
  },
  {
   "cell_type": "code",
   "execution_count": 39,
   "id": "4cf8cc4c-a3fa-4e20-bb9f-7ddf7600b4e7",
   "metadata": {
    "id": "4cf8cc4c-a3fa-4e20-bb9f-7ddf7600b4e7"
   },
   "outputs": [],
   "source": [
    "# split dengan rasio 80:20\n",
    "X_train, X_test, y_train, y_test = train_test_split(X, y, test_size = 0.2, random_state = 42)"
   ]
  },
  {
   "cell_type": "markdown",
   "id": "ba864b86-6e12-4eb3-8193-460a48f29a03",
   "metadata": {
    "id": "ba864b86-6e12-4eb3-8193-460a48f29a03"
   },
   "source": [
    "# Base Model Random Forest"
   ]
  },
  {
   "cell_type": "code",
   "execution_count": 64,
   "id": "597f4149-97a4-4981-833c-3d0ac122594b",
   "metadata": {
    "colab": {
     "base_uri": "https://localhost:8080/",
     "height": 80
    },
    "executionInfo": {
     "elapsed": 585,
     "status": "ok",
     "timestamp": 1753085817162,
     "user": {
      "displayName": "Data Analytics GSB",
      "userId": "10141623010544721674"
     },
     "user_tz": -420
    },
    "id": "597f4149-97a4-4981-833c-3d0ac122594b",
    "outputId": "95ee32e1-2aae-44c9-9730-14a39ee4bcd2"
   },
   "outputs": [
    {
     "data": {
      "text/plain": [
       "RandomForestRegressor(random_state=34)"
      ]
     },
     "execution_count": 64,
     "metadata": {},
     "output_type": "execute_result"
    }
   ],
   "source": [
    "# gunakan random forest classifier\n",
    "rfr = RandomForestRegressor(random_state = 34)\n",
    "rfr.fit(X_train, y_train)"
   ]
  },
  {
   "cell_type": "code",
   "execution_count": 65,
   "id": "84618159-62e1-43ea-ad52-9e0d971cbc34",
   "metadata": {
    "id": "84618159-62e1-43ea-ad52-9e0d971cbc34"
   },
   "outputs": [],
   "source": [
    "y_pred = rfr.predict(X_test)"
   ]
  },
  {
   "cell_type": "code",
   "execution_count": 66,
   "id": "9829236e-00d9-4b26-b67c-4e7d7109f4db",
   "metadata": {},
   "outputs": [
    {
     "data": {
      "text/plain": [
       "0.0"
      ]
     },
     "execution_count": 66,
     "metadata": {},
     "output_type": "execute_result"
    }
   ],
   "source": [
    "mean_absolute_error(y_test, y_pred)"
   ]
  },
  {
   "cell_type": "code",
   "execution_count": 67,
   "id": "87810d25-91f6-4070-a9b3-6e7f0353e232",
   "metadata": {},
   "outputs": [
    {
     "data": {
      "text/plain": [
       "0.0"
      ]
     },
     "execution_count": 67,
     "metadata": {},
     "output_type": "execute_result"
    }
   ],
   "source": [
    "mean_squared_error(y_test, y_pred)"
   ]
  },
  {
   "cell_type": "code",
   "execution_count": 68,
   "id": "9d90b779-ae76-4472-b318-750970ab7075",
   "metadata": {},
   "outputs": [
    {
     "data": {
      "text/plain": [
       "1.0"
      ]
     },
     "execution_count": 68,
     "metadata": {},
     "output_type": "execute_result"
    }
   ],
   "source": [
    "r2_score(y_test, y_pred)"
   ]
  },
  {
   "cell_type": "code",
   "execution_count": 69,
   "id": "9GiVMFL0DDI1",
   "metadata": {
    "colab": {
     "base_uri": "https://localhost:8080/"
    },
    "executionInfo": {
     "elapsed": 45,
     "status": "ok",
     "timestamp": 1753085817211,
     "user": {
      "displayName": "Data Analytics GSB",
      "userId": "10141623010544721674"
     },
     "user_tz": -420
    },
    "id": "9GiVMFL0DDI1",
    "outputId": "e0380e5d-07b7-4d48-a7dc-94898ad084c5"
   },
   "outputs": [
    {
     "name": "stdout",
     "output_type": "stream",
     "text": [
      "Accuracy: 1.000\n",
      "Precision: 1.000\n",
      "Recall: 1.000\n",
      "F1 Score: 1.000\n",
      "              precision    recall  f1-score   support\n",
      "\n",
      "           1       1.00      1.00      1.00        10\n",
      "           2       1.00      1.00      1.00         9\n",
      "           3       1.00      1.00      1.00        11\n",
      "\n",
      "    accuracy                           1.00        30\n",
      "   macro avg       1.00      1.00      1.00        30\n",
      "weighted avg       1.00      1.00      1.00        30\n",
      "\n"
     ]
    }
   ],
   "source": [
    "print(f\"Accuracy: {accuracy_score(y_test, y_pred):.3f}\")\n",
    "print(f\"Precision: {precision_score(y_test, y_pred, average='weighted'):.3f}\")\n",
    "print(f\"Recall: {recall_score(y_test, y_pred, average='weighted'):.3f}\")\n",
    "print(f\"F1 Score: {f1_score(y_test, y_pred, average='weighted'):.3f}\")\n",
    "print(classification_report(y_test, y_pred))"
   ]
  },
  {
   "cell_type": "markdown",
   "id": "8a836fe2-f63f-4f10-9a02-0153e0b30eb1",
   "metadata": {
    "id": "8a836fe2-f63f-4f10-9a02-0153e0b30eb1"
   },
   "source": [
    "# Optuna"
   ]
  },
  {
   "cell_type": "code",
   "execution_count": 71,
   "id": "6795b9e8-2008-4fea-a4bc-0ed04e8840a7",
   "metadata": {
    "id": "6795b9e8-2008-4fea-a4bc-0ed04e8840a7"
   },
   "outputs": [],
   "source": [
    "def objective(trial):\n",
    "    n_estimators = trial.suggest_int('n_estimators', 100, 1000)\n",
    "    max_depth = trial.suggest_int('max_depth', 10, 500)\n",
    "    min_samples_split = trial.suggest_int('min_samples_split', 2, 32)\n",
    "    min_samples_leaf = trial.suggest_int('min_samples_leaf', 1, 32)\n",
    "    \n",
    "    model = RandomForestRegressor(n_estimators = n_estimators,\n",
    "                                  max_depth = max_depth,\n",
    "                                  min_samples_split = min_samples_split,\n",
    "                                  min_samples_leaf = min_samples_leaf)\n",
    "\n",
    "    score = cross_val_score(model, X_train, y_train, cv = 5, scoring = 'neg_mean_squared_error')\n",
    "\n",
    "    return score.mean()"
   ]
  },
  {
   "cell_type": "markdown",
   "id": "c09964a0-4135-4c5b-99c4-baf6e50651c6",
   "metadata": {
    "id": "c09964a0-4135-4c5b-99c4-baf6e50651c6"
   },
   "source": [
    "Hyperparameter dapat disesuaikan dengan algoritma yang digunakan. Kali ini kita menggunakan Random Forest sehingga yang dapat kita select adalah *n_estimators, max_depth, min_samples_split,* dan *min_samples_leaf*"
   ]
  },
  {
   "cell_type": "code",
   "execution_count": 72,
   "id": "391f8db9-edba-491d-9b5a-28ccd91089b9",
   "metadata": {
    "colab": {
     "base_uri": "https://localhost:8080/"
    },
    "executionInfo": {
     "elapsed": 29,
     "status": "ok",
     "timestamp": 1753085817244,
     "user": {
      "displayName": "Data Analytics GSB",
      "userId": "10141623010544721674"
     },
     "user_tz": -420
    },
    "id": "391f8db9-edba-491d-9b5a-28ccd91089b9",
    "outputId": "7e314894-96ca-4f28-e34c-6c998621de98"
   },
   "outputs": [
    {
     "name": "stderr",
     "output_type": "stream",
     "text": [
      "[I 2025-10-04 13:31:58,015] A new study created in memory with name: no-name-d5cfea90-c275-4a45-a046-25f3596869bc\n"
     ]
    }
   ],
   "source": [
    "study = optuna.create_study(direction = 'maximize', sampler = optuna.samplers.RandomSampler(seed=42))"
   ]
  },
  {
   "cell_type": "code",
   "execution_count": 73,
   "id": "89bbc84f-cffc-4eda-85bb-e6f92399e512",
   "metadata": {
    "colab": {
     "base_uri": "https://localhost:8080/"
    },
    "executionInfo": {
     "elapsed": 424669,
     "status": "ok",
     "timestamp": 1753086241913,
     "user": {
      "displayName": "Data Analytics GSB",
      "userId": "10141623010544721674"
     },
     "user_tz": -420
    },
    "id": "89bbc84f-cffc-4eda-85bb-e6f92399e512",
    "outputId": "2caa6725-0b4a-4140-d855-2a459091126d",
    "scrolled": true
   },
   "outputs": [
    {
     "name": "stderr",
     "output_type": "stream",
     "text": [
      "[I 2025-10-04 13:32:10,446] Trial 0 finished with value: -0.04722780794382012 and parameters: {'n_estimators': 437, 'max_depth': 476, 'min_samples_split': 24, 'min_samples_leaf': 20}. Best is trial 0 with value: -0.04722780794382012.\n",
      "[I 2025-10-04 13:32:12,473] Trial 1 finished with value: -0.17752700163021218 and parameters: {'n_estimators': 240, 'max_depth': 86, 'min_samples_split': 3, 'min_samples_leaf': 28}. Best is trial 0 with value: -0.04722780794382012.\n",
      "[I 2025-10-04 13:32:17,385] Trial 2 finished with value: -0.5342737503450835 and parameters: {'n_estimators': 641, 'max_depth': 357, 'min_samples_split': 2, 'min_samples_leaf': 32}. Best is trial 0 with value: -0.04722780794382012.\n",
      "[I 2025-10-04 13:32:24,146] Trial 3 finished with value: -0.0004390196078431368 and parameters: {'n_estimators': 850, 'max_depth': 114, 'min_samples_split': 7, 'min_samples_leaf': 6}. Best is trial 3 with value: -0.0004390196078431368.\n",
      "[I 2025-10-04 13:32:27,288] Trial 4 finished with value: -0.00037442462900395227 and parameters: {'n_estimators': 374, 'max_depth': 267, 'min_samples_split': 15, 'min_samples_leaf': 10}. Best is trial 4 with value: -0.00037442462900395227.\n",
      "[I 2025-10-04 13:32:32,315] Trial 5 finished with value: -0.0003375329772306918 and parameters: {'n_estimators': 651, 'max_depth': 78, 'min_samples_split': 11, 'min_samples_leaf': 12}. Best is trial 5 with value: -0.0003375329772306918.\n",
      "[I 2025-10-04 13:32:36,095] Trial 6 finished with value: -0.004071952987579985 and parameters: {'n_estimators': 510, 'max_depth': 395, 'min_samples_split': 8, 'min_samples_leaf': 17}. Best is trial 5 with value: -0.0003375329772306918.\n",
      "[I 2025-10-04 13:32:41,128] Trial 7 finished with value: -0.0003551798693417257 and parameters: {'n_estimators': 633, 'max_depth': 32, 'min_samples_split': 20, 'min_samples_leaf': 6}. Best is trial 5 with value: -0.0003375329772306918.\n",
      "[I 2025-10-04 13:32:42,339] Trial 8 finished with value: -0.151511278334443 and parameters: {'n_estimators': 158, 'max_depth': 475, 'min_samples_split': 31, 'min_samples_leaf': 26}. Best is trial 5 with value: -0.0003375329772306918.\n",
      "[I 2025-10-04 13:32:45,260] Trial 9 finished with value: -0.0006502752154091346 and parameters: {'n_estimators': 374, 'max_depth': 57, 'min_samples_split': 23, 'min_samples_leaf': 15}. Best is trial 5 with value: -0.0003375329772306918.\n",
      "[I 2025-10-04 13:32:46,999] Trial 10 finished with value: -0.28605055724378053 and parameters: {'n_estimators': 209, 'max_depth': 253, 'min_samples_split': 3, 'min_samples_leaf': 30}. Best is trial 5 with value: -0.0003375329772306918.\n",
      "[I 2025-10-04 13:32:49,606] Trial 11 finished with value: -0.0038114398128686403 and parameters: {'n_estimators': 333, 'max_depth': 335, 'min_samples_split': 11, 'min_samples_leaf': 17}. Best is trial 5 with value: -0.0003375329772306918.\n",
      "[I 2025-10-04 13:32:54,192] Trial 12 finished with value: -0.13855167319842468 and parameters: {'n_estimators': 592, 'max_depth': 100, 'min_samples_split': 32, 'min_samples_leaf': 25}. Best is trial 5 with value: -0.0003375329772306918.\n",
      "[I 2025-10-04 13:33:01,611] Trial 13 finished with value: -0.274471559172586 and parameters: {'n_estimators': 946, 'max_depth': 449, 'min_samples_split': 20, 'min_samples_leaf': 30}. Best is trial 5 with value: -0.0003375329772306918.\n",
      "[I 2025-10-04 13:33:03,013] Trial 14 finished with value: -0.0003027371180674769 and parameters: {'n_estimators': 179, 'max_depth': 106, 'min_samples_split': 3, 'min_samples_leaf': 11}. Best is trial 14 with value: -0.0003027371180674769.\n",
      "[I 2025-10-04 13:33:06,745] Trial 15 finished with value: -0.0005732933210218532 and parameters: {'n_estimators': 450, 'max_depth': 143, 'min_samples_split': 27, 'min_samples_leaf': 12}. Best is trial 14 with value: -0.0003027371180674769.\n",
      "[I 2025-10-04 13:33:09,513] Trial 16 finished with value: -0.1544873704857666 and parameters: {'n_estimators': 353, 'max_depth': 276, 'min_samples_split': 6, 'min_samples_leaf': 26}. Best is trial 14 with value: -0.0003027371180674769.\n",
      "[I 2025-10-04 13:33:10,865] Trial 17 finished with value: -0.0005542806602364138 and parameters: {'n_estimators': 167, 'max_depth': 494, 'min_samples_split': 25, 'min_samples_leaf': 7}. Best is trial 14 with value: -0.0003027371180674769.\n",
      "[I 2025-10-04 13:33:11,674] Trial 18 finished with value: -0.1261306199877083 and parameters: {'n_estimators': 104, 'max_depth': 410, 'min_samples_split': 23, 'min_samples_leaf': 24}. Best is trial 14 with value: -0.0003027371180674769.\n",
      "[I 2025-10-04 13:33:17,817] Trial 19 finished with value: -0.00042662273939516975 and parameters: {'n_estimators': 794, 'max_depth': 46, 'min_samples_split': 13, 'min_samples_leaf': 4}. Best is trial 14 with value: -0.0003027371180674769.\n",
      "[I 2025-10-04 13:33:24,531] Trial 20 finished with value: -0.00046859282816449937 and parameters: {'n_estimators': 877, 'max_depth': 316, 'min_samples_split': 12, 'min_samples_leaf': 3}. Best is trial 14 with value: -0.0003027371180674769.\n",
      "[I 2025-10-04 13:33:27,444] Trial 21 finished with value: -0.0715459612730098 and parameters: {'n_estimators': 380, 'max_depth': 169, 'min_samples_split': 24, 'min_samples_leaf': 21}. Best is trial 14 with value: -0.0003027371180674769.\n",
      "[I 2025-10-04 13:33:34,412] Trial 22 finished with value: -0.10727898109030772 and parameters: {'n_estimators': 899, 'max_depth': 241, 'min_samples_split': 5, 'min_samples_leaf': 23}. Best is trial 14 with value: -0.0003027371180674769.\n",
      "[I 2025-10-04 13:33:40,602] Trial 23 finished with value: -0.0013907137592801533 and parameters: {'n_estimators': 785, 'max_depth': 285, 'min_samples_split': 25, 'min_samples_leaf': 16}. Best is trial 14 with value: -0.0003027371180674769.\n",
      "[I 2025-10-04 13:33:45,050] Trial 24 finished with value: -0.0003274084333641119 and parameters: {'n_estimators': 570, 'max_depth': 219, 'min_samples_split': 2, 'min_samples_leaf': 4}. Best is trial 14 with value: -0.0003027371180674769.\n",
      "[I 2025-10-04 13:33:46,023] Trial 25 finished with value: -0.0034844743875998285 and parameters: {'n_estimators': 128, 'max_depth': 322, 'min_samples_split': 11, 'min_samples_leaf': 17}. Best is trial 14 with value: -0.0003027371180674769.\n",
      "[I 2025-10-04 13:33:53,170] Trial 26 finished with value: -0.1409552493787565 and parameters: {'n_estimators': 917, 'max_depth': 132, 'min_samples_split': 14, 'min_samples_leaf': 25}. Best is trial 14 with value: -0.0003027371180674769.\n",
      "[I 2025-10-04 13:33:55,502] Trial 27 finished with value: -0.0003474447149956574 and parameters: {'n_estimators': 306, 'max_depth': 47, 'min_samples_split': 10, 'min_samples_leaf': 6}. Best is trial 14 with value: -0.0003027371180674769.\n",
      "[I 2025-10-04 13:34:02,602] Trial 28 finished with value: -0.17892570571874225 and parameters: {'n_estimators': 937, 'max_depth': 406, 'min_samples_split': 21, 'min_samples_leaf': 28}. Best is trial 14 with value: -0.0003027371180674769.\n",
      "[I 2025-10-04 13:34:08,882] Trial 29 finished with value: -0.009465202083696639 and parameters: {'n_estimators': 824, 'max_depth': 101, 'min_samples_split': 29, 'min_samples_leaf': 18}. Best is trial 14 with value: -0.0003027371180674769.\n",
      "[I 2025-10-04 13:34:14,921] Trial 30 finished with value: -0.0003662904580251261 and parameters: {'n_estimators': 827, 'max_depth': 449, 'min_samples_split': 11, 'min_samples_leaf': 4}. Best is trial 14 with value: -0.0003027371180674769.\n",
      "[I 2025-10-04 13:34:17,277] Trial 31 finished with value: -0.17975772456164713 and parameters: {'n_estimators': 305, 'max_depth': 219, 'min_samples_split': 27, 'min_samples_leaf': 28}. Best is trial 14 with value: -0.0003027371180674769.\n",
      "[I 2025-10-04 13:34:18,162] Trial 32 finished with value: -0.0001579743681025271 and parameters: {'n_estimators': 106, 'max_depth': 260, 'min_samples_split': 14, 'min_samples_leaf': 8}. Best is trial 32 with value: -0.0001579743681025271.\n",
      "[I 2025-10-04 13:34:19,711] Trial 33 finished with value: -0.0005654907403752553 and parameters: {'n_estimators': 207, 'max_depth': 175, 'min_samples_split': 31, 'min_samples_leaf': 11}. Best is trial 32 with value: -0.0001579743681025271.\n",
      "[I 2025-10-04 13:34:23,915] Trial 34 finished with value: -0.5336028507793374 and parameters: {'n_estimators': 567, 'max_depth': 355, 'min_samples_split': 13, 'min_samples_leaf': 32}. Best is trial 32 with value: -0.0001579743681025271.\n",
      "[I 2025-10-04 13:34:31,096] Trial 35 finished with value: -0.0004606156918396728 and parameters: {'n_estimators': 967, 'max_depth': 133, 'min_samples_split': 17, 'min_samples_leaf': 10}. Best is trial 32 with value: -0.0001579743681025271.\n",
      "[I 2025-10-04 13:34:33,709] Trial 36 finished with value: -0.004307387606871786 and parameters: {'n_estimators': 356, 'max_depth': 28, 'min_samples_split': 20, 'min_samples_leaf': 17}. Best is trial 32 with value: -0.0001579743681025271.\n",
      "[I 2025-10-04 13:34:34,806] Trial 37 finished with value: -0.0005262087946456488 and parameters: {'n_estimators': 146, 'max_depth': 146, 'min_samples_split': 30, 'min_samples_leaf': 8}. Best is trial 32 with value: -0.0001579743681025271.\n",
      "[I 2025-10-04 13:34:36,491] Trial 38 finished with value: -0.0005046044657819051 and parameters: {'n_estimators': 230, 'max_depth': 250, 'min_samples_split': 32, 'min_samples_leaf': 8}. Best is trial 32 with value: -0.0001579743681025271.\n",
      "[I 2025-10-04 13:34:41,646] Trial 39 finished with value: -0.12289287748462682 and parameters: {'n_estimators': 705, 'max_depth': 383, 'min_samples_split': 9, 'min_samples_leaf': 24}. Best is trial 32 with value: -0.0001579743681025271.\n",
      "[I 2025-10-04 13:34:44,782] Trial 40 finished with value: -0.010090640883774538 and parameters: {'n_estimators': 431, 'max_depth': 320, 'min_samples_split': 21, 'min_samples_leaf': 18}. Best is trial 32 with value: -0.0001579743681025271.\n",
      "[I 2025-10-04 13:34:46,150] Trial 41 finished with value: -0.00034314174374001536 and parameters: {'n_estimators': 181, 'max_depth': 420, 'min_samples_split': 11, 'min_samples_leaf': 6}. Best is trial 32 with value: -0.0001579743681025271.\n",
      "[I 2025-10-04 13:34:47,217] Trial 42 finished with value: -0.0004163062283737026 and parameters: {'n_estimators': 136, 'max_depth': 300, 'min_samples_split': 23, 'min_samples_leaf': 1}. Best is trial 32 with value: -0.0001579743681025271.\n",
      "[I 2025-10-04 13:34:51,506] Trial 43 finished with value: -0.00028416703471752176 and parameters: {'n_estimators': 561, 'max_depth': 121, 'min_samples_split': 22, 'min_samples_leaf': 6}. Best is trial 32 with value: -0.0001579743681025271.\n",
      "[I 2025-10-04 13:34:56,827] Trial 44 finished with value: -0.0003488093289305292 and parameters: {'n_estimators': 722, 'max_depth': 199, 'min_samples_split': 31, 'min_samples_leaf': 5}. Best is trial 32 with value: -0.0001579743681025271.\n",
      "[I 2025-10-04 13:34:59,792] Trial 45 finished with value: -0.20539349975583523 and parameters: {'n_estimators': 407, 'max_depth': 65, 'min_samples_split': 30, 'min_samples_leaf': 29}. Best is trial 32 with value: -0.0001579743681025271.\n",
      "[I 2025-10-04 13:35:02,215] Trial 46 finished with value: -0.009275360429739851 and parameters: {'n_estimators': 332, 'max_depth': 334, 'min_samples_split': 27, 'min_samples_leaf': 18}. Best is trial 32 with value: -0.0001579743681025271.\n",
      "[I 2025-10-04 13:35:06,408] Trial 47 finished with value: -0.20796922516588617 and parameters: {'n_estimators': 577, 'max_depth': 128, 'min_samples_split': 4, 'min_samples_leaf': 29}. Best is trial 32 with value: -0.0001579743681025271.\n",
      "[I 2025-10-04 13:35:13,198] Trial 48 finished with value: -0.0003884377558481945 and parameters: {'n_estimators': 911, 'max_depth': 320, 'min_samples_split': 12, 'min_samples_leaf': 12}. Best is trial 32 with value: -0.0001579743681025271.\n",
      "[I 2025-10-04 13:35:18,810] Trial 49 finished with value: -0.14003125964175467 and parameters: {'n_estimators': 754, 'max_depth': 450, 'min_samples_split': 29, 'min_samples_leaf': 25}. Best is trial 32 with value: -0.0001579743681025271.\n",
      "[I 2025-10-04 13:35:24,041] Trial 50 finished with value: -0.2080033039389631 and parameters: {'n_estimators': 678, 'max_depth': 51, 'min_samples_split': 7, 'min_samples_leaf': 29}. Best is trial 32 with value: -0.0001579743681025271.\n",
      "[I 2025-10-04 13:35:28,761] Trial 51 finished with value: -0.08965941692226634 and parameters: {'n_estimators': 646, 'max_depth': 14, 'min_samples_split': 5, 'min_samples_leaf': 22}. Best is trial 32 with value: -0.0001579743681025271.\n",
      "[I 2025-10-04 13:35:29,541] Trial 52 finished with value: -0.10590529948768734 and parameters: {'n_estimators': 104, 'max_depth': 88, 'min_samples_split': 19, 'min_samples_leaf': 23}. Best is trial 32 with value: -0.0001579743681025271.\n",
      "[I 2025-10-04 13:35:34,622] Trial 53 finished with value: -0.0003732236651135977 and parameters: {'n_estimators': 687, 'max_depth': 120, 'min_samples_split': 24, 'min_samples_leaf': 8}. Best is trial 32 with value: -0.0001579743681025271.\n",
      "[I 2025-10-04 13:35:37,488] Trial 54 finished with value: -0.17534407137242888 and parameters: {'n_estimators': 393, 'max_depth': 376, 'min_samples_split': 22, 'min_samples_leaf': 28}. Best is trial 32 with value: -0.0001579743681025271.\n",
      "[I 2025-10-04 13:35:42,543] Trial 55 finished with value: -0.0004511178852301781 and parameters: {'n_estimators': 692, 'max_depth': 289, 'min_samples_split': 4, 'min_samples_leaf': 12}. Best is trial 32 with value: -0.0001579743681025271.\n",
      "[I 2025-10-04 13:35:45,101] Trial 56 finished with value: -0.0003044058303632774 and parameters: {'n_estimators': 338, 'max_depth': 129, 'min_samples_split': 32, 'min_samples_leaf': 13}. Best is trial 32 with value: -0.0001579743681025271.\n",
      "[I 2025-10-04 13:35:51,696] Trial 57 finished with value: -0.00344195983837643 and parameters: {'n_estimators': 903, 'max_depth': 319, 'min_samples_split': 26, 'min_samples_leaf': 17}. Best is trial 32 with value: -0.0001579743681025271.\n",
      "[I 2025-10-04 13:35:56,196] Trial 58 finished with value: -0.12618968495990876 and parameters: {'n_estimators': 619, 'max_depth': 251, 'min_samples_split': 8, 'min_samples_leaf': 24}. Best is trial 32 with value: -0.0001579743681025271.\n",
      "[I 2025-10-04 13:35:58,816] Trial 59 finished with value: -0.0004237823906680454 and parameters: {'n_estimators': 352, 'max_depth': 21, 'min_samples_split': 22, 'min_samples_leaf': 6}. Best is trial 32 with value: -0.0001579743681025271.\n",
      "[I 2025-10-04 13:36:05,780] Trial 60 finished with value: -0.0005335702871927621 and parameters: {'n_estimators': 947, 'max_depth': 478, 'min_samples_split': 30, 'min_samples_leaf': 12}. Best is trial 32 with value: -0.0001579743681025271.\n",
      "[I 2025-10-04 13:36:06,637] Trial 61 finished with value: -0.40191854348014333 and parameters: {'n_estimators': 113, 'max_depth': 465, 'min_samples_split': 15, 'min_samples_leaf': 31}. Best is trial 32 with value: -0.0001579743681025271.\n",
      "[I 2025-10-04 13:36:13,724] Trial 62 finished with value: -0.0003057495930019655 and parameters: {'n_estimators': 968, 'max_depth': 428, 'min_samples_split': 11, 'min_samples_leaf': 13}. Best is trial 32 with value: -0.0001579743681025271.\n",
      "[I 2025-10-04 13:36:20,097] Trial 63 finished with value: -0.008993349726506613 and parameters: {'n_estimators': 866, 'max_depth': 165, 'min_samples_split': 7, 'min_samples_leaf': 18}. Best is trial 32 with value: -0.0001579743681025271.\n",
      "[I 2025-10-04 13:36:27,222] Trial 64 finished with value: -0.0005053234058552036 and parameters: {'n_estimators': 943, 'max_depth': 351, 'min_samples_split': 19, 'min_samples_leaf': 4}. Best is trial 32 with value: -0.0001579743681025271.\n",
      "[I 2025-10-04 13:36:32,019] Trial 65 finished with value: -0.004182190359923685 and parameters: {'n_estimators': 654, 'max_depth': 496, 'min_samples_split': 6, 'min_samples_leaf': 17}. Best is trial 32 with value: -0.0001579743681025271.\n",
      "[I 2025-10-04 13:36:38,443] Trial 66 finished with value: -0.10817748678656351 and parameters: {'n_estimators': 890, 'max_depth': 373, 'min_samples_split': 23, 'min_samples_leaf': 23}. Best is trial 32 with value: -0.0001579743681025271.\n",
      "[I 2025-10-04 13:36:41,504] Trial 67 finished with value: -0.15238131330936383 and parameters: {'n_estimators': 423, 'max_depth': 154, 'min_samples_split': 27, 'min_samples_leaf': 26}. Best is trial 32 with value: -0.0001579743681025271.\n",
      "[I 2025-10-04 13:36:47,940] Trial 68 finished with value: -0.00430699143448844 and parameters: {'n_estimators': 881, 'max_depth': 458, 'min_samples_split': 17, 'min_samples_leaf': 17}. Best is trial 32 with value: -0.0001579743681025271.\n",
      "[I 2025-10-04 13:36:53,845] Trial 69 finished with value: -0.15235592614799634 and parameters: {'n_estimators': 819, 'max_depth': 329, 'min_samples_split': 23, 'min_samples_leaf': 26}. Best is trial 32 with value: -0.0001579743681025271.\n",
      "[I 2025-10-04 13:37:00,466] Trial 70 finished with value: -0.00041279615735054866 and parameters: {'n_estimators': 901, 'max_depth': 175, 'min_samples_split': 13, 'min_samples_leaf': 4}. Best is trial 32 with value: -0.0001579743681025271.\n",
      "[I 2025-10-04 13:37:04,971] Trial 71 finished with value: -0.009172067878153006 and parameters: {'n_estimators': 621, 'max_depth': 27, 'min_samples_split': 16, 'min_samples_leaf': 18}. Best is trial 32 with value: -0.0001579743681025271.\n",
      "[I 2025-10-04 13:37:07,672] Trial 72 finished with value: -0.0002102124361495168 and parameters: {'n_estimators': 358, 'max_depth': 300, 'min_samples_split': 2, 'min_samples_leaf': 2}. Best is trial 32 with value: -0.0001579743681025271.\n",
      "[I 2025-10-04 13:37:13,878] Trial 73 finished with value: -0.003685565788224452 and parameters: {'n_estimators': 841, 'max_depth': 186, 'min_samples_split': 5, 'min_samples_leaf': 17}. Best is trial 32 with value: -0.0001579743681025271.\n",
      "[I 2025-10-04 13:37:19,759] Trial 74 finished with value: -0.00048802123668268034 and parameters: {'n_estimators': 793, 'max_depth': 115, 'min_samples_split': 21, 'min_samples_leaf': 3}. Best is trial 32 with value: -0.0001579743681025271.\n",
      "[I 2025-10-04 13:37:20,845] Trial 75 finished with value: -0.07035581534881616 and parameters: {'n_estimators': 146, 'max_depth': 270, 'min_samples_split': 18, 'min_samples_leaf': 21}. Best is trial 32 with value: -0.0001579743681025271.\n",
      "[I 2025-10-04 13:37:26,562] Trial 76 finished with value: -0.00034068188470815023 and parameters: {'n_estimators': 754, 'max_depth': 489, 'min_samples_split': 18, 'min_samples_leaf': 11}. Best is trial 32 with value: -0.0001579743681025271.\n",
      "[I 2025-10-04 13:37:32,576] Trial 77 finished with value: -0.00052424998798539 and parameters: {'n_estimators': 816, 'max_depth': 142, 'min_samples_split': 15, 'min_samples_leaf': 3}. Best is trial 32 with value: -0.0001579743681025271.\n",
      "[I 2025-10-04 13:37:33,479] Trial 78 finished with value: -0.10896363080870008 and parameters: {'n_estimators': 122, 'max_depth': 482, 'min_samples_split': 27, 'min_samples_leaf': 23}. Best is trial 32 with value: -0.0001579743681025271.\n",
      "[I 2025-10-04 13:37:36,959] Trial 79 finished with value: -0.00033266281072294554 and parameters: {'n_estimators': 468, 'max_depth': 95, 'min_samples_split': 6, 'min_samples_leaf': 9}. Best is trial 32 with value: -0.0001579743681025271.\n",
      "[I 2025-10-04 13:37:41,299] Trial 80 finished with value: -0.00024992725610009506 and parameters: {'n_estimators': 594, 'max_depth': 360, 'min_samples_split': 22, 'min_samples_leaf': 9}. Best is trial 32 with value: -0.0001579743681025271.\n",
      "[I 2025-10-04 13:37:48,260] Trial 81 finished with value: -0.04644411410748371 and parameters: {'n_estimators': 960, 'max_depth': 372, 'min_samples_split': 19, 'min_samples_leaf': 20}. Best is trial 32 with value: -0.0001579743681025271.\n",
      "[I 2025-10-04 13:37:51,718] Trial 82 finished with value: -0.13926698703217094 and parameters: {'n_estimators': 478, 'max_depth': 131, 'min_samples_split': 13, 'min_samples_leaf': 25}. Best is trial 32 with value: -0.0001579743681025271.\n",
      "[I 2025-10-04 13:37:52,658] Trial 83 finished with value: -0.0008961787840136052 and parameters: {'n_estimators': 112, 'max_depth': 66, 'min_samples_split': 3, 'min_samples_leaf': 2}. Best is trial 32 with value: -0.0001579743681025271.\n",
      "[I 2025-10-04 13:37:59,103] Trial 84 finished with value: -0.00037572114325978796 and parameters: {'n_estimators': 870, 'max_depth': 355, 'min_samples_split': 16, 'min_samples_leaf': 4}. Best is trial 32 with value: -0.0001579743681025271.\n",
      "[I 2025-10-04 13:38:03,142] Trial 85 finished with value: -0.0006349563274577574 and parameters: {'n_estimators': 542, 'max_depth': 242, 'min_samples_split': 7, 'min_samples_leaf': 14}. Best is trial 32 with value: -0.0001579743681025271.\n",
      "[I 2025-10-04 13:38:06,484] Trial 86 finished with value: -0.00045491366884848087 and parameters: {'n_estimators': 459, 'max_depth': 312, 'min_samples_split': 21, 'min_samples_leaf': 2}. Best is trial 32 with value: -0.0001579743681025271.\n",
      "[I 2025-10-04 13:38:09,653] Trial 87 finished with value: -0.17770230185060817 and parameters: {'n_estimators': 437, 'max_depth': 317, 'min_samples_split': 17, 'min_samples_leaf': 28}. Best is trial 32 with value: -0.0001579743681025271.\n",
      "[I 2025-10-04 13:38:14,629] Trial 88 finished with value: -0.07286196875990111 and parameters: {'n_estimators': 693, 'max_depth': 90, 'min_samples_split': 4, 'min_samples_leaf': 21}. Best is trial 32 with value: -0.0001579743681025271.\n",
      "[I 2025-10-04 13:38:15,542] Trial 89 finished with value: -0.024187210072009344 and parameters: {'n_estimators': 123, 'max_depth': 297, 'min_samples_split': 31, 'min_samples_leaf': 19}. Best is trial 32 with value: -0.0001579743681025271.\n",
      "[I 2025-10-04 13:38:18,826] Trial 90 finished with value: -0.00906800342492931 and parameters: {'n_estimators': 449, 'max_depth': 325, 'min_samples_split': 16, 'min_samples_leaf': 18}. Best is trial 32 with value: -0.0001579743681025271.\n",
      "[I 2025-10-04 13:38:25,763] Trial 91 finished with value: -0.20668801300773385 and parameters: {'n_estimators': 948, 'max_depth': 199, 'min_samples_split': 31, 'min_samples_leaf': 29}. Best is trial 32 with value: -0.0001579743681025271.\n",
      "[I 2025-10-04 13:38:27,869] Trial 92 finished with value: -0.0002897894349926487 and parameters: {'n_estimators': 276, 'max_depth': 44, 'min_samples_split': 5, 'min_samples_leaf': 1}. Best is trial 32 with value: -0.0001579743681025271.\n",
      "[I 2025-10-04 13:38:29,415] Trial 93 finished with value: -0.0009727294862429984 and parameters: {'n_estimators': 185, 'max_depth': 345, 'min_samples_split': 4, 'min_samples_leaf': 11}. Best is trial 32 with value: -0.0001579743681025271.\n",
      "[I 2025-10-04 13:38:35,648] Trial 94 finished with value: -0.00042509151902138484 and parameters: {'n_estimators': 861, 'max_depth': 21, 'min_samples_split': 27, 'min_samples_leaf': 10}. Best is trial 32 with value: -0.0001579743681025271.\n",
      "[I 2025-10-04 13:38:37,210] Trial 95 finished with value: -0.2079942635307311 and parameters: {'n_estimators': 206, 'max_depth': 352, 'min_samples_split': 21, 'min_samples_leaf': 29}. Best is trial 32 with value: -0.0001579743681025271.\n",
      "[I 2025-10-04 13:38:42,716] Trial 96 finished with value: -0.00034124466397080974 and parameters: {'n_estimators': 762, 'max_depth': 404, 'min_samples_split': 10, 'min_samples_leaf': 6}. Best is trial 32 with value: -0.0001579743681025271.\n",
      "[I 2025-10-04 13:38:48,317] Trial 97 finished with value: -0.00042782822520346877 and parameters: {'n_estimators': 776, 'max_depth': 406, 'min_samples_split': 32, 'min_samples_leaf': 14}. Best is trial 32 with value: -0.0001579743681025271.\n",
      "[I 2025-10-04 13:38:51,549] Trial 98 finished with value: -0.2710369007058055 and parameters: {'n_estimators': 435, 'max_depth': 391, 'min_samples_split': 12, 'min_samples_leaf': 30}. Best is trial 32 with value: -0.0001579743681025271.\n",
      "[I 2025-10-04 13:38:57,871] Trial 99 finished with value: -0.13896468099043258 and parameters: {'n_estimators': 873, 'max_depth': 220, 'min_samples_split': 25, 'min_samples_leaf': 25}. Best is trial 32 with value: -0.0001579743681025271.\n"
     ]
    }
   ],
   "source": [
    "study.optimize(objective, n_trials=100)"
   ]
  },
  {
   "cell_type": "markdown",
   "id": "b4be1e87-44e8-47e0-84fc-bd0360ac75c4",
   "metadata": {
    "id": "b4be1e87-44e8-47e0-84fc-bd0360ac75c4"
   },
   "source": [
    "it may take a while... so just wait n see ^^\n",
    "<br>\n",
    "they recommend to set n_trials at 100 cz it seems there's no significant score increase after 100 trials (also inefficient too, you'll have to wait in a quite long time)"
   ]
  },
  {
   "cell_type": "code",
   "execution_count": 88,
   "id": "fd29b3c9-c995-4400-8912-b448d57123a0",
   "metadata": {
    "colab": {
     "base_uri": "https://localhost:8080/"
    },
    "executionInfo": {
     "elapsed": 35,
     "status": "ok",
     "timestamp": 1753086241950,
     "user": {
      "displayName": "Data Analytics GSB",
      "userId": "10141623010544721674"
     },
     "user_tz": -420
    },
    "id": "fd29b3c9-c995-4400-8912-b448d57123a0",
    "outputId": "e3e73103-b89d-4d77-9f7d-a70ac683074f",
    "scrolled": true
   },
   "outputs": [
    {
     "data": {
      "text/plain": [
       "{'n_estimators': 106,\n",
       " 'max_depth': 260,\n",
       " 'min_samples_split': 14,\n",
       " 'min_samples_leaf': 8}"
      ]
     },
     "execution_count": 88,
     "metadata": {},
     "output_type": "execute_result"
    }
   ],
   "source": [
    "best_params = study.best_params\n",
    "best_params"
   ]
  },
  {
   "cell_type": "code",
   "execution_count": 86,
   "id": "da922333-273d-4b89-b44c-6f056f726863",
   "metadata": {},
   "outputs": [],
   "source": [
    "# optuna.visualization.plot_optimization_history(study)\n",
    "# optuna.visualization.plot_parallel_coordinate(study)\n",
    "# optuna.visualization.plot_slice(study, params=['n_estimators', 'max_depth', min_samples_split', 'min_samples_leaf'])\n",
    "# optuna.visualization.plot_param_importances(study)"
   ]
  },
  {
   "cell_type": "markdown",
   "id": "2d237d95-758a-4912-91c2-824ce140a034",
   "metadata": {
    "id": "2d237d95-758a-4912-91c2-824ce140a034"
   },
   "source": [
    "Berikut hasil hyperparameter tuning dari Optuna"
   ]
  },
  {
   "cell_type": "code",
   "execution_count": 93,
   "id": "df96a601-d6df-4a96-8d1e-f89e79293b02",
   "metadata": {
    "colab": {
     "base_uri": "https://localhost:8080/"
    },
    "executionInfo": {
     "elapsed": 10,
     "status": "ok",
     "timestamp": 1753086241960,
     "user": {
      "displayName": "Data Analytics GSB",
      "userId": "10141623010544721674"
     },
     "user_tz": -420
    },
    "id": "df96a601-d6df-4a96-8d1e-f89e79293b02",
    "outputId": "fd1f6d00-ceaf-432e-a21e-58dba405ae06"
   },
   "outputs": [
    {
     "name": "stdout",
     "output_type": "stream",
     "text": [
      "Best Hyperparameters: {'n_estimators': 106, 'max_depth': 260, 'min_samples_split': 14, 'min_samples_leaf': 8}\n"
     ]
    }
   ],
   "source": [
    "# cek hasil hyperparameter tuning dari Optuna\n",
    "print(f\"Best Hyperparameters: {best_params}\")"
   ]
  },
  {
   "cell_type": "markdown",
   "id": "4b830d4e-4e08-4ced-a78e-c7ae9e5e7a26",
   "metadata": {
    "id": "4b830d4e-4e08-4ced-a78e-c7ae9e5e7a26"
   },
   "source": [
    "# Random Forest Using Optuna"
   ]
  },
  {
   "cell_type": "code",
   "execution_count": 95,
   "id": "3059ffb1-940a-4f7b-a4ea-7e555b5651c3",
   "metadata": {
    "id": "3059ffb1-940a-4f7b-a4ea-7e555b5651c3"
   },
   "outputs": [],
   "source": [
    "# simpan hasil best hyperparameter tuning ke variabel bari\n",
    "best_n_estimators = best_params['n_estimators']\n",
    "best_max_depth = best_params['max_depth']\n",
    "best_min_samples_split = best_params['min_samples_split']\n",
    "best_min_samples_leaf = best_params['min_samples_leaf']"
   ]
  },
  {
   "cell_type": "code",
   "execution_count": 90,
   "id": "c8a747ff-1fde-4774-9c0a-f2f83f90ad81",
   "metadata": {
    "colab": {
     "base_uri": "https://localhost:8080/",
     "height": 97
    },
    "executionInfo": {
     "elapsed": 713,
     "status": "ok",
     "timestamp": 1753086242697,
     "user": {
      "displayName": "Data Analytics GSB",
      "userId": "10141623010544721674"
     },
     "user_tz": -420
    },
    "id": "c8a747ff-1fde-4774-9c0a-f2f83f90ad81",
    "outputId": "edb4e30e-9e30-4c98-c0ce-b2b48fc464c3"
   },
   "outputs": [
    {
     "data": {
      "text/plain": [
       "RandomForestRegressor(max_depth=260, min_samples_leaf=8, min_samples_split=14,\n",
       "                      n_estimators=106)"
      ]
     },
     "execution_count": 90,
     "metadata": {},
     "output_type": "execute_result"
    }
   ],
   "source": [
    "best_model = RandomForestRegressor(n_estimators = best_n_estimators,\n",
    "                                   max_depth = best_max_depth,\n",
    "                                   min_samples_split = best_min_samples_split,\n",
    "                                   min_samples_leaf = best_min_samples_leaf)\n",
    "\n",
    "best_model.fit(X_train, y_train)"
   ]
  },
  {
   "cell_type": "code",
   "execution_count": 91,
   "id": "b3f9ad09-ca4d-4fb6-a205-1cb5d00a9857",
   "metadata": {
    "id": "b3f9ad09-ca4d-4fb6-a205-1cb5d00a9857"
   },
   "outputs": [],
   "source": [
    "y_pred = best_model.predict(X_test)"
   ]
  },
  {
   "cell_type": "code",
   "execution_count": 92,
   "id": "69d588db-1c12-4c78-8e55-0800b5f6375c",
   "metadata": {
    "colab": {
     "base_uri": "https://localhost:8080/"
    },
    "executionInfo": {
     "elapsed": 55,
     "status": "ok",
     "timestamp": 1753086242792,
     "user": {
      "displayName": "Data Analytics GSB",
      "userId": "10141623010544721674"
     },
     "user_tz": -420
    },
    "id": "69d588db-1c12-4c78-8e55-0800b5f6375c",
    "outputId": "5eacfaea-8af2-4b28-9678-31dc12d32420"
   },
   "outputs": [
    {
     "name": "stdout",
     "output_type": "stream",
     "text": [
      "Accuracy: 1.000\n",
      "Precision: 1.000\n",
      "Recall: 1.000\n",
      "F1 Score: 1.000\n",
      "              precision    recall  f1-score   support\n",
      "\n",
      "           1       1.00      1.00      1.00        10\n",
      "           2       1.00      1.00      1.00         9\n",
      "           3       1.00      1.00      1.00        11\n",
      "\n",
      "    accuracy                           1.00        30\n",
      "   macro avg       1.00      1.00      1.00        30\n",
      "weighted avg       1.00      1.00      1.00        30\n",
      "\n"
     ]
    }
   ],
   "source": [
    "print(f\"Accuracy: {accuracy_score(y_test, y_pred):.3f}\")\n",
    "print(f\"Precision: {precision_score(y_test, y_pred, average='weighted'):.3f}\")\n",
    "print(f\"Recall: {recall_score(y_test, y_pred, average='weighted'):.3f}\")\n",
    "print(f\"F1 Score: {f1_score(y_test, y_pred, average='weighted'):.3f}\")\n",
    "print(classification_report(y_test, y_pred))"
   ]
  },
  {
   "cell_type": "markdown",
   "id": "7459396f-8ae6-4742-85db-717afac20a44",
   "metadata": {
    "id": "7459396f-8ae6-4742-85db-717afac20a44"
   },
   "source": [
    "Tidak terdapat kenaikan skor dengan sebelum menggunakan Optuna sebab skor yang dihasilkan melalui base model saja sudah bagus"
   ]
  }
 ],
 "metadata": {
  "colab": {
   "provenance": []
  },
  "kernelspec": {
   "display_name": "Python [conda env:jcopml] *",
   "language": "python",
   "name": "conda-env-jcopml-py"
  },
  "language_info": {
   "codemirror_mode": {
    "name": "ipython",
    "version": 3
   },
   "file_extension": ".py",
   "mimetype": "text/x-python",
   "name": "python",
   "nbconvert_exporter": "python",
   "pygments_lexer": "ipython3",
   "version": "3.9.0"
  }
 },
 "nbformat": 4,
 "nbformat_minor": 5
}
