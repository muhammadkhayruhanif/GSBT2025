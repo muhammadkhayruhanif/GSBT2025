{
 "cells": [
  {
   "cell_type": "markdown",
   "metadata": {
    "id": "zJg53RsQxxle"
   },
   "source": [
    "# Numpy Part 1"
   ]
  },
  {
   "cell_type": "markdown",
   "metadata": {
    "id": "0J4yaW7XyDrv"
   },
   "source": [
    "## Tugas 1: Persiapan Data\n",
    "- Import library NumPy\n",
    "- Buat sebuah NumPy array dengan data berikut: [25, -10, 0, -5, 40, 15].\n",
    "- Simpan array tersebut ke dalam variabel bernama nilai_ujian.\n",
    "- Cetak variabel nilai_ujian untuk memastikan data sudah benar\n"
   ]
  },
  {
   "cell_type": "code",
   "execution_count": 5,
   "metadata": {
    "id": "M8Qq86TLxzbm"
   },
   "outputs": [
    {
     "data": {
      "text/plain": [
       "array([ 25, -10,   0,  -5,  40,  15])"
      ]
     },
     "execution_count": 5,
     "metadata": {},
     "output_type": "execute_result"
    }
   ],
   "source": [
    "import numpy\n",
    "\n",
    "nilai_ujian = numpy.array([25, -10, 0, -5, 40, 15])\n",
    "nilai_ujian"
   ]
  },
  {
   "cell_type": "markdown",
   "metadata": {
    "id": "1oVeARuIySlm"
   },
   "source": [
    "## Tugas 2: Analisis Statistik Dasar\n",
    "<br>Gunakan variabel `nilai_ujian` yang sudah dibuat untuk melakukan analisis berikut:\n",
    "- Hitung nilai rata-rata (mean) dari semua elemen dan simpan ke variabel `rata_rata`.\n",
    "- Temukan nilai tertinggi (max) dari semua elemen dan simpan ke variabel `nilai_tertinggi`.\n",
    "- Cetak kedua hasil tersebut dengan format yang jelas."
   ]
  },
  {
   "cell_type": "code",
   "execution_count": 6,
   "metadata": {
    "id": "-b1VztIbx6qZ"
   },
   "outputs": [
    {
     "name": "stdout",
     "output_type": "stream",
     "text": [
      "10.833333333333334\n",
      "40\n"
     ]
    }
   ],
   "source": [
    "rata_rata = numpy.average(nilai_ujian)\n",
    "nilai_tertinggi = numpy.max(nilai_ujian)\n",
    "\n",
    "print(rata_rata)\n",
    "print(nilai_tertinggi)"
   ]
  },
  {
   "cell_type": "markdown",
   "metadata": {
    "id": "2aAFWkimyhQj"
   },
   "source": [
    "## Tugas 3: Transformasi Nilai\n",
    "- Buat array baru bernama `nilai_absolut` yang berisi nilai mutlak (absolute) dari setiap elemen di `nilai_ujian`.\n",
    "- Buat array baru bernama `penanda_nilai` yang menunjukkan penanda (sign) dari setiap elemen (-1 untuk negatif, 0 untuk nol, 1 untuk positif).\n",
    "- Cetak kedua array baru tersebut."
   ]
  },
  {
   "cell_type": "code",
   "execution_count": 19,
   "metadata": {
    "id": "NuvQ2ZZKx-TF"
   },
   "outputs": [
    {
     "data": {
      "text/plain": [
       "array([25, 10,  0,  5, 40, 15])"
      ]
     },
     "metadata": {},
     "output_type": "display_data"
    }
   ],
   "source": [
    "nilai_absolut = numpy.absolute(nilai_ujian)\n",
    "display(nilai_absolut)"
   ]
  },
  {
   "cell_type": "markdown",
   "metadata": {
    "id": "cC_cM2rSzIUR"
   },
   "source": [
    "## Tugas 4: Pengurutan Data\n",
    "- Gunakan fungsi `np.sort()` untuk membuat array baru yang sudah terurut dari `nilai_ujian`. Simpan ke variabel `nilai_terurut`.\n",
    "- Cetak `nilai_terurut`.\n",
    "- Cetak juga nilai_ujian yang asli untuk membuktikan bahwa array aslinya tidak berubah."
   ]
  },
  {
   "cell_type": "code",
   "execution_count": 23,
   "metadata": {
    "id": "KN9HQcc2yBjH"
   },
   "outputs": [
    {
     "data": {
      "text/plain": [
       "array([-10,  -5,   0,  15,  25,  40])"
      ]
     },
     "metadata": {},
     "output_type": "display_data"
    },
    {
     "data": {
      "text/plain": [
       "array([ 25, -10,   0,  -5,  40,  15])"
      ]
     },
     "metadata": {},
     "output_type": "display_data"
    }
   ],
   "source": [
    "nilai_terurut = numpy.sort(nilai_ujian)\n",
    "\n",
    "display(nilai_terurut)\n",
    "display(nilai_ujian)\n",
    "# bisa juga pakai ic() untuk print"
   ]
  },
  {
   "cell_type": "markdown",
   "metadata": {
    "id": "TbZ4P31BvO9-"
   },
   "source": [
    "# NumPy Part 2"
   ]
  },
  {
   "cell_type": "markdown",
   "metadata": {
    "id": "6mm3vZ_nwRs7"
   },
   "source": [
    "## Tugas 1: Persiapan Data Awal\n",
    "- Import `library NumPy` dengan alias `np`.\n",
    "- Buat tiga buah array seperti di bawah ini:\n",
    "- `array_a`: Berisi nilai [5, 10, 15, 20, 25, 30]\n",
    "- `array_b`: Berisi nilai [2, 4, 6, 8, 10, 12]\n",
    "- `matriks_c`: Sebuah matriks 2x3 dengan data [[1, 2, 3], [4, 5, 6]]\n",
    "- Cetak ketiga variabel tersebut untuk memastikan data sudah benar."
   ]
  },
  {
   "cell_type": "code",
   "execution_count": 9,
   "metadata": {
    "id": "9jX6XkCRvRl1"
   },
   "outputs": [
    {
     "name": "stdout",
     "output_type": "stream",
     "text": [
      "[ 5 10 15 20 25 30]\n",
      "[ 2  4  6  8 10 12]\n",
      "[[1 2 3]\n",
      " [4 5 6]]\n"
     ]
    }
   ],
   "source": [
    "import numpy as np\n",
    "\n",
    "array_a = np.array([5, 10, 15, 20, 25, 30])\n",
    "array_b = np.array([2, 4, 6, 8, 10, 12])\n",
    "matriks_c = np.array([[1, 2, 3], [4, 5, 6]])\n",
    "\n",
    "print(array_a)\n",
    "print(array_b)\n",
    "print(matriks_c)"
   ]
  },
  {
   "cell_type": "markdown",
   "metadata": {
    "id": "jvKuqk8MyDZB"
   },
   "source": [
    "## Tugas 2: Menggabungkan dan Menumpuk Array\n",
    "- Gunakan `np.concatenate()` untuk menggabungkan `array_a` dan `array_b` menjadi satu array 1D.\n",
    "- Gunakan `np.vstack()` (vertical stack) untuk menumpuk `array_a` dan `array_b` secara vertikal, menghasilkan sebuah matriks 2D"
   ]
  },
  {
   "cell_type": "code",
   "execution_count": 13,
   "metadata": {
    "id": "RaLwoNKUw11j"
   },
   "outputs": [
    {
     "name": "stdout",
     "output_type": "stream",
     "text": [
      "[ 5 10 15 20 25 30  2  4  6  8 10 12]\n",
      "[[ 5 10 15 20 25 30]\n",
      " [ 2  4  6  8 10 12]]\n"
     ]
    }
   ],
   "source": [
    "array_1D = np.concatenate((array_a, array_b))\n",
    "matriks_2D = np.vstack((array_a, array_b))\n",
    "\n",
    "print(array_1D)\n",
    "print(matriks_2D)"
   ]
  },
  {
   "cell_type": "markdown",
   "metadata": {
    "id": "OQDoa2YlyMX5"
   },
   "source": [
    "## Tugas 3: Memisahkan Array\n",
    "- Gunakan `np.split()` untuk memisahkan `array_a` menjadi 3 bagian yang sama besar.\n",
    "- Buat array baru array_panjang dari 0-9.\n",
    "Gunakan `np.split()` untuk memisahkan `array_panjang` pada indeks ke-3 dan ke-7."
   ]
  },
  {
   "cell_type": "code",
   "execution_count": 68,
   "metadata": {
    "id": "MmDVXJm5yKZ3"
   },
   "outputs": [],
   "source": [
    "np.split(array_a, 3)\n",
    "\n",
    "array_panjang = np.arange(0,10)\n",
    "\n",
    "# arr.shape() -> ukuran array\n",
    "# arr.ndin() -> melihat dimensi array\n",
    "# arr.size() -> total elemen dari array\n",
    "# arr.dtype() -> data type\n",
    "# arr.flatten() -> akan diubah jadi array satu dimensi\n",
    "# arr.reshape() -> mengubah ukuran array\n",
    "# arr.astype() -> mengubah tipe data array\n",
    "# np.full()"
   ]
  },
  {
   "cell_type": "markdown",
   "metadata": {
    "id": "Rqna30MhyaPg"
   },
   "source": [
    "## Tugas 4: Operasi Aritmatika Dasar (Element-Wise)\n",
    "\n",
    "- Lakukan penjumlahan, perkalian, dan pembagian antara `array_a` dan `array_b`.\n",
    "- Lakukan operasi pangkat pada `array_b` dengan 2."
   ]
  },
  {
   "cell_type": "code",
   "execution_count": 28,
   "metadata": {
    "id": "7IaugQzHyVs1"
   },
   "outputs": [
    {
     "name": "stdout",
     "output_type": "stream",
     "text": [
      "[ 7 14 21 28 35 42]\n",
      "[ 10  40  90 160 250 360]\n",
      "[2.5 2.5 2.5 2.5 2.5 2.5]\n",
      "[  4  16  36  64 100 144]\n"
     ]
    }
   ],
   "source": [
    "print(array_a + array_b)\n",
    "print(array_a * array_b)\n",
    "print(array_a / array_b)\n",
    "print(array_b **2)"
   ]
  },
  {
   "cell_type": "markdown",
   "metadata": {
    "id": "uTdHoJtUyiXH"
   },
   "source": [
    "## Tugas 5: Fungsi Matematika Element-Wise\n",
    "\n",
    "- Hitung akar kuadrat (square root) dari `array_a`.\n",
    "- Hitung nilai sinus dari setiap elemen di `matriks_c`.\n",
    "- Buat array baru dengan nilai desimal, lalu bulatkan nilainya menggunakan `np.round()`."
   ]
  },
  {
   "cell_type": "code",
   "execution_count": 31,
   "metadata": {
    "id": "4Bs-W72ByfeJ"
   },
   "outputs": [
    {
     "name": "stdout",
     "output_type": "stream",
     "text": [
      "[2.23606798 3.16227766 3.87298335 4.47213595 5.         5.47722558]\n",
      "[[ 0.84147098  0.90929743  0.14112001]\n",
      " [-0.7568025  -0.95892427 -0.2794155 ]]\n"
     ]
    }
   ],
   "source": [
    "print(array_a **0.5)\n",
    "print(np.sin(matriks_c))"
   ]
  },
  {
   "cell_type": "markdown",
   "metadata": {
    "id": "bH0agaQDyquZ"
   },
   "source": [
    "## Tugas 6: Operasi Perbandingan (Element-Wise)\n",
    "- Bandingkan `array_a` dan `array_b` untuk mencari tahu elemen mana di `array_a` yang lebih besar.\n",
    "- Cari semua nilai di `array_a` yang lebih besar dari 18 dan tampilkan nilainya."
   ]
  },
  {
   "cell_type": "code",
   "execution_count": null,
   "metadata": {
    "id": "KNAa4p9Uyof5"
   },
   "outputs": [],
   "source": []
  },
  {
   "cell_type": "markdown",
   "metadata": {
    "id": "ptdvDC5oyxAX"
   },
   "source": [
    "## Tugas 7: Operasi Matriks (Perkalian Matriks)\n",
    "\n",
    "- Buat matriks baru `matriks_d` berukuran 3x2.\n",
    "- Lakukan perkalian matriks antara `matriks_c` (2x3) dan `matriks_d` (3x2) menggunakan operator @.\n",
    "- Lakukan operasi yang sama menggunakan `np.dot()` untuk perbandingan."
   ]
  },
  {
   "cell_type": "code",
   "execution_count": null,
   "metadata": {
    "id": "P_QAEGs8yvrL"
   },
   "outputs": [],
   "source": []
  },
  {
   "cell_type": "markdown",
   "metadata": {
    "id": "tyYG1Yyby-Qp"
   },
   "source": [
    "## Tugas 8: Operasi In-place (Modifikasi Langsung)\n",
    "\n",
    "- Buat salinan `array_a` menggunakan `.copy()` agar tidak mengubah data asli kita.\n",
    "- Gunakan operator += untuk menambahkan 5 ke setiap elemen di array salinan tersebut.\n",
    "- Cetak array salinan dan array asli untuk melihat perbedaannya."
   ]
  },
  {
   "cell_type": "code",
   "execution_count": 35,
   "metadata": {
    "id": "46f87fRgzEet"
   },
   "outputs": [
    {
     "data": {
      "text/plain": [
       "array([10, 15, 20, 25, 30, 35])"
      ]
     },
     "metadata": {},
     "output_type": "display_data"
    }
   ],
   "source": [
    "array_baru = array_a.copy()\n",
    "array_baru += 5\n",
    "\n",
    "display(array_baru)"
   ]
  },
  {
   "cell_type": "markdown",
   "metadata": {
    "id": "moyuEkc0x0Qq"
   },
   "source": [
    "# Pandas"
   ]
  },
  {
   "cell_type": "markdown",
   "metadata": {
    "id": "UG26UypadzIy"
   },
   "source": [
    "## Tugas 1: Membaca CSV dan Menampilkan Informasi Dasar"
   ]
  },
  {
   "cell_type": "markdown",
   "metadata": {
    "id": "DxeGUiHicCqA"
   },
   "source": [
    "**Instruksi:**\n",
    "1. Baca file bernama `data_hands-on_2.csv` ke dalam DataFrame bernama `df`.\n",
    "2. Tampilkan 5 baris pertama dengan `df.head()`.\n",
    "3. Tampilkan informasi ringkas dataset menggunakan `df.info()`.\n",
    "\n",
    "**Expected Output (contoh ringkas):**\n",
    "\n",
    "```\n",
    "   Diabetes_012  HighBP  HighChol  CholCheck   BMI  Smoker  Stroke  \\\n",
    "0           0.0     1.0       1.0        1.0  40.0     1.0     0.0   \n",
    "1           0.0     0.0       0.0        0.0  25.0     1.0     0.0   \n",
    "2           0.0     1.0       1.0        1.0  28.0     0.0     0.0   \n",
    "3           0.0     1.0       0.0        1.0  27.0     0.0     0.0   \n",
    "4           0.0     1.0       1.0        1.0  24.0     0.0     0.0   \n",
    "```\n",
    "\n",
    "```\n",
    "<class 'pandas.core.frame.DataFrame'>\n",
    "RangeIndex: ... entries, 0 to ...\n",
    "Data columns (total 22 columns):\n",
    " #   Column                Non-Null Count  Dtype  \n",
    "---  ------                --------------  -----  \n",
    " 0   Diabetes_012          ... non-null    float64\n",
    " 1   HighBP                ... non-null    float64\n",
    " ...\n",
    "21   Income                ... non-null    float64\n",
    "dtypes: float64(...), int64(...), object(...)\n",
    "memory usage: ...\n",
    "```"
   ]
  },
  {
   "cell_type": "code",
   "execution_count": 38,
   "metadata": {
    "id": "8OCvflfoc1nW"
   },
   "outputs": [
    {
     "data": {
      "text/html": [
       "<div>\n",
       "<style scoped>\n",
       "    .dataframe tbody tr th:only-of-type {\n",
       "        vertical-align: middle;\n",
       "    }\n",
       "\n",
       "    .dataframe tbody tr th {\n",
       "        vertical-align: top;\n",
       "    }\n",
       "\n",
       "    .dataframe thead th {\n",
       "        text-align: right;\n",
       "    }\n",
       "</style>\n",
       "<table border=\"1\" class=\"dataframe\">\n",
       "  <thead>\n",
       "    <tr style=\"text-align: right;\">\n",
       "      <th></th>\n",
       "      <th>Diabetes_012</th>\n",
       "      <th>HighBP</th>\n",
       "      <th>HighChol</th>\n",
       "      <th>CholCheck</th>\n",
       "      <th>BMI</th>\n",
       "      <th>Smoker</th>\n",
       "      <th>Stroke</th>\n",
       "      <th>HeartDiseaseorAttack</th>\n",
       "      <th>PhysActivity</th>\n",
       "      <th>Fruits</th>\n",
       "      <th>...</th>\n",
       "      <th>AnyHealthcare</th>\n",
       "      <th>NoDocbcCost</th>\n",
       "      <th>GenHlth</th>\n",
       "      <th>MentHlth</th>\n",
       "      <th>PhysHlth</th>\n",
       "      <th>DiffWalk</th>\n",
       "      <th>Sex</th>\n",
       "      <th>Age</th>\n",
       "      <th>Education</th>\n",
       "      <th>Income</th>\n",
       "    </tr>\n",
       "  </thead>\n",
       "  <tbody>\n",
       "    <tr>\n",
       "      <th>0</th>\n",
       "      <td>0.0</td>\n",
       "      <td>1.0</td>\n",
       "      <td>1.0</td>\n",
       "      <td>1.0</td>\n",
       "      <td>40.0</td>\n",
       "      <td>1.0</td>\n",
       "      <td>0.0</td>\n",
       "      <td>0.0</td>\n",
       "      <td>0.0</td>\n",
       "      <td>0.0</td>\n",
       "      <td>...</td>\n",
       "      <td>1.0</td>\n",
       "      <td>0.0</td>\n",
       "      <td>5.0</td>\n",
       "      <td>18.0</td>\n",
       "      <td>15.0</td>\n",
       "      <td>1.0</td>\n",
       "      <td>0.0</td>\n",
       "      <td>9.0</td>\n",
       "      <td>4.0</td>\n",
       "      <td>3.0</td>\n",
       "    </tr>\n",
       "    <tr>\n",
       "      <th>1</th>\n",
       "      <td>0.0</td>\n",
       "      <td>0.0</td>\n",
       "      <td>0.0</td>\n",
       "      <td>0.0</td>\n",
       "      <td>25.0</td>\n",
       "      <td>1.0</td>\n",
       "      <td>0.0</td>\n",
       "      <td>0.0</td>\n",
       "      <td>1.0</td>\n",
       "      <td>0.0</td>\n",
       "      <td>...</td>\n",
       "      <td>0.0</td>\n",
       "      <td>1.0</td>\n",
       "      <td>3.0</td>\n",
       "      <td>0.0</td>\n",
       "      <td>0.0</td>\n",
       "      <td>0.0</td>\n",
       "      <td>0.0</td>\n",
       "      <td>7.0</td>\n",
       "      <td>6.0</td>\n",
       "      <td>1.0</td>\n",
       "    </tr>\n",
       "    <tr>\n",
       "      <th>2</th>\n",
       "      <td>0.0</td>\n",
       "      <td>1.0</td>\n",
       "      <td>1.0</td>\n",
       "      <td>1.0</td>\n",
       "      <td>28.0</td>\n",
       "      <td>0.0</td>\n",
       "      <td>0.0</td>\n",
       "      <td>0.0</td>\n",
       "      <td>0.0</td>\n",
       "      <td>1.0</td>\n",
       "      <td>...</td>\n",
       "      <td>1.0</td>\n",
       "      <td>1.0</td>\n",
       "      <td>5.0</td>\n",
       "      <td>30.0</td>\n",
       "      <td>30.0</td>\n",
       "      <td>1.0</td>\n",
       "      <td>0.0</td>\n",
       "      <td>9.0</td>\n",
       "      <td>4.0</td>\n",
       "      <td>8.0</td>\n",
       "    </tr>\n",
       "    <tr>\n",
       "      <th>3</th>\n",
       "      <td>0.0</td>\n",
       "      <td>1.0</td>\n",
       "      <td>0.0</td>\n",
       "      <td>1.0</td>\n",
       "      <td>27.0</td>\n",
       "      <td>0.0</td>\n",
       "      <td>0.0</td>\n",
       "      <td>0.0</td>\n",
       "      <td>1.0</td>\n",
       "      <td>1.0</td>\n",
       "      <td>...</td>\n",
       "      <td>1.0</td>\n",
       "      <td>0.0</td>\n",
       "      <td>2.0</td>\n",
       "      <td>0.0</td>\n",
       "      <td>0.0</td>\n",
       "      <td>0.0</td>\n",
       "      <td>0.0</td>\n",
       "      <td>11.0</td>\n",
       "      <td>3.0</td>\n",
       "      <td>6.0</td>\n",
       "    </tr>\n",
       "    <tr>\n",
       "      <th>4</th>\n",
       "      <td>0.0</td>\n",
       "      <td>1.0</td>\n",
       "      <td>1.0</td>\n",
       "      <td>1.0</td>\n",
       "      <td>24.0</td>\n",
       "      <td>0.0</td>\n",
       "      <td>0.0</td>\n",
       "      <td>0.0</td>\n",
       "      <td>1.0</td>\n",
       "      <td>1.0</td>\n",
       "      <td>...</td>\n",
       "      <td>1.0</td>\n",
       "      <td>0.0</td>\n",
       "      <td>2.0</td>\n",
       "      <td>3.0</td>\n",
       "      <td>0.0</td>\n",
       "      <td>0.0</td>\n",
       "      <td>0.0</td>\n",
       "      <td>11.0</td>\n",
       "      <td>5.0</td>\n",
       "      <td>4.0</td>\n",
       "    </tr>\n",
       "  </tbody>\n",
       "</table>\n",
       "<p>5 rows × 22 columns</p>\n",
       "</div>"
      ],
      "text/plain": [
       "   Diabetes_012  HighBP  HighChol  CholCheck   BMI  Smoker  Stroke  \\\n",
       "0           0.0     1.0       1.0        1.0  40.0     1.0     0.0   \n",
       "1           0.0     0.0       0.0        0.0  25.0     1.0     0.0   \n",
       "2           0.0     1.0       1.0        1.0  28.0     0.0     0.0   \n",
       "3           0.0     1.0       0.0        1.0  27.0     0.0     0.0   \n",
       "4           0.0     1.0       1.0        1.0  24.0     0.0     0.0   \n",
       "\n",
       "   HeartDiseaseorAttack  PhysActivity  Fruits  ...  AnyHealthcare  \\\n",
       "0                   0.0           0.0     0.0  ...            1.0   \n",
       "1                   0.0           1.0     0.0  ...            0.0   \n",
       "2                   0.0           0.0     1.0  ...            1.0   \n",
       "3                   0.0           1.0     1.0  ...            1.0   \n",
       "4                   0.0           1.0     1.0  ...            1.0   \n",
       "\n",
       "   NoDocbcCost  GenHlth  MentHlth  PhysHlth  DiffWalk  Sex   Age  Education  \\\n",
       "0          0.0      5.0      18.0      15.0       1.0  0.0   9.0        4.0   \n",
       "1          1.0      3.0       0.0       0.0       0.0  0.0   7.0        6.0   \n",
       "2          1.0      5.0      30.0      30.0       1.0  0.0   9.0        4.0   \n",
       "3          0.0      2.0       0.0       0.0       0.0  0.0  11.0        3.0   \n",
       "4          0.0      2.0       3.0       0.0       0.0  0.0  11.0        5.0   \n",
       "\n",
       "   Income  \n",
       "0     3.0  \n",
       "1     1.0  \n",
       "2     8.0  \n",
       "3     6.0  \n",
       "4     4.0  \n",
       "\n",
       "[5 rows x 22 columns]"
      ]
     },
     "metadata": {},
     "output_type": "display_data"
    },
    {
     "name": "stdout",
     "output_type": "stream",
     "text": [
      "<class 'pandas.core.frame.DataFrame'>\n",
      "RangeIndex: 253680 entries, 0 to 253679\n",
      "Data columns (total 22 columns):\n",
      " #   Column                Non-Null Count   Dtype  \n",
      "---  ------                --------------   -----  \n",
      " 0   Diabetes_012          253680 non-null  float64\n",
      " 1   HighBP                253680 non-null  float64\n",
      " 2   HighChol              253680 non-null  float64\n",
      " 3   CholCheck             253680 non-null  float64\n",
      " 4   BMI                   253680 non-null  float64\n",
      " 5   Smoker                253680 non-null  float64\n",
      " 6   Stroke                253680 non-null  float64\n",
      " 7   HeartDiseaseorAttack  253680 non-null  float64\n",
      " 8   PhysActivity          253680 non-null  float64\n",
      " 9   Fruits                253680 non-null  float64\n",
      " 10  Veggies               253680 non-null  float64\n",
      " 11  HvyAlcoholConsump     253680 non-null  float64\n",
      " 12  AnyHealthcare         253680 non-null  float64\n",
      " 13  NoDocbcCost           253680 non-null  float64\n",
      " 14  GenHlth               253680 non-null  float64\n",
      " 15  MentHlth              253680 non-null  float64\n",
      " 16  PhysHlth              253680 non-null  float64\n",
      " 17  DiffWalk              253680 non-null  float64\n",
      " 18  Sex                   253680 non-null  float64\n",
      " 19  Age                   253680 non-null  float64\n",
      " 20  Education             253680 non-null  float64\n",
      " 21  Income                253680 non-null  float64\n",
      "dtypes: float64(22)\n",
      "memory usage: 42.6 MB\n"
     ]
    },
    {
     "data": {
      "text/plain": [
       "None"
      ]
     },
     "metadata": {},
     "output_type": "display_data"
    }
   ],
   "source": [
    "# Write your code here\n",
    "import pandas as pd\n",
    "\n",
    "df = pd.read_csv('data_hands-on_2.csv')\n",
    "display(df.head())\n",
    "display(df.info())"
   ]
  },
  {
   "cell_type": "markdown",
   "metadata": {
    "id": "6ye1bCP7dvjw"
   },
   "source": [
    "## Tugas 2: Eksplorasi Statistik Deskriptif"
   ]
  },
  {
   "cell_type": "markdown",
   "metadata": {
    "id": "uLFyPwVbd6gt"
   },
   "source": [
    "**Instruksi:**\n",
    "1. Jalankan `df.describe()` untuk melihat ringkasan default.\n",
    "2. Coba tampilkan ringkasan **hanya untuk kolom object**.\n",
    "  - Jika error, maka artinya tidak ada column object, bisa dilewati saja  \n",
    "  - (Opsional) Bisa gunakan error handling untuk handle ketika tidak ada kolom object, tampilkan pesan `\"Tidak ada kolom object dalam dataset.\"`.\n",
    "3. Jalankan `df.describe(include=['number'])` untuk ringkasan numerik.\n",
    "4. Ubah persentil yang ditampilkan menjadi **5%, 50%, dan 95%**.\n",
    "\n",
    "**Expected Output (contoh ringkas):**\n",
    "- Default: ringkasan statistik semua kolom numerik.  \n",
    "- Object: `\"Tidak ada kolom object dalam dataset.\"`  \n",
    "- Numeric: ringkasan numerik sama dengan default.  \n",
    "- Custom percentiles: statistik dengan 5%, 50%, 95%."
   ]
  },
  {
   "cell_type": "code",
   "execution_count": 42,
   "metadata": {
    "id": "ayF8mPNefPC1"
   },
   "outputs": [
    {
     "data": {
      "text/html": [
       "<div>\n",
       "<style scoped>\n",
       "    .dataframe tbody tr th:only-of-type {\n",
       "        vertical-align: middle;\n",
       "    }\n",
       "\n",
       "    .dataframe tbody tr th {\n",
       "        vertical-align: top;\n",
       "    }\n",
       "\n",
       "    .dataframe thead th {\n",
       "        text-align: right;\n",
       "    }\n",
       "</style>\n",
       "<table border=\"1\" class=\"dataframe\">\n",
       "  <thead>\n",
       "    <tr style=\"text-align: right;\">\n",
       "      <th></th>\n",
       "      <th>Diabetes_012</th>\n",
       "      <th>HighBP</th>\n",
       "      <th>HighChol</th>\n",
       "      <th>CholCheck</th>\n",
       "      <th>BMI</th>\n",
       "      <th>Smoker</th>\n",
       "      <th>Stroke</th>\n",
       "      <th>HeartDiseaseorAttack</th>\n",
       "      <th>PhysActivity</th>\n",
       "      <th>Fruits</th>\n",
       "      <th>...</th>\n",
       "      <th>AnyHealthcare</th>\n",
       "      <th>NoDocbcCost</th>\n",
       "      <th>GenHlth</th>\n",
       "      <th>MentHlth</th>\n",
       "      <th>PhysHlth</th>\n",
       "      <th>DiffWalk</th>\n",
       "      <th>Sex</th>\n",
       "      <th>Age</th>\n",
       "      <th>Education</th>\n",
       "      <th>Income</th>\n",
       "    </tr>\n",
       "  </thead>\n",
       "  <tbody>\n",
       "    <tr>\n",
       "      <th>count</th>\n",
       "      <td>253680.000000</td>\n",
       "      <td>253680.000000</td>\n",
       "      <td>253680.000000</td>\n",
       "      <td>253680.000000</td>\n",
       "      <td>253680.000000</td>\n",
       "      <td>253680.000000</td>\n",
       "      <td>253680.000000</td>\n",
       "      <td>253680.000000</td>\n",
       "      <td>253680.000000</td>\n",
       "      <td>253680.000000</td>\n",
       "      <td>...</td>\n",
       "      <td>253680.000000</td>\n",
       "      <td>253680.000000</td>\n",
       "      <td>253680.000000</td>\n",
       "      <td>253680.000000</td>\n",
       "      <td>253680.000000</td>\n",
       "      <td>253680.000000</td>\n",
       "      <td>253680.000000</td>\n",
       "      <td>253680.000000</td>\n",
       "      <td>253680.000000</td>\n",
       "      <td>253680.000000</td>\n",
       "    </tr>\n",
       "    <tr>\n",
       "      <th>mean</th>\n",
       "      <td>0.296921</td>\n",
       "      <td>0.429001</td>\n",
       "      <td>0.424121</td>\n",
       "      <td>0.962670</td>\n",
       "      <td>28.382364</td>\n",
       "      <td>0.443169</td>\n",
       "      <td>0.040571</td>\n",
       "      <td>0.094186</td>\n",
       "      <td>0.756544</td>\n",
       "      <td>0.634256</td>\n",
       "      <td>...</td>\n",
       "      <td>0.951053</td>\n",
       "      <td>0.084177</td>\n",
       "      <td>2.511392</td>\n",
       "      <td>3.184772</td>\n",
       "      <td>4.242081</td>\n",
       "      <td>0.168224</td>\n",
       "      <td>0.440342</td>\n",
       "      <td>8.032119</td>\n",
       "      <td>5.050434</td>\n",
       "      <td>6.053875</td>\n",
       "    </tr>\n",
       "    <tr>\n",
       "      <th>std</th>\n",
       "      <td>0.698160</td>\n",
       "      <td>0.494934</td>\n",
       "      <td>0.494210</td>\n",
       "      <td>0.189571</td>\n",
       "      <td>6.608694</td>\n",
       "      <td>0.496761</td>\n",
       "      <td>0.197294</td>\n",
       "      <td>0.292087</td>\n",
       "      <td>0.429169</td>\n",
       "      <td>0.481639</td>\n",
       "      <td>...</td>\n",
       "      <td>0.215759</td>\n",
       "      <td>0.277654</td>\n",
       "      <td>1.068477</td>\n",
       "      <td>7.412847</td>\n",
       "      <td>8.717951</td>\n",
       "      <td>0.374066</td>\n",
       "      <td>0.496429</td>\n",
       "      <td>3.054220</td>\n",
       "      <td>0.985774</td>\n",
       "      <td>2.071148</td>\n",
       "    </tr>\n",
       "    <tr>\n",
       "      <th>min</th>\n",
       "      <td>0.000000</td>\n",
       "      <td>0.000000</td>\n",
       "      <td>0.000000</td>\n",
       "      <td>0.000000</td>\n",
       "      <td>12.000000</td>\n",
       "      <td>0.000000</td>\n",
       "      <td>0.000000</td>\n",
       "      <td>0.000000</td>\n",
       "      <td>0.000000</td>\n",
       "      <td>0.000000</td>\n",
       "      <td>...</td>\n",
       "      <td>0.000000</td>\n",
       "      <td>0.000000</td>\n",
       "      <td>1.000000</td>\n",
       "      <td>0.000000</td>\n",
       "      <td>0.000000</td>\n",
       "      <td>0.000000</td>\n",
       "      <td>0.000000</td>\n",
       "      <td>1.000000</td>\n",
       "      <td>1.000000</td>\n",
       "      <td>1.000000</td>\n",
       "    </tr>\n",
       "    <tr>\n",
       "      <th>25%</th>\n",
       "      <td>0.000000</td>\n",
       "      <td>0.000000</td>\n",
       "      <td>0.000000</td>\n",
       "      <td>1.000000</td>\n",
       "      <td>24.000000</td>\n",
       "      <td>0.000000</td>\n",
       "      <td>0.000000</td>\n",
       "      <td>0.000000</td>\n",
       "      <td>1.000000</td>\n",
       "      <td>0.000000</td>\n",
       "      <td>...</td>\n",
       "      <td>1.000000</td>\n",
       "      <td>0.000000</td>\n",
       "      <td>2.000000</td>\n",
       "      <td>0.000000</td>\n",
       "      <td>0.000000</td>\n",
       "      <td>0.000000</td>\n",
       "      <td>0.000000</td>\n",
       "      <td>6.000000</td>\n",
       "      <td>4.000000</td>\n",
       "      <td>5.000000</td>\n",
       "    </tr>\n",
       "    <tr>\n",
       "      <th>50%</th>\n",
       "      <td>0.000000</td>\n",
       "      <td>0.000000</td>\n",
       "      <td>0.000000</td>\n",
       "      <td>1.000000</td>\n",
       "      <td>27.000000</td>\n",
       "      <td>0.000000</td>\n",
       "      <td>0.000000</td>\n",
       "      <td>0.000000</td>\n",
       "      <td>1.000000</td>\n",
       "      <td>1.000000</td>\n",
       "      <td>...</td>\n",
       "      <td>1.000000</td>\n",
       "      <td>0.000000</td>\n",
       "      <td>2.000000</td>\n",
       "      <td>0.000000</td>\n",
       "      <td>0.000000</td>\n",
       "      <td>0.000000</td>\n",
       "      <td>0.000000</td>\n",
       "      <td>8.000000</td>\n",
       "      <td>5.000000</td>\n",
       "      <td>7.000000</td>\n",
       "    </tr>\n",
       "    <tr>\n",
       "      <th>75%</th>\n",
       "      <td>0.000000</td>\n",
       "      <td>1.000000</td>\n",
       "      <td>1.000000</td>\n",
       "      <td>1.000000</td>\n",
       "      <td>31.000000</td>\n",
       "      <td>1.000000</td>\n",
       "      <td>0.000000</td>\n",
       "      <td>0.000000</td>\n",
       "      <td>1.000000</td>\n",
       "      <td>1.000000</td>\n",
       "      <td>...</td>\n",
       "      <td>1.000000</td>\n",
       "      <td>0.000000</td>\n",
       "      <td>3.000000</td>\n",
       "      <td>2.000000</td>\n",
       "      <td>3.000000</td>\n",
       "      <td>0.000000</td>\n",
       "      <td>1.000000</td>\n",
       "      <td>10.000000</td>\n",
       "      <td>6.000000</td>\n",
       "      <td>8.000000</td>\n",
       "    </tr>\n",
       "    <tr>\n",
       "      <th>max</th>\n",
       "      <td>2.000000</td>\n",
       "      <td>1.000000</td>\n",
       "      <td>1.000000</td>\n",
       "      <td>1.000000</td>\n",
       "      <td>98.000000</td>\n",
       "      <td>1.000000</td>\n",
       "      <td>1.000000</td>\n",
       "      <td>1.000000</td>\n",
       "      <td>1.000000</td>\n",
       "      <td>1.000000</td>\n",
       "      <td>...</td>\n",
       "      <td>1.000000</td>\n",
       "      <td>1.000000</td>\n",
       "      <td>5.000000</td>\n",
       "      <td>30.000000</td>\n",
       "      <td>30.000000</td>\n",
       "      <td>1.000000</td>\n",
       "      <td>1.000000</td>\n",
       "      <td>13.000000</td>\n",
       "      <td>6.000000</td>\n",
       "      <td>8.000000</td>\n",
       "    </tr>\n",
       "  </tbody>\n",
       "</table>\n",
       "<p>8 rows × 22 columns</p>\n",
       "</div>"
      ],
      "text/plain": [
       "        Diabetes_012         HighBP       HighChol      CholCheck  \\\n",
       "count  253680.000000  253680.000000  253680.000000  253680.000000   \n",
       "mean        0.296921       0.429001       0.424121       0.962670   \n",
       "std         0.698160       0.494934       0.494210       0.189571   \n",
       "min         0.000000       0.000000       0.000000       0.000000   \n",
       "25%         0.000000       0.000000       0.000000       1.000000   \n",
       "50%         0.000000       0.000000       0.000000       1.000000   \n",
       "75%         0.000000       1.000000       1.000000       1.000000   \n",
       "max         2.000000       1.000000       1.000000       1.000000   \n",
       "\n",
       "                 BMI         Smoker         Stroke  HeartDiseaseorAttack  \\\n",
       "count  253680.000000  253680.000000  253680.000000         253680.000000   \n",
       "mean       28.382364       0.443169       0.040571              0.094186   \n",
       "std         6.608694       0.496761       0.197294              0.292087   \n",
       "min        12.000000       0.000000       0.000000              0.000000   \n",
       "25%        24.000000       0.000000       0.000000              0.000000   \n",
       "50%        27.000000       0.000000       0.000000              0.000000   \n",
       "75%        31.000000       1.000000       0.000000              0.000000   \n",
       "max        98.000000       1.000000       1.000000              1.000000   \n",
       "\n",
       "        PhysActivity         Fruits  ...  AnyHealthcare    NoDocbcCost  \\\n",
       "count  253680.000000  253680.000000  ...  253680.000000  253680.000000   \n",
       "mean        0.756544       0.634256  ...       0.951053       0.084177   \n",
       "std         0.429169       0.481639  ...       0.215759       0.277654   \n",
       "min         0.000000       0.000000  ...       0.000000       0.000000   \n",
       "25%         1.000000       0.000000  ...       1.000000       0.000000   \n",
       "50%         1.000000       1.000000  ...       1.000000       0.000000   \n",
       "75%         1.000000       1.000000  ...       1.000000       0.000000   \n",
       "max         1.000000       1.000000  ...       1.000000       1.000000   \n",
       "\n",
       "             GenHlth       MentHlth       PhysHlth       DiffWalk  \\\n",
       "count  253680.000000  253680.000000  253680.000000  253680.000000   \n",
       "mean        2.511392       3.184772       4.242081       0.168224   \n",
       "std         1.068477       7.412847       8.717951       0.374066   \n",
       "min         1.000000       0.000000       0.000000       0.000000   \n",
       "25%         2.000000       0.000000       0.000000       0.000000   \n",
       "50%         2.000000       0.000000       0.000000       0.000000   \n",
       "75%         3.000000       2.000000       3.000000       0.000000   \n",
       "max         5.000000      30.000000      30.000000       1.000000   \n",
       "\n",
       "                 Sex            Age      Education         Income  \n",
       "count  253680.000000  253680.000000  253680.000000  253680.000000  \n",
       "mean        0.440342       8.032119       5.050434       6.053875  \n",
       "std         0.496429       3.054220       0.985774       2.071148  \n",
       "min         0.000000       1.000000       1.000000       1.000000  \n",
       "25%         0.000000       6.000000       4.000000       5.000000  \n",
       "50%         0.000000       8.000000       5.000000       7.000000  \n",
       "75%         1.000000      10.000000       6.000000       8.000000  \n",
       "max         1.000000      13.000000       6.000000       8.000000  \n",
       "\n",
       "[8 rows x 22 columns]"
      ]
     },
     "execution_count": 42,
     "metadata": {},
     "output_type": "execute_result"
    }
   ],
   "source": [
    "# Write your code here\n",
    "df.describe()"
   ]
  },
  {
   "cell_type": "markdown",
   "metadata": {
    "id": "lUaykfqfa-1z"
   },
   "source": [
    "## Tugas 3: Mengecek Shape, Size, dan Mengambil Sampel"
   ]
  },
  {
   "cell_type": "markdown",
   "metadata": {
    "id": "jv4qO95hcf_C"
   },
   "source": [
    "**Instruksi:**\n",
    "1. Gunakan atribut `df.shape` untuk menampilkan jumlah baris dan kolom.\n",
    "2. Gunakan atribut `df.size` untuk menampilkan jumlah total elemen (baris × kolom).\n",
    "3. Ambil 5 baris acak dari dataset menggunakan `df.sample(5)`.\n",
    "4. Ambil 3 baris acak dari dataset, tetapi gunakan parameter `random_state=42` agar hasilnya konsisten.\n",
    "\n",
    "**Expected Output (contoh ringkas):**\n",
    "- Shape: `(253680, 22)`\n",
    "- Size: `5580960`\n",
    "- Sample 5 rows: (5 baris acak)\n",
    "- Sample 3 rows dengan seed: (3 baris acak, selalu sama tiap dijalankan)"
   ]
  },
  {
   "cell_type": "code",
   "execution_count": 57,
   "metadata": {
    "id": "S-sjSwxicin7"
   },
   "outputs": [
    {
     "data": {
      "text/plain": [
       "(253680, 22)"
      ]
     },
     "metadata": {},
     "output_type": "display_data"
    },
    {
     "data": {
      "text/plain": [
       "5580960"
      ]
     },
     "metadata": {},
     "output_type": "display_data"
    },
    {
     "data": {
      "text/html": [
       "<div>\n",
       "<style scoped>\n",
       "    .dataframe tbody tr th:only-of-type {\n",
       "        vertical-align: middle;\n",
       "    }\n",
       "\n",
       "    .dataframe tbody tr th {\n",
       "        vertical-align: top;\n",
       "    }\n",
       "\n",
       "    .dataframe thead th {\n",
       "        text-align: right;\n",
       "    }\n",
       "</style>\n",
       "<table border=\"1\" class=\"dataframe\">\n",
       "  <thead>\n",
       "    <tr style=\"text-align: right;\">\n",
       "      <th></th>\n",
       "      <th>Diabetes_012</th>\n",
       "      <th>HighBP</th>\n",
       "      <th>HighChol</th>\n",
       "      <th>CholCheck</th>\n",
       "      <th>BMI</th>\n",
       "      <th>Smoker</th>\n",
       "      <th>Stroke</th>\n",
       "      <th>HeartDiseaseorAttack</th>\n",
       "      <th>PhysActivity</th>\n",
       "      <th>Fruits</th>\n",
       "      <th>...</th>\n",
       "      <th>AnyHealthcare</th>\n",
       "      <th>NoDocbcCost</th>\n",
       "      <th>GenHlth</th>\n",
       "      <th>MentHlth</th>\n",
       "      <th>PhysHlth</th>\n",
       "      <th>DiffWalk</th>\n",
       "      <th>Sex</th>\n",
       "      <th>Age</th>\n",
       "      <th>Education</th>\n",
       "      <th>Income</th>\n",
       "    </tr>\n",
       "  </thead>\n",
       "  <tbody>\n",
       "    <tr>\n",
       "      <th>120903</th>\n",
       "      <td>0.0</td>\n",
       "      <td>0.0</td>\n",
       "      <td>0.0</td>\n",
       "      <td>1.0</td>\n",
       "      <td>37.0</td>\n",
       "      <td>0.0</td>\n",
       "      <td>0.0</td>\n",
       "      <td>0.0</td>\n",
       "      <td>0.0</td>\n",
       "      <td>0.0</td>\n",
       "      <td>...</td>\n",
       "      <td>0.0</td>\n",
       "      <td>1.0</td>\n",
       "      <td>4.0</td>\n",
       "      <td>30.0</td>\n",
       "      <td>10.0</td>\n",
       "      <td>0.0</td>\n",
       "      <td>0.0</td>\n",
       "      <td>2.0</td>\n",
       "      <td>4.0</td>\n",
       "      <td>5.0</td>\n",
       "    </tr>\n",
       "    <tr>\n",
       "      <th>18114</th>\n",
       "      <td>2.0</td>\n",
       "      <td>1.0</td>\n",
       "      <td>0.0</td>\n",
       "      <td>1.0</td>\n",
       "      <td>29.0</td>\n",
       "      <td>1.0</td>\n",
       "      <td>0.0</td>\n",
       "      <td>0.0</td>\n",
       "      <td>0.0</td>\n",
       "      <td>1.0</td>\n",
       "      <td>...</td>\n",
       "      <td>1.0</td>\n",
       "      <td>0.0</td>\n",
       "      <td>5.0</td>\n",
       "      <td>0.0</td>\n",
       "      <td>30.0</td>\n",
       "      <td>0.0</td>\n",
       "      <td>1.0</td>\n",
       "      <td>9.0</td>\n",
       "      <td>5.0</td>\n",
       "      <td>2.0</td>\n",
       "    </tr>\n",
       "    <tr>\n",
       "      <th>86506</th>\n",
       "      <td>0.0</td>\n",
       "      <td>1.0</td>\n",
       "      <td>1.0</td>\n",
       "      <td>1.0</td>\n",
       "      <td>26.0</td>\n",
       "      <td>0.0</td>\n",
       "      <td>0.0</td>\n",
       "      <td>1.0</td>\n",
       "      <td>1.0</td>\n",
       "      <td>1.0</td>\n",
       "      <td>...</td>\n",
       "      <td>1.0</td>\n",
       "      <td>1.0</td>\n",
       "      <td>2.0</td>\n",
       "      <td>0.0</td>\n",
       "      <td>14.0</td>\n",
       "      <td>0.0</td>\n",
       "      <td>1.0</td>\n",
       "      <td>10.0</td>\n",
       "      <td>6.0</td>\n",
       "      <td>8.0</td>\n",
       "    </tr>\n",
       "    <tr>\n",
       "      <th>72960</th>\n",
       "      <td>0.0</td>\n",
       "      <td>1.0</td>\n",
       "      <td>1.0</td>\n",
       "      <td>1.0</td>\n",
       "      <td>27.0</td>\n",
       "      <td>1.0</td>\n",
       "      <td>0.0</td>\n",
       "      <td>1.0</td>\n",
       "      <td>1.0</td>\n",
       "      <td>1.0</td>\n",
       "      <td>...</td>\n",
       "      <td>1.0</td>\n",
       "      <td>0.0</td>\n",
       "      <td>3.0</td>\n",
       "      <td>0.0</td>\n",
       "      <td>0.0</td>\n",
       "      <td>0.0</td>\n",
       "      <td>0.0</td>\n",
       "      <td>10.0</td>\n",
       "      <td>5.0</td>\n",
       "      <td>5.0</td>\n",
       "    </tr>\n",
       "    <tr>\n",
       "      <th>108609</th>\n",
       "      <td>0.0</td>\n",
       "      <td>0.0</td>\n",
       "      <td>1.0</td>\n",
       "      <td>1.0</td>\n",
       "      <td>23.0</td>\n",
       "      <td>0.0</td>\n",
       "      <td>0.0</td>\n",
       "      <td>0.0</td>\n",
       "      <td>1.0</td>\n",
       "      <td>0.0</td>\n",
       "      <td>...</td>\n",
       "      <td>1.0</td>\n",
       "      <td>0.0</td>\n",
       "      <td>3.0</td>\n",
       "      <td>0.0</td>\n",
       "      <td>0.0</td>\n",
       "      <td>0.0</td>\n",
       "      <td>0.0</td>\n",
       "      <td>10.0</td>\n",
       "      <td>6.0</td>\n",
       "      <td>2.0</td>\n",
       "    </tr>\n",
       "  </tbody>\n",
       "</table>\n",
       "<p>5 rows × 22 columns</p>\n",
       "</div>"
      ],
      "text/plain": [
       "        Diabetes_012  HighBP  HighChol  CholCheck   BMI  Smoker  Stroke  \\\n",
       "120903           0.0     0.0       0.0        1.0  37.0     0.0     0.0   \n",
       "18114            2.0     1.0       0.0        1.0  29.0     1.0     0.0   \n",
       "86506            0.0     1.0       1.0        1.0  26.0     0.0     0.0   \n",
       "72960            0.0     1.0       1.0        1.0  27.0     1.0     0.0   \n",
       "108609           0.0     0.0       1.0        1.0  23.0     0.0     0.0   \n",
       "\n",
       "        HeartDiseaseorAttack  PhysActivity  Fruits  ...  AnyHealthcare  \\\n",
       "120903                   0.0           0.0     0.0  ...            0.0   \n",
       "18114                    0.0           0.0     1.0  ...            1.0   \n",
       "86506                    1.0           1.0     1.0  ...            1.0   \n",
       "72960                    1.0           1.0     1.0  ...            1.0   \n",
       "108609                   0.0           1.0     0.0  ...            1.0   \n",
       "\n",
       "        NoDocbcCost  GenHlth  MentHlth  PhysHlth  DiffWalk  Sex   Age  \\\n",
       "120903          1.0      4.0      30.0      10.0       0.0  0.0   2.0   \n",
       "18114           0.0      5.0       0.0      30.0       0.0  1.0   9.0   \n",
       "86506           1.0      2.0       0.0      14.0       0.0  1.0  10.0   \n",
       "72960           0.0      3.0       0.0       0.0       0.0  0.0  10.0   \n",
       "108609          0.0      3.0       0.0       0.0       0.0  0.0  10.0   \n",
       "\n",
       "        Education  Income  \n",
       "120903        4.0     5.0  \n",
       "18114         5.0     2.0  \n",
       "86506         6.0     8.0  \n",
       "72960         5.0     5.0  \n",
       "108609        6.0     2.0  \n",
       "\n",
       "[5 rows x 22 columns]"
      ]
     },
     "metadata": {},
     "output_type": "display_data"
    },
    {
     "data": {
      "text/html": [
       "<div>\n",
       "<style scoped>\n",
       "    .dataframe tbody tr th:only-of-type {\n",
       "        vertical-align: middle;\n",
       "    }\n",
       "\n",
       "    .dataframe tbody tr th {\n",
       "        vertical-align: top;\n",
       "    }\n",
       "\n",
       "    .dataframe thead th {\n",
       "        text-align: right;\n",
       "    }\n",
       "</style>\n",
       "<table border=\"1\" class=\"dataframe\">\n",
       "  <thead>\n",
       "    <tr style=\"text-align: right;\">\n",
       "      <th></th>\n",
       "      <th>Diabetes_012</th>\n",
       "      <th>HighBP</th>\n",
       "      <th>HighChol</th>\n",
       "      <th>CholCheck</th>\n",
       "      <th>BMI</th>\n",
       "      <th>Smoker</th>\n",
       "      <th>Stroke</th>\n",
       "      <th>HeartDiseaseorAttack</th>\n",
       "      <th>PhysActivity</th>\n",
       "      <th>Fruits</th>\n",
       "      <th>...</th>\n",
       "      <th>AnyHealthcare</th>\n",
       "      <th>NoDocbcCost</th>\n",
       "      <th>GenHlth</th>\n",
       "      <th>MentHlth</th>\n",
       "      <th>PhysHlth</th>\n",
       "      <th>DiffWalk</th>\n",
       "      <th>Sex</th>\n",
       "      <th>Age</th>\n",
       "      <th>Education</th>\n",
       "      <th>Income</th>\n",
       "    </tr>\n",
       "  </thead>\n",
       "  <tbody>\n",
       "    <tr>\n",
       "      <th>219620</th>\n",
       "      <td>0.0</td>\n",
       "      <td>0.0</td>\n",
       "      <td>0.0</td>\n",
       "      <td>1.0</td>\n",
       "      <td>21.0</td>\n",
       "      <td>0.0</td>\n",
       "      <td>0.0</td>\n",
       "      <td>0.0</td>\n",
       "      <td>0.0</td>\n",
       "      <td>1.0</td>\n",
       "      <td>...</td>\n",
       "      <td>1.0</td>\n",
       "      <td>0.0</td>\n",
       "      <td>3.0</td>\n",
       "      <td>3.0</td>\n",
       "      <td>7.0</td>\n",
       "      <td>0.0</td>\n",
       "      <td>0.0</td>\n",
       "      <td>7.0</td>\n",
       "      <td>4.0</td>\n",
       "      <td>2.0</td>\n",
       "    </tr>\n",
       "    <tr>\n",
       "      <th>132821</th>\n",
       "      <td>0.0</td>\n",
       "      <td>1.0</td>\n",
       "      <td>1.0</td>\n",
       "      <td>1.0</td>\n",
       "      <td>28.0</td>\n",
       "      <td>0.0</td>\n",
       "      <td>0.0</td>\n",
       "      <td>0.0</td>\n",
       "      <td>1.0</td>\n",
       "      <td>1.0</td>\n",
       "      <td>...</td>\n",
       "      <td>1.0</td>\n",
       "      <td>0.0</td>\n",
       "      <td>3.0</td>\n",
       "      <td>0.0</td>\n",
       "      <td>0.0</td>\n",
       "      <td>0.0</td>\n",
       "      <td>0.0</td>\n",
       "      <td>13.0</td>\n",
       "      <td>6.0</td>\n",
       "      <td>6.0</td>\n",
       "    </tr>\n",
       "    <tr>\n",
       "      <th>151862</th>\n",
       "      <td>0.0</td>\n",
       "      <td>0.0</td>\n",
       "      <td>0.0</td>\n",
       "      <td>1.0</td>\n",
       "      <td>24.0</td>\n",
       "      <td>0.0</td>\n",
       "      <td>0.0</td>\n",
       "      <td>0.0</td>\n",
       "      <td>1.0</td>\n",
       "      <td>1.0</td>\n",
       "      <td>...</td>\n",
       "      <td>1.0</td>\n",
       "      <td>0.0</td>\n",
       "      <td>1.0</td>\n",
       "      <td>0.0</td>\n",
       "      <td>0.0</td>\n",
       "      <td>0.0</td>\n",
       "      <td>1.0</td>\n",
       "      <td>1.0</td>\n",
       "      <td>4.0</td>\n",
       "      <td>7.0</td>\n",
       "    </tr>\n",
       "  </tbody>\n",
       "</table>\n",
       "<p>3 rows × 22 columns</p>\n",
       "</div>"
      ],
      "text/plain": [
       "        Diabetes_012  HighBP  HighChol  CholCheck   BMI  Smoker  Stroke  \\\n",
       "219620           0.0     0.0       0.0        1.0  21.0     0.0     0.0   \n",
       "132821           0.0     1.0       1.0        1.0  28.0     0.0     0.0   \n",
       "151862           0.0     0.0       0.0        1.0  24.0     0.0     0.0   \n",
       "\n",
       "        HeartDiseaseorAttack  PhysActivity  Fruits  ...  AnyHealthcare  \\\n",
       "219620                   0.0           0.0     1.0  ...            1.0   \n",
       "132821                   0.0           1.0     1.0  ...            1.0   \n",
       "151862                   0.0           1.0     1.0  ...            1.0   \n",
       "\n",
       "        NoDocbcCost  GenHlth  MentHlth  PhysHlth  DiffWalk  Sex   Age  \\\n",
       "219620          0.0      3.0       3.0       7.0       0.0  0.0   7.0   \n",
       "132821          0.0      3.0       0.0       0.0       0.0  0.0  13.0   \n",
       "151862          0.0      1.0       0.0       0.0       0.0  1.0   1.0   \n",
       "\n",
       "        Education  Income  \n",
       "219620        4.0     2.0  \n",
       "132821        6.0     6.0  \n",
       "151862        4.0     7.0  \n",
       "\n",
       "[3 rows x 22 columns]"
      ]
     },
     "metadata": {},
     "output_type": "display_data"
    }
   ],
   "source": [
    "# Write your code here\n",
    "display(df.shape)\n",
    "display(df.size)\n",
    "\n",
    "display(df.sample(5))\n",
    "display(df.sample(3, random_state=42))"
   ]
  },
  {
   "cell_type": "markdown",
   "metadata": {
    "id": "c_1Ls3Bwd2E2"
   },
   "source": [
    "## Tugas 4: Seleksi Data dengan `.loc` dan `.iloc`\n"
   ]
  },
  {
   "cell_type": "markdown",
   "metadata": {
    "id": "vxzlC0v2d5h6"
   },
   "source": [
    "**Instruksi:**\n",
    "1. Pilih baris ke-0 sampai ke-4 dan kolom `['Diabetes_012', 'BMI', 'Age']` menggunakan `.loc`, simpan ke dalam `df_loc`.\n",
    "2. Pilih baris ke-10 sampai ke-14 dan kolom ke-0 sampai ke-2 menggunakan `.iloc`, simpan ke dalam `df_iloc`.\n",
    "3. Tampilkan kedua DataFrame (`df_loc` dan `df_iloc`) untuk melihat hasilnya.\n",
    "\n",
    "**Expected Output (contoh ringkas):**\n",
    "\n",
    "👉 `df_loc`\n",
    "```\n",
    "    Diabetes_012  BMI   Age\n",
    "0   0.0           40.0  9.0\n",
    "1   0.0           25.0  7.0\n",
    "2   0.0           8.0   9.0\n",
    "3   0.0           27.0  11.0\n",
    "4   0.0           24.0  11.0\n",
    "```\n",
    "\n",
    "👉 `df_iloc`\n",
    "```\n",
    "    Diabetes_012  HighBP  HighChol\n",
    "10  0.0           0.0     0.0\n",
    "11  0.0           0.0     0.0\n",
    "12  0.0           0.0     0.0\n",
    "13  0.0           0.0     0.0\n",
    "14  0.0           0.0     1.0\n",
    "```"
   ]
  },
  {
   "cell_type": "code",
   "execution_count": 61,
   "metadata": {
    "id": "TmtYSlhefRF8"
   },
   "outputs": [],
   "source": [
    "# Write your code here\n"
   ]
  },
  {
   "cell_type": "markdown",
   "metadata": {
    "id": "5cl6AfHgE214"
   },
   "source": [
    "## Tugas 5: Filtering Data"
   ]
  },
  {
   "cell_type": "markdown",
   "metadata": {
    "id": "rYctCRtTE33Z"
   },
   "source": [
    "**Instruksi:**\n",
    "1. Pilih semua baris dengan **BMI lebih dari 30** dan simpan ke dalam `df_obese`.\n",
    "2. Pilih semua baris dengan **Diabetes_012 = 1** dan simpan ke dalam `df_diabetes`.\n",
    "3. Terapkan filter gabungan: pilih semua baris dengan **BMI > 30** dan **Diabetes_012 = 1**, simpan ke dalam `df_highrisk`.\n",
    "4. Tampilkan jumlah baris untuk tiap DataFrame hasil filter (`len(df_xxx)`).\n",
    "\n",
    "**Expected Output (contoh ringkas):**\n",
    "- `df_obese` → DataFrame dengan hanya baris BMI > 30  \n",
    "- `df_diabetes` → DataFrame dengan hanya baris Diabetes_012 = 1  \n",
    "- `df_highrisk` → DataFrame gabungan kondisi  \n",
    "- Output jumlah baris, misalnya:  \n",
    "  - Jumlah baris df_obese: 98000\n",
    "  - Jumlah baris df_diabetes: 34000\n",
    "  - Jumlah baris df_highrisk: 12000"
   ]
  },
  {
   "cell_type": "code",
   "execution_count": 77,
   "metadata": {
    "id": "QK6ZHrQkFg57"
   },
   "outputs": [],
   "source": [
    "# Write your code here\n",
    "df_obese = df[df.BMI > 30]\n",
    "df_diabetes = df[df.Diabetes_012 == 1]"
   ]
  },
  {
   "cell_type": "markdown",
   "metadata": {
    "id": "VKHvYzqeKUsI"
   },
   "source": [
    "## Tugas 6: Filtering dengan `.isin()`"
   ]
  },
  {
   "cell_type": "markdown",
   "metadata": {
    "id": "8FBX0wGjKVnd"
   },
   "source": [
    "**Instruksi:**\n",
    "1. Pilih semua baris di mana kolom `Age` bernilai **[7, 8, 9]**, simpan ke dalam `df_agegroup`.\n",
    "2. Pilih semua baris di mana kolom `Income` bernilai **[1, 2]** (pendapatan rendah), simpan ke dalam `df_lowincome`.\n",
    "3. Tampilkan 5 baris pertama dari masing-masing DataFrame.\n",
    "\n",
    "**Expected Output (contoh ringkas):**\n",
    "\n",
    "👉 `df_agegroup`\n",
    "```\n",
    "    Diabetes_012  HighBP  HighChol  ... Age   Education Income\n",
    "1   0.0           0.0     0.0       ... 7.0   6.0       1.0\n",
    "2   0.0           1.0     1.0       ... 9.0   4.0       8.0\n",
    "...\n",
    "```\n",
    "\n",
    "\n",
    "👉 `df_lowincome`\n",
    "```\n",
    "    Diabetes_012  HighBP  HighChol  ... Age   Education Income\n",
    "1   0.0           0.0     0.0       ... 7.0   6.0       1.0\n",
    "8   0.0           1.0     1.0       ... 11.0  4.0       2.0\n",
    "...\n",
    "```"
   ]
  },
  {
   "cell_type": "code",
   "execution_count": null,
   "metadata": {
    "id": "kK0OEUiWL1i-"
   },
   "outputs": [],
   "source": [
    "# Write your code here"
   ]
  },
  {
   "cell_type": "markdown",
   "metadata": {
    "id": "kt3U4BGdQCG0"
   },
   "source": [
    "## Tugas 7: Menghapus Kolom, Menyimpan Kolom Tertentu, dan Membuat Fitur Baru"
   ]
  },
  {
   "cell_type": "markdown",
   "metadata": {
    "id": "rdfNoZYeQEde"
   },
   "source": [
    "**Instruksi:**\n",
    "1. **Drop kolom** `['CholCheck', 'Smoker']` dari `df`, simpan hasilnya ke `df_drop`.\n",
    "2. **Keep kolom** `['Diabetes_012', 'BMI', 'Age', 'HighBP', 'HighChol']` dari `df`, simpan ke `df_keep`.\n",
    "3. Pada `df_keep`, buat kolom fitur baru bernama **`BMI_Category`**:\n",
    "   - `Underweight` jika BMI < 18.5  \n",
    "   - `Normal` jika 18.5 ≤ BMI < 25  \n",
    "   - `Overweight` jika 25 ≤ BMI < 30  \n",
    "   - `Obese` jika BMI ≥ 30\n",
    "4. Tampilkan `df_drop.head()` dan `df_keep.head()`.\n",
    "\n",
    "**Catatan:**\n",
    "- Gunakan `.copy()` saat membuat subset untuk menghindari `SettingWithCopyWarning`.\n",
    "- Gunakan `pd.cut` untuk membuat kategori BMI.\n",
    "\n",
    "**Expected Output (contoh ringkas):**\n",
    "\n",
    "👉 `df_drop.head()` (tanpa kolom `CholCheck`, `Smoker`)\n",
    "```\n",
    "    Diabetes_012  HighBP  HighChol  BMI   Stroke    HeartDiseaseorAttack  ...\n",
    "0   0.0           1.0     1.0       40.0  0.0       0.0                   ...\n",
    "1   0.0           0.0     0.0       25.0  0.0       0.0                   ...\n",
    "...\n",
    "```\n",
    "\n",
    "\n",
    "👉 `df_keep.head()` (dengan kolom baru `BMI_Category`)\n",
    "```\n",
    "    Diabetes_012  BMI   Age   HighBP  HighChol  BMI_Category\n",
    "0   0.0           40.0  9.0   1.0     1.0       Obese\n",
    "1   0.0           25.0  7.0   0.0     0.0       Overweight\n",
    "2   0.0           28.0  9.0   1.0     1.0       Overweight\n",
    "3   0.0           27.0  11.0  1.0     0.0       Overweight\n",
    "4   0.0           24.0  11.0  1.0     1.0       Normal\n",
    "...\n",
    "```"
   ]
  },
  {
   "cell_type": "code",
   "execution_count": null,
   "metadata": {
    "id": "IWdqJ_8LR5yx"
   },
   "outputs": [],
   "source": [
    "# Write your code here"
   ]
  },
  {
   "cell_type": "markdown",
   "metadata": {
    "id": "MlzqagE2UvX9"
   },
   "source": [
    "## Tugas 8: Buat Fitur dari Operasi Aritmetika, Hapus Kolom Asal, dan Rename"
   ]
  },
  {
   "cell_type": "markdown",
   "metadata": {
    "id": "FbTyEFZYUwKE"
   },
   "source": [
    "**Instruksi:**\n",
    "1. Buat salinan kerja: `df_fe = df.copy()`.\n",
    "2. Buat kolom baru **sementara** bernama `UnhealthyDays_temp` = `PhysHlth` + `MentHlth`.\n",
    "3. Hapus kolom asal `['PhysHlth', 'MentHlth']` dari `df_fe`.\n",
    "4. Rename `UnhealthyDays_temp` menjadi **`UnhealthyDays`**.\n",
    "5. Tampilkan `df_fe[['UnhealthyDays']].head()` dan pastikan kolom `PhysHlth` dan `MentHlth` **sudah tidak ada** (contoh: tampilkan daftar kolom).\n",
    "\n",
    "**Expected Output (contoh ringkas):**\n",
    "- Preview kolom baru:\n",
    "```\n",
    "    UnhealthyDays\n",
    "0   33.0\n",
    "1   0.0\n",
    "2   60.0\n",
    "3   0.0\n",
    "4   3.0\n",
    "```\n",
    "- Daftar kolom **tidak** mengandung `PhysHlth` & `MentHlth`, dan **mengandung** `UnhealthyDays`.\n",
    "```\n",
    "['Diabetes_012', 'HighBP', 'HighChol', 'CholCheck', 'BMI', 'Smoker', ..., 'DiffWalk', 'Sex', 'Age', 'Education', 'Income', 'UnhealthyDays']\n",
    "```\n"
   ]
  },
  {
   "cell_type": "code",
   "execution_count": null,
   "metadata": {
    "id": "TN0KWHDYVFxb"
   },
   "outputs": [],
   "source": [
    "# Write your code here"
   ]
  },
  {
   "cell_type": "markdown",
   "metadata": {
    "id": "lPYtdJ7bTvza"
   },
   "source": [
    "## Tugas 9: Menggabungkan DataFrame dengan `pd.concat()` dan `pd.merge()`"
   ]
  },
  {
   "cell_type": "markdown",
   "metadata": {
    "id": "CsP1ze3UXEfP"
   },
   "source": [
    "### 9.a — pd.concat (baris/row-wise): menumpuk dua DataFrame"
   ]
  },
  {
   "cell_type": "markdown",
   "metadata": {
    "id": "4PgI_ONdT0jR"
   },
   "source": [
    "Instruksi:\n",
    "1. Buat dua DataFrame baru, df_part1 dan df_part2, dengan mengambil 5 baris pertama dan 5 baris berikutnya dari df.\n",
    "2. Gabungkan keduanya menjadi DataFrame baru df_concat_rows menggunakan pd.concat() dengan orientasi baris.\n",
    "3. Tampilkan 10 baris hasil gabungan.\n",
    "\n",
    "---\n",
    "\n",
    "Expected Output (contoh ringkas):\n",
    "```\n",
    "   Diabetes_012  HighBP  HighChol  CholCheck   BMI  Smoker  Stroke  ...\n",
    "0          0.0      1.0       1.0        1.0  40.0     1.0     0.0  ...\n",
    "1          0.0      0.0       0.0        0.0  25.0     1.0     0.0  ...\n",
    "...\n",
    "9          0.0      1.0       1.0        1.0  23.0     0.0     0.0  ...\n",
    "```"
   ]
  },
  {
   "cell_type": "code",
   "execution_count": null,
   "metadata": {
    "id": "vZBAnhn8U0WH"
   },
   "outputs": [],
   "source": [
    "# Write your code here"
   ]
  },
  {
   "cell_type": "markdown",
   "metadata": {
    "id": "y-CqqT6dU0oL"
   },
   "source": [
    "### 9.b — pd.concat (kolom/column-wise): menyatukan fitur berdasar index"
   ]
  },
  {
   "cell_type": "markdown",
   "metadata": {
    "id": "wAh6CW5iXH-9"
   },
   "source": [
    "Instruksi:\n",
    "1. Ambil 5 baris pertama dataset df menjadi df_cols1 dengan hanya kolom: ['Diabetes_012', 'HighBP', 'HighChol'].\n",
    "2. Ambil 5 baris pertama dataset df menjadi df_cols2 dengan kolom: ['BMI', 'Smoker', 'Stroke'].\n",
    "3. Gabungkan kedua DataFrame ini berdampingan menggunakan pd.concat() dengan orientasi kolom.\n",
    "4. Tampilkan hasil gabungan.\n",
    "\n",
    "---\n",
    "\n",
    "Expected Output (contoh ringkas):\n",
    "```\n",
    "   Diabetes_012  HighBP  HighChol   BMI  Smoker  Stroke\n",
    "0          0.0      1.0       1.0  40.0     1.0     0.0\n",
    "1          0.0      0.0       0.0  25.0     1.0     0.0\n",
    "...\n",
    "4          0.0      1.0       1.0  24.0     0.0     0.0\n",
    "```"
   ]
  },
  {
   "cell_type": "code",
   "execution_count": null,
   "metadata": {
    "id": "UQk7rrpCX0Hs"
   },
   "outputs": [],
   "source": [
    "# Write your code here"
   ]
  },
  {
   "cell_type": "markdown",
   "metadata": {
    "id": "09C0vyghZM9l"
   },
   "source": [
    "### 9.c Menggabungkan DataFrame dengan pd.merge() (Inner Join)"
   ]
  },
  {
   "cell_type": "markdown",
   "metadata": {
    "id": "VQ9yov6YZWBF"
   },
   "source": [
    "Instruksi:\n",
    "1. Ambil 10 baris pertama dataset df menjadi df_left dan df_right.\n",
    "2. Pada df_left, ambil hanya kolom ['Age', 'Education', 'Income'].\n",
    "3. Pada df_right, ambil kolom ['Age', 'BMI', 'Smoker'].\n",
    "4. Gabungkan kedua DataFrame tersebut berdasarkan kolom Age menggunakan pd.merge() dengan metode inner.\n",
    "5. Tampilkan hasil gabungan.\n",
    "\n",
    "---\n",
    "\n",
    "Expected Output (contoh ringkas):\n",
    "```\n",
    "   Age  Education  Income   BMI  Smoker\n",
    "0   9.0        4.0     3.0  40.0     1.0\n",
    "1   7.0        6.0     1.0  25.0     1.0\n",
    "...\n",
    "```"
   ]
  },
  {
   "cell_type": "code",
   "execution_count": null,
   "metadata": {
    "id": "fFU6N1rLZfwI"
   },
   "outputs": [],
   "source": [
    "# Write your code here"
   ]
  },
  {
   "cell_type": "markdown",
   "metadata": {
    "id": "sma6hw5xZpyO"
   },
   "source": [
    "### 9.d Perbedaan Jenis Join pada pd.merge()"
   ]
  },
  {
   "cell_type": "markdown",
   "metadata": {
    "id": "HMEXLNJ_ZsLw"
   },
   "source": [
    "Instruksi:\n",
    "1. Gunakan df_left dan df_right dari 9.c.\n",
    "2. Lakukan empat jenis penggabungan:\n",
    "    - Inner Join → hanya data dengan Age yang cocok.\n",
    "    - Left Join → semua baris dari df_left.\n",
    "    - Right Join → semua baris dari df_right.\n",
    "    - Outer Join → semua data dari kedua tabel.\n",
    "3. Tampilkan hasil setiap join.\n",
    "\n",
    "---\n",
    "\n",
    "Expected Output (contoh ringkas Inner vs Outer):\n",
    "```\n",
    "# Inner Join\n",
    "   Age  Education  Income   BMI  Smoker\n",
    "0   9.0        4.0     3.0  40.0     1.0\n",
    "\n",
    "# Outer Join\n",
    "   Age  Education  Income   BMI  Smoker\n",
    "0   9.0        4.0     3.0  40.0     1.0\n",
    "1   11.0       3.0     6.0   NaN     NaN\n",
    "...\n",
    "```"
   ]
  },
  {
   "cell_type": "code",
   "execution_count": null,
   "metadata": {
    "id": "sQFhb-FuaJEk"
   },
   "outputs": [],
   "source": [
    "# Write your code here"
   ]
  },
  {
   "cell_type": "markdown",
   "metadata": {
    "id": "RigrDjBubJqf"
   },
   "source": [
    "## Tugas 10: Menangani Missing Values (NaN)"
   ]
  },
  {
   "cell_type": "markdown",
   "metadata": {
    "id": "yBGq2-m_bOQg"
   },
   "source": [
    "**Persiapan Dataset**\n",
    "\n",
    "Instruksi:\n",
    "\n",
    "- Jalankan sel ini untuk membuat beberapa nilai NaN secara sengaja di dataset.\n",
    "Tidak ada output yang diharapkan pada tahap ini — ini hanya menyiapkan dataset untuk tugas berikutnya."
   ]
  },
  {
   "cell_type": "code",
   "execution_count": null,
   "metadata": {
    "id": "z9AHfnAtbsnA"
   },
   "outputs": [],
   "source": [
    "# Jalankan sel ini untuk membuat beberapa nilai NaN\n",
    "df_nan = df.copy()\n",
    "\n",
    "# Membuat beberapa NaN secara acak\n",
    "df_nan.loc[5:10, 'BMI'] = None\n",
    "df_nan.loc[3:8, 'Smoker'] = None\n",
    "df_nan.loc[0:2, 'Income'] = None\n",
    "\n",
    "print(\"Dataset telah dimodifikasi: beberapa nilai NaN ditambahkan.\")"
   ]
  },
  {
   "cell_type": "markdown",
   "metadata": {
    "id": "t5A-Kcd9csIc"
   },
   "source": [
    "### 10.a Cek Jumlah Missing Values per Kolom"
   ]
  },
  {
   "cell_type": "markdown",
   "metadata": {
    "id": "W8mvHvdnctdh"
   },
   "source": [
    "Instruksi:\n",
    "1. Gunakan fungsi isna() atau isnull() untuk memeriksa nilai yang hilang.\n",
    "2. Hitung jumlah missing values per kolom menggunakan sum().\n",
    "3. Simpan hasilnya ke dalam DataFrame bernama missing_count dan tampilkan.\n",
    "\n",
    "Expected Output (contoh ringkas):\n",
    "```\n",
    "      missing_count\n",
    "BMI             6\n",
    "Smoker          6\n",
    "Income          3\n",
    "...           ...\n",
    "```"
   ]
  },
  {
   "cell_type": "code",
   "execution_count": null,
   "metadata": {
    "id": "VvEfoflAc0db"
   },
   "outputs": [],
   "source": [
    "# Write your code here"
   ]
  },
  {
   "cell_type": "markdown",
   "metadata": {
    "id": "XihDYP196ntL"
   },
   "source": [
    "### 10.b Menghapus Baris dengan Missing Values"
   ]
  },
  {
   "cell_type": "markdown",
   "metadata": {
    "id": "LcaLnkrh6qMY"
   },
   "source": [
    "Instruksi:\n",
    "1. Hapus semua baris yang memiliki minimal satu nilai NaN menggunakan dropna().\n",
    "2. Simpan hasilnya ke dalam DataFrame baru bernama df_dropna.\n",
    "3. Tampilkan 5 baris pertama dari df_dropna.\n",
    "\n",
    "Expected Output (contoh ringkas):\n",
    "```\n",
    "   Diabetes_012  HighBP  HighChol  CholCheck   BMI  Smoker  Stroke  ...\n",
    "0          0.0      1.0       1.0        1.0  40.0     1.0     0.0 ...\n",
    "1          0.0      0.0       0.0        0.0  25.0     1.0     0.0 ...\n",
    "...\n",
    "```"
   ]
  },
  {
   "cell_type": "code",
   "execution_count": null,
   "metadata": {
    "id": "kUSJSvmW61h-"
   },
   "outputs": [],
   "source": [
    "# Write your code here"
   ]
  },
  {
   "cell_type": "markdown",
   "metadata": {
    "id": "0ppjR5pR7E0J"
   },
   "source": [
    "### 10.c Mengisi Missing Values dengan Nilai Tertentu"
   ]
  },
  {
   "cell_type": "markdown",
   "metadata": {
    "id": "K2dtDw3K7H1u"
   },
   "source": [
    "Instruksi:\n",
    "1. Salin df ke DataFrame baru bernama df_fillna.\n",
    "2. Isi missing values pada kolom BMI dengan rata-rata (mean).\n",
    "3. Isi missing values pada kolom Smoker dengan modus (nilai yang paling sering muncul).\n",
    "4. Tampilkan 5 baris pertama dari df_fillna.\n",
    "\n",
    "Expected Output (contoh ringkas):\n",
    "```\n",
    "   BMI  Smoker\n",
    "0  40.0    1.0\n",
    "1  25.0    1.0\n",
    "2  28.0    0.0\n",
    "3  27.0    0.0\n",
    "4  24.0    0.0\n",
    "```\n"
   ]
  },
  {
   "cell_type": "code",
   "execution_count": null,
   "metadata": {
    "id": "U7yxjLwV7T-R"
   },
   "outputs": [],
   "source": [
    "# Write your code here"
   ]
  },
  {
   "cell_type": "markdown",
   "metadata": {
    "id": "-5ECasri7mLZ"
   },
   "source": [
    "### 10.d Mengisi Missing Values dengan Forward Fill & Backward Fill"
   ]
  },
  {
   "cell_type": "markdown",
   "metadata": {
    "id": "72IbNmzD7pYy"
   },
   "source": [
    "Instruksi:\n",
    "1. Salin df ke DataFrame baru bernama df_forward, lalu lakukan forward fill pada kolom Income untuk mengisi nilai NaN dengan nilai baris sebelumnya.\n",
    "2. Salin df ke DataFrame baru bernama df_backward, lalu lakukan backward fill pada kolom Income untuk mengisi nilai NaN dengan nilai baris sesudahnya.\n",
    "3. Tampilkan hasil dari df_forward dan df_backward.\n",
    "\n",
    "Expected Output (contoh ringkas):\n",
    "```\n",
    "# Forward fill\n",
    "0    3.0\n",
    "1    3.0\n",
    "2    3.0\n",
    "\n",
    "# Backward fill\n",
    "0    1.0\n",
    "1    1.0\n",
    "2    8.0\n",
    "```"
   ]
  },
  {
   "cell_type": "code",
   "execution_count": null,
   "metadata": {
    "id": "6AHdnuzB7wxK"
   },
   "outputs": [],
   "source": [
    "# Write your code here"
   ]
  },
  {
   "cell_type": "markdown",
   "metadata": {
    "id": "geg6mPyZBWrH"
   },
   "source": [
    "## Tugas 11: GroupBy dan Agregasi"
   ]
  },
  {
   "cell_type": "markdown",
   "metadata": {
    "id": "a8OmrQB7BY5G"
   },
   "source": [
    "### 11.a GroupBy Satu Kolom dengan Agregasi Tunggal"
   ]
  },
  {
   "cell_type": "markdown",
   "metadata": {
    "id": "XQQRbNVUBUgp"
   },
   "source": [
    "**Instruksi:**  \n",
    "1. Gunakan `groupby()` untuk mengelompokkan data berdasarkan kolom `Sex`.  \n",
    "2. Hitung **rata-rata** (`mean`) dari kolom `BMI` untuk setiap grup.  \n",
    "3. Simpan hasilnya dalam variabel `grouped_sex_bmi` dan tampilkan.\n",
    "\n",
    "**Expected Output:**\n",
    "```\n",
    "Sex\n",
    "0.0    27.107432\n",
    "1.0    28.869696\n",
    "Name: BMI, dtype: float64\n",
    "```"
   ]
  },
  {
   "cell_type": "code",
   "execution_count": null,
   "metadata": {
    "id": "9DAdWwOKBsVA"
   },
   "outputs": [],
   "source": [
    "# Write your code here"
   ]
  },
  {
   "cell_type": "markdown",
   "metadata": {
    "id": "OkoXBqLyDF6A"
   },
   "source": [
    "### 11.b GroupBy dengan Beberapa Kolom dan Agregasi Gabungan"
   ]
  },
  {
   "cell_type": "markdown",
   "metadata": {
    "id": "VfCzyttwDQLI"
   },
   "source": [
    "**Instruksi:**  \n",
    "1. Gunakan `groupby()` untuk mengelompokkan data berdasarkan `Sex` dan `Smoker`.  \n",
    "2. Gunakan `.agg()` untuk menghitung:\n",
    "   - Rata-rata (`mean`) dari kolom `BMI`  \n",
    "   - Jumlah (`sum`) dari kolom `Stroke`  \n",
    "   - Jumlah baris (`count`) dari kolom `Age`  \n",
    "3. Simpan hasilnya dalam variabel `grouped_multiagg` dan tampilkan.\n",
    "\n",
    "**Expected Output:**\n",
    "```\n",
    "            BMI         Stroke Age\n",
    "Sex Smoker                         \n",
    "0.0 0.0     27.050351   18520  68500\n",
    "    1.0     27.162215   21462  78472\n",
    "1.0 0.0     28.572146    8383  27791\n",
    "    1.0     29.111239    8993  29391\n",
    "```"
   ]
  },
  {
   "cell_type": "code",
   "execution_count": null,
   "metadata": {
    "id": "OJcdGBYZDUf_"
   },
   "outputs": [],
   "source": [
    "# Write your code here"
   ]
  },
  {
   "cell_type": "markdown",
   "metadata": {
    "id": "565liPQsEWyH"
   },
   "source": [
    "## Tugas 12: Transformasi Nilai dengan `.transform()`"
   ]
  },
  {
   "cell_type": "markdown",
   "metadata": {
    "id": "przJ_HbLEXcN"
   },
   "source": [
    "### 12.a Menghitung Z-Score Kolom BMI per Grup `Sex`"
   ]
  },
  {
   "cell_type": "markdown",
   "metadata": {
    "id": "iMS6cl3XEZAL"
   },
   "source": [
    "**Instruksi:**  \n",
    "1. Gunakan `groupby()` berdasarkan kolom `Sex`.  \n",
    "2. Untuk tiap grup, hitung **z-score** dari kolom `BMI` menggunakan rumus:  \n",
    "   \\[(nilai - rata-rata grup) / standar deviasi grup\\]  \n",
    "3. Simpan hasilnya ke kolom baru bernama `BMI_zscore`.  \n",
    "4. Tampilkan 5 baris pertama dari kolom `Sex`, `BMI`, dan `BMI_zscore`.\n",
    "\n",
    "**Expected Output:**\n",
    "```\n",
    "   Sex   BMI   BMI_zscore\n",
    "0  0.0  40.0     1.998579\n",
    "1  0.0  25.0    -0.184745\n",
    "2  0.0  28.0     0.073631\n",
    "3  0.0  27.0    -0.012557\n",
    "4  0.0  24.0    -0.270378\n",
    "```"
   ]
  },
  {
   "cell_type": "code",
   "execution_count": null,
   "metadata": {
    "id": "cHkCErNKEcuP"
   },
   "outputs": [],
   "source": [
    "# Write your code here"
   ]
  },
  {
   "cell_type": "markdown",
   "metadata": {
    "id": "_Obt47heEhEg"
   },
   "source": [
    "### 12.b Mengurangkan Rata-rata BMI per Grup `Sex`"
   ]
  },
  {
   "cell_type": "markdown",
   "metadata": {
    "id": "cJDMSY6IEjJT"
   },
   "source": [
    "**Instruksi:**  \n",
    "1. Gunakan `groupby()` berdasarkan kolom `Sex`.  \n",
    "2. Hitung rata-rata `BMI` untuk tiap grup dan kurangkan nilai BMI dengan rata-rata tersebut.  \n",
    "3. Simpan hasilnya ke kolom baru bernama `BMI_centered`.  \n",
    "4. Tampilkan 5 baris pertama dari kolom `Sex`, `BMI`, dan `BMI_centered`.\n",
    "\n",
    "**Expected Output:**\n",
    "```\n",
    "   Sex   BMI    BMI_centered\n",
    "0  0.0  40.0       12.892568\n",
    "1  0.0  25.0       -2.107432\n",
    "2  0.0  28.0        0.892568\n",
    "3  0.0  27.0       -0.107432\n",
    "4  0.0  24.0       -3.107432\n",
    "```"
   ]
  },
  {
   "cell_type": "code",
   "execution_count": null,
   "metadata": {
    "id": "fb_PQ_nBEtg5"
   },
   "outputs": [],
   "source": [
    "# Write your code here"
   ]
  },
  {
   "cell_type": "markdown",
   "metadata": {
    "id": "bf_bm2dAFXzp"
   },
   "source": [
    "## Tugas 13: Menggunakan `pivot_table()`"
   ]
  },
  {
   "cell_type": "markdown",
   "metadata": {
    "id": "30kxVqwdFYpr"
   },
   "source": [
    "### 13.a Pivot Table: Rata-rata BMI Berdasarkan `Sex` dan `Smoker`"
   ]
  },
  {
   "cell_type": "markdown",
   "metadata": {
    "id": "6gaYvY6dFaJu"
   },
   "source": [
    "**Instruksi:**  \n",
    "1. Buat pivot table dari dataset `df` untuk menghitung **rata-rata** (`mean`) `BMI`.  \n",
    "2. Gunakan `Sex` sebagai index dan `Smoker` sebagai kolom pivot.  \n",
    "3. Simpan hasilnya ke variabel `pivot_bmi` dan tampilkan.\n",
    "\n",
    "**Expected Output:**\n",
    "```\n",
    "Smoker        0.0       1.0\n",
    "Sex                          \n",
    "0.0       27.050351  27.162215\n",
    "1.0       28.572146  29.111239\n",
    "```"
   ]
  },
  {
   "cell_type": "code",
   "execution_count": null,
   "metadata": {
    "id": "S2Elu90EFgbQ"
   },
   "outputs": [],
   "source": [
    "# Write your code here"
   ]
  },
  {
   "cell_type": "markdown",
   "metadata": {
    "id": "2KKqW-9GFsVp"
   },
   "source": [
    "### 13.b Pivot Table: Menampilkan Rata-rata dan Jumlah Stroke Berdasarkan `Sex` dan `Smoker`"
   ]
  },
  {
   "cell_type": "markdown",
   "metadata": {
    "id": "FS7i1_D_FxKq"
   },
   "source": [
    "**Instruksi:**  \n",
    "1. Buat pivot table dengan `Sex` sebagai index dan `Smoker` sebagai kolom.  \n",
    "2. Gunakan dua kolom nilai: `BMI` dan `Stroke`.  \n",
    "3. Hitung **rata-rata (`mean`)** untuk `BMI` dan **jumlah (`sum`)** untuk `Stroke`.  \n",
    "4. Simpan ke dalam variabel `pivot_multi` dan tampilkan.\n",
    "\n",
    "**Expected Output:**\n",
    "```\n",
    "              BMI                  Stroke           \n",
    "Smoker        0.0       1.0         0.0      1.0\n",
    "Sex                                            \n",
    "0.0       27.050351  27.162215   18520.0  21462.0\n",
    "1.0       28.572146  29.111239    8383.0   8993.0\n",
    "```"
   ]
  },
  {
   "cell_type": "code",
   "execution_count": null,
   "metadata": {
    "id": "seJ5lUAIF14C"
   },
   "outputs": [],
   "source": [
    "# Write your code here"
   ]
  },
  {
   "cell_type": "markdown",
   "metadata": {
    "id": "vbByjk4oGlMw"
   },
   "source": [
    "# Matplotlib"
   ]
  },
  {
   "cell_type": "markdown",
   "metadata": {
    "id": "Vs_zwSouU3D2"
   },
   "source": [
    "## 1. Line Plot (`plt.plot`)"
   ]
  },
  {
   "cell_type": "markdown",
   "metadata": {
    "id": "e4Pb90RQU5TM"
   },
   "source": [
    "**Instruksi:**  \n",
    "1. Kelompokkan data berdasarkan kolom `Age` menggunakan `.groupby()`.  \n",
    "2. Hitung rata-rata dari kolom `BMI` untuk tiap kelompok `Age`.  \n",
    "3. Simpan hasil ke dalam `mean_bmi_by_age`.  \n",
    "4. Buat line plot dengan sumbu X = `Age` dan sumbu Y = `BMI`.\n",
    "\n",
    "**Expected Output:**\n",
    "```\n",
    "   Age        BMI\n",
    "0  1.0  26.088070\n",
    "1  2.0  27.606344\n",
    "2  3.0  28.431538\n",
    "...\n",
    "\n",
    "(pada line plot)\n",
    "```"
   ]
  },
  {
   "cell_type": "code",
   "execution_count": null,
   "metadata": {
    "id": "yROSkhslHTmM"
   },
   "outputs": [],
   "source": [
    "  # Write your code here"
   ]
  },
  {
   "cell_type": "markdown",
   "metadata": {
    "id": "7TfDLbi-VXAX"
   },
   "source": [
    "## 2. Bar Plot (`plt.bar`)"
   ]
  },
  {
   "cell_type": "markdown",
   "metadata": {
    "id": "199XfL6cVaqn"
   },
   "source": [
    "**Instruksi:**  \n",
    "1. Filter data dengan kondisi `Diabetes_012 == 1.0`.  \n",
    "2. Kelompokkan berdasarkan kolom `Income` dan hitung jumlah kemunculannya.  \n",
    "3. Simpan hasilnya dalam `count_by_income`.  \n",
    "4. Buat bar plot dari hasil tersebut.\n",
    "\n",
    "**Expected Output:**\n",
    "```\n",
    "   Income  count\n",
    "0     1.0    314\n",
    "1     2.0    356\n",
    "2     3.0    421\n",
    "...\n",
    "\n",
    "(pada bar plot)\n",
    "```"
   ]
  },
  {
   "cell_type": "code",
   "execution_count": null,
   "metadata": {
    "id": "8Jum83FXVLC9"
   },
   "outputs": [],
   "source": [
    "# Write your code here"
   ]
  },
  {
   "cell_type": "markdown",
   "metadata": {
    "id": "mB0vKA36Vual"
   },
   "source": [
    "## 3. Horizontal Bar Plot (`plt.barh`)"
   ]
  },
  {
   "cell_type": "markdown",
   "metadata": {
    "id": "GtkOl6aZVvon"
   },
   "source": [
    "**Instruksi:**  \n",
    "1. Kelompokkan data berdasarkan kolom `GenHlth`.  \n",
    "2. Hitung rata-rata dari kolom `PhysHlth` untuk tiap kategori.  \n",
    "3. Simpan hasilnya ke `avg_phys_by_gen`.  \n",
    "4. Buat plot batang horizontal dari hasil tersebut.\n",
    "\n",
    "**Expected Output:**\n",
    "```\n",
    "   GenHlth   PhysHlth\n",
    "0      1.0   0.862602\n",
    "1      2.0   1.532374\n",
    "2      3.0   3.394257\n",
    "...\n",
    "\n",
    "(pada horizontal bar plot)\n",
    "```"
   ]
  },
  {
   "cell_type": "code",
   "execution_count": null,
   "metadata": {
    "id": "eYpWH9WqVhdk"
   },
   "outputs": [],
   "source": [
    "# Write your code here"
   ]
  },
  {
   "cell_type": "markdown",
   "metadata": {
    "id": "Ra9LykxqWAmz"
   },
   "source": [
    "## 4. Pie Chart (`plt.pie`)"
   ]
  },
  {
   "cell_type": "markdown",
   "metadata": {
    "id": "jIaJn1wuWR2g"
   },
   "source": [
    "**Instruksi:**  \n",
    "1. Gunakan `.value_counts()` untuk menghitung jumlah kategori pada kolom `Sex`.  \n",
    "2. Simpan hasilnya ke `sex_counts`.  \n",
    "3. Buat pie chart dari hasil tersebut.\n",
    "\n",
    "**Expected Output:**\n",
    "```\n",
    "{0.0: 141974, 1.0: 111706}\n",
    "\n",
    "(pada pie chart)\n",
    "```"
   ]
  },
  {
   "cell_type": "code",
   "execution_count": null,
   "metadata": {
    "id": "g_ZvyBZ7V8wU"
   },
   "outputs": [],
   "source": [
    "# Write your code here"
   ]
  },
  {
   "cell_type": "markdown",
   "metadata": {
    "id": "stxbONC9atWm"
   },
   "source": [
    "## 5. Stack Plot (`plt.stackplot`)"
   ]
  },
  {
   "cell_type": "markdown",
   "metadata": {
    "id": "yw39FoF4aujT"
   },
   "source": [
    "**Instruksi:**  \n",
    "1. Kelompokkan data berdasarkan kolom `Age` menggunakan `.groupby()`.  \n",
    "2. Hitung total `HighBP`, `HighChol`, dan `Stroke` untuk masing-masing `Age`.  \n",
    "3. Ambil hanya 10 kelompok `Age` pertama.  \n",
    "4. Simpan hasilnya ke `stack_data`.\n",
    "4. Buat stack plot menggunakan `plt.stackplot()`.\n",
    "\n",
    "**Expected Output:**\n",
    "```\n",
    "   Age  HighBP  HighChol  Stroke\n",
    "0  1.0   492.0     502.0    21.0\n",
    "1  2.0   881.0     953.0    29.0\n",
    "...\n",
    "\n",
    "(pada stack plot)\n",
    "```"
   ]
  },
  {
   "cell_type": "code",
   "execution_count": null,
   "metadata": {
    "id": "xHEqB_4KYH2i"
   },
   "outputs": [],
   "source": [
    "# Write your code here"
   ]
  },
  {
   "cell_type": "markdown",
   "metadata": {
    "id": "JJQTrxL2cT4T"
   },
   "source": [
    "## 6. Histogram (`plt.hist`)"
   ]
  },
  {
   "cell_type": "markdown",
   "metadata": {
    "id": "EVLIWC1bcdSa"
   },
   "source": [
    "**Instruksi:**  \n",
    "1. Ambil kolom `BMI` dan hapus nilai yang hilang (NaN) menggunakan `.dropna()`.  \n",
    "2. Buat histogram dengan 30 bins.\n",
    "\n",
    "**Expected Output:**\n",
    "```\n",
    "(distribusi nilai BMI pada histogram)\n",
    "```"
   ]
  },
  {
   "cell_type": "code",
   "execution_count": null,
   "metadata": {
    "id": "qgEzXm0Ab5Xf"
   },
   "outputs": [],
   "source": [
    "# Write your code here"
   ]
  },
  {
   "cell_type": "markdown",
   "metadata": {
    "id": "H_LCtQPwctOD"
   },
   "source": [
    "## 7. Scatter Plot (`plt.scatter`)"
   ]
  },
  {
   "cell_type": "markdown",
   "metadata": {
    "id": "7ZteOkjwdt89"
   },
   "source": [
    "**Instruksi:**  \n",
    "1. Ambil kolom `MentHlth` dan `PhysHlth`, lalu hapus baris yang mengandung `NaN`.  \n",
    "2. Simpan pada `scatter_df`.\n",
    "3. Buat scatter plot dengan sumbu X = `MentHlth`, Y = `PhysHlth`.\n",
    "\n",
    "**Expected Output:**\n",
    "```\n",
    "   MentHlth  PhysHlth\n",
    "0      18.0      15.0\n",
    "1       0.0       0.0\n",
    "2      30.0      30.0\n",
    "...\n",
    "\n",
    "(pada scatter plot)\n",
    "```"
   ]
  },
  {
   "cell_type": "code",
   "execution_count": null,
   "metadata": {
    "id": "6nJ_MtZ4cl9U"
   },
   "outputs": [],
   "source": [
    "# Write your code here"
   ]
  },
  {
   "cell_type": "markdown",
   "metadata": {
    "id": "M5iKrBCWeFHV"
   },
   "source": [
    "## 8. Subplot (`plt.subplot`)"
   ]
  },
  {
   "cell_type": "markdown",
   "metadata": {
    "id": "eiF4LYqoeIKw"
   },
   "source": [
    "**Instruksi:**  \n",
    "1. Buat 2 subplot secara vertikal.  \n",
    "2. Subplot 1: Histogram `BMI`.  \n",
    "3. Subplot 2: Histogram `Age`.\n",
    "\n",
    "**Expected Output:**\n",
    "```\n",
    "(sebaran nilai BMI dan Age pada histogram pada subplot)\n",
    "```"
   ]
  },
  {
   "cell_type": "code",
   "execution_count": null,
   "metadata": {
    "id": "vVeyK4MgeARv"
   },
   "outputs": [],
   "source": [
    "# Write your code here"
   ]
  },
  {
   "cell_type": "markdown",
   "metadata": {
    "id": "BMa9bw19eo75"
   },
   "source": [
    "## 9. Subplots Grid (`plt.subplots`)"
   ]
  },
  {
   "cell_type": "markdown",
   "metadata": {
    "id": "1e1FBoL4ewUP"
   },
   "source": [
    "**Instruksi:**  \n",
    "1. Buat layout grid 2x2 untuk 4 visualisasi berikut:  \n",
    "   - Jumlah kategori `Diabetes_012` (bar plot)  \n",
    "   - Histogram `BMI`  \n",
    "   - Scatter plot `BMI` vs `Age`  \n",
    "   - Pie chart `Sex`  \n",
    "2. Gunakan `plt.subplots(2, 2)` untuk membuat layout.\n",
    "\n",
    "**Expected Output:**\n",
    "```\n",
    "(keempat plot pada subplots grid 2x2)\n",
    "```"
   ]
  },
  {
   "cell_type": "code",
   "execution_count": null,
   "metadata": {
    "id": "dqnbb6fQeuzf"
   },
   "outputs": [],
   "source": [
    "# Write your code here"
   ]
  }
 ],
 "metadata": {
  "colab": {
   "provenance": []
  },
  "kernelspec": {
   "display_name": "Python 3 (ipykernel)",
   "language": "python",
   "name": "python3"
  },
  "language_info": {
   "codemirror_mode": {
    "name": "ipython",
    "version": 3
   },
   "file_extension": ".py",
   "mimetype": "text/x-python",
   "name": "python",
   "nbconvert_exporter": "python",
   "pygments_lexer": "ipython3",
   "version": "3.9.0"
  }
 },
 "nbformat": 4,
 "nbformat_minor": 4
}
