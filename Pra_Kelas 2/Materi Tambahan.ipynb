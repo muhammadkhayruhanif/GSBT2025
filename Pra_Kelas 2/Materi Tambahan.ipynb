{
 "cells": [
  {
   "cell_type": "markdown",
   "id": "4d551178",
   "metadata": {},
   "source": [
    "# Materi Tambahan untuk Numpy, Pandas, dan Matplotlib.plotly"
   ]
  },
  {
   "cell_type": "code",
   "execution_count": 1,
   "id": "bbdd0e1a",
   "metadata": {},
   "outputs": [],
   "source": [
    "import numpy as np\n",
    "import pandas as pd\n",
    "import matplotlib.pyplot as plt\n"
   ]
  },
  {
   "cell_type": "markdown",
   "id": "63677f2f",
   "metadata": {},
   "source": [
    "## Numpy"
   ]
  },
  {
   "cell_type": "markdown",
   "id": "56f98cc1",
   "metadata": {},
   "source": [
    "### `numpy.min()`\n",
    "**Syntax umum**:\n",
    "\n",
    "```python\n",
    "np.min(a, axis=None, keepdims=False, initial=None, where=True)\n",
    "```\n",
    "**Parameter penting**:\n",
    "- `a`: array-like input.\n",
    "- `axis`: sumbu agregasi (None = semua elemen; 0 = per kolom; 1 = per baris, dst.).\n",
    "- `keepdims`: jika `True`, hasil mempertahankan dimensi untuk broadcasting.\n",
    "- `initial`: nilai awal untuk dibandingkan (berguna untuk array kosong/terfilter).\n",
    "- `where`: mask boolean untuk memilih elemen yang dihitung.\n",
    "\n",
    "**Dokumentasi**: https://numpy.org/doc/stable/reference/generated/numpy.min.html (alias dari `min`)"
   ]
  },
  {
   "cell_type": "code",
   "execution_count": 2,
   "id": "98edb4c8",
   "metadata": {},
   "outputs": [
    {
     "name": "stdout",
     "output_type": "stream",
     "text": [
      "Array:\n",
      " [[3 7 2]\n",
      " [5 1 9]]\n",
      "Min seluruh elemen: 1\n",
      "Min per kolom (axis=0): [3 1 2]\n",
      "Min per baris  (axis=1): [2 1]\n"
     ]
    }
   ],
   "source": [
    "# Contoh umum penggunaan np.min\n",
    "a = np.array([[3, 7, 2], [5, 1, 9]])\n",
    "print('Array:\\n', a)\n",
    "print('Min seluruh elemen:', np.min(a))\n",
    "print('Min per kolom (axis=0):', np.min(a, axis=0))\n",
    "print('Min per baris  (axis=1):', np.min(a, axis=1))"
   ]
  },
  {
   "cell_type": "markdown",
   "id": "57c8de2d",
   "metadata": {},
   "source": [
    "### `numpy.argmin()`\n",
    "**Syntax umum**:\n",
    "\n",
    "```python\n",
    "np.argmin(a, axis=None)\n",
    "```\n",
    "**Parameter penting**:\n",
    "- `a`: array-like input.\n",
    "- `axis`: sumbu pencarian indeks minimum (None = indeks flatten pada seluruh elemen).\n",
    "\n",
    "**Catatan**: Jika ada banyak elemen dengan nilai minimum yang sama, `argmin` mengembalikan indeks kemunculan pertama.\n",
    "\n",
    "**Dokumentasi**: https://numpy.org/doc/stable/reference/generated/numpy.argmin.html"
   ]
  },
  {
   "cell_type": "code",
   "execution_count": 3,
   "id": "894a03f2",
   "metadata": {},
   "outputs": [
    {
     "name": "stdout",
     "output_type": "stream",
     "text": [
      "Array:\n",
      " [[10  4  4]\n",
      " [ 2  5  2]]\n",
      "argmin flatten: 3\n",
      "argmin per kolom: [1 0 1]\n",
      "argmin per baris : [1 0]\n"
     ]
    }
   ],
   "source": [
    "# Contoh np.argmin\n",
    "b = np.array([[10, 4, 4], [2, 5, 2]])\n",
    "print('Array:\\n', b)\n",
    "print('argmin flatten:', np.argmin(b))  # indeks pada array yang diratakan\n",
    "print('argmin per kolom:', np.argmin(b, axis=0))\n",
    "print('argmin per baris :', np.argmin(b, axis=1))"
   ]
  },
  {
   "cell_type": "markdown",
   "id": "4f4ecc30",
   "metadata": {},
   "source": [
    "### `numpy.median()`\n",
    "**Syntax umum**:\n",
    "\n",
    "```python\n",
    "np.median(a, axis=None, keepdims=False)\n",
    "```\n",
    "**Parameter penting**:\n",
    "- `a`: array-like input.\n",
    "- `axis`: sumbu perhitungan median.\n",
    "- `keepdims`: pertahankan dimensi hasil.\n",
    "\n",
    "**Dokumentasi**: https://numpy.org/doc/stable/reference/generated/numpy.median.html"
   ]
  },
  {
   "cell_type": "code",
   "execution_count": 4,
   "id": "3cf0a18c",
   "metadata": {},
   "outputs": [
    {
     "name": "stdout",
     "output_type": "stream",
     "text": [
      "Array:\n",
      " [[ 1  2  3]\n",
      " [10 20 30]]\n",
      "Median semua elemen: 6.5\n",
      "Median per kolom (axis=0): [ 5.5 11.  16.5]\n",
      "Median per baris  (axis=1): [ 2. 20.]\n"
     ]
    }
   ],
   "source": [
    "# Contoh np.median\n",
    "c = np.array([[1, 2, 3], [10, 20, 30]])\n",
    "print('Array:\\n', c)\n",
    "print('Median semua elemen:', np.median(c))\n",
    "print('Median per kolom (axis=0):', np.mian if False else np.median(c, axis=0))\n",
    "print('Median per baris  (axis=1):', np.median(c, axis=1))"
   ]
  },
  {
   "cell_type": "markdown",
   "id": "c13fa733",
   "metadata": {},
   "source": [
    "### `numpy.std()`\n",
    "**Syntax umum**:\n",
    "\n",
    "```python\n",
    "np.std(a, axis=None, ddof=0, keepdims=False)\n",
    "```\n",
    "**Parameter penting**:\n",
    "- `a`: array-like input.\n",
    "- `axis`: sumbu perhitungan standar deviasi.\n",
    "- `ddof`: delta degrees of freedom. `ddof=0` (populasi), `ddof=1` (sampel, pembagi `n-1`).\n",
    "- `keepdims`: pertahankan dimensi hasil.\n",
    "\n",
    "**Dokumentasi**: https://numpy.org/doc/stable/reference/generated/numpy.std.html"
   ]
  },
  {
   "cell_type": "code",
   "execution_count": 5,
   "id": "8147554f",
   "metadata": {},
   "outputs": [
    {
     "name": "stdout",
     "output_type": "stream",
     "text": [
      "Array:\n",
      " [[1 2 3]\n",
      " [4 5 6]]\n",
      "STD populasi (ddof=0): 1.707825127659933\n",
      "STD sampel   (ddof=1): 1.8708286933869707\n",
      "STD per kolom (axis=0): [1.5 1.5 1.5]\n",
      "STD per baris (axis=1): [0.81649658 0.81649658]\n"
     ]
    }
   ],
   "source": [
    "# Contoh np.std\n",
    "d = np.array([[1, 2, 3], [4, 5, 6]])\n",
    "print('Array:\\n', d)\n",
    "print('STD populasi (ddof=0):', np.std(d))\n",
    "print('STD sampel   (ddof=1):', np.std(d, ddof=1))\n",
    "print('STD per kolom (axis=0):', np.std(d, axis=0))\n",
    "print('STD per baris (axis=1):', np.std(d, axis=1))"
   ]
  },
  {
   "cell_type": "markdown",
   "id": "0482680d",
   "metadata": {},
   "source": [
    "### `numpy.any()`\n",
    "**Syntax umum**:\n",
    "\n",
    "```python\n",
    "np.any(a, axis=None, keepdims=False)\n",
    "```\n",
    "**Kegunaan**: Bernilai `True` jika **ada minimal satu** elemen bernilai benar (atau non-nol) pada sumbu tertentu.\n",
    "\n",
    "**Dokumentasi**: https://numpy.org/doc/stable/reference/generated/numpy.any.html"
   ]
  },
  {
   "cell_type": "code",
   "execution_count": 6,
   "id": "5f3c3865",
   "metadata": {},
   "outputs": [
    {
     "name": "stdout",
     "output_type": "stream",
     "text": [
      "Array:\n",
      " [[0 0 0]\n",
      " [0 1 0]]\n",
      "any keseluruhan: True\n",
      "any per kolom (axis=0): [False  True False]\n",
      "any per baris (axis=1): [False  True]\n"
     ]
    }
   ],
   "source": [
    "# Contoh np.any\n",
    "e = np.array([[0, 0, 0], [0, 1, 0]])\n",
    "print('Array:\\n', e)\n",
    "print('any keseluruhan:', np.any(e))\n",
    "print('any per kolom (axis=0):', np.any(e, axis=0))\n",
    "print('any per baris (axis=1):', np.any(e, axis=1))"
   ]
  },
  {
   "cell_type": "markdown",
   "id": "da31032d",
   "metadata": {},
   "source": [
    "### `numpy.all()`\n",
    "**Syntax umum**:\n",
    "\n",
    "```python\n",
    "np.all(a, axis=None, keepdims=False)\n",
    "```\n",
    "**Kegunaan**: Bernilai `True` jika **seluruh** elemen bernilai benar (atau non-nol) pada sumbu tertentu.\n",
    "\n",
    "**Dokumentasi**: https://numpy.org/doc/stable/reference/generated/numpy.all.html"
   ]
  },
  {
   "cell_type": "code",
   "execution_count": 7,
   "id": "275127fa",
   "metadata": {},
   "outputs": [
    {
     "name": "stdout",
     "output_type": "stream",
     "text": [
      "Array:\n",
      " [[1 2 3]\n",
      " [1 0 1]]\n",
      "all keseluruhan: False\n",
      "all per kolom (axis=0): [ True False  True]\n",
      "all per baris (axis=1): [ True False]\n"
     ]
    }
   ],
   "source": [
    "# Contoh np.all\n",
    "f = np.array([[1, 2, 3], [1, 0, 1]])\n",
    "print('Array:\\n', f)\n",
    "print('all keseluruhan:', np.all(f))\n",
    "print('all per kolom (axis=0):', np.all(f, axis=0))\n",
    "print('all per baris (axis=1):', np.all(f, axis=1))"
   ]
  },
  {
   "cell_type": "markdown",
   "id": "8bc63a8e",
   "metadata": {},
   "source": [
    "### `numpy.corrcoef()`\n",
    "**Syntax umum**:\n",
    "\n",
    "```python\n",
    "np.corrcoef(x, y=None, rowvar=True)\n",
    "```\n",
    "**Parameter penting**:\n",
    "- `x`: array 1D/2D. Jika 2D dan `rowvar=True`, tiap **baris** adalah variabel (fitur). Jika `rowvar=False`, tiap **kolom** adalah variabel.\n",
    "- `y`: opsional; variabel tambahan untuk dikombinasikan dengan `x`.\n",
    "- `rowvar`: atur orientasi variabel.\n",
    "\n",
    "**Output**: matriks korelasi (nilai -1..1).\n",
    "\n",
    "**Dokumentasi**: https://numpy.org/doc/stable/reference/generated/numpy.corrcoef.html"
   ]
  },
  {
   "cell_type": "code",
   "execution_count": 8,
   "id": "4cfd56f4",
   "metadata": {},
   "outputs": [
    {
     "name": "stdout",
     "output_type": "stream",
     "text": [
      "Korelasi x vs y (2x2):\n",
      " [[1. 1.]\n",
      " [1. 1.]]\n",
      "Matriks korelasi (variabel=kolom):\n",
      " [[1.         1.         0.98110491]\n",
      " [1.         1.         0.98110491]\n",
      " [0.98110491 0.98110491 1.        ]]\n"
     ]
    }
   ],
   "source": [
    "# Contoh np.corrcoef\n",
    "x = np.array([1, 2, 3, 4, 5])\n",
    "y = np.array([2, 4, 6, 8, 10])  # sangat berkorelasi dengan x\n",
    "print('Korelasi x vs y (2x2):\\n', np.corrcoef(x, y))\n",
    "\n",
    "# Untuk banyak fitur dalam kolom, gunakan rowvar=False\n",
    "X = np.column_stack([x, y, x**2])\n",
    "print('Matriks korelasi (variabel=kolom):\\n', np.corrcoef(X, rowvar=False))"
   ]
  },
  {
   "cell_type": "markdown",
   "id": "0977d207",
   "metadata": {},
   "source": [
    "## Pandas"
   ]
  },
  {
   "cell_type": "markdown",
   "id": "44fd69bb",
   "metadata": {},
   "source": [
    "### `.duplicated()`\n",
    "**Syntax umum**:\n",
    "\n",
    "```python\n",
    "df.duplicated(subset=None, keep='first')\n",
    "```\n",
    "**Parameter penting**:\n",
    "- `subset`: kolom/daftar kolom untuk menentukan duplikasi (default: semua kolom).\n",
    "- `keep`: `'first'` (tandai duplikat selain yang pertama), `'last'`, atau `False` (tandai semua kemunculan duplikat).\n",
    "\n",
    "**Dokumentasi**: https://pandas.pydata.org/docs/reference/api/pandas.DataFrame.duplicated.html"
   ]
  },
  {
   "cell_type": "code",
   "execution_count": 9,
   "id": "fbe8aa3f",
   "metadata": {},
   "outputs": [
    {
     "data": {
      "text/html": [
       "<div>\n",
       "<style scoped>\n",
       "    .dataframe tbody tr th:only-of-type {\n",
       "        vertical-align: middle;\n",
       "    }\n",
       "\n",
       "    .dataframe tbody tr th {\n",
       "        vertical-align: top;\n",
       "    }\n",
       "\n",
       "    .dataframe thead th {\n",
       "        text-align: right;\n",
       "    }\n",
       "</style>\n",
       "<table border=\"1\" class=\"dataframe\">\n",
       "  <thead>\n",
       "    <tr style=\"text-align: right;\">\n",
       "      <th></th>\n",
       "      <th>id</th>\n",
       "      <th>nama</th>\n",
       "    </tr>\n",
       "  </thead>\n",
       "  <tbody>\n",
       "    <tr>\n",
       "      <th>0</th>\n",
       "      <td>1</td>\n",
       "      <td>a</td>\n",
       "    </tr>\n",
       "    <tr>\n",
       "      <th>1</th>\n",
       "      <td>1</td>\n",
       "      <td>a</td>\n",
       "    </tr>\n",
       "    <tr>\n",
       "      <th>2</th>\n",
       "      <td>2</td>\n",
       "      <td>b</td>\n",
       "    </tr>\n",
       "    <tr>\n",
       "      <th>3</th>\n",
       "      <td>2</td>\n",
       "      <td>b</td>\n",
       "    </tr>\n",
       "    <tr>\n",
       "      <th>4</th>\n",
       "      <td>2</td>\n",
       "      <td>b</td>\n",
       "    </tr>\n",
       "    <tr>\n",
       "      <th>5</th>\n",
       "      <td>3</td>\n",
       "      <td>c</td>\n",
       "    </tr>\n",
       "  </tbody>\n",
       "</table>\n",
       "</div>"
      ],
      "text/plain": [
       "   id nama\n",
       "0   1    a\n",
       "1   1    a\n",
       "2   2    b\n",
       "3   2    b\n",
       "4   2    b\n",
       "5   3    c"
      ]
     },
     "metadata": {},
     "output_type": "display_data"
    },
    {
     "name": "stdout",
     "output_type": "stream",
     "text": [
      "Duplikat (semua kolom, keep=first):\n"
     ]
    },
    {
     "data": {
      "text/plain": [
       "0    False\n",
       "1     True\n",
       "2    False\n",
       "3     True\n",
       "4     True\n",
       "5    False\n",
       "dtype: bool"
      ]
     },
     "metadata": {},
     "output_type": "display_data"
    },
    {
     "name": "stdout",
     "output_type": "stream",
     "text": [
      "Duplikat berdasar kolom id saja:\n"
     ]
    },
    {
     "data": {
      "text/plain": [
       "0    False\n",
       "1     True\n",
       "2    False\n",
       "3     True\n",
       "4     True\n",
       "5    False\n",
       "dtype: bool"
      ]
     },
     "metadata": {},
     "output_type": "display_data"
    },
    {
     "name": "stdout",
     "output_type": "stream",
     "text": [
      "Tandai semua kemunculan duplikat id (keep=False):\n"
     ]
    },
    {
     "data": {
      "text/plain": [
       "0     True\n",
       "1     True\n",
       "2     True\n",
       "3     True\n",
       "4     True\n",
       "5    False\n",
       "dtype: bool"
      ]
     },
     "metadata": {},
     "output_type": "display_data"
    }
   ],
   "source": [
    "# Contoh duplicated\n",
    "df_dup = pd.DataFrame({\n",
    "    'id': [1,1,2,2,2,3],\n",
    "    'nama': ['a','a','b','b','b','c']\n",
    "})\n",
    "display(df_dup)\n",
    "print('Duplikat (semua kolom, keep=first):')\n",
    "display(df_dup.duplicated())\n",
    "print('Duplikat berdasar kolom id saja:')\n",
    "display(df_dup.duplicated(subset=['id']))\n",
    "print('Tandai semua kemunculan duplikat id (keep=False):')\n",
    "display(df_dup.duplicated(subset=['id'], keep=False))"
   ]
  },
  {
   "cell_type": "markdown",
   "id": "4f57dd3a",
   "metadata": {},
   "source": [
    "### `.drop_duplicates()`\n",
    "**Syntax umum**:\n",
    "\n",
    "```python\n",
    "df.drop_duplicates(subset=None, keep='first', inplace=False)\n",
    "```\n",
    "**Parameter penting**:\n",
    "- `subset`: kolom/daftar kolom.\n",
    "- `keep`: `'first'`, `'last'`, atau `False`.\n",
    "- `inplace`: jika `True`, ubah langsung DataFrame.\n",
    "\n",
    "**Dokumentasi**: https://pandas.pydata.org/docs/reference/api/pandas.DataFrame.drop_duplicates.html"
   ]
  },
  {
   "cell_type": "code",
   "execution_count": 10,
   "id": "5efd0ca1",
   "metadata": {},
   "outputs": [
    {
     "data": {
      "text/html": [
       "<div>\n",
       "<style scoped>\n",
       "    .dataframe tbody tr th:only-of-type {\n",
       "        vertical-align: middle;\n",
       "    }\n",
       "\n",
       "    .dataframe tbody tr th {\n",
       "        vertical-align: top;\n",
       "    }\n",
       "\n",
       "    .dataframe thead th {\n",
       "        text-align: right;\n",
       "    }\n",
       "</style>\n",
       "<table border=\"1\" class=\"dataframe\">\n",
       "  <thead>\n",
       "    <tr style=\"text-align: right;\">\n",
       "      <th></th>\n",
       "      <th>id</th>\n",
       "      <th>nama</th>\n",
       "    </tr>\n",
       "  </thead>\n",
       "  <tbody>\n",
       "    <tr>\n",
       "      <th>0</th>\n",
       "      <td>1</td>\n",
       "      <td>a</td>\n",
       "    </tr>\n",
       "    <tr>\n",
       "      <th>2</th>\n",
       "      <td>2</td>\n",
       "      <td>b</td>\n",
       "    </tr>\n",
       "    <tr>\n",
       "      <th>5</th>\n",
       "      <td>3</td>\n",
       "      <td>c</td>\n",
       "    </tr>\n",
       "  </tbody>\n",
       "</table>\n",
       "</div>"
      ],
      "text/plain": [
       "   id nama\n",
       "0   1    a\n",
       "2   2    b\n",
       "5   3    c"
      ]
     },
     "execution_count": 10,
     "metadata": {},
     "output_type": "execute_result"
    }
   ],
   "source": [
    "# Contoh drop_duplicates\n",
    "df_no_dup = df_dup.drop_duplicates(subset=['id'])\n",
    "df_no_dup"
   ]
  },
  {
   "cell_type": "markdown",
   "id": "461134f7",
   "metadata": {},
   "source": [
    "### `.rank()`\n",
    "**Syntax umum**:\n",
    "\n",
    "```python\n",
    "df[col].rank(method='average', ascending=True)\n",
    "```\n",
    "**Parameter penting**:\n",
    "- `method`: cara menangani nilai yang sama (`'average'`, `'min'`, `'max'`, `'first'`, `'dense'`).\n",
    "- `ascending`: urutan ranking.\n",
    "\n",
    "**Dokumentasi**: https://pandas.pydata.org/docs/reference/api/pandas.Series.rank.html"
   ]
  },
  {
   "cell_type": "code",
   "execution_count": 11,
   "id": "25b8906f",
   "metadata": {},
   "outputs": [
    {
     "data": {
      "text/html": [
       "<div>\n",
       "<style scoped>\n",
       "    .dataframe tbody tr th:only-of-type {\n",
       "        vertical-align: middle;\n",
       "    }\n",
       "\n",
       "    .dataframe tbody tr th {\n",
       "        vertical-align: top;\n",
       "    }\n",
       "\n",
       "    .dataframe thead th {\n",
       "        text-align: right;\n",
       "    }\n",
       "</style>\n",
       "<table border=\"1\" class=\"dataframe\">\n",
       "  <thead>\n",
       "    <tr style=\"text-align: right;\">\n",
       "      <th></th>\n",
       "      <th>nilai</th>\n",
       "      <th>rank_avg</th>\n",
       "      <th>rank_min</th>\n",
       "      <th>rank_dense</th>\n",
       "    </tr>\n",
       "  </thead>\n",
       "  <tbody>\n",
       "    <tr>\n",
       "      <th>0</th>\n",
       "      <td>90</td>\n",
       "      <td>1.5</td>\n",
       "      <td>1.0</td>\n",
       "      <td>1.0</td>\n",
       "    </tr>\n",
       "    <tr>\n",
       "      <th>1</th>\n",
       "      <td>80</td>\n",
       "      <td>3.0</td>\n",
       "      <td>3.0</td>\n",
       "      <td>2.0</td>\n",
       "    </tr>\n",
       "    <tr>\n",
       "      <th>2</th>\n",
       "      <td>90</td>\n",
       "      <td>1.5</td>\n",
       "      <td>1.0</td>\n",
       "      <td>1.0</td>\n",
       "    </tr>\n",
       "    <tr>\n",
       "      <th>3</th>\n",
       "      <td>70</td>\n",
       "      <td>4.0</td>\n",
       "      <td>4.0</td>\n",
       "      <td>3.0</td>\n",
       "    </tr>\n",
       "  </tbody>\n",
       "</table>\n",
       "</div>"
      ],
      "text/plain": [
       "   nilai  rank_avg  rank_min  rank_dense\n",
       "0     90       1.5       1.0         1.0\n",
       "1     80       3.0       3.0         2.0\n",
       "2     90       1.5       1.0         1.0\n",
       "3     70       4.0       4.0         3.0"
      ]
     },
     "execution_count": 11,
     "metadata": {},
     "output_type": "execute_result"
    }
   ],
   "source": [
    "# Contoh rank pada kolom nilai\n",
    "df_rank = pd.DataFrame({'nilai': [90, 80, 90, 70]})\n",
    "df_rank['rank_avg']  = df_rank['nilai'].rank(method='average', ascending=False)\n",
    "df_rank['rank_min']  = df_rank['nilai'].rank(method='min', ascending=False)\n",
    "df_rank['rank_dense']= df_rank['nilai'].rank(method='dense', ascending=False)\n",
    "df_rank"
   ]
  },
  {
   "cell_type": "markdown",
   "id": "f5400dbd",
   "metadata": {},
   "source": [
    "### `.cumsum()`\n",
    "**Syntax umum**:\n",
    "\n",
    "```python\n",
    "df[col].cumsum()\n",
    "```\n",
    "**Kegunaan**: penjumlahan kumulatif.\n",
    "\n",
    "**Dokumentasi**: https://pandas.pydata.org/docs/reference/api/pandas.Series.cumsum.html"
   ]
  },
  {
   "cell_type": "code",
   "execution_count": 12,
   "id": "35697539",
   "metadata": {},
   "outputs": [
    {
     "data": {
      "text/html": [
       "<div>\n",
       "<style scoped>\n",
       "    .dataframe tbody tr th:only-of-type {\n",
       "        vertical-align: middle;\n",
       "    }\n",
       "\n",
       "    .dataframe tbody tr th {\n",
       "        vertical-align: top;\n",
       "    }\n",
       "\n",
       "    .dataframe thead th {\n",
       "        text-align: right;\n",
       "    }\n",
       "</style>\n",
       "<table border=\"1\" class=\"dataframe\">\n",
       "  <thead>\n",
       "    <tr style=\"text-align: right;\">\n",
       "      <th></th>\n",
       "      <th>grup</th>\n",
       "      <th>val</th>\n",
       "      <th>cumsum_global</th>\n",
       "      <th>cumsum_per_grup</th>\n",
       "    </tr>\n",
       "  </thead>\n",
       "  <tbody>\n",
       "    <tr>\n",
       "      <th>0</th>\n",
       "      <td>X</td>\n",
       "      <td>1</td>\n",
       "      <td>1</td>\n",
       "      <td>1</td>\n",
       "    </tr>\n",
       "    <tr>\n",
       "      <th>1</th>\n",
       "      <td>X</td>\n",
       "      <td>2</td>\n",
       "      <td>3</td>\n",
       "      <td>3</td>\n",
       "    </tr>\n",
       "    <tr>\n",
       "      <th>2</th>\n",
       "      <td>Y</td>\n",
       "      <td>3</td>\n",
       "      <td>6</td>\n",
       "      <td>3</td>\n",
       "    </tr>\n",
       "    <tr>\n",
       "      <th>3</th>\n",
       "      <td>Y</td>\n",
       "      <td>4</td>\n",
       "      <td>10</td>\n",
       "      <td>7</td>\n",
       "    </tr>\n",
       "    <tr>\n",
       "      <th>4</th>\n",
       "      <td>Y</td>\n",
       "      <td>5</td>\n",
       "      <td>15</td>\n",
       "      <td>12</td>\n",
       "    </tr>\n",
       "  </tbody>\n",
       "</table>\n",
       "</div>"
      ],
      "text/plain": [
       "  grup  val  cumsum_global  cumsum_per_grup\n",
       "0    X    1              1                1\n",
       "1    X    2              3                3\n",
       "2    Y    3              6                3\n",
       "3    Y    4             10                7\n",
       "4    Y    5             15               12"
      ]
     },
     "execution_count": 12,
     "metadata": {},
     "output_type": "execute_result"
    }
   ],
   "source": [
    "# Contoh cumsum global dan per grup\n",
    "df_cs = pd.DataFrame({\n",
    "    'grup': ['X','X','Y','Y','Y'],\n",
    "    'val': [1, 2, 3, 4, 5]\n",
    "})\n",
    "df_cs['cumsum_global'] = df_cs['val'].cumsum()\n",
    "df_cs['cumsum_per_grup'] = df_cs.groupby('grup')['val'].cumsum()\n",
    "df_cs"
   ]
  },
  {
   "cell_type": "markdown",
   "id": "a32fe996",
   "metadata": {},
   "source": [
    "### `.corr()`\n",
    "**Syntax umum**:\n",
    "\n",
    "```python\n",
    "df.corr(method='pearson', numeric_only=False)\n",
    "```\n",
    "**Parameter penting**:\n",
    "- `method`: `'pearson'`, `'kendall'`, `'spearman'`.\n",
    "- `numeric_only`: hanya kolom numerik (versi pandas terbaru dapat otomatis menyaring).\n",
    "\n",
    "**Dokumentasi**: https://pandas.pydata.org/docs/reference/api/pandas.DataFrame.corr.html"
   ]
  },
  {
   "cell_type": "code",
   "execution_count": 13,
   "id": "3a0bf732",
   "metadata": {},
   "outputs": [
    {
     "data": {
      "text/html": [
       "<div>\n",
       "<style scoped>\n",
       "    .dataframe tbody tr th:only-of-type {\n",
       "        vertical-align: middle;\n",
       "    }\n",
       "\n",
       "    .dataframe tbody tr th {\n",
       "        vertical-align: top;\n",
       "    }\n",
       "\n",
       "    .dataframe thead th {\n",
       "        text-align: right;\n",
       "    }\n",
       "</style>\n",
       "<table border=\"1\" class=\"dataframe\">\n",
       "  <thead>\n",
       "    <tr style=\"text-align: right;\">\n",
       "      <th></th>\n",
       "      <th>x</th>\n",
       "      <th>y</th>\n",
       "      <th>z</th>\n",
       "    </tr>\n",
       "  </thead>\n",
       "  <tbody>\n",
       "    <tr>\n",
       "      <th>x</th>\n",
       "      <td>1.0</td>\n",
       "      <td>1.0</td>\n",
       "      <td>-1.0</td>\n",
       "    </tr>\n",
       "    <tr>\n",
       "      <th>y</th>\n",
       "      <td>1.0</td>\n",
       "      <td>1.0</td>\n",
       "      <td>-1.0</td>\n",
       "    </tr>\n",
       "    <tr>\n",
       "      <th>z</th>\n",
       "      <td>-1.0</td>\n",
       "      <td>-1.0</td>\n",
       "      <td>1.0</td>\n",
       "    </tr>\n",
       "  </tbody>\n",
       "</table>\n",
       "</div>"
      ],
      "text/plain": [
       "     x    y    z\n",
       "x  1.0  1.0 -1.0\n",
       "y  1.0  1.0 -1.0\n",
       "z -1.0 -1.0  1.0"
      ]
     },
     "execution_count": 13,
     "metadata": {},
     "output_type": "execute_result"
    }
   ],
   "source": [
    "# Contoh corr pada DataFrame\n",
    "df_corr = pd.DataFrame({\n",
    "    'x': [1,2,3,4,5],\n",
    "    'y': [2,4,6,8,10],\n",
    "    'z': [5,4,3,2,1]\n",
    "})\n",
    "df_corr.corr()"
   ]
  },
  {
   "cell_type": "markdown",
   "id": "0068abea",
   "metadata": {},
   "source": [
    "## Matplotlib.plotly"
   ]
  },
  {
   "cell_type": "markdown",
   "id": "6eb691b4",
   "metadata": {},
   "source": [
    "### `plt.xticks()`\n",
    "**Syntax umum**:\n",
    "\n",
    "```python\n",
    "plt.xticks(ticks=None, labels=None, rotation=None)\n",
    "```\n",
    "**Parameter penting**:\n",
    "- `ticks`: posisi tick (list/array angka). Jika `None`, gunakan default.\n",
    "- `labels`: label masing-masing tick (opsional; panjang sama dengan `ticks`).\n",
    "- `rotation`: derajat rotasi label.\n",
    "\n",
    "**Dokumentasi**: https://matplotlib.org/stable/api/_as_gen/matplotlib.pyplot.xticks.html"
   ]
  },
  {
   "cell_type": "code",
   "execution_count": 14,
   "id": "4c1e982d",
   "metadata": {},
   "outputs": [
    {
     "data": {
      "image/png": "[encoded data removed]",
      "text/plain": [
       "<Figure size 640x480 with 1 Axes>"
      ]
     },
     "metadata": {},
     "output_type": "display_data"
    }
   ],
   "source": [
    "# Contoh xticks\n",
    "x = np.arange(0, 10)\n",
    "y = x**2\n",
    "plt.figure()\n",
    "plt.plot(x, y)\n",
    "plt.title('Contoh xticks')\n",
    "plt.xticks(ticks=[0, 3, 6, 9], labels=['nol', 'tiga', 'enam', 'sembilan'], rotation=0)\n",
    "plt.xlabel('x')\n",
    "plt.ylabel('x^2')\n",
    "plt.show()"
   ]
  },
  {
   "cell_type": "markdown",
   "id": "406f4e2b",
   "metadata": {},
   "source": [
    "### `plt.yticks()`\n",
    "**Syntax umum**:\n",
    "\n",
    "```python\n",
    "plt.yticks(ticks=None, labels=None, rotation=None)\n",
    "```\n",
    "**Parameter penting** serupa dengan `xticks`.\n",
    "\n",
    "**Dokumentasi**: https://matplotlib.org/stable/api/_as_gen/matplotlib.pyplot.yticks.html"
   ]
  },
  {
   "cell_type": "code",
   "execution_count": 15,
   "id": "b1f0d5fa",
   "metadata": {},
   "outputs": [
    {
     "data": {
      "image/png": "[encoded data removed]",
      "text/plain": [
       "<Figure size 640x480 with 1 Axes>"
      ]
     },
     "metadata": {},
     "output_type": "display_data"
    }
   ],
   "source": [
    "# Contoh yticks\n",
    "x = np.linspace(0, 2*np.pi, 100)\n",
    "y = np.sin(x)\n",
    "plt.figure()\n",
    "plt.plot(x, y)\n",
    "plt.title('Contoh yticks')\n",
    "plt.yticks(ticks=[-1, 0, 1], labels=['-1', '0', '1'])\n",
    "plt.xlabel('x')\n",
    "plt.ylabel('sin(x)')\n",
    "plt.show()"
   ]
  },
  {
   "cell_type": "markdown",
   "id": "2268e9fa",
   "metadata": {},
   "source": [
    "### `plt.xscale()`\n",
    "**Syntax umum**:\n",
    "\n",
    "```python\n",
    "plt.xscale(value)\n",
    "```\n",
    "**Parameter penting**:\n",
    "- `value`: `'linear'`, `'log'`, `'symlog'`, `'logit'`, dll.\n",
    "\n",
    "**Dokumentasi**: https://matplotlib.org/stable/api/_as_gen/matplotlib.pyplot.xscale.html"
   ]
  },
  {
   "cell_type": "code",
   "execution_count": 16,
   "id": "70fa68ea",
   "metadata": {},
   "outputs": [
    {
     "data": {
      "image/png": "[encoded data removed]",
      "text/plain": [
       "<Figure size 640x480 with 1 Axes>"
      ]
     },
     "metadata": {},
     "output_type": "display_data"
    }
   ],
   "source": [
    "# Contoh xscale ke log\n",
    "x = np.linspace(1, 1000, 200)\n",
    "y = np.sqrt(x)\n",
    "plt.figure()\n",
    "plt.plot(x, y)\n",
    "plt.title('xscale: log')\n",
    "plt.xscale('log')\n",
    "plt.xlabel('x (log)')\n",
    "plt.ylabel('sqrt(x)')\n",
    "plt.show()"
   ]
  },
  {
   "cell_type": "markdown",
   "id": "2be829f8",
   "metadata": {},
   "source": [
    "### `plt.yscale()`\n",
    "**Syntax umum**:\n",
    "\n",
    "```python\n",
    "plt.yscale(value)\n",
    "```\n",
    "**Parameter penting** sama dengan `xscale` tetapi untuk sumbu Y.\n",
    "\n",
    "**Dokumentasi**: https://matplotlib.org/stable/api/_as_gen/matplotlib.pyplot.yscale.html"
   ]
  },
  {
   "cell_type": "code",
   "execution_count": 17,
   "id": "314ff30b",
   "metadata": {},
   "outputs": [
    {
     "data": {
      "image/png": "[encoded data removed]",
      "text/plain": [
       "<Figure size 640x480 with 1 Axes>"
      ]
     },
     "metadata": {},
     "output_type": "display_data"
    }
   ],
   "source": [
    "# Contoh yscale ke log\n",
    "x = np.linspace(1, 100, 200)\n",
    "y = x**2\n",
    "plt.figure()\n",
    "plt.plot(x, y)\n",
    "plt.title('yscale: log')\n",
    "plt.yscale('log')\n",
    "plt.xlabel('x')\n",
    "plt.ylabel('x^2 (log)')\n",
    "plt.show()"
   ]
  },
  {
   "cell_type": "markdown",
   "id": "5beb2e9c",
   "metadata": {},
   "source": [
    "### `plt.axvline()`\n",
    "**Syntax umum**:\n",
    "\n",
    "```python\n",
    "plt.axvline(x, linestyle='-', linewidth=None)\n",
    "```\n",
    "**Parameter penting**:\n",
    "- `x`: posisi garis vertikal pada sumbu X.\n",
    "- `linestyle`, `linewidth`: gaya/ketebalan garis (opsional).\n",
    "\n",
    "**Dokumentasi**: https://matplotlib.org/stable/api/_as_gen/matplotlib.pyplot.axvline.html"
   ]
  },
  {
   "cell_type": "code",
   "execution_count": 18,
   "id": "18168214",
   "metadata": {},
   "outputs": [
    {
     "data": {
      "image/png": "[encoded data removed]",
      "text/plain": [
       "<Figure size 640x480 with 1 Axes>"
      ]
     },
     "metadata": {},
     "output_type": "display_data"
    }
   ],
   "source": [
    "# Contoh axvline: garis referensi vertikal\n",
    "x = np.linspace(0, 10, 200)\n",
    "y = np.cos(x)\n",
    "plt.figure()\n",
    "plt.plot(x, y)\n",
    "plt.title('Garis vertikal di x=5')\n",
    "plt.axvline(5)\n",
    "plt.xlabel('x')\n",
    "plt.ylabel('cos(x)')\n",
    "plt.show()"
   ]
  },
  {
   "cell_type": "markdown",
   "id": "1882a37f",
   "metadata": {},
   "source": [
    "### `plt.axhline()`\n",
    "**Syntax umum**:\n",
    "\n",
    "```python\n",
    "plt.axhline(y, linestyle='-', linewidth=None)\n",
    "```\n",
    "**Parameter penting**:\n",
    "- `y`: posisi garis horizontal pada sumbu Y.\n",
    "- `linestyle`, `linewidth`: gaya/ketebalan garis (opsional).\n",
    "\n",
    "**Dokumentasi**: https://matplotlib.org/stable/api/_as_gen/matplotlib.pyplot.axhline.html"
   ]
  },
  {
   "cell_type": "code",
   "execution_count": 19,
   "id": "bdc36d6a",
   "metadata": {},
   "outputs": [
    {
     "data": {
      "image/png": "[encoded data removed]",
      "text/plain": [
       "<Figure size 640x480 with 1 Axes>"
      ]
     },
     "metadata": {},
     "output_type": "display_data"
    }
   ],
   "source": [
    "# Contoh axhline: garis referensi horizontal\n",
    "x = np.linspace(0, 2*np.pi, 200)\n",
    "y = np.sin(x)\n",
    "plt.figure()\n",
    "plt.plot(x, y)\n",
    "plt.title('Garis horizontal di y=0')\n",
    "plt.axhline(0)\n",
    "plt.xlabel('x')\n",
    "plt.ylabel('sin(x)')\n",
    "plt.show()"
   ]
  }
 ],
 "metadata": {
  "kernelspec": {
   "display_name": "Python 3 (ipykernel)",
   "language": "python",
   "name": "python3"
  },
  "language_info": {
   "codemirror_mode": {
    "name": "ipython",
    "version": 3
   },
   "file_extension": ".py",
   "mimetype": "text/x-python",
   "name": "python",
   "nbconvert_exporter": "python",
   "pygments_lexer": "ipython3",
   "version": "3.9.0"
  }
 },
 "nbformat": 4,
 "nbformat_minor": 5
}
